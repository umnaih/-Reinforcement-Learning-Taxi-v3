{
 "cells": [
  {
   "cell_type": "markdown",
   "id": "62479fd4",
   "metadata": {},
   "source": [
    "## tax3-Linear SARSA_Final"
   ]
  },
  {
   "cell_type": "code",
   "execution_count": 2,
   "id": "31dfa461",
   "metadata": {
    "scrolled": true
   },
   "outputs": [
    {
     "name": "stdout",
     "output_type": "stream",
     "text": [
      "Attempting to load state from files starting with: taxi_sarsa_augmented_300k\n",
      "Successfully loaded weights and logs for 300000 episodes.\n",
      "Loading initial weights (trained for 300000 episodes).\n",
      "Training with augmented features for 400000 more episodes. Alpha: 0.001\n",
      "Epsilon will decay from 0.5 towards 0.01.\n",
      "Decay is targeted to complete around overall episode 560000 (current total planned: 700000).\n"
     ]
    },
    {
     "name": "stderr",
     "output_type": "stream",
     "text": [
      "Training SARSA (Augmented Features):   0%|          | 10/400000 [00:00<1:13:23, 90.83it/s]"
     ]
    },
    {
     "name": "stdout",
     "output_type": "stream",
     "text": [
      "Overall Ep 300001, Avg R (last 100 ep): -177.45, Eps: 0.237, Drops (last 100 ep): 0.17\n"
     ]
    },
    {
     "name": "stderr",
     "output_type": "stream",
     "text": [
      "Training SARSA (Augmented Features):   1%|          | 4011/400000 [01:41<1:52:07, 58.86it/s]"
     ]
    },
    {
     "name": "stdout",
     "output_type": "stream",
     "text": [
      "Overall Ep 304000, Avg R (last 100 ep): -309.37, Eps: 0.234, Drops (last 100 ep): 0.08\n"
     ]
    },
    {
     "name": "stderr",
     "output_type": "stream",
     "text": [
      "Training SARSA (Augmented Features):   2%|▏         | 8012/400000 [03:29<1:43:04, 63.38it/s]"
     ]
    },
    {
     "name": "stdout",
     "output_type": "stream",
     "text": [
      "Overall Ep 308000, Avg R (last 100 ep): -305.46, Eps: 0.231, Drops (last 100 ep): 0.11\n"
     ]
    },
    {
     "name": "stderr",
     "output_type": "stream",
     "text": [
      "Training SARSA (Augmented Features):   3%|▎         | 12003/400000 [05:17<2:37:00, 41.19it/s]"
     ]
    },
    {
     "name": "stdout",
     "output_type": "stream",
     "text": [
      "Overall Ep 312000, Avg R (last 100 ep): -284.75, Eps: 0.227, Drops (last 100 ep): 0.19\n"
     ]
    },
    {
     "name": "stderr",
     "output_type": "stream",
     "text": [
      "Training SARSA (Augmented Features):   4%|▍         | 16005/400000 [07:03<3:27:20, 30.87it/s]"
     ]
    },
    {
     "name": "stdout",
     "output_type": "stream",
     "text": [
      "Overall Ep 316000, Avg R (last 100 ep): -295.50, Eps: 0.224, Drops (last 100 ep): 0.14\n"
     ]
    },
    {
     "name": "stderr",
     "output_type": "stream",
     "text": [
      "Training SARSA (Augmented Features):   5%|▌         | 20006/400000 [08:49<3:20:23, 31.60it/s]"
     ]
    },
    {
     "name": "stdout",
     "output_type": "stream",
     "text": [
      "Overall Ep 320000, Avg R (last 100 ep): -289.89, Eps: 0.220, Drops (last 100 ep): 0.09\n"
     ]
    },
    {
     "name": "stderr",
     "output_type": "stream",
     "text": [
      "Training SARSA (Augmented Features):   6%|▌         | 24006/400000 [10:31<3:02:56, 34.26it/s]"
     ]
    },
    {
     "name": "stdout",
     "output_type": "stream",
     "text": [
      "Overall Ep 324000, Avg R (last 100 ep): -271.44, Eps: 0.217, Drops (last 100 ep): 0.15\n"
     ]
    },
    {
     "name": "stderr",
     "output_type": "stream",
     "text": [
      "Training SARSA (Augmented Features):   7%|▋         | 28005/400000 [12:10<2:56:40, 35.09it/s]"
     ]
    },
    {
     "name": "stdout",
     "output_type": "stream",
     "text": [
      "Overall Ep 328000, Avg R (last 100 ep): -278.83, Eps: 0.213, Drops (last 100 ep): 0.15\n"
     ]
    },
    {
     "name": "stderr",
     "output_type": "stream",
     "text": [
      "Training SARSA (Augmented Features):   8%|▊         | 32006/400000 [13:48<3:24:28, 29.99it/s]"
     ]
    },
    {
     "name": "stdout",
     "output_type": "stream",
     "text": [
      "Overall Ep 332000, Avg R (last 100 ep): -259.91, Eps: 0.210, Drops (last 100 ep): 0.19\n"
     ]
    },
    {
     "name": "stderr",
     "output_type": "stream",
     "text": [
      "Training SARSA (Augmented Features):   9%|▉         | 36005/400000 [15:27<2:45:48, 36.59it/s]"
     ]
    },
    {
     "name": "stdout",
     "output_type": "stream",
     "text": [
      "Overall Ep 336000, Avg R (last 100 ep): -265.54, Eps: 0.206, Drops (last 100 ep): 0.19\n"
     ]
    },
    {
     "name": "stderr",
     "output_type": "stream",
     "text": [
      "Training SARSA (Augmented Features):  10%|█         | 40014/400000 [17:06<1:16:03, 78.89it/s]"
     ]
    },
    {
     "name": "stdout",
     "output_type": "stream",
     "text": [
      "Overall Ep 340000, Avg R (last 100 ep): -268.12, Eps: 0.203, Drops (last 100 ep): 0.16\n"
     ]
    },
    {
     "name": "stderr",
     "output_type": "stream",
     "text": [
      "Training SARSA (Augmented Features):  11%|█         | 44012/400000 [18:42<1:14:21, 79.79it/s]"
     ]
    },
    {
     "name": "stdout",
     "output_type": "stream",
     "text": [
      "Overall Ep 344000, Avg R (last 100 ep): -228.98, Eps: 0.199, Drops (last 100 ep): 0.28\n"
     ]
    },
    {
     "name": "stderr",
     "output_type": "stream",
     "text": [
      "Training SARSA (Augmented Features):  12%|█▏        | 48010/400000 [20:22<1:39:13, 59.12it/s]"
     ]
    },
    {
     "name": "stdout",
     "output_type": "stream",
     "text": [
      "Overall Ep 348000, Avg R (last 100 ep): -259.96, Eps: 0.196, Drops (last 100 ep): 0.17\n"
     ]
    },
    {
     "name": "stderr",
     "output_type": "stream",
     "text": [
      "Training SARSA (Augmented Features):  13%|█▎        | 52004/400000 [22:05<2:37:25, 36.84it/s]"
     ]
    },
    {
     "name": "stdout",
     "output_type": "stream",
     "text": [
      "Overall Ep 352000, Avg R (last 100 ep): -251.85, Eps: 0.192, Drops (last 100 ep): 0.20\n"
     ]
    },
    {
     "name": "stderr",
     "output_type": "stream",
     "text": [
      "Training SARSA (Augmented Features):  14%|█▍        | 56005/400000 [23:49<2:56:55, 32.41it/s]"
     ]
    },
    {
     "name": "stdout",
     "output_type": "stream",
     "text": [
      "Overall Ep 356000, Avg R (last 100 ep): -255.85, Eps: 0.189, Drops (last 100 ep): 0.18\n"
     ]
    },
    {
     "name": "stderr",
     "output_type": "stream",
     "text": [
      "Training SARSA (Augmented Features):  15%|█▌        | 60002/400000 [25:32<2:36:39, 36.17it/s]"
     ]
    },
    {
     "name": "stdout",
     "output_type": "stream",
     "text": [
      "Overall Ep 360000, Avg R (last 100 ep): -253.07, Eps: 0.185, Drops (last 100 ep): 0.18\n"
     ]
    },
    {
     "name": "stderr",
     "output_type": "stream",
     "text": [
      "Training SARSA (Augmented Features):  16%|█▌        | 64012/400000 [27:16<1:19:33, 70.38it/s]"
     ]
    },
    {
     "name": "stdout",
     "output_type": "stream",
     "text": [
      "Overall Ep 364000, Avg R (last 100 ep): -251.39, Eps: 0.182, Drops (last 100 ep): 0.18\n"
     ]
    },
    {
     "name": "stderr",
     "output_type": "stream",
     "text": [
      "Training SARSA (Augmented Features):  17%|█▋        | 68005/400000 [28:56<2:32:04, 36.39it/s]"
     ]
    },
    {
     "name": "stdout",
     "output_type": "stream",
     "text": [
      "Overall Ep 368000, Avg R (last 100 ep): -244.63, Eps: 0.178, Drops (last 100 ep): 0.23\n"
     ]
    },
    {
     "name": "stderr",
     "output_type": "stream",
     "text": [
      "Training SARSA (Augmented Features):  18%|█▊        | 72005/400000 [30:36<2:47:51, 32.57it/s]"
     ]
    },
    {
     "name": "stdout",
     "output_type": "stream",
     "text": [
      "Overall Ep 372000, Avg R (last 100 ep): -242.38, Eps: 0.175, Drops (last 100 ep): 0.21\n"
     ]
    },
    {
     "name": "stderr",
     "output_type": "stream",
     "text": [
      "Training SARSA (Augmented Features):  19%|█▉        | 76010/400000 [32:17<1:10:36, 76.47it/s]"
     ]
    },
    {
     "name": "stdout",
     "output_type": "stream",
     "text": [
      "Overall Ep 376000, Avg R (last 100 ep): -248.87, Eps: 0.171, Drops (last 100 ep): 0.22\n"
     ]
    },
    {
     "name": "stderr",
     "output_type": "stream",
     "text": [
      "Training SARSA (Augmented Features):  20%|██        | 80004/400000 [34:03<2:37:13, 33.92it/s]"
     ]
    },
    {
     "name": "stdout",
     "output_type": "stream",
     "text": [
      "Overall Ep 380000, Avg R (last 100 ep): -260.15, Eps: 0.168, Drops (last 100 ep): 0.14\n"
     ]
    },
    {
     "name": "stderr",
     "output_type": "stream",
     "text": [
      "Training SARSA (Augmented Features):  21%|██        | 84012/400000 [35:47<1:12:57, 72.19it/s]"
     ]
    },
    {
     "name": "stdout",
     "output_type": "stream",
     "text": [
      "Overall Ep 384000, Avg R (last 100 ep): -239.72, Eps: 0.164, Drops (last 100 ep): 0.21\n"
     ]
    },
    {
     "name": "stderr",
     "output_type": "stream",
     "text": [
      "Training SARSA (Augmented Features):  22%|██▏       | 88006/400000 [37:29<2:37:01, 33.12it/s]"
     ]
    },
    {
     "name": "stdout",
     "output_type": "stream",
     "text": [
      "Overall Ep 388000, Avg R (last 100 ep): -229.75, Eps: 0.161, Drops (last 100 ep): 0.24\n"
     ]
    },
    {
     "name": "stderr",
     "output_type": "stream",
     "text": [
      "Training SARSA (Augmented Features):  23%|██▎       | 92006/400000 [39:14<2:27:03, 34.91it/s]"
     ]
    },
    {
     "name": "stdout",
     "output_type": "stream",
     "text": [
      "Overall Ep 392000, Avg R (last 100 ep): -229.00, Eps: 0.157, Drops (last 100 ep): 0.22\n"
     ]
    },
    {
     "name": "stderr",
     "output_type": "stream",
     "text": [
      "Training SARSA (Augmented Features):  24%|██▍       | 96008/400000 [41:01<2:18:38, 36.54it/s]"
     ]
    },
    {
     "name": "stdout",
     "output_type": "stream",
     "text": [
      "Overall Ep 396000, Avg R (last 100 ep): -245.85, Eps: 0.154, Drops (last 100 ep): 0.18\n"
     ]
    },
    {
     "name": "stderr",
     "output_type": "stream",
     "text": [
      "Training SARSA (Augmented Features):  25%|██▌       | 100006/400000 [42:43<2:37:06, 31.82it/s]"
     ]
    },
    {
     "name": "stdout",
     "output_type": "stream",
     "text": [
      "Overall Ep 400000, Avg R (last 100 ep): -238.78, Eps: 0.150, Drops (last 100 ep): 0.17\n"
     ]
    },
    {
     "name": "stderr",
     "output_type": "stream",
     "text": [
      "Training SARSA (Augmented Features):  26%|██▌       | 104005/400000 [44:28<2:41:12, 30.60it/s]"
     ]
    },
    {
     "name": "stdout",
     "output_type": "stream",
     "text": [
      "Overall Ep 404000, Avg R (last 100 ep): -247.73, Eps: 0.147, Drops (last 100 ep): 0.16\n"
     ]
    },
    {
     "name": "stderr",
     "output_type": "stream",
     "text": [
      "Training SARSA (Augmented Features):  27%|██▋       | 108013/400000 [46:12<1:10:33, 68.97it/s]"
     ]
    },
    {
     "name": "stdout",
     "output_type": "stream",
     "text": [
      "Overall Ep 408000, Avg R (last 100 ep): -256.67, Eps: 0.143, Drops (last 100 ep): 0.11\n"
     ]
    },
    {
     "name": "stderr",
     "output_type": "stream",
     "text": [
      "Training SARSA (Augmented Features):  28%|██▊       | 112007/400000 [48:00<2:01:56, 39.36it/s]"
     ]
    },
    {
     "name": "stdout",
     "output_type": "stream",
     "text": [
      "Overall Ep 412000, Avg R (last 100 ep): -233.74, Eps: 0.140, Drops (last 100 ep): 0.19\n"
     ]
    },
    {
     "name": "stderr",
     "output_type": "stream",
     "text": [
      "Training SARSA (Augmented Features):  29%|██▉       | 116010/400000 [49:41<1:08:43, 68.88it/s]"
     ]
    },
    {
     "name": "stdout",
     "output_type": "stream",
     "text": [
      "Overall Ep 416000, Avg R (last 100 ep): -223.94, Eps: 0.136, Drops (last 100 ep): 0.22\n"
     ]
    },
    {
     "name": "stderr",
     "output_type": "stream",
     "text": [
      "Training SARSA (Augmented Features):  30%|███       | 120008/400000 [51:27<1:58:47, 39.28it/s]"
     ]
    },
    {
     "name": "stdout",
     "output_type": "stream",
     "text": [
      "Overall Ep 420000, Avg R (last 100 ep): -238.41, Eps: 0.133, Drops (last 100 ep): 0.18\n"
     ]
    },
    {
     "name": "stderr",
     "output_type": "stream",
     "text": [
      "Training SARSA (Augmented Features):  31%|███       | 124002/400000 [53:10<1:56:49, 39.38it/s]"
     ]
    },
    {
     "name": "stdout",
     "output_type": "stream",
     "text": [
      "Overall Ep 424000, Avg R (last 100 ep): -212.95, Eps: 0.129, Drops (last 100 ep): 0.25\n"
     ]
    },
    {
     "name": "stderr",
     "output_type": "stream",
     "text": [
      "Training SARSA (Augmented Features):  32%|███▏      | 128005/400000 [54:57<2:11:42, 34.42it/s]"
     ]
    },
    {
     "name": "stdout",
     "output_type": "stream",
     "text": [
      "Overall Ep 428000, Avg R (last 100 ep): -221.83, Eps: 0.126, Drops (last 100 ep): 0.21\n"
     ]
    },
    {
     "name": "stderr",
     "output_type": "stream",
     "text": [
      "Training SARSA (Augmented Features):  33%|███▎      | 132007/400000 [56:40<1:15:48, 58.92it/s]"
     ]
    },
    {
     "name": "stdout",
     "output_type": "stream",
     "text": [
      "Overall Ep 432000, Avg R (last 100 ep): -210.61, Eps: 0.122, Drops (last 100 ep): 0.24\n"
     ]
    },
    {
     "name": "stderr",
     "output_type": "stream",
     "text": [
      "Training SARSA (Augmented Features):  34%|███▍      | 136006/400000 [58:28<1:03:11, 69.63it/s]"
     ]
    },
    {
     "name": "stdout",
     "output_type": "stream",
     "text": [
      "Overall Ep 436000, Avg R (last 100 ep): -233.19, Eps: 0.119, Drops (last 100 ep): 0.16\n"
     ]
    },
    {
     "name": "stderr",
     "output_type": "stream",
     "text": [
      "Training SARSA (Augmented Features):  35%|███▌      | 140003/400000 [1:00:14<2:16:16, 31.80it/s]"
     ]
    },
    {
     "name": "stdout",
     "output_type": "stream",
     "text": [
      "Overall Ep 440000, Avg R (last 100 ep): -240.89, Eps: 0.115, Drops (last 100 ep): 0.13\n"
     ]
    },
    {
     "name": "stderr",
     "output_type": "stream",
     "text": [
      "Training SARSA (Augmented Features):  36%|███▌      | 144006/400000 [1:02:05<2:19:57, 30.48it/s]"
     ]
    },
    {
     "name": "stdout",
     "output_type": "stream",
     "text": [
      "Overall Ep 444000, Avg R (last 100 ep): -224.91, Eps: 0.112, Drops (last 100 ep): 0.16\n"
     ]
    },
    {
     "name": "stderr",
     "output_type": "stream",
     "text": [
      "Training SARSA (Augmented Features):  37%|███▋      | 148003/400000 [1:03:54<2:20:06, 29.98it/s]"
     ]
    },
    {
     "name": "stdout",
     "output_type": "stream",
     "text": [
      "Overall Ep 448000, Avg R (last 100 ep): -206.10, Eps: 0.108, Drops (last 100 ep): 0.22\n"
     ]
    },
    {
     "name": "stderr",
     "output_type": "stream",
     "text": [
      "Training SARSA (Augmented Features):  38%|███▊      | 152006/400000 [1:05:40<1:08:09, 60.64it/s]"
     ]
    },
    {
     "name": "stdout",
     "output_type": "stream",
     "text": [
      "Overall Ep 452000, Avg R (last 100 ep): -233.82, Eps: 0.105, Drops (last 100 ep): 0.12\n"
     ]
    },
    {
     "name": "stderr",
     "output_type": "stream",
     "text": [
      "Training SARSA (Augmented Features):  39%|███▉      | 156004/400000 [1:07:33<2:07:33, 31.88it/s]"
     ]
    },
    {
     "name": "stdout",
     "output_type": "stream",
     "text": [
      "Overall Ep 456000, Avg R (last 100 ep): -210.14, Eps: 0.101, Drops (last 100 ep): 0.20\n"
     ]
    },
    {
     "name": "stderr",
     "output_type": "stream",
     "text": [
      "Training SARSA (Augmented Features):  40%|████      | 160005/400000 [1:09:26<2:00:34, 33.17it/s]"
     ]
    },
    {
     "name": "stdout",
     "output_type": "stream",
     "text": [
      "Overall Ep 460000, Avg R (last 100 ep): -200.73, Eps: 0.098, Drops (last 100 ep): 0.20\n"
     ]
    },
    {
     "name": "stderr",
     "output_type": "stream",
     "text": [
      "Training SARSA (Augmented Features):  41%|████      | 164004/400000 [1:11:17<1:54:26, 34.37it/s]"
     ]
    },
    {
     "name": "stdout",
     "output_type": "stream",
     "text": [
      "Overall Ep 464000, Avg R (last 100 ep): -211.19, Eps: 0.094, Drops (last 100 ep): 0.20\n"
     ]
    },
    {
     "name": "stderr",
     "output_type": "stream",
     "text": [
      "Training SARSA (Augmented Features):  42%|████▏     | 168007/400000 [1:13:05<59:35, 64.88it/s]  "
     ]
    },
    {
     "name": "stdout",
     "output_type": "stream",
     "text": [
      "Overall Ep 468000, Avg R (last 100 ep): -204.40, Eps: 0.091, Drops (last 100 ep): 0.22\n"
     ]
    },
    {
     "name": "stderr",
     "output_type": "stream",
     "text": [
      "Training SARSA (Augmented Features):  43%|████▎     | 172006/400000 [1:14:55<1:56:36, 32.58it/s]"
     ]
    },
    {
     "name": "stdout",
     "output_type": "stream",
     "text": [
      "Overall Ep 472000, Avg R (last 100 ep): -213.78, Eps: 0.087, Drops (last 100 ep): 0.15\n"
     ]
    },
    {
     "name": "stderr",
     "output_type": "stream",
     "text": [
      "Training SARSA (Augmented Features):  44%|████▍     | 176002/400000 [1:16:46<1:58:55, 31.39it/s]"
     ]
    },
    {
     "name": "stdout",
     "output_type": "stream",
     "text": [
      "Overall Ep 476000, Avg R (last 100 ep): -206.38, Eps: 0.084, Drops (last 100 ep): 0.18\n"
     ]
    },
    {
     "name": "stderr",
     "output_type": "stream",
     "text": [
      "Training SARSA (Augmented Features):  45%|████▌     | 180007/400000 [1:18:40<1:50:02, 33.32it/s]"
     ]
    },
    {
     "name": "stdout",
     "output_type": "stream",
     "text": [
      "Overall Ep 480000, Avg R (last 100 ep): -208.76, Eps: 0.080, Drops (last 100 ep): 0.15\n"
     ]
    },
    {
     "name": "stderr",
     "output_type": "stream",
     "text": [
      "Training SARSA (Augmented Features):  46%|████▌     | 184004/400000 [1:20:28<1:57:56, 30.52it/s]"
     ]
    },
    {
     "name": "stdout",
     "output_type": "stream",
     "text": [
      "Overall Ep 484000, Avg R (last 100 ep): -199.55, Eps: 0.077, Drops (last 100 ep): 0.23\n"
     ]
    },
    {
     "name": "stderr",
     "output_type": "stream",
     "text": [
      "Training SARSA (Augmented Features):  47%|████▋     | 188006/400000 [1:22:20<1:48:55, 32.44it/s]"
     ]
    },
    {
     "name": "stdout",
     "output_type": "stream",
     "text": [
      "Overall Ep 488000, Avg R (last 100 ep): -210.21, Eps: 0.073, Drops (last 100 ep): 0.19\n"
     ]
    },
    {
     "name": "stderr",
     "output_type": "stream",
     "text": [
      "Training SARSA (Augmented Features):  48%|████▊     | 192007/400000 [1:24:12<1:42:13, 33.91it/s]"
     ]
    },
    {
     "name": "stdout",
     "output_type": "stream",
     "text": [
      "Overall Ep 492000, Avg R (last 100 ep): -186.84, Eps: 0.070, Drops (last 100 ep): 0.23\n"
     ]
    },
    {
     "name": "stderr",
     "output_type": "stream",
     "text": [
      "Training SARSA (Augmented Features):  49%|████▉     | 196004/400000 [1:25:58<1:38:21, 34.56it/s]"
     ]
    },
    {
     "name": "stdout",
     "output_type": "stream",
     "text": [
      "Overall Ep 496000, Avg R (last 100 ep): -190.97, Eps: 0.066, Drops (last 100 ep): 0.22\n"
     ]
    },
    {
     "name": "stderr",
     "output_type": "stream",
     "text": [
      "Training SARSA (Augmented Features):  50%|█████     | 200012/400000 [1:27:46<37:46, 88.22it/s]  "
     ]
    },
    {
     "name": "stdout",
     "output_type": "stream",
     "text": [
      "Overall Ep 500000, Avg R (last 100 ep): -182.21, Eps: 0.063, Drops (last 100 ep): 0.24\n"
     ]
    },
    {
     "name": "stderr",
     "output_type": "stream",
     "text": [
      "Training SARSA (Augmented Features):  51%|█████     | 204003/400000 [1:29:33<1:54:35, 28.51it/s]"
     ]
    },
    {
     "name": "stdout",
     "output_type": "stream",
     "text": [
      "Overall Ep 504000, Avg R (last 100 ep): -218.28, Eps: 0.059, Drops (last 100 ep): 0.11\n"
     ]
    },
    {
     "name": "stderr",
     "output_type": "stream",
     "text": [
      "Training SARSA (Augmented Features):  52%|█████▏    | 208003/400000 [1:31:27<1:37:53, 32.69it/s]"
     ]
    },
    {
     "name": "stdout",
     "output_type": "stream",
     "text": [
      "Overall Ep 508000, Avg R (last 100 ep): -189.46, Eps: 0.056, Drops (last 100 ep): 0.20\n"
     ]
    },
    {
     "name": "stderr",
     "output_type": "stream",
     "text": [
      "Training SARSA (Augmented Features):  53%|█████▎    | 212006/400000 [1:33:21<1:30:41, 34.55it/s]"
     ]
    },
    {
     "name": "stdout",
     "output_type": "stream",
     "text": [
      "Overall Ep 512000, Avg R (last 100 ep): -171.49, Eps: 0.052, Drops (last 100 ep): 0.25\n"
     ]
    },
    {
     "name": "stderr",
     "output_type": "stream",
     "text": [
      "Training SARSA (Augmented Features):  54%|█████▍    | 216002/400000 [1:35:14<1:39:54, 30.70it/s]"
     ]
    },
    {
     "name": "stdout",
     "output_type": "stream",
     "text": [
      "Overall Ep 516000, Avg R (last 100 ep): -213.16, Eps: 0.049, Drops (last 100 ep): 0.07\n"
     ]
    },
    {
     "name": "stderr",
     "output_type": "stream",
     "text": [
      "Training SARSA (Augmented Features):  55%|█████▌    | 220006/400000 [1:37:06<38:43, 77.47it/s]  "
     ]
    },
    {
     "name": "stdout",
     "output_type": "stream",
     "text": [
      "Overall Ep 520000, Avg R (last 100 ep): -173.58, Eps: 0.045, Drops (last 100 ep): 0.22\n"
     ]
    },
    {
     "name": "stderr",
     "output_type": "stream",
     "text": [
      "Training SARSA (Augmented Features):  56%|█████▌    | 224005/400000 [1:38:56<1:39:31, 29.47it/s]"
     ]
    },
    {
     "name": "stdout",
     "output_type": "stream",
     "text": [
      "Overall Ep 524000, Avg R (last 100 ep): -189.66, Eps: 0.042, Drops (last 100 ep): 0.17\n"
     ]
    },
    {
     "name": "stderr",
     "output_type": "stream",
     "text": [
      "Training SARSA (Augmented Features):  57%|█████▋    | 228004/400000 [1:40:48<1:24:41, 33.85it/s]"
     ]
    },
    {
     "name": "stdout",
     "output_type": "stream",
     "text": [
      "Overall Ep 528000, Avg R (last 100 ep): -179.16, Eps: 0.038, Drops (last 100 ep): 0.21\n"
     ]
    },
    {
     "name": "stderr",
     "output_type": "stream",
     "text": [
      "Training SARSA (Augmented Features):  58%|█████▊    | 232005/400000 [1:42:43<1:30:36, 30.90it/s]"
     ]
    },
    {
     "name": "stdout",
     "output_type": "stream",
     "text": [
      "Overall Ep 532000, Avg R (last 100 ep): -179.00, Eps: 0.035, Drops (last 100 ep): 0.19\n"
     ]
    },
    {
     "name": "stderr",
     "output_type": "stream",
     "text": [
      "Training SARSA (Augmented Features):  59%|█████▉    | 236012/400000 [1:44:34<38:16, 71.40it/s]  "
     ]
    },
    {
     "name": "stdout",
     "output_type": "stream",
     "text": [
      "Overall Ep 536000, Avg R (last 100 ep): -178.14, Eps: 0.031, Drops (last 100 ep): 0.19\n"
     ]
    },
    {
     "name": "stderr",
     "output_type": "stream",
     "text": [
      "Training SARSA (Augmented Features):  60%|██████    | 240005/400000 [1:46:24<1:15:06, 35.50it/s]"
     ]
    },
    {
     "name": "stdout",
     "output_type": "stream",
     "text": [
      "Overall Ep 540000, Avg R (last 100 ep): -182.97, Eps: 0.028, Drops (last 100 ep): 0.15\n"
     ]
    },
    {
     "name": "stderr",
     "output_type": "stream",
     "text": [
      "Training SARSA (Augmented Features):  61%|██████    | 244004/400000 [1:48:20<1:21:49, 31.77it/s]"
     ]
    },
    {
     "name": "stdout",
     "output_type": "stream",
     "text": [
      "Overall Ep 544000, Avg R (last 100 ep): -188.75, Eps: 0.024, Drops (last 100 ep): 0.13\n"
     ]
    },
    {
     "name": "stderr",
     "output_type": "stream",
     "text": [
      "Training SARSA (Augmented Features):  62%|██████▏   | 248005/400000 [1:50:15<1:32:46, 27.31it/s]"
     ]
    },
    {
     "name": "stdout",
     "output_type": "stream",
     "text": [
      "Overall Ep 548000, Avg R (last 100 ep): -174.52, Eps: 0.021, Drops (last 100 ep): 0.18\n"
     ]
    },
    {
     "name": "stderr",
     "output_type": "stream",
     "text": [
      "Training SARSA (Augmented Features):  63%|██████▎   | 252008/400000 [1:52:09<42:03, 58.64it/s]  "
     ]
    },
    {
     "name": "stdout",
     "output_type": "stream",
     "text": [
      "Overall Ep 552000, Avg R (last 100 ep): -174.84, Eps: 0.017, Drops (last 100 ep): 0.16\n"
     ]
    },
    {
     "name": "stderr",
     "output_type": "stream",
     "text": [
      "Training SARSA (Augmented Features):  64%|██████▍   | 256002/400000 [1:54:05<1:21:52, 29.31it/s]"
     ]
    },
    {
     "name": "stdout",
     "output_type": "stream",
     "text": [
      "Overall Ep 556000, Avg R (last 100 ep): -171.83, Eps: 0.014, Drops (last 100 ep): 0.17\n"
     ]
    },
    {
     "name": "stderr",
     "output_type": "stream",
     "text": [
      "Training SARSA (Augmented Features):  65%|██████▌   | 260004/400000 [1:55:58<1:12:25, 32.22it/s]"
     ]
    },
    {
     "name": "stdout",
     "output_type": "stream",
     "text": [
      "Overall Ep 560000, Avg R (last 100 ep): -156.94, Eps: 0.010, Drops (last 100 ep): 0.23\n"
     ]
    },
    {
     "name": "stderr",
     "output_type": "stream",
     "text": [
      "Training SARSA (Augmented Features):  66%|██████▌   | 264003/400000 [1:57:54<1:11:41, 31.61it/s]"
     ]
    },
    {
     "name": "stdout",
     "output_type": "stream",
     "text": [
      "Overall Ep 564000, Avg R (last 100 ep): -177.01, Eps: 0.010, Drops (last 100 ep): 0.14\n"
     ]
    },
    {
     "name": "stderr",
     "output_type": "stream",
     "text": [
      "Training SARSA (Augmented Features):  67%|██████▋   | 268005/400000 [1:59:43<1:06:36, 33.02it/s]"
     ]
    },
    {
     "name": "stdout",
     "output_type": "stream",
     "text": [
      "Overall Ep 568000, Avg R (last 100 ep): -187.25, Eps: 0.010, Drops (last 100 ep): 0.09\n"
     ]
    },
    {
     "name": "stderr",
     "output_type": "stream",
     "text": [
      "Training SARSA (Augmented Features):  68%|██████▊   | 272006/400000 [2:01:36<1:03:19, 33.69it/s]"
     ]
    },
    {
     "name": "stdout",
     "output_type": "stream",
     "text": [
      "Overall Ep 572000, Avg R (last 100 ep): -159.83, Eps: 0.010, Drops (last 100 ep): 0.21\n"
     ]
    },
    {
     "name": "stderr",
     "output_type": "stream",
     "text": [
      "Training SARSA (Augmented Features):  69%|██████▉   | 276003/400000 [2:03:27<1:06:44, 30.96it/s]"
     ]
    },
    {
     "name": "stdout",
     "output_type": "stream",
     "text": [
      "Overall Ep 576000, Avg R (last 100 ep): -165.80, Eps: 0.010, Drops (last 100 ep): 0.19\n"
     ]
    },
    {
     "name": "stderr",
     "output_type": "stream",
     "text": [
      "Training SARSA (Augmented Features):  70%|███████   | 280002/400000 [2:05:24<52:29, 38.10it/s]  "
     ]
    },
    {
     "name": "stdout",
     "output_type": "stream",
     "text": [
      "Overall Ep 580000, Avg R (last 100 ep): -161.99, Eps: 0.010, Drops (last 100 ep): 0.21\n"
     ]
    },
    {
     "name": "stderr",
     "output_type": "stream",
     "text": [
      "Training SARSA (Augmented Features):  71%|███████   | 284001/400000 [2:07:16<55:42, 34.70it/s]  "
     ]
    },
    {
     "name": "stdout",
     "output_type": "stream",
     "text": [
      "Overall Ep 584000, Avg R (last 100 ep): -164.02, Eps: 0.010, Drops (last 100 ep): 0.19\n"
     ]
    },
    {
     "name": "stderr",
     "output_type": "stream",
     "text": [
      "Training SARSA (Augmented Features):  72%|███████▏  | 288009/400000 [2:09:10<30:20, 61.52it/s]  "
     ]
    },
    {
     "name": "stdout",
     "output_type": "stream",
     "text": [
      "Overall Ep 588000, Avg R (last 100 ep): -189.09, Eps: 0.010, Drops (last 100 ep): 0.09\n"
     ]
    },
    {
     "name": "stderr",
     "output_type": "stream",
     "text": [
      "Training SARSA (Augmented Features):  73%|███████▎  | 292009/400000 [2:11:02<26:52, 66.96it/s]  "
     ]
    },
    {
     "name": "stdout",
     "output_type": "stream",
     "text": [
      "Overall Ep 592000, Avg R (last 100 ep): -160.35, Eps: 0.010, Drops (last 100 ep): 0.21\n"
     ]
    },
    {
     "name": "stderr",
     "output_type": "stream",
     "text": [
      "Training SARSA (Augmented Features):  74%|███████▍  | 296010/400000 [2:12:57<30:46, 56.32it/s]  "
     ]
    },
    {
     "name": "stdout",
     "output_type": "stream",
     "text": [
      "Overall Ep 596000, Avg R (last 100 ep): -172.68, Eps: 0.010, Drops (last 100 ep): 0.16\n"
     ]
    },
    {
     "name": "stderr",
     "output_type": "stream",
     "text": [
      "Training SARSA (Augmented Features):  75%|███████▌  | 300005/400000 [2:14:54<58:03, 28.71it/s]  "
     ]
    },
    {
     "name": "stdout",
     "output_type": "stream",
     "text": [
      "Overall Ep 600000, Avg R (last 100 ep): -184.43, Eps: 0.010, Drops (last 100 ep): 0.11\n"
     ]
    },
    {
     "name": "stderr",
     "output_type": "stream",
     "text": [
      "Training SARSA (Augmented Features):  76%|███████▌  | 304014/400000 [2:16:48<22:01, 72.63it/s]  "
     ]
    },
    {
     "name": "stdout",
     "output_type": "stream",
     "text": [
      "Overall Ep 604000, Avg R (last 100 ep): -168.73, Eps: 0.010, Drops (last 100 ep): 0.18\n"
     ]
    },
    {
     "name": "stderr",
     "output_type": "stream",
     "text": [
      "Training SARSA (Augmented Features):  77%|███████▋  | 308005/400000 [2:18:35<54:30, 28.13it/s]  "
     ]
    },
    {
     "name": "stdout",
     "output_type": "stream",
     "text": [
      "Overall Ep 608000, Avg R (last 100 ep): -165.89, Eps: 0.010, Drops (last 100 ep): 0.20\n"
     ]
    },
    {
     "name": "stderr",
     "output_type": "stream",
     "text": [
      "Training SARSA (Augmented Features):  78%|███████▊  | 312006/400000 [2:20:24<24:14, 60.48it/s]  "
     ]
    },
    {
     "name": "stdout",
     "output_type": "stream",
     "text": [
      "Overall Ep 612000, Avg R (last 100 ep): -173.29, Eps: 0.010, Drops (last 100 ep): 0.16\n"
     ]
    },
    {
     "name": "stderr",
     "output_type": "stream",
     "text": [
      "Training SARSA (Augmented Features):  79%|███████▉  | 316005/400000 [2:22:17<21:29, 65.14it/s]"
     ]
    },
    {
     "name": "stdout",
     "output_type": "stream",
     "text": [
      "Overall Ep 616000, Avg R (last 100 ep): -158.95, Eps: 0.010, Drops (last 100 ep): 0.22\n"
     ]
    },
    {
     "name": "stderr",
     "output_type": "stream",
     "text": [
      "Training SARSA (Augmented Features):  80%|████████  | 320011/400000 [2:24:11<19:02, 70.03it/s]"
     ]
    },
    {
     "name": "stdout",
     "output_type": "stream",
     "text": [
      "Overall Ep 620000, Avg R (last 100 ep): -155.33, Eps: 0.010, Drops (last 100 ep): 0.24\n"
     ]
    },
    {
     "name": "stderr",
     "output_type": "stream",
     "text": [
      "Training SARSA (Augmented Features):  81%|████████  | 324002/400000 [2:26:01<36:43, 34.49it/s]"
     ]
    },
    {
     "name": "stdout",
     "output_type": "stream",
     "text": [
      "Overall Ep 624000, Avg R (last 100 ep): -164.03, Eps: 0.010, Drops (last 100 ep): 0.20\n"
     ]
    },
    {
     "name": "stderr",
     "output_type": "stream",
     "text": [
      "Training SARSA (Augmented Features):  82%|████████▏ | 328003/400000 [2:27:56<36:03, 33.28it/s]"
     ]
    },
    {
     "name": "stdout",
     "output_type": "stream",
     "text": [
      "Overall Ep 628000, Avg R (last 100 ep): -164.33, Eps: 0.010, Drops (last 100 ep): 0.21\n"
     ]
    },
    {
     "name": "stderr",
     "output_type": "stream",
     "text": [
      "Training SARSA (Augmented Features):  83%|████████▎ | 332003/400000 [2:29:49<39:45, 28.50it/s]"
     ]
    },
    {
     "name": "stdout",
     "output_type": "stream",
     "text": [
      "Overall Ep 632000, Avg R (last 100 ep): -176.86, Eps: 0.010, Drops (last 100 ep): 0.14\n"
     ]
    },
    {
     "name": "stderr",
     "output_type": "stream",
     "text": [
      "Training SARSA (Augmented Features):  84%|████████▍ | 336005/400000 [2:31:44<36:53, 28.91it/s]"
     ]
    },
    {
     "name": "stdout",
     "output_type": "stream",
     "text": [
      "Overall Ep 636000, Avg R (last 100 ep): -156.80, Eps: 0.010, Drops (last 100 ep): 0.23\n"
     ]
    },
    {
     "name": "stderr",
     "output_type": "stream",
     "text": [
      "Training SARSA (Augmented Features):  85%|████████▌ | 340014/400000 [2:33:39<14:40, 68.16it/s]"
     ]
    },
    {
     "name": "stdout",
     "output_type": "stream",
     "text": [
      "Overall Ep 640000, Avg R (last 100 ep): -170.89, Eps: 0.010, Drops (last 100 ep): 0.18\n"
     ]
    },
    {
     "name": "stderr",
     "output_type": "stream",
     "text": [
      "Training SARSA (Augmented Features):  86%|████████▌ | 344005/400000 [2:35:25<29:22, 31.77it/s]"
     ]
    },
    {
     "name": "stdout",
     "output_type": "stream",
     "text": [
      "Overall Ep 644000, Avg R (last 100 ep): -167.09, Eps: 0.010, Drops (last 100 ep): 0.19\n"
     ]
    },
    {
     "name": "stderr",
     "output_type": "stream",
     "text": [
      "Training SARSA (Augmented Features):  87%|████████▋ | 348003/400000 [2:37:18<32:45, 26.45it/s]"
     ]
    },
    {
     "name": "stdout",
     "output_type": "stream",
     "text": [
      "Overall Ep 648000, Avg R (last 100 ep): -182.74, Eps: 0.010, Drops (last 100 ep): 0.11\n"
     ]
    },
    {
     "name": "stderr",
     "output_type": "stream",
     "text": [
      "Training SARSA (Augmented Features):  88%|████████▊ | 352005/400000 [2:39:10<24:00, 33.33it/s]"
     ]
    },
    {
     "name": "stdout",
     "output_type": "stream",
     "text": [
      "Overall Ep 652000, Avg R (last 100 ep): -177.63, Eps: 0.010, Drops (last 100 ep): 0.14\n"
     ]
    },
    {
     "name": "stderr",
     "output_type": "stream",
     "text": [
      "Training SARSA (Augmented Features):  89%|████████▉ | 356000/400000 [2:40:56<13:04, 56.12it/s]"
     ]
    },
    {
     "name": "stdout",
     "output_type": "stream",
     "text": [
      "Overall Ep 656000, Avg R (last 100 ep): -169.33, Eps: 0.010, Drops (last 100 ep): 0.17\n"
     ]
    },
    {
     "name": "stderr",
     "output_type": "stream",
     "text": [
      "Training SARSA (Augmented Features):  90%|█████████ | 360005/400000 [2:42:51<23:54, 27.89it/s]"
     ]
    },
    {
     "name": "stdout",
     "output_type": "stream",
     "text": [
      "Overall Ep 660000, Avg R (last 100 ep): -192.96, Eps: 0.010, Drops (last 100 ep): 0.07\n"
     ]
    },
    {
     "name": "stderr",
     "output_type": "stream",
     "text": [
      "Training SARSA (Augmented Features):  91%|█████████ | 364010/400000 [2:44:43<11:00, 54.48it/s]"
     ]
    },
    {
     "name": "stdout",
     "output_type": "stream",
     "text": [
      "Overall Ep 664000, Avg R (last 100 ep): -169.88, Eps: 0.010, Drops (last 100 ep): 0.17\n"
     ]
    },
    {
     "name": "stderr",
     "output_type": "stream",
     "text": [
      "Training SARSA (Augmented Features):  92%|█████████▏| 368004/400000 [2:46:39<19:04, 27.94it/s]"
     ]
    },
    {
     "name": "stdout",
     "output_type": "stream",
     "text": [
      "Overall Ep 668000, Avg R (last 100 ep): -179.17, Eps: 0.010, Drops (last 100 ep): 0.13\n"
     ]
    },
    {
     "name": "stderr",
     "output_type": "stream",
     "text": [
      "Training SARSA (Augmented Features):  93%|█████████▎| 372010/400000 [2:48:26<08:54, 52.35it/s]"
     ]
    },
    {
     "name": "stdout",
     "output_type": "stream",
     "text": [
      "Overall Ep 672000, Avg R (last 100 ep): -168.46, Eps: 0.010, Drops (last 100 ep): 0.18\n"
     ]
    },
    {
     "name": "stderr",
     "output_type": "stream",
     "text": [
      "Training SARSA (Augmented Features):  94%|█████████▍| 376004/400000 [2:50:19<13:11, 30.30it/s]"
     ]
    },
    {
     "name": "stdout",
     "output_type": "stream",
     "text": [
      "Overall Ep 676000, Avg R (last 100 ep): -174.03, Eps: 0.010, Drops (last 100 ep): 0.15\n"
     ]
    },
    {
     "name": "stderr",
     "output_type": "stream",
     "text": [
      "Training SARSA (Augmented Features):  95%|█████████▌| 380003/400000 [2:52:13<11:25, 29.19it/s]"
     ]
    },
    {
     "name": "stdout",
     "output_type": "stream",
     "text": [
      "Overall Ep 680000, Avg R (last 100 ep): -178.03, Eps: 0.010, Drops (last 100 ep): 0.14\n"
     ]
    },
    {
     "name": "stderr",
     "output_type": "stream",
     "text": [
      "Training SARSA (Augmented Features):  96%|█████████▌| 384004/400000 [2:54:06<09:48, 27.18it/s]"
     ]
    },
    {
     "name": "stdout",
     "output_type": "stream",
     "text": [
      "Overall Ep 684000, Avg R (last 100 ep): -166.68, Eps: 0.010, Drops (last 100 ep): 0.18\n"
     ]
    },
    {
     "name": "stderr",
     "output_type": "stream",
     "text": [
      "Training SARSA (Augmented Features):  97%|█████████▋| 388006/400000 [2:56:02<06:03, 33.03it/s]"
     ]
    },
    {
     "name": "stdout",
     "output_type": "stream",
     "text": [
      "Overall Ep 688000, Avg R (last 100 ep): -168.81, Eps: 0.010, Drops (last 100 ep): 0.17\n"
     ]
    },
    {
     "name": "stderr",
     "output_type": "stream",
     "text": [
      "Training SARSA (Augmented Features):  98%|█████████▊| 392004/400000 [2:57:55<04:37, 28.85it/s]"
     ]
    },
    {
     "name": "stdout",
     "output_type": "stream",
     "text": [
      "Overall Ep 692000, Avg R (last 100 ep): -173.46, Eps: 0.010, Drops (last 100 ep): 0.15\n"
     ]
    },
    {
     "name": "stderr",
     "output_type": "stream",
     "text": [
      "Training SARSA (Augmented Features):  99%|█████████▉| 396004/400000 [2:59:48<02:15, 29.52it/s]"
     ]
    },
    {
     "name": "stdout",
     "output_type": "stream",
     "text": [
      "Overall Ep 696000, Avg R (last 100 ep): -175.23, Eps: 0.010, Drops (last 100 ep): 0.15\n"
     ]
    },
    {
     "name": "stderr",
     "output_type": "stream",
     "text": [
      "Training SARSA (Augmented Features): 100%|██████████| 400000/400000 [3:01:42<00:00, 36.69it/s]\n"
     ]
    },
    {
     "name": "stdout",
     "output_type": "stream",
     "text": [
      "Overall Ep 700000, Avg R (last 100 ep): -183.93, Eps: 0.010, Drops (last 100 ep): 0.11\n",
      "Saved weights and logs to files starting with: taxi_sarsa_augmented_700k\n"
     ]
    },
    {
     "name": "stderr",
     "output_type": "stream",
     "text": [
      "C:\\Users\\lenovo\\anaconda3\\lib\\site-packages\\IPython\\core\\pylabtools.py:151: UserWarning: Creating legend with loc=\"best\" can be slow with large amounts of data.\n",
      "  fig.canvas.print_figure(bytes_io, **kw)\n"
     ]
    },
    {
     "data": {
      "image/png": "[encoded data removed]",
      "text/plain": [
       "<Figure size 864x432 with 2 Axes>"
      ]
     },
     "metadata": {
      "needs_background": "light"
     },
     "output_type": "display_data"
    },
    {
     "name": "stdout",
     "output_type": "stream",
     "text": [
      "\n",
      "=== Taxi-v3: SARSA Policy Rollout (Augmented Features, Alpha=0.001, Total Eps Trained=700000) ===\n",
      "\n",
      "+---------+\n",
      "|R: | :T:G|\n",
      "| : | : : |\n",
      "| : : : : |\n",
      "| | : | : |\n",
      "|Y| : |B: |\n",
      "+---------+\n",
      "Step:        0\n",
      "State ID:    62 → (row=0, col=3, pass_loc='R (Red)', dest='Y (Yellow)')\n",
      "Q-values for current state:\n",
      "  Action South ↓ (0): -47.14\n",
      "  Action North ↑ (1): -55.35\n",
      "  Action East  → (2): -75.61\n",
      "  Action West  ← (3): -63.10\n",
      "  Action Pickup :) (4): -70.01\n",
      "  Action Dropoff ⬇ (5): -78.19\n",
      "Chosen Action: South ↓ (0)  Q≈-47.14\n",
      "Reward:      -1\n",
      "--------------------------------\n",
      "+---------+\n",
      "|R: | : :G|\n",
      "| : | :T: |\n",
      "| : : : : |\n",
      "| | : | : |\n",
      "|Y| : |B: |\n",
      "+---------+\n",
      "Step:        1\n",
      "State ID:    162 → (row=1, col=3, pass_loc='R (Red)', dest='Y (Yellow)')\n",
      "Q-values for current state:\n",
      "  Action South ↓ (0): -47.62\n",
      "  Action North ↑ (1): -55.46\n",
      "  Action East  → (2): -85.08\n",
      "  Action West  ← (3): -63.40\n",
      "  Action Pickup :) (4): -76.72\n",
      "  Action Dropoff ⬇ (5): -78.66\n",
      "Chosen Action: South ↓ (0)  Q≈-47.62\n",
      "Reward:      -1\n",
      "--------------------------------\n",
      "+---------+\n",
      "|R: | : :G|\n",
      "| : | : : |\n",
      "| : : :T: |\n",
      "| | : | : |\n",
      "|Y| : |B: |\n",
      "+---------+\n",
      "Step:        2\n",
      "State ID:    262 → (row=2, col=3, pass_loc='R (Red)', dest='Y (Yellow)')\n",
      "Q-values for current state:\n",
      "  Action South ↓ (0): -62.75\n",
      "  Action North ↑ (1): -55.89\n",
      "  Action East  → (2): -83.38\n",
      "  Action West  ← (3): -50.62\n",
      "  Action Pickup :) (4): -75.07\n",
      "  Action Dropoff ⬇ (5): -76.63\n",
      "Chosen Action: West  ← (3)  Q≈-50.62\n",
      "Reward:      -1\n",
      "--------------------------------\n",
      "+---------+\n",
      "|R: | : :G|\n",
      "| : | : : |\n",
      "| : :T: : |\n",
      "| | : | : |\n",
      "|Y| : |B: |\n",
      "+---------+\n",
      "Step:        3\n",
      "State ID:    242 → (row=2, col=2, pass_loc='R (Red)', dest='Y (Yellow)')\n",
      "Q-values for current state:\n",
      "  Action South ↓ (0): -53.31\n",
      "  Action North ↑ (1): -55.30\n",
      "  Action East  → (2): -83.07\n",
      "  Action West  ← (3): -50.26\n",
      "  Action Pickup :) (4): -72.80\n",
      "  Action Dropoff ⬇ (5): -75.13\n",
      "Chosen Action: West  ← (3)  Q≈-50.26\n",
      "Reward:      -1\n",
      "--------------------------------\n",
      "+---------+\n",
      "|R: | : :G|\n",
      "| : | : : |\n",
      "| :T: : : |\n",
      "| | : | : |\n",
      "|Y| : |B: |\n",
      "+---------+\n",
      "Step:        4\n",
      "State ID:    222 → (row=2, col=1, pass_loc='R (Red)', dest='Y (Yellow)')\n",
      "Q-values for current state:\n",
      "  Action South ↓ (0): -53.69\n",
      "  Action North ↑ (1): -52.80\n",
      "  Action East  → (2): -82.83\n",
      "  Action West  ← (3): -50.03\n",
      "  Action Pickup :) (4): -74.47\n",
      "  Action Dropoff ⬇ (5): -75.85\n",
      "Chosen Action: West  ← (3)  Q≈-50.03\n",
      "Reward:      -1\n",
      "--------------------------------\n",
      "+---------+\n",
      "|R: | : :G|\n",
      "| : | : : |\n",
      "|T: : : : |\n",
      "| | : | : |\n",
      "|Y| : |B: |\n",
      "+---------+\n",
      "Step:        5\n",
      "State ID:    202 → (row=2, col=0, pass_loc='R (Red)', dest='Y (Yellow)')\n",
      "Q-values for current state:\n",
      "  Action South ↓ (0): -43.41\n",
      "  Action North ↑ (1): -41.35\n",
      "  Action East  → (2): -82.52\n",
      "  Action West  ← (3): -52.12\n",
      "  Action Pickup :) (4): -73.92\n",
      "  Action Dropoff ⬇ (5): -75.04\n",
      "Chosen Action: North ↑ (1)  Q≈-41.35\n",
      "Reward:      -1\n",
      "--------------------------------\n",
      "+---------+\n",
      "|R: | : :G|\n",
      "|T: | : : |\n",
      "| : : : : |\n",
      "| | : | : |\n",
      "|Y| : |B: |\n",
      "+---------+\n",
      "Step:        6\n",
      "State ID:    102 → (row=1, col=0, pass_loc='R (Red)', dest='Y (Yellow)')\n",
      "Q-values for current state:\n",
      "  Action South ↓ (0): -43.86\n",
      "  Action North ↑ (1): -41.14\n",
      "  Action East  → (2): -83.19\n",
      "  Action West  ← (3): -51.61\n",
      "  Action Pickup :) (4): -73.36\n",
      "  Action Dropoff ⬇ (5): -78.59\n",
      "Chosen Action: North ↑ (1)  Q≈-41.14\n",
      "Reward:      -1\n",
      "--------------------------------\n",
      "+---------+\n",
      "|T: | : :G|\n",
      "| : | : : |\n",
      "| : : : : |\n",
      "| | : | : |\n",
      "|Y| : |B: |\n",
      "+---------+\n",
      "Step:        7\n",
      "State ID:    2 → (row=0, col=0, pass_loc='R (Red)', dest='Y (Yellow)')\n",
      "Q-values for current state:\n",
      "  Action South ↓ (0): -42.27\n",
      "  Action North ↑ (1): -52.56\n",
      "  Action East  → (2): -77.93\n",
      "  Action West  ← (3): -58.26\n",
      "  Action Pickup :) (4): -41.61\n",
      "  Action Dropoff ⬇ (5): -65.70\n",
      "Chosen Action: Pickup :) (4)  Q≈-41.61\n",
      "Reward:      -1\n",
      "--------------------------------\n",
      "+---------+\n",
      "|T: | : :G|\n",
      "| : | : : |\n",
      "| : : : : |\n",
      "| | : | : |\n",
      "|Y| : |B: |\n",
      "+---------+\n",
      "Step:        8\n",
      "State ID:    18 → (row=0, col=0, pass_loc='in Taxi', dest='Y (Yellow)')\n",
      "Q-values for current state:\n",
      "  Action South ↓ (0): -32.91\n",
      "  Action North ↑ (1): -55.83\n",
      "  Action East  → (2): -69.42\n",
      "  Action West  ← (3): -63.73\n",
      "  Action Pickup :) (4): -61.63\n",
      "  Action Dropoff ⬇ (5): -59.93\n",
      "Chosen Action: South ↓ (0)  Q≈-32.91\n",
      "Reward:      -1\n",
      "--------------------------------\n",
      "+---------+\n",
      "|R: | : :G|\n",
      "|T: | : : |\n",
      "| : : : : |\n",
      "| | : | : |\n",
      "|Y| : |B: |\n",
      "+---------+\n",
      "Step:        9\n",
      "State ID:    118 → (row=1, col=0, pass_loc='in Taxi', dest='Y (Yellow)')\n",
      "Q-values for current state:\n",
      "  Action South ↓ (0): -33.05\n",
      "  Action North ↑ (1): -41.73\n",
      "  Action East  → (2): -65.64\n",
      "  Action West  ← (3): -53.11\n",
      "  Action Pickup :) (4): -50.28\n",
      "  Action Dropoff ⬇ (5): -65.27\n",
      "Chosen Action: South ↓ (0)  Q≈-33.05\n",
      "Reward:      -1\n",
      "--------------------------------\n",
      "+---------+\n",
      "|R: | : :G|\n",
      "| : | : : |\n",
      "|T: : : : |\n",
      "| | : | : |\n",
      "|Y| : |B: |\n",
      "+---------+\n",
      "Step:        10\n",
      "State ID:    218 → (row=2, col=0, pass_loc='in Taxi', dest='Y (Yellow)')\n",
      "Q-values for current state:\n",
      "  Action South ↓ (0): -32.60\n",
      "  Action North ↑ (1): -41.94\n",
      "  Action East  → (2): -64.97\n",
      "  Action West  ← (3): -53.63\n",
      "  Action Pickup :) (4): -50.85\n",
      "  Action Dropoff ⬇ (5): -61.72\n",
      "Chosen Action: South ↓ (0)  Q≈-32.60\n",
      "Reward:      -1\n",
      "--------------------------------\n",
      "+---------+\n",
      "|R: | : :G|\n",
      "| : | : : |\n",
      "| : : : : |\n",
      "|T| : | : |\n",
      "|Y| : |B: |\n",
      "+---------+\n",
      "Step:        11\n",
      "State ID:    318 → (row=3, col=0, pass_loc='in Taxi', dest='Y (Yellow)')\n",
      "Q-values for current state:\n",
      "  Action South ↓ (0): -32.51\n",
      "  Action North ↑ (1): -41.97\n",
      "  Action East  → (2): -65.15\n",
      "  Action West  ← (3): -53.34\n",
      "  Action Pickup :) (4): -50.27\n",
      "  Action Dropoff ⬇ (5): -63.82\n",
      "Chosen Action: South ↓ (0)  Q≈-32.51\n",
      "Reward:      -1\n",
      "--------------------------------\n",
      "+---------+\n",
      "|R: | : :G|\n",
      "| : | : : |\n",
      "| : : : : |\n",
      "| | : | : |\n",
      "|T| : |B: |\n",
      "+---------+\n",
      "Step:        12\n",
      "State ID:    418 → (row=4, col=0, pass_loc='in Taxi', dest='Y (Yellow)')\n",
      "Q-values for current state:\n",
      "  Action South ↓ (0): 5.17\n",
      "  Action North ↑ (1): -2.15\n",
      "  Action East  → (2): -19.12\n",
      "  Action West  ← (3): 20.32\n",
      "  Action Pickup :) (4): 17.95\n",
      "  Action Dropoff ⬇ (5): 20.88\n",
      "Chosen Action: Dropoff ⬇ (5)  Q≈20.88\n",
      "Reward:      +20\n",
      "--------------------------------\n",
      "+---------+\n",
      "|R: | : :G|\n",
      "| : | : : |\n",
      "| : : : : |\n",
      "| | : | : |\n",
      "|T| : |B: |\n",
      "+---------+\n",
      "Final State ID: 410 → (row=4, col=0, pass_loc='Y (Yellow)', dest='Y (Yellow)')\n",
      "\n",
      "Episode finished successfully in 13 steps, total reward 8\n",
      "\n"
     ]
    }
   ],
   "source": [
    "import numpy as np\n",
    "import gymnasium as gym\n",
    "import matplotlib.pyplot as plt\n",
    "from tqdm import tqdm\n",
    "import time\n",
    "import os\n",
    "\n",
    "# === State decoding helper (used by feature extractor) ===\n",
    "def decode_taxi_state(state_int):\n",
    "    taxi_row = (state_int // 100) % 5\n",
    "    taxi_col = (state_int // 20) % 5\n",
    "    pass_loc_idx = (state_int // 4) % 5\n",
    "    dest_loc_idx = state_int % 4\n",
    "    return taxi_row, taxi_col, pass_loc_idx, dest_loc_idx\n",
    "\n",
    "# === ADVANCED Feature Extractor with State-Action Interactions AND Task-Phase Features ===\n",
    "def feature_extractor_interaction_augmented(state_int, action, n_actions=6):\n",
    "    taxi_row, taxi_col, pass_loc_idx, dest_loc_idx = decode_taxi_state(state_int)\n",
    "\n",
    "    num_taxi_pos_features = 25\n",
    "    num_pass_loc_features = 5\n",
    "    num_dest_loc_features = 4\n",
    "    \n",
    "    phi_state_base = np.zeros(num_taxi_pos_features + num_pass_loc_features + num_dest_loc_features)\n",
    "    current_idx = 0\n",
    "    phi_state_base[current_idx + taxi_row * 5 + taxi_col] = 1.0\n",
    "    current_idx += num_taxi_pos_features\n",
    "    phi_state_base[current_idx + pass_loc_idx] = 1.0\n",
    "    current_idx += num_pass_loc_features\n",
    "    phi_state_base[current_idx + dest_loc_idx] = 1.0\n",
    "\n",
    "    passenger_in_taxi = 1.0 if pass_loc_idx == 4 else 0.0\n",
    "    fixed_loc_coords = {0:(0,0), 1:(0,4), 2:(4,0), 3:(4,3)} \n",
    "    \n",
    "    at_passenger_pickup_loc_feature = 0.0\n",
    "    if not passenger_in_taxi: \n",
    "        if pass_loc_idx in fixed_loc_coords:\n",
    "            expected_pass_row, expected_pass_col = fixed_loc_coords[pass_loc_idx]\n",
    "            if taxi_row == expected_pass_row and taxi_col == expected_pass_col:\n",
    "                at_passenger_pickup_loc_feature = 1.0\n",
    "\n",
    "    at_destination_with_passenger_feature = 0.0\n",
    "    if passenger_in_taxi: \n",
    "        if dest_loc_idx in fixed_loc_coords:\n",
    "            expected_dest_row, expected_dest_col = fixed_loc_coords[dest_loc_idx]\n",
    "            if taxi_row == expected_dest_row and taxi_col == expected_dest_col:\n",
    "                at_destination_with_passenger_feature = 1.0\n",
    "                \n",
    "    additional_task_features = np.array([passenger_in_taxi, \n",
    "                                         at_passenger_pickup_loc_feature, \n",
    "                                         at_destination_with_passenger_feature])\n",
    "    \n",
    "    phi_state_augmented = np.concatenate((phi_state_base, additional_task_features))\n",
    "    num_state_only_features_augmented = phi_state_augmented.shape[0] \n",
    "    \n",
    "    total_num_features = num_state_only_features_augmented * n_actions\n",
    "    final_interaction_features = np.zeros(total_num_features)\n",
    "    \n",
    "    start_idx = action * num_state_only_features_augmented\n",
    "    end_idx = start_idx + num_state_only_features_augmented\n",
    "    final_interaction_features[start_idx:end_idx] = phi_state_augmented\n",
    "    \n",
    "    return final_interaction_features\n",
    "\n",
    "# === Linear SARSA ===\n",
    "def linear_sarsa_augmented(env, alpha=0.001, gamma=0.99, \n",
    "                             epsilon_initial=0.5, epsilon_min=0.01, \n",
    "                             epsilon_decay_fraction=0.8, episodes_to_run=100000,\n",
    "                             initial_weights=None,\n",
    "                             initial_rewards_log=None, \n",
    "                             initial_dropoffs_log=None,\n",
    "                             start_episode_num=0):\n",
    "    n_actions = env.action_space.n\n",
    "    feature_vector_size = 222 \n",
    "\n",
    "    if initial_weights is not None:\n",
    "        print(f\"Loading initial weights (trained for {start_episode_num} episodes).\")\n",
    "        w = initial_weights\n",
    "        assert w.shape[0] == feature_vector_size, f\"Loaded weights shape {w.shape[0]} != expected {feature_vector_size}!\"\n",
    "    else:\n",
    "        print(f\"Initializing new weights for {feature_vector_size} features.\")\n",
    "        w = np.zeros(feature_vector_size) \n",
    "    \n",
    "    reward_per_episode = initial_rewards_log if initial_rewards_log is not None else []\n",
    "    dropoff_counts = initial_dropoffs_log if initial_dropoffs_log is not None else []\n",
    "    \n",
    "    # Epsilon decay calculation based on the *total* planned training span\n",
    "    total_overall_planned_episodes = start_episode_num + episodes_to_run\n",
    "    epsilon_decay_target_episodes = total_overall_planned_episodes * epsilon_decay_fraction\n",
    "    \n",
    "    print(f\"Training with augmented features for {episodes_to_run} more episodes. Alpha: {alpha}\")\n",
    "    print(f\"Epsilon will decay from {epsilon_initial} towards {epsilon_min}.\")\n",
    "    print(f\"Decay is targeted to complete around overall episode {epsilon_decay_target_episodes:.0f} (current total planned: {total_overall_planned_episodes}).\")\n",
    "\n",
    "    for ep_offset in tqdm(range(episodes_to_run), desc=\"Training SARSA (Augmented Features)\"):\n",
    "        current_true_episode_num = start_episode_num + ep_offset \n",
    "        state, _ = env.reset()\n",
    "        \n",
    "        # Refined Epsilon Calculation\n",
    "        if epsilon_decay_target_episodes > 0 and current_true_episode_num < epsilon_decay_target_episodes:\n",
    "            decay_rate_per_episode = (epsilon_initial - epsilon_min) / epsilon_decay_target_episodes\n",
    "            current_epsilon = epsilon_initial - current_true_episode_num * decay_rate_per_episode\n",
    "        else:\n",
    "            current_epsilon = epsilon_min\n",
    "        current_epsilon = max(epsilon_min, current_epsilon) \n",
    "        current_epsilon = min(epsilon_initial, current_epsilon) \n",
    "\n",
    "        if np.random.rand() < current_epsilon:\n",
    "            action = env.action_space.sample()\n",
    "        else:\n",
    "            q_vals = [w.dot(feature_extractor_interaction_augmented(state, a, n_actions)) for a in range(n_actions)]\n",
    "            action = int(np.argmax(q_vals))\n",
    "\n",
    "        current_episode_total_reward = 0\n",
    "        current_episode_dropoffs = 0\n",
    "        done = False\n",
    "        truncated = False\n",
    "        \n",
    "        for _step_count in range(200): \n",
    "            next_state, reward, done, truncated, _ = env.step(action)\n",
    "            if reward == 20: \n",
    "                current_episode_dropoffs += 1\n",
    "            \n",
    "            if np.random.rand() < current_epsilon:\n",
    "                next_action = env.action_space.sample()\n",
    "            else:\n",
    "                q_vals_next = [w.dot(feature_extractor_interaction_augmented(next_state, a, n_actions)) for a in range(n_actions)]\n",
    "                next_action = int(np.argmax(q_vals_next))\n",
    "\n",
    "            phi      = feature_extractor_interaction_augmented(state, action, n_actions)\n",
    "            phi_next = feature_extractor_interaction_augmented(next_state, next_action, n_actions)\n",
    "            q        = w.dot(phi)\n",
    "            q_next   = w.dot(phi_next)\n",
    "            \n",
    "            target = reward\n",
    "            if not done: \n",
    "                target += gamma * q_next\n",
    "            \n",
    "            delta = target - q \n",
    "            w += alpha * delta * phi\n",
    "\n",
    "            state, action = next_state, next_action\n",
    "            current_episode_total_reward += reward\n",
    "            \n",
    "            if done or truncated: \n",
    "                break\n",
    "        \n",
    "        reward_per_episode.append(current_episode_total_reward)\n",
    "        dropoff_counts.append(current_episode_dropoffs)\n",
    "        \n",
    "        if (ep_offset + 1) % (episodes_to_run // 100 if episodes_to_run >=100 else 1) == 0 or ep_offset == 0:\n",
    "            window_size = 100\n",
    "            avg_r_last_window = np.mean(reward_per_episode[-window_size:]) if len(reward_per_episode) >= window_size else (np.mean(reward_per_episode) if reward_per_episode else 0)\n",
    "            avg_d_last_window = np.mean(dropoff_counts[-window_size:]) if len(dropoff_counts) >= window_size else (np.mean(dropoff_counts) if dropoff_counts else 0)\n",
    "            print(f\"Overall Ep {current_true_episode_num+1}, Avg R (last {min(window_size, len(reward_per_episode))} ep): {avg_r_last_window:.2f}, Eps: {current_epsilon:.3f}, Drops (last {min(window_size, len(dropoff_counts))} ep): {avg_d_last_window:.2f}\")\n",
    "\n",
    "    return w, reward_per_episode, dropoff_counts\n",
    "\n",
    "# === Derive greedy policy ===\n",
    "def derive_policy_augmented(w, n_actions):\n",
    "    policy = np.zeros(500, dtype=int)\n",
    "    for s_idx in range(500):\n",
    "        q_vals = [w.dot(feature_extractor_interaction_augmented(s_idx, a, n_actions)) for a in range(n_actions)]\n",
    "        policy[s_idx] = int(np.argmax(q_vals))\n",
    "    return policy\n",
    "\n",
    "# === ASCII map drawing (Simple Version) ===\n",
    "def draw_custom_map(taxi_row, taxi_col, pass_loc_idx, dest_idx):\n",
    "    _ = pass_loc_idx \n",
    "    _ = dest_idx     \n",
    "    map_template = [\n",
    "        \"+---------+\", \"|R: | : :G|\", \"| : | : : |\", \"| : : : : |\",\n",
    "        \"| | : | : |\", \"|Y| : |B: |\", \"+---------+\"\n",
    "    ]\n",
    "    map_lines = [list(line) for line in map_template]\n",
    "    map_char_cols = [1, 3, 5, 7, 9] \n",
    "    if 0 <= taxi_row < 5 and 0 <= taxi_col < 5:\n",
    "        vis_row_idx = taxi_row + 1\n",
    "        vis_col_idx = map_char_cols[taxi_col]\n",
    "        map_lines[vis_row_idx][vis_col_idx] = \"T\"\n",
    "    return '\\n'.join(''.join(line) for line in map_lines)\n",
    "\n",
    "loc_names = {0: \"R (Red)\", 1: \"G (Green)\", 2: \"Y (Yellow)\", 3: \"B (Blue)\", 4: \"in Taxi\"}\n",
    "action_names = {0: \"South ↓\", 1: \"North ↑\", 2: \"East  →\", 3: \"West  ←\", 4: \"Pickup :)\", 5: \"Dropoff ⬇\"}\n",
    "\n",
    "if __name__ == \"__main__\":\n",
    "    env = gym.make(\"Taxi-v3\")\n",
    "\n",
    "    # --- Configuration ---\n",
    "    LOAD_PREVIOUS_STATE = True  # SET TO True TO CONTINUE, False TO START FRESH\n",
    "    # If LOAD_PREVIOUS_STATE is True, the script will try to load files matching this:\n",
    "    EXPECTED_PREVIOUS_EPISODE_COUNT = 300000 # UPDATE THIS to match your last saved k (e.g., 300 for 300k)\n",
    "    \n",
    "\n",
    "    STATE_BASE_FILENAME = \"taxi_sarsa_augmented\" \n",
    "    \n",
    "    # Hyperparameters\n",
    "    run_learning_rate = 0.001     \n",
    "    run_gamma = 0.99\n",
    "    run_epsilon_initial = 0.5    \n",
    "    run_epsilon_min = 0.01       \n",
    "    run_epsilon_decay_fraction = 0.8 \n",
    "\n",
    "    episodes_this_run = 400000      # How many episodes to run in THIS session (e.g., add 200k more)\n",
    "    # --- End Configuration ---\n",
    "\n",
    "    initial_w = None\n",
    "    rewards_log = []\n",
    "    dropoffs_log = []\n",
    "    previous_total_episodes_loaded = 0\n",
    "\n",
    "    if LOAD_PREVIOUS_STATE:\n",
    "        weights_file = f\"{STATE_BASE_FILENAME}_{EXPECTED_PREVIOUS_EPISODE_COUNT // 1000}k_weights.npy\"\n",
    "        rewards_file = f\"{STATE_BASE_FILENAME}_{EXPECTED_PREVIOUS_EPISODE_COUNT // 1000}k_rewards.npy\"\n",
    "        dropoffs_file = f\"{STATE_BASE_FILENAME}_{EXPECTED_PREVIOUS_EPISODE_COUNT // 1000}k_dropoffs.npy\"\n",
    "\n",
    "        if os.path.exists(weights_file):\n",
    "            print(f\"Attempting to load state from files starting with: {STATE_BASE_FILENAME}_{EXPECTED_PREVIOUS_EPISODE_COUNT // 1000}k\")\n",
    "            try:\n",
    "                initial_w = np.load(weights_file)\n",
    "                rewards_log = list(np.load(rewards_file)) \n",
    "                dropoffs_log = list(np.load(dropoffs_file)) \n",
    "                previous_total_episodes_loaded = EXPECTED_PREVIOUS_EPISODE_COUNT \n",
    "                print(f\"Successfully loaded weights and logs for {previous_total_episodes_loaded} episodes.\")\n",
    "            except Exception as e:\n",
    "                print(f\"Error loading files: {e}. Starting from scratch.\")\n",
    "                initial_w = None; rewards_log = []; dropoffs_log = []; previous_total_episodes_loaded = 0\n",
    "        else:\n",
    "            print(f\"Weight file {weights_file} not found. Starting from scratch.\")\n",
    "            initial_w = None; rewards_log = []; dropoffs_log = []; previous_total_episodes_loaded = 0\n",
    "    else:\n",
    "        print(\"LOAD_PREVIOUS_STATE is False. Starting training from scratch.\")\n",
    "        # previous_total_episodes_loaded remains 0\n",
    "\n",
    "    w_final, final_rewards_log, final_dropoffs_log = linear_sarsa_augmented(\n",
    "        env, \n",
    "        alpha=run_learning_rate,\n",
    "        gamma=run_gamma,\n",
    "        epsilon_initial=run_epsilon_initial, \n",
    "        epsilon_min=run_epsilon_min,\n",
    "        epsilon_decay_fraction=run_epsilon_decay_fraction,\n",
    "        episodes_to_run=episodes_this_run,\n",
    "        initial_weights=initial_w,\n",
    "        initial_rewards_log=rewards_log,\n",
    "        initial_dropoffs_log=dropoffs_log,\n",
    "        start_episode_num=previous_total_episodes_loaded\n",
    "    )\n",
    "    \n",
    "    current_total_episodes_trained = previous_total_episodes_loaded + episodes_this_run\n",
    "    \n",
    "    save_base_name = f\"{STATE_BASE_FILENAME}_{current_total_episodes_trained // 1000}k\"\n",
    "    np.save(f\"{save_base_name}_weights.npy\", w_final)\n",
    "    np.save(f\"{save_base_name}_rewards.npy\", np.array(final_rewards_log))\n",
    "    np.save(f\"{save_base_name}_dropoffs.npy\", np.array(final_dropoffs_log))\n",
    "    print(f\"Saved weights and logs to files starting with: {save_base_name}\")\n",
    "\n",
    "    policy_final = derive_policy_augmented(w_final, env.action_space.n)\n",
    "\n",
    "    plt.figure(figsize=(12, 6))\n",
    "    plt.suptitle(f\"SARSA with Augmented Interaction Features (Total Episodes: {current_total_episodes_trained})\", fontsize=14)\n",
    "    plt.subplot(1,2,1)\n",
    "    plot_smoothing_window = max(1, len(final_rewards_log) // 100 if len(final_rewards_log) > 100 else 50) \n",
    "    \n",
    "    x_episodes_rewards = np.arange(1, len(final_rewards_log) + 1)\n",
    "    if len(final_rewards_log) >= plot_smoothing_window:\n",
    "        smoothed_rewards = np.convolve(final_rewards_log, np.ones(plot_smoothing_window)/plot_smoothing_window, mode='valid')\n",
    "        x_smooth_rewards = x_episodes_rewards[plot_smoothing_window - 1:]\n",
    "        plt.plot(x_smooth_rewards, smoothed_rewards, label=f\"Smoothed (window {plot_smoothing_window})\")\n",
    "    plt.plot(x_episodes_rewards, final_rewards_log, alpha=0.3, label=\"Raw per Episode\")\n",
    "    plt.title(\"Total Reward per Episode\"); plt.xlabel(\"Overall Episode Number\"); plt.ylabel(\"Reward\")\n",
    "    plt.legend(); plt.grid(True)\n",
    "\n",
    "    plt.subplot(1,2,2)\n",
    "    x_episodes_drops = np.arange(1, len(final_dropoffs_log) + 1)\n",
    "    if len(final_dropoffs_log) >= plot_smoothing_window:\n",
    "        smoothed_drops = np.convolve(final_dropoffs_log, np.ones(plot_smoothing_window)/plot_smoothing_window, mode='valid')\n",
    "        x_smooth_drops = x_episodes_drops[plot_smoothing_window - 1:]\n",
    "        plt.plot(x_smooth_drops, smoothed_drops, label=f\"Smoothed (window {plot_smoothing_window})\")\n",
    "    plt.plot(x_episodes_drops, final_dropoffs_log, alpha=0.3, label=\"Raw per Episode\")\n",
    "    plt.title(\"Successful Dropoffs per Episode\"); plt.xlabel(\"Overall Episode Number\"); plt.ylabel(\"Dropoffs (0 or 1)\")\n",
    "    plt.legend(); plt.grid(True); plt.ylim(-0.1, 1.1)\n",
    "    plt.tight_layout(rect=[0, 0, 1, 0.96]); plt.show()\n",
    "\n",
    "    state, info = env.reset(seed=np.random.randint(0,10000)) # Different seed for each rollout visualization\n",
    "    rollout_done, rollout_truncated, rollout_step, rollout_total_r = False, False, 0, 0\n",
    "    max_rollout_steps = 50\n",
    "    print(f\"\\n=== Taxi-v3: SARSA Policy Rollout (Augmented Features, Alpha={run_learning_rate}, Total Eps Trained={current_total_episodes_trained}) ===\\n\")\n",
    "    \n",
    "    for _ in range(max_rollout_steps):\n",
    "        r, c, p_loc_idx, d_idx = decode_taxi_state(state)\n",
    "        print(draw_custom_map(r,c,p_loc_idx, d_idx))\n",
    "        print(f\"Step:        {rollout_step}\\nState ID:    {state} → (row={r}, col={c}, pass_loc='{loc_names[p_loc_idx]}', dest='{loc_names[d_idx]}')\")\n",
    "        print(\"Q-values for current state:\")\n",
    "        current_q_vals = []\n",
    "        for act_idx in range(env.action_space.n):\n",
    "            q_val_for_act = w_final.dot(feature_extractor_interaction_augmented(state, act_idx, env.action_space.n))\n",
    "            current_q_vals.append(q_val_for_act)\n",
    "            print(f\"  Action {action_names[act_idx]} ({act_idx}): {q_val_for_act:.2f}\")\n",
    "\n",
    "        action_to_take = policy_final[state]\n",
    "        chosen_q_val_display = current_q_vals[action_to_take]\n",
    "        print(f\"Chosen Action: {action_names[action_to_take]} ({action_to_take})  Q≈{chosen_q_val_display:.2f}\")\n",
    "        \n",
    "        next_state, reward, rollout_done, rollout_truncated, info = env.step(action_to_take)\n",
    "        rollout_total_r += reward\n",
    "        print(f\"Reward:      {reward:+d}\\n\" + \"-\"*32)\n",
    "        \n",
    "        state = next_state\n",
    "        rollout_step += 1\n",
    "        if rollout_done or rollout_truncated: break\n",
    "        time.sleep(0.3)\n",
    "    \n",
    "    r_f, c_f, p_loc_idx_f, d_idx_f = decode_taxi_state(state)\n",
    "    print(draw_custom_map(r_f, c_f, p_loc_idx_f, d_idx_f))\n",
    "    print(f\"Final State ID: {state} → (row={r_f}, col={c_f}, pass_loc='{loc_names[p_loc_idx_f]}', dest='{loc_names[d_idx_f]}')\")\n",
    "    if rollout_done: print(f\"\\nEpisode finished successfully in {rollout_step} steps, total reward {rollout_total_r}\\n\")\n",
    "    elif rollout_truncated : print(f\"\\nEpisode truncated at step {rollout_step} (max env steps), total reward {rollout_total_r}\\n\")\n",
    "    else: print(f\"\\nRollout stopped at step {rollout_step} (max display steps), total reward {rollout_total_r}\\n\")\n",
    "    env.close()"
   ]
  },
  {
   "cell_type": "markdown",
   "id": "9b4c1f5f",
   "metadata": {},
   "source": [
    "## Result of last step tax3-Linear SARSA_Final"
   ]
  },
  {
   "cell_type": "code",
   "execution_count": 5,
   "id": "f0f08d31",
   "metadata": {},
   "outputs": [
    {
     "name": "stdout",
     "output_type": "stream",
     "text": [
      "+---------+\n",
      "|R: | : :G|\n",
      "| : | : : |\n",
      "| : : : : |\n",
      "| | : | : |\n",
      "|T| : |B: |\n",
      "+---------+\n",
      "Final State ID: 410 → (row=4, col=0, pass_loc='Y (Yellow)', dest='Y (Yellow)')\n",
      "\n",
      "Episode finished successfully in 13 steps, total reward 8\n",
      "\n"
     ]
    }
   ],
   "source": [
    "\n",
    "print(draw_custom_map(r_f, c_f, p_loc_idx_f, d_idx_f))\n",
    "print(f\"Final State ID: {state} → (row={r_f}, col={c_f}, pass_loc='{loc_names[p_loc_idx_f]}', dest='{loc_names[d_idx_f]}')\")\n",
    "if rollout_done: print(f\"\\nEpisode finished successfully in {rollout_step} steps, total reward {rollout_total_r}\\n\")\n",
    "elif rollout_truncated : print(f\"\\nEpisode truncated at step {rollout_step} (max env steps), total reward {rollout_total_r}\\n\")\n",
    "else: print(f\"\\nRollout stopped at step {rollout_step} (max display steps), total reward {rollout_total_r}\\n\")\n",
    "env.close()"
   ]
  },
  {
   "cell_type": "code",
   "execution_count": null,
   "id": "e9a33f5f",
   "metadata": {},
   "outputs": [],
   "source": []
  },
  {
   "cell_type": "code",
   "execution_count": null,
   "id": "c9ad36cd",
   "metadata": {},
   "outputs": [],
   "source": []
  },
  {
   "cell_type": "code",
   "execution_count": null,
   "id": "196eddbb",
   "metadata": {},
   "outputs": [],
   "source": []
  }
 ],
 "metadata": {
  "kernelspec": {
   "display_name": "Python (GymEnv)",
   "language": "python",
   "name": "gymenv"
  },
  "language_info": {
   "codemirror_mode": {
    "name": "ipython",
    "version": 3
   },
   "file_extension": ".py",
   "mimetype": "text/x-python",
   "name": "python",
   "nbconvert_exporter": "python",
   "pygments_lexer": "ipython3",
   "version": "3.9.12"
  }
 },
 "nbformat": 4,
 "nbformat_minor": 5
}
