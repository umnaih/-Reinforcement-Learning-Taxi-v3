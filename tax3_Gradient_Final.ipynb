{
 "cells": [
  {
   "cell_type": "code",
   "execution_count": 1,
   "id": "d64647b2",
   "metadata": {},
   "outputs": [
    {
     "name": "stdout",
     "output_type": "stream",
     "text": [
      "Weight files not found for 300000 episodes. Starting fresh.\n",
      "Starting REINFORCE training from scratch.\n",
      "Initializing new actor weights.\n",
      "Initializing new critic weights.\n",
      "Training REINFORCE w/ Baseline for 200000 more episodes.\n",
      "Params: alpha_actor=5e-05, alpha_critic=0.001, gamma=0.99, normalize_adv=True, grad_clip=1.0\n"
     ]
    },
    {
     "name": "stderr",
     "output_type": "stream",
     "text": [
      "Training REINFORCE w/ Baseline:   0%|          | 1/200000 [00:00<6:33:19,  8.47it/s]"
     ]
    },
    {
     "name": "stdout",
     "output_type": "stream",
     "text": [
      "Overall Ep 1, Avg Rew (last 1): -767.00, Success (last 1): 0.00, Avg Sq Adv (last 1): 1.00\n"
     ]
    },
    {
     "name": "stderr",
     "output_type": "stream",
     "text": [
      "Training REINFORCE w/ Baseline:   1%|          | 2002/200000 [03:16<2:36:50, 21.04it/s] "
     ]
    },
    {
     "name": "stdout",
     "output_type": "stream",
     "text": [
      "Overall Ep 2000, Avg Rew (last 100): -737.84, Success (last 100): 0.02, Avg Sq Adv (last 100): 1.00\n"
     ]
    },
    {
     "name": "stderr",
     "output_type": "stream",
     "text": [
      "Training REINFORCE w/ Baseline:   2%|▏         | 4001/200000 [06:05<4:30:25, 12.08it/s] "
     ]
    },
    {
     "name": "stdout",
     "output_type": "stream",
     "text": [
      "Overall Ep 4000, Avg Rew (last 100): -713.36, Success (last 100): 0.03, Avg Sq Adv (last 100): 1.00\n"
     ]
    },
    {
     "name": "stderr",
     "output_type": "stream",
     "text": [
      "Training REINFORCE w/ Baseline:   3%|▎         | 6002/200000 [09:03<2:32:20, 21.22it/s] "
     ]
    },
    {
     "name": "stdout",
     "output_type": "stream",
     "text": [
      "Overall Ep 6000, Avg Rew (last 100): -668.81, Success (last 100): 0.05, Avg Sq Adv (last 100): 1.00\n"
     ]
    },
    {
     "name": "stderr",
     "output_type": "stream",
     "text": [
      "Training REINFORCE w/ Baseline:   4%|▍         | 8001/200000 [12:05<3:54:01, 13.67it/s]"
     ]
    },
    {
     "name": "stdout",
     "output_type": "stream",
     "text": [
      "Overall Ep 8000, Avg Rew (last 100): -629.70, Success (last 100): 0.02, Avg Sq Adv (last 100): 1.00\n"
     ]
    },
    {
     "name": "stderr",
     "output_type": "stream",
     "text": [
      "Training REINFORCE w/ Baseline:   5%|▌         | 10003/200000 [15:29<3:03:39, 17.24it/s]"
     ]
    },
    {
     "name": "stdout",
     "output_type": "stream",
     "text": [
      "Overall Ep 10000, Avg Rew (last 100): -580.70, Success (last 100): 0.07, Avg Sq Adv (last 100): 1.00\n"
     ]
    },
    {
     "name": "stderr",
     "output_type": "stream",
     "text": [
      "Training REINFORCE w/ Baseline:   6%|▌         | 12001/200000 [18:27<6:09:41,  8.48it/s]"
     ]
    },
    {
     "name": "stdout",
     "output_type": "stream",
     "text": [
      "Overall Ep 12000, Avg Rew (last 100): -570.19, Success (last 100): 0.06, Avg Sq Adv (last 100): 1.00\n"
     ]
    },
    {
     "name": "stderr",
     "output_type": "stream",
     "text": [
      "Training REINFORCE w/ Baseline:   7%|▋         | 14001/200000 [21:25<5:55:53,  8.71it/s]"
     ]
    },
    {
     "name": "stdout",
     "output_type": "stream",
     "text": [
      "Overall Ep 14000, Avg Rew (last 100): -536.26, Success (last 100): 0.05, Avg Sq Adv (last 100): 1.00\n"
     ]
    },
    {
     "name": "stderr",
     "output_type": "stream",
     "text": [
      "Training REINFORCE w/ Baseline:   8%|▊         | 16001/200000 [24:21<5:59:16,  8.54it/s]"
     ]
    },
    {
     "name": "stdout",
     "output_type": "stream",
     "text": [
      "Overall Ep 16000, Avg Rew (last 100): -489.88, Success (last 100): 0.07, Avg Sq Adv (last 100): 1.00\n"
     ]
    },
    {
     "name": "stderr",
     "output_type": "stream",
     "text": [
      "Training REINFORCE w/ Baseline:   9%|▉         | 18002/200000 [27:16<5:43:19,  8.84it/s]"
     ]
    },
    {
     "name": "stdout",
     "output_type": "stream",
     "text": [
      "Overall Ep 18000, Avg Rew (last 100): -469.13, Success (last 100): 0.07, Avg Sq Adv (last 100): 1.00\n"
     ]
    },
    {
     "name": "stderr",
     "output_type": "stream",
     "text": [
      "Training REINFORCE w/ Baseline:  10%|█         | 20003/200000 [30:11<3:01:40, 16.51it/s]"
     ]
    },
    {
     "name": "stdout",
     "output_type": "stream",
     "text": [
      "Overall Ep 20000, Avg Rew (last 100): -455.66, Success (last 100): 0.04, Avg Sq Adv (last 100): 1.00\n"
     ]
    },
    {
     "name": "stderr",
     "output_type": "stream",
     "text": [
      "Training REINFORCE w/ Baseline:  11%|█         | 22003/200000 [33:08<3:15:18, 15.19it/s]"
     ]
    },
    {
     "name": "stdout",
     "output_type": "stream",
     "text": [
      "Overall Ep 22000, Avg Rew (last 100): -437.44, Success (last 100): 0.03, Avg Sq Adv (last 100): 1.00\n"
     ]
    },
    {
     "name": "stderr",
     "output_type": "stream",
     "text": [
      "Training REINFORCE w/ Baseline:  12%|█▏        | 24001/200000 [36:02<5:29:08,  8.91it/s]"
     ]
    },
    {
     "name": "stdout",
     "output_type": "stream",
     "text": [
      "Overall Ep 24000, Avg Rew (last 100): -410.95, Success (last 100): 0.05, Avg Sq Adv (last 100): 1.00\n"
     ]
    },
    {
     "name": "stderr",
     "output_type": "stream",
     "text": [
      "Training REINFORCE w/ Baseline:  13%|█▎        | 26001/200000 [38:56<5:07:44,  9.42it/s]"
     ]
    },
    {
     "name": "stdout",
     "output_type": "stream",
     "text": [
      "Overall Ep 26000, Avg Rew (last 100): -382.37, Success (last 100): 0.11, Avg Sq Adv (last 100): 1.00\n"
     ]
    },
    {
     "name": "stderr",
     "output_type": "stream",
     "text": [
      "Training REINFORCE w/ Baseline:  14%|█▍        | 28002/200000 [41:50<2:55:21, 16.35it/s]"
     ]
    },
    {
     "name": "stdout",
     "output_type": "stream",
     "text": [
      "Overall Ep 28000, Avg Rew (last 100): -364.93, Success (last 100): 0.09, Avg Sq Adv (last 100): 1.00\n"
     ]
    },
    {
     "name": "stderr",
     "output_type": "stream",
     "text": [
      "Training REINFORCE w/ Baseline:  15%|█▌        | 30000/200000 [44:43<4:47:36,  9.85it/s]"
     ]
    },
    {
     "name": "stdout",
     "output_type": "stream",
     "text": [
      "Overall Ep 30000, Avg Rew (last 100): -347.30, Success (last 100): 0.10, Avg Sq Adv (last 100): 1.00\n"
     ]
    },
    {
     "name": "stderr",
     "output_type": "stream",
     "text": [
      "Training REINFORCE w/ Baseline:  16%|█▌        | 32001/200000 [47:36<4:58:42,  9.37it/s]"
     ]
    },
    {
     "name": "stdout",
     "output_type": "stream",
     "text": [
      "Overall Ep 32000, Avg Rew (last 100): -340.73, Success (last 100): 0.08, Avg Sq Adv (last 100): 1.00\n"
     ]
    },
    {
     "name": "stderr",
     "output_type": "stream",
     "text": [
      "Training REINFORCE w/ Baseline:  17%|█▋        | 34001/200000 [50:33<5:05:03,  9.07it/s] "
     ]
    },
    {
     "name": "stdout",
     "output_type": "stream",
     "text": [
      "Overall Ep 34000, Avg Rew (last 100): -322.65, Success (last 100): 0.06, Avg Sq Adv (last 100): 1.00\n"
     ]
    },
    {
     "name": "stderr",
     "output_type": "stream",
     "text": [
      "Training REINFORCE w/ Baseline:  18%|█▊        | 36001/200000 [53:33<5:04:48,  8.97it/s]"
     ]
    },
    {
     "name": "stdout",
     "output_type": "stream",
     "text": [
      "Overall Ep 36000, Avg Rew (last 100): -299.23, Success (last 100): 0.15, Avg Sq Adv (last 100): 1.00\n"
     ]
    },
    {
     "name": "stderr",
     "output_type": "stream",
     "text": [
      "Training REINFORCE w/ Baseline:  19%|█▉        | 38001/200000 [56:36<5:30:17,  8.17it/s]"
     ]
    },
    {
     "name": "stdout",
     "output_type": "stream",
     "text": [
      "Overall Ep 38000, Avg Rew (last 100): -303.88, Success (last 100): 0.11, Avg Sq Adv (last 100): 1.00\n"
     ]
    },
    {
     "name": "stderr",
     "output_type": "stream",
     "text": [
      "Training REINFORCE w/ Baseline:  20%|██        | 40002/200000 [59:37<4:06:59, 10.80it/s]"
     ]
    },
    {
     "name": "stdout",
     "output_type": "stream",
     "text": [
      "Overall Ep 40000, Avg Rew (last 100): -284.09, Success (last 100): 0.15, Avg Sq Adv (last 100): 1.00\n"
     ]
    },
    {
     "name": "stderr",
     "output_type": "stream",
     "text": [
      "Training REINFORCE w/ Baseline:  21%|██        | 42001/200000 [1:02:36<4:37:00,  9.51it/s]"
     ]
    },
    {
     "name": "stdout",
     "output_type": "stream",
     "text": [
      "Overall Ep 42000, Avg Rew (last 100): -268.91, Success (last 100): 0.13, Avg Sq Adv (last 100): 1.00\n"
     ]
    },
    {
     "name": "stderr",
     "output_type": "stream",
     "text": [
      "Training REINFORCE w/ Baseline:  22%|██▏       | 44001/200000 [1:05:34<4:23:56,  9.85it/s]"
     ]
    },
    {
     "name": "stdout",
     "output_type": "stream",
     "text": [
      "Overall Ep 44000, Avg Rew (last 100): -287.31, Success (last 100): 0.09, Avg Sq Adv (last 100): 1.00\n"
     ]
    },
    {
     "name": "stderr",
     "output_type": "stream",
     "text": [
      "Training REINFORCE w/ Baseline:  23%|██▎       | 46001/200000 [1:08:30<4:29:26,  9.53it/s]"
     ]
    },
    {
     "name": "stdout",
     "output_type": "stream",
     "text": [
      "Overall Ep 46000, Avg Rew (last 100): -267.42, Success (last 100): 0.15, Avg Sq Adv (last 100): 1.00\n"
     ]
    },
    {
     "name": "stderr",
     "output_type": "stream",
     "text": [
      "Training REINFORCE w/ Baseline:  24%|██▍       | 48002/200000 [1:11:27<2:08:56, 19.65it/s]"
     ]
    },
    {
     "name": "stdout",
     "output_type": "stream",
     "text": [
      "Overall Ep 48000, Avg Rew (last 100): -249.04, Success (last 100): 0.15, Avg Sq Adv (last 100): 1.00\n"
     ]
    },
    {
     "name": "stderr",
     "output_type": "stream",
     "text": [
      "Training REINFORCE w/ Baseline:  25%|██▌       | 50001/200000 [1:14:25<2:40:48, 15.55it/s]"
     ]
    },
    {
     "name": "stdout",
     "output_type": "stream",
     "text": [
      "Overall Ep 50000, Avg Rew (last 100): -247.69, Success (last 100): 0.15, Avg Sq Adv (last 100): 1.00\n"
     ]
    },
    {
     "name": "stderr",
     "output_type": "stream",
     "text": [
      "Training REINFORCE w/ Baseline:  26%|██▌       | 52001/200000 [1:17:22<4:26:39,  9.25it/s]"
     ]
    },
    {
     "name": "stdout",
     "output_type": "stream",
     "text": [
      "Overall Ep 52000, Avg Rew (last 100): -241.98, Success (last 100): 0.15, Avg Sq Adv (last 100): 1.00\n"
     ]
    },
    {
     "name": "stderr",
     "output_type": "stream",
     "text": [
      "Training REINFORCE w/ Baseline:  27%|██▋       | 54001/200000 [1:20:16<4:34:11,  8.87it/s]"
     ]
    },
    {
     "name": "stdout",
     "output_type": "stream",
     "text": [
      "Overall Ep 54000, Avg Rew (last 100): -256.17, Success (last 100): 0.08, Avg Sq Adv (last 100): 1.00\n"
     ]
    },
    {
     "name": "stderr",
     "output_type": "stream",
     "text": [
      "Training REINFORCE w/ Baseline:  28%|██▊       | 56001/200000 [1:23:09<4:17:35,  9.32it/s]"
     ]
    },
    {
     "name": "stdout",
     "output_type": "stream",
     "text": [
      "Overall Ep 56000, Avg Rew (last 100): -246.64, Success (last 100): 0.11, Avg Sq Adv (last 100): 1.00\n"
     ]
    },
    {
     "name": "stderr",
     "output_type": "stream",
     "text": [
      "Training REINFORCE w/ Baseline:  29%|██▉       | 58001/200000 [1:26:03<4:08:25,  9.53it/s]"
     ]
    },
    {
     "name": "stdout",
     "output_type": "stream",
     "text": [
      "Overall Ep 58000, Avg Rew (last 100): -244.85, Success (last 100): 0.09, Avg Sq Adv (last 100): 1.00\n"
     ]
    },
    {
     "name": "stderr",
     "output_type": "stream",
     "text": [
      "Training REINFORCE w/ Baseline:  30%|███       | 60003/200000 [1:28:56<2:08:20, 18.18it/s]"
     ]
    },
    {
     "name": "stdout",
     "output_type": "stream",
     "text": [
      "Overall Ep 60000, Avg Rew (last 100): -228.05, Success (last 100): 0.15, Avg Sq Adv (last 100): 1.00\n"
     ]
    },
    {
     "name": "stderr",
     "output_type": "stream",
     "text": [
      "Training REINFORCE w/ Baseline:  31%|███       | 62003/200000 [1:31:51<3:10:24, 12.08it/s]"
     ]
    },
    {
     "name": "stdout",
     "output_type": "stream",
     "text": [
      "Overall Ep 62000, Avg Rew (last 100): -222.75, Success (last 100): 0.23, Avg Sq Adv (last 100): 1.00\n"
     ]
    },
    {
     "name": "stderr",
     "output_type": "stream",
     "text": [
      "Training REINFORCE w/ Baseline:  32%|███▏      | 64000/200000 [1:34:42<3:42:01, 10.21it/s]"
     ]
    },
    {
     "name": "stdout",
     "output_type": "stream",
     "text": [
      "Overall Ep 64000, Avg Rew (last 100): -223.39, Success (last 100): 0.19, Avg Sq Adv (last 100): 1.00\n"
     ]
    },
    {
     "name": "stderr",
     "output_type": "stream",
     "text": [
      "Training REINFORCE w/ Baseline:  33%|███▎      | 66002/200000 [1:37:33<3:43:54,  9.97it/s]"
     ]
    },
    {
     "name": "stdout",
     "output_type": "stream",
     "text": [
      "Overall Ep 66000, Avg Rew (last 100): -230.32, Success (last 100): 0.12, Avg Sq Adv (last 100): 1.00\n"
     ]
    },
    {
     "name": "stderr",
     "output_type": "stream",
     "text": [
      "Training REINFORCE w/ Baseline:  34%|███▍      | 68002/200000 [1:40:26<1:55:08, 19.11it/s]"
     ]
    },
    {
     "name": "stdout",
     "output_type": "stream",
     "text": [
      "Overall Ep 68000, Avg Rew (last 100): -219.78, Success (last 100): 0.18, Avg Sq Adv (last 100): 1.00\n"
     ]
    },
    {
     "name": "stderr",
     "output_type": "stream",
     "text": [
      "Training REINFORCE w/ Baseline:  35%|███▌      | 70001/200000 [1:43:17<4:21:03,  8.30it/s]"
     ]
    },
    {
     "name": "stdout",
     "output_type": "stream",
     "text": [
      "Overall Ep 70000, Avg Rew (last 100): -212.58, Success (last 100): 0.20, Avg Sq Adv (last 100): 1.00\n"
     ]
    },
    {
     "name": "stderr",
     "output_type": "stream",
     "text": [
      "Training REINFORCE w/ Baseline:  36%|███▌      | 72003/200000 [1:46:06<1:56:06, 18.37it/s]"
     ]
    },
    {
     "name": "stdout",
     "output_type": "stream",
     "text": [
      "Overall Ep 72000, Avg Rew (last 100): -208.69, Success (last 100): 0.28, Avg Sq Adv (last 100): 1.00\n"
     ]
    },
    {
     "name": "stderr",
     "output_type": "stream",
     "text": [
      "Training REINFORCE w/ Baseline:  37%|███▋      | 74002/200000 [1:48:59<1:51:34, 18.82it/s]"
     ]
    },
    {
     "name": "stdout",
     "output_type": "stream",
     "text": [
      "Overall Ep 74000, Avg Rew (last 100): -226.76, Success (last 100): 0.11, Avg Sq Adv (last 100): 1.00\n"
     ]
    },
    {
     "name": "stderr",
     "output_type": "stream",
     "text": [
      "Training REINFORCE w/ Baseline:  38%|███▊      | 76001/200000 [1:51:48<3:52:26,  8.89it/s]"
     ]
    },
    {
     "name": "stdout",
     "output_type": "stream",
     "text": [
      "Overall Ep 76000, Avg Rew (last 100): -210.44, Success (last 100): 0.20, Avg Sq Adv (last 100): 1.00\n"
     ]
    },
    {
     "name": "stderr",
     "output_type": "stream",
     "text": [
      "Training REINFORCE w/ Baseline:  39%|███▉      | 78002/200000 [1:54:36<1:50:21, 18.43it/s]"
     ]
    },
    {
     "name": "stdout",
     "output_type": "stream",
     "text": [
      "Overall Ep 78000, Avg Rew (last 100): -221.56, Success (last 100): 0.15, Avg Sq Adv (last 100): 1.00\n"
     ]
    },
    {
     "name": "stderr",
     "output_type": "stream",
     "text": [
      "Training REINFORCE w/ Baseline:  40%|████      | 80001/200000 [1:57:28<3:21:02,  9.95it/s]"
     ]
    },
    {
     "name": "stdout",
     "output_type": "stream",
     "text": [
      "Overall Ep 80000, Avg Rew (last 100): -213.76, Success (last 100): 0.16, Avg Sq Adv (last 100): 1.00\n"
     ]
    },
    {
     "name": "stderr",
     "output_type": "stream",
     "text": [
      "Training REINFORCE w/ Baseline:  41%|████      | 82000/200000 [2:00:13<2:05:19, 15.69it/s]"
     ]
    },
    {
     "name": "stdout",
     "output_type": "stream",
     "text": [
      "Overall Ep 82000, Avg Rew (last 100): -222.16, Success (last 100): 0.07, Avg Sq Adv (last 100): 1.00\n"
     ]
    },
    {
     "name": "stderr",
     "output_type": "stream",
     "text": [
      "Training REINFORCE w/ Baseline:  42%|████▏     | 84002/200000 [2:03:04<1:41:39, 19.02it/s]"
     ]
    },
    {
     "name": "stdout",
     "output_type": "stream",
     "text": [
      "Overall Ep 84000, Avg Rew (last 100): -211.31, Success (last 100): 0.18, Avg Sq Adv (last 100): 1.00\n"
     ]
    },
    {
     "name": "stderr",
     "output_type": "stream",
     "text": [
      "Training REINFORCE w/ Baseline:  43%|████▎     | 86001/200000 [2:05:53<2:56:45, 10.75it/s]"
     ]
    },
    {
     "name": "stdout",
     "output_type": "stream",
     "text": [
      "Overall Ep 86000, Avg Rew (last 100): -203.23, Success (last 100): 0.21, Avg Sq Adv (last 100): 1.00\n"
     ]
    },
    {
     "name": "stderr",
     "output_type": "stream",
     "text": [
      "Training REINFORCE w/ Baseline:  44%|████▍     | 88002/200000 [2:08:37<1:33:51, 19.89it/s]"
     ]
    },
    {
     "name": "stdout",
     "output_type": "stream",
     "text": [
      "Overall Ep 88000, Avg Rew (last 100): -204.75, Success (last 100): 0.21, Avg Sq Adv (last 100): 1.00\n"
     ]
    },
    {
     "name": "stderr",
     "output_type": "stream",
     "text": [
      "Training REINFORCE w/ Baseline:  45%|████▌     | 90001/200000 [2:11:26<2:45:23, 11.08it/s]"
     ]
    },
    {
     "name": "stdout",
     "output_type": "stream",
     "text": [
      "Overall Ep 90000, Avg Rew (last 100): -207.62, Success (last 100): 0.16, Avg Sq Adv (last 100): 1.00\n"
     ]
    },
    {
     "name": "stderr",
     "output_type": "stream",
     "text": [
      "Training REINFORCE w/ Baseline:  46%|████▌     | 92001/200000 [2:14:10<3:08:02,  9.57it/s]"
     ]
    },
    {
     "name": "stdout",
     "output_type": "stream",
     "text": [
      "Overall Ep 92000, Avg Rew (last 100): -199.02, Success (last 100): 0.16, Avg Sq Adv (last 100): 1.00\n"
     ]
    },
    {
     "name": "stderr",
     "output_type": "stream",
     "text": [
      "Training REINFORCE w/ Baseline:  47%|████▋     | 94004/200000 [2:16:58<1:34:54, 18.61it/s]"
     ]
    },
    {
     "name": "stdout",
     "output_type": "stream",
     "text": [
      "Overall Ep 94000, Avg Rew (last 100): -206.68, Success (last 100): 0.18, Avg Sq Adv (last 100): 1.00\n"
     ]
    },
    {
     "name": "stderr",
     "output_type": "stream",
     "text": [
      "Training REINFORCE w/ Baseline:  48%|████▊     | 96001/200000 [2:19:41<2:35:51, 11.12it/s]"
     ]
    },
    {
     "name": "stdout",
     "output_type": "stream",
     "text": [
      "Overall Ep 96000, Avg Rew (last 100): -197.31, Success (last 100): 0.19, Avg Sq Adv (last 100): 1.00\n"
     ]
    },
    {
     "name": "stderr",
     "output_type": "stream",
     "text": [
      "Training REINFORCE w/ Baseline:  49%|████▉     | 98002/200000 [2:22:29<1:52:51, 15.06it/s]"
     ]
    },
    {
     "name": "stdout",
     "output_type": "stream",
     "text": [
      "Overall Ep 98000, Avg Rew (last 100): -207.28, Success (last 100): 0.16, Avg Sq Adv (last 100): 1.00\n"
     ]
    },
    {
     "name": "stderr",
     "output_type": "stream",
     "text": [
      "Training REINFORCE w/ Baseline:  50%|█████     | 100003/200000 [2:25:13<1:27:00, 19.16it/s]"
     ]
    },
    {
     "name": "stdout",
     "output_type": "stream",
     "text": [
      "Overall Ep 100000, Avg Rew (last 100): -192.45, Success (last 100): 0.26, Avg Sq Adv (last 100): 1.00\n"
     ]
    },
    {
     "name": "stderr",
     "output_type": "stream",
     "text": [
      "Training REINFORCE w/ Baseline:  51%|█████     | 102002/200000 [2:27:57<2:21:07, 11.57it/s]"
     ]
    },
    {
     "name": "stdout",
     "output_type": "stream",
     "text": [
      "Overall Ep 102000, Avg Rew (last 100): -186.62, Success (last 100): 0.27, Avg Sq Adv (last 100): 1.00\n"
     ]
    },
    {
     "name": "stderr",
     "output_type": "stream",
     "text": [
      "Training REINFORCE w/ Baseline:  52%|█████▏    | 104002/200000 [2:30:40<1:32:58, 17.21it/s]"
     ]
    },
    {
     "name": "stdout",
     "output_type": "stream",
     "text": [
      "Overall Ep 104000, Avg Rew (last 100): -203.52, Success (last 100): 0.17, Avg Sq Adv (last 100): 1.00\n"
     ]
    },
    {
     "name": "stderr",
     "output_type": "stream",
     "text": [
      "Training REINFORCE w/ Baseline:  53%|█████▎    | 106000/200000 [2:33:25<3:07:32,  8.35it/s]"
     ]
    },
    {
     "name": "stdout",
     "output_type": "stream",
     "text": [
      "Overall Ep 106000, Avg Rew (last 100): -205.13, Success (last 100): 0.15, Avg Sq Adv (last 100): 1.00\n"
     ]
    },
    {
     "name": "stderr",
     "output_type": "stream",
     "text": [
      "Training REINFORCE w/ Baseline:  54%|█████▍    | 108003/200000 [2:36:08<1:20:16, 19.10it/s]"
     ]
    },
    {
     "name": "stdout",
     "output_type": "stream",
     "text": [
      "Overall Ep 108000, Avg Rew (last 100): -201.43, Success (last 100): 0.14, Avg Sq Adv (last 100): 1.00\n"
     ]
    },
    {
     "name": "stderr",
     "output_type": "stream",
     "text": [
      "Training REINFORCE w/ Baseline:  55%|█████▌    | 110001/200000 [2:38:50<2:18:22, 10.84it/s]"
     ]
    },
    {
     "name": "stdout",
     "output_type": "stream",
     "text": [
      "Overall Ep 110000, Avg Rew (last 100): -197.65, Success (last 100): 0.17, Avg Sq Adv (last 100): 1.00\n"
     ]
    },
    {
     "name": "stderr",
     "output_type": "stream",
     "text": [
      "Training REINFORCE w/ Baseline:  56%|█████▌    | 112004/200000 [2:41:33<1:00:12, 24.36it/s]"
     ]
    },
    {
     "name": "stdout",
     "output_type": "stream",
     "text": [
      "Overall Ep 112000, Avg Rew (last 100): -188.30, Success (last 100): 0.24, Avg Sq Adv (last 100): 1.00\n"
     ]
    },
    {
     "name": "stderr",
     "output_type": "stream",
     "text": [
      "Training REINFORCE w/ Baseline:  57%|█████▋    | 114002/200000 [2:44:13<1:13:49, 19.42it/s]"
     ]
    },
    {
     "name": "stdout",
     "output_type": "stream",
     "text": [
      "Overall Ep 114000, Avg Rew (last 100): -205.07, Success (last 100): 0.14, Avg Sq Adv (last 100): 1.00\n"
     ]
    },
    {
     "name": "stderr",
     "output_type": "stream",
     "text": [
      "Training REINFORCE w/ Baseline:  58%|█████▊    | 116001/200000 [2:46:56<2:13:47, 10.46it/s]"
     ]
    },
    {
     "name": "stdout",
     "output_type": "stream",
     "text": [
      "Overall Ep 116000, Avg Rew (last 100): -187.99, Success (last 100): 0.25, Avg Sq Adv (last 100): 1.00\n"
     ]
    },
    {
     "name": "stderr",
     "output_type": "stream",
     "text": [
      "Training REINFORCE w/ Baseline:  59%|█████▉    | 118002/200000 [2:49:37<1:21:26, 16.78it/s]"
     ]
    },
    {
     "name": "stdout",
     "output_type": "stream",
     "text": [
      "Overall Ep 118000, Avg Rew (last 100): -184.65, Success (last 100): 0.22, Avg Sq Adv (last 100): 1.00\n"
     ]
    },
    {
     "name": "stderr",
     "output_type": "stream",
     "text": [
      "Training REINFORCE w/ Baseline:  60%|██████    | 120001/200000 [2:52:19<2:27:54,  9.01it/s]"
     ]
    },
    {
     "name": "stdout",
     "output_type": "stream",
     "text": [
      "Overall Ep 120000, Avg Rew (last 100): -193.77, Success (last 100): 0.16, Avg Sq Adv (last 100): 1.00\n"
     ]
    },
    {
     "name": "stderr",
     "output_type": "stream",
     "text": [
      "Training REINFORCE w/ Baseline:  61%|██████    | 122001/200000 [2:55:04<2:38:01,  8.23it/s]"
     ]
    },
    {
     "name": "stdout",
     "output_type": "stream",
     "text": [
      "Overall Ep 122000, Avg Rew (last 100): -193.66, Success (last 100): 0.19, Avg Sq Adv (last 100): 1.00\n"
     ]
    },
    {
     "name": "stderr",
     "output_type": "stream",
     "text": [
      "Training REINFORCE w/ Baseline:  62%|██████▏   | 124003/200000 [2:57:44<1:11:49, 17.63it/s]"
     ]
    },
    {
     "name": "stdout",
     "output_type": "stream",
     "text": [
      "Overall Ep 124000, Avg Rew (last 100): -200.20, Success (last 100): 0.14, Avg Sq Adv (last 100): 1.00\n"
     ]
    },
    {
     "name": "stderr",
     "output_type": "stream",
     "text": [
      "Training REINFORCE w/ Baseline:  63%|██████▎   | 126002/200000 [3:00:21<2:04:22,  9.92it/s]"
     ]
    },
    {
     "name": "stdout",
     "output_type": "stream",
     "text": [
      "Overall Ep 126000, Avg Rew (last 100): -178.86, Success (last 100): 0.23, Avg Sq Adv (last 100): 1.00\n"
     ]
    },
    {
     "name": "stderr",
     "output_type": "stream",
     "text": [
      "Training REINFORCE w/ Baseline:  64%|██████▍   | 128001/200000 [3:03:00<1:52:40, 10.65it/s]"
     ]
    },
    {
     "name": "stdout",
     "output_type": "stream",
     "text": [
      "Overall Ep 128000, Avg Rew (last 100): -183.21, Success (last 100): 0.24, Avg Sq Adv (last 100): 1.00\n"
     ]
    },
    {
     "name": "stderr",
     "output_type": "stream",
     "text": [
      "Training REINFORCE w/ Baseline:  65%|██████▌   | 130001/200000 [3:05:39<1:55:28, 10.10it/s]"
     ]
    },
    {
     "name": "stdout",
     "output_type": "stream",
     "text": [
      "Overall Ep 130000, Avg Rew (last 100): -177.22, Success (last 100): 0.27, Avg Sq Adv (last 100): 1.00\n"
     ]
    },
    {
     "name": "stderr",
     "output_type": "stream",
     "text": [
      "Training REINFORCE w/ Baseline:  66%|██████▌   | 132001/200000 [3:08:20<1:48:10, 10.48it/s]"
     ]
    },
    {
     "name": "stdout",
     "output_type": "stream",
     "text": [
      "Overall Ep 132000, Avg Rew (last 100): -193.39, Success (last 100): 0.16, Avg Sq Adv (last 100): 1.00\n"
     ]
    },
    {
     "name": "stderr",
     "output_type": "stream",
     "text": [
      "Training REINFORCE w/ Baseline:  67%|██████▋   | 134002/200000 [3:11:06<1:26:29, 12.72it/s]"
     ]
    },
    {
     "name": "stdout",
     "output_type": "stream",
     "text": [
      "Overall Ep 134000, Avg Rew (last 100): -176.38, Success (last 100): 0.29, Avg Sq Adv (last 100): 1.00\n"
     ]
    },
    {
     "name": "stderr",
     "output_type": "stream",
     "text": [
      "Training REINFORCE w/ Baseline:  68%|██████▊   | 136004/200000 [3:13:47<51:19, 20.78it/s]  "
     ]
    },
    {
     "name": "stdout",
     "output_type": "stream",
     "text": [
      "Overall Ep 136000, Avg Rew (last 100): -193.39, Success (last 100): 0.17, Avg Sq Adv (last 100): 1.00\n"
     ]
    },
    {
     "name": "stderr",
     "output_type": "stream",
     "text": [
      "Training REINFORCE w/ Baseline:  69%|██████▉   | 138002/200000 [3:16:32<54:44, 18.88it/s]  "
     ]
    },
    {
     "name": "stdout",
     "output_type": "stream",
     "text": [
      "Overall Ep 138000, Avg Rew (last 100): -177.10, Success (last 100): 0.26, Avg Sq Adv (last 100): 1.00\n"
     ]
    },
    {
     "name": "stderr",
     "output_type": "stream",
     "text": [
      "Training REINFORCE w/ Baseline:  70%|███████   | 140002/200000 [3:19:12<1:09:48, 14.32it/s]"
     ]
    },
    {
     "name": "stdout",
     "output_type": "stream",
     "text": [
      "Overall Ep 140000, Avg Rew (last 100): -179.82, Success (last 100): 0.24, Avg Sq Adv (last 100): 1.00\n"
     ]
    },
    {
     "name": "stderr",
     "output_type": "stream",
     "text": [
      "Training REINFORCE w/ Baseline:  71%|███████   | 142001/200000 [3:21:55<1:56:55,  8.27it/s]"
     ]
    },
    {
     "name": "stdout",
     "output_type": "stream",
     "text": [
      "Overall Ep 142000, Avg Rew (last 100): -175.55, Success (last 100): 0.25, Avg Sq Adv (last 100): 1.00\n"
     ]
    },
    {
     "name": "stderr",
     "output_type": "stream",
     "text": [
      "Training REINFORCE w/ Baseline:  72%|███████▏  | 144002/200000 [3:24:34<58:30, 15.95it/s]  "
     ]
    },
    {
     "name": "stdout",
     "output_type": "stream",
     "text": [
      "Overall Ep 144000, Avg Rew (last 100): -190.96, Success (last 100): 0.17, Avg Sq Adv (last 100): 1.00\n"
     ]
    },
    {
     "name": "stderr",
     "output_type": "stream",
     "text": [
      "Training REINFORCE w/ Baseline:  73%|███████▎  | 146001/200000 [3:27:14<1:06:14, 13.58it/s]"
     ]
    },
    {
     "name": "stdout",
     "output_type": "stream",
     "text": [
      "Overall Ep 146000, Avg Rew (last 100): -183.52, Success (last 100): 0.22, Avg Sq Adv (last 100): 1.00\n"
     ]
    },
    {
     "name": "stderr",
     "output_type": "stream",
     "text": [
      "Training REINFORCE w/ Baseline:  74%|███████▍  | 148002/200000 [3:29:47<35:08, 24.66it/s]  "
     ]
    },
    {
     "name": "stdout",
     "output_type": "stream",
     "text": [
      "Overall Ep 148000, Avg Rew (last 100): -182.63, Success (last 100): 0.23, Avg Sq Adv (last 100): 1.00\n"
     ]
    },
    {
     "name": "stderr",
     "output_type": "stream",
     "text": [
      "Training REINFORCE w/ Baseline:  75%|███████▌  | 150001/200000 [3:32:23<1:28:58,  9.37it/s]"
     ]
    },
    {
     "name": "stdout",
     "output_type": "stream",
     "text": [
      "Overall Ep 150000, Avg Rew (last 100): -183.51, Success (last 100): 0.19, Avg Sq Adv (last 100): 1.00\n"
     ]
    },
    {
     "name": "stderr",
     "output_type": "stream",
     "text": [
      "Training REINFORCE w/ Baseline:  76%|███████▌  | 152002/200000 [3:34:54<1:10:03, 11.42it/s]"
     ]
    },
    {
     "name": "stdout",
     "output_type": "stream",
     "text": [
      "Overall Ep 152000, Avg Rew (last 100): -187.83, Success (last 100): 0.18, Avg Sq Adv (last 100): 1.00\n"
     ]
    },
    {
     "name": "stderr",
     "output_type": "stream",
     "text": [
      "Training REINFORCE w/ Baseline:  77%|███████▋  | 154003/200000 [3:37:29<39:11, 19.56it/s]  "
     ]
    },
    {
     "name": "stdout",
     "output_type": "stream",
     "text": [
      "Overall Ep 154000, Avg Rew (last 100): -185.27, Success (last 100): 0.17, Avg Sq Adv (last 100): 1.00\n"
     ]
    },
    {
     "name": "stderr",
     "output_type": "stream",
     "text": [
      "Training REINFORCE w/ Baseline:  78%|███████▊  | 156001/200000 [3:40:04<1:29:32,  8.19it/s]"
     ]
    },
    {
     "name": "stdout",
     "output_type": "stream",
     "text": [
      "Overall Ep 156000, Avg Rew (last 100): -189.24, Success (last 100): 0.20, Avg Sq Adv (last 100): 1.00\n"
     ]
    },
    {
     "name": "stderr",
     "output_type": "stream",
     "text": [
      "Training REINFORCE w/ Baseline:  79%|███████▉  | 158001/200000 [3:42:41<1:14:47,  9.36it/s]"
     ]
    },
    {
     "name": "stdout",
     "output_type": "stream",
     "text": [
      "Overall Ep 158000, Avg Rew (last 100): -184.84, Success (last 100): 0.17, Avg Sq Adv (last 100): 1.00\n"
     ]
    },
    {
     "name": "stderr",
     "output_type": "stream",
     "text": [
      "Training REINFORCE w/ Baseline:  80%|████████  | 160001/200000 [3:45:18<59:27, 11.21it/s]  "
     ]
    },
    {
     "name": "stdout",
     "output_type": "stream",
     "text": [
      "Overall Ep 160000, Avg Rew (last 100): -179.98, Success (last 100): 0.22, Avg Sq Adv (last 100): 1.00\n"
     ]
    },
    {
     "name": "stderr",
     "output_type": "stream",
     "text": [
      "Training REINFORCE w/ Baseline:  81%|████████  | 162002/200000 [3:47:56<26:45, 23.67it/s]  "
     ]
    },
    {
     "name": "stdout",
     "output_type": "stream",
     "text": [
      "Overall Ep 162000, Avg Rew (last 100): -178.99, Success (last 100): 0.23, Avg Sq Adv (last 100): 1.00\n"
     ]
    },
    {
     "name": "stderr",
     "output_type": "stream",
     "text": [
      "Training REINFORCE w/ Baseline:  82%|████████▏ | 164002/200000 [3:50:31<44:56, 13.35it/s]  "
     ]
    },
    {
     "name": "stdout",
     "output_type": "stream",
     "text": [
      "Overall Ep 164000, Avg Rew (last 100): -182.46, Success (last 100): 0.18, Avg Sq Adv (last 100): 1.00\n"
     ]
    },
    {
     "name": "stderr",
     "output_type": "stream",
     "text": [
      "Training REINFORCE w/ Baseline:  83%|████████▎ | 166002/200000 [3:53:07<45:50, 12.36it/s]  "
     ]
    },
    {
     "name": "stdout",
     "output_type": "stream",
     "text": [
      "Overall Ep 166000, Avg Rew (last 100): -181.78, Success (last 100): 0.22, Avg Sq Adv (last 100): 1.00\n"
     ]
    },
    {
     "name": "stderr",
     "output_type": "stream",
     "text": [
      "Training REINFORCE w/ Baseline:  84%|████████▍ | 168002/200000 [3:55:43<55:42,  9.57it/s]  "
     ]
    },
    {
     "name": "stdout",
     "output_type": "stream",
     "text": [
      "Overall Ep 168000, Avg Rew (last 100): -171.19, Success (last 100): 0.23, Avg Sq Adv (last 100): 1.00\n"
     ]
    },
    {
     "name": "stderr",
     "output_type": "stream",
     "text": [
      "Training REINFORCE w/ Baseline:  85%|████████▌ | 170001/200000 [3:58:18<23:12, 21.55it/s]  "
     ]
    },
    {
     "name": "stdout",
     "output_type": "stream",
     "text": [
      "Overall Ep 170000, Avg Rew (last 100): -184.41, Success (last 100): 0.17, Avg Sq Adv (last 100): 1.00\n"
     ]
    },
    {
     "name": "stderr",
     "output_type": "stream",
     "text": [
      "Training REINFORCE w/ Baseline:  86%|████████▌ | 172001/200000 [4:00:52<20:40, 22.56it/s]  "
     ]
    },
    {
     "name": "stdout",
     "output_type": "stream",
     "text": [
      "Overall Ep 172000, Avg Rew (last 100): -169.32, Success (last 100): 0.27, Avg Sq Adv (last 100): 1.00\n"
     ]
    },
    {
     "name": "stderr",
     "output_type": "stream",
     "text": [
      "Training REINFORCE w/ Baseline:  87%|████████▋ | 174002/200000 [4:03:29<20:38, 20.99it/s]"
     ]
    },
    {
     "name": "stdout",
     "output_type": "stream",
     "text": [
      "Overall Ep 174000, Avg Rew (last 100): -157.85, Success (last 100): 0.33, Avg Sq Adv (last 100): 1.00\n"
     ]
    },
    {
     "name": "stderr",
     "output_type": "stream",
     "text": [
      "Training REINFORCE w/ Baseline:  88%|████████▊ | 176002/200000 [4:06:01<29:40, 13.48it/s]"
     ]
    },
    {
     "name": "stdout",
     "output_type": "stream",
     "text": [
      "Overall Ep 176000, Avg Rew (last 100): -186.57, Success (last 100): 0.15, Avg Sq Adv (last 100): 1.00\n"
     ]
    },
    {
     "name": "stderr",
     "output_type": "stream",
     "text": [
      "Training REINFORCE w/ Baseline:  89%|████████▉ | 178002/200000 [4:08:36<29:58, 12.23it/s]"
     ]
    },
    {
     "name": "stdout",
     "output_type": "stream",
     "text": [
      "Overall Ep 178000, Avg Rew (last 100): -193.36, Success (last 100): 0.11, Avg Sq Adv (last 100): 1.00\n"
     ]
    },
    {
     "name": "stderr",
     "output_type": "stream",
     "text": [
      "Training REINFORCE w/ Baseline:  90%|█████████ | 180002/200000 [4:11:07<31:05, 10.72it/s]"
     ]
    },
    {
     "name": "stdout",
     "output_type": "stream",
     "text": [
      "Overall Ep 180000, Avg Rew (last 100): -167.52, Success (last 100): 0.28, Avg Sq Adv (last 100): 1.00\n"
     ]
    },
    {
     "name": "stderr",
     "output_type": "stream",
     "text": [
      "Training REINFORCE w/ Baseline:  91%|█████████ | 182000/200000 [4:13:42<23:55, 12.54it/s]"
     ]
    },
    {
     "name": "stdout",
     "output_type": "stream",
     "text": [
      "Overall Ep 182000, Avg Rew (last 100): -173.42, Success (last 100): 0.21, Avg Sq Adv (last 100): 1.00\n"
     ]
    },
    {
     "name": "stderr",
     "output_type": "stream",
     "text": [
      "Training REINFORCE w/ Baseline:  92%|█████████▏| 184001/200000 [4:16:14<22:38, 11.78it/s]"
     ]
    },
    {
     "name": "stdout",
     "output_type": "stream",
     "text": [
      "Overall Ep 184000, Avg Rew (last 100): -188.43, Success (last 100): 0.15, Avg Sq Adv (last 100): 1.00\n"
     ]
    },
    {
     "name": "stderr",
     "output_type": "stream",
     "text": [
      "Training REINFORCE w/ Baseline:  93%|█████████▎| 186001/200000 [4:18:46<24:13,  9.63it/s]"
     ]
    },
    {
     "name": "stdout",
     "output_type": "stream",
     "text": [
      "Overall Ep 186000, Avg Rew (last 100): -174.12, Success (last 100): 0.21, Avg Sq Adv (last 100): 1.00\n"
     ]
    },
    {
     "name": "stderr",
     "output_type": "stream",
     "text": [
      "Training REINFORCE w/ Baseline:  94%|█████████▍| 188005/200000 [4:21:19<10:34, 18.89it/s]"
     ]
    },
    {
     "name": "stdout",
     "output_type": "stream",
     "text": [
      "Overall Ep 188000, Avg Rew (last 100): -185.13, Success (last 100): 0.15, Avg Sq Adv (last 100): 1.00\n"
     ]
    },
    {
     "name": "stderr",
     "output_type": "stream",
     "text": [
      "Training REINFORCE w/ Baseline:  95%|█████████▌| 190001/200000 [4:23:49<15:09, 10.99it/s]"
     ]
    },
    {
     "name": "stdout",
     "output_type": "stream",
     "text": [
      "Overall Ep 190000, Avg Rew (last 100): -170.65, Success (last 100): 0.26, Avg Sq Adv (last 100): 1.00\n"
     ]
    },
    {
     "name": "stderr",
     "output_type": "stream",
     "text": [
      "Training REINFORCE w/ Baseline:  96%|█████████▌| 192003/200000 [4:26:21<11:22, 11.72it/s]"
     ]
    },
    {
     "name": "stdout",
     "output_type": "stream",
     "text": [
      "Overall Ep 192000, Avg Rew (last 100): -192.40, Success (last 100): 0.12, Avg Sq Adv (last 100): 1.00\n"
     ]
    },
    {
     "name": "stderr",
     "output_type": "stream",
     "text": [
      "Training REINFORCE w/ Baseline:  97%|█████████▋| 194003/200000 [4:28:56<04:34, 21.87it/s]"
     ]
    },
    {
     "name": "stdout",
     "output_type": "stream",
     "text": [
      "Overall Ep 194000, Avg Rew (last 100): -173.50, Success (last 100): 0.21, Avg Sq Adv (last 100): 1.00\n"
     ]
    },
    {
     "name": "stderr",
     "output_type": "stream",
     "text": [
      "Training REINFORCE w/ Baseline:  98%|█████████▊| 196003/200000 [4:31:28<02:57, 22.54it/s]"
     ]
    },
    {
     "name": "stdout",
     "output_type": "stream",
     "text": [
      "Overall Ep 196000, Avg Rew (last 100): -171.86, Success (last 100): 0.22, Avg Sq Adv (last 100): 1.00\n"
     ]
    },
    {
     "name": "stderr",
     "output_type": "stream",
     "text": [
      "Training REINFORCE w/ Baseline:  99%|█████████▉| 198001/200000 [4:33:59<04:42,  7.06it/s]"
     ]
    },
    {
     "name": "stdout",
     "output_type": "stream",
     "text": [
      "Overall Ep 198000, Avg Rew (last 100): -176.99, Success (last 100): 0.20, Avg Sq Adv (last 100): 1.00\n"
     ]
    },
    {
     "name": "stderr",
     "output_type": "stream",
     "text": [
      "Training REINFORCE w/ Baseline: 100%|██████████| 200000/200000 [4:36:31<00:00, 12.05it/s]\n"
     ]
    },
    {
     "name": "stdout",
     "output_type": "stream",
     "text": [
      "Overall Ep 200000, Avg Rew (last 100): -174.22, Success (last 100): 0.21, Avg Sq Adv (last 100): 1.00\n",
      "REINFORCE w/ Baseline Training Time for this run: 16591.95 seconds\n",
      "Saved REINFORCE weights and logs to files starting with: taxi_reinforce_linear_200k\n"
     ]
    },
    {
     "data": {
      "image/png": "[encoded data removed]",
      "text/plain": [
       "<Figure size 1296x720 with 4 Axes>"
      ]
     },
     "metadata": {
      "needs_background": "light"
     },
     "output_type": "display_data"
    },
    {
     "name": "stdout",
     "output_type": "stream",
     "text": [
      "\n",
      "--- Evaluating Final REINFORCE Policy for 1000 episodes ---\n"
     ]
    },
    {
     "name": "stderr",
     "output_type": "stream",
     "text": [
      "Evaluating REINFORCE Policy: 100%|██████████| 1000/1000 [00:08<00:00, 121.51it/s]\n"
     ]
    },
    {
     "name": "stdout",
     "output_type": "stream",
     "text": [
      "--- REINFORCE Policy Evaluation Results ---\n",
      "Avg Reward: -200.00 +/- 0.00\n",
      "Avg Steps: 200.00 +/- 0.00\n",
      "Success Rate: 0.00%\n",
      "\n",
      "--- REINFORCE w/ Baseline Metrics Summary (after current run) ---\n",
      "Algorithm: REINFORCE w/ Baseline (Linear FA)\n",
      "Total Training Time (s) for this run: 16591.95\n",
      "Total Episodes Trained: 200000\n",
      "Final Policy - Success Rate (%): 0.00\n",
      "\n",
      "--- Simulating one episode with the final REINFORCE policy ---\n",
      "+---------+\n",
      "|R: | : :G|\n",
      "| : | : :T|\n",
      "| : : : : |\n",
      "| | : | : |\n",
      "|Y| : |B: |\n",
      "+---------+\n",
      "Step: 0, State: 188 (1,4,Y (Yellow),R (Red))\n",
      "Prefs: [ 1.24430974  1.11924167  0.1509635   1.75082203 -1.80537759 -2.45995936]\n",
      "Probs: [0.25322768 0.22345743 0.0848549  0.42022963 0.01199634 0.00623401]\n",
      "Chosen: West  ←\n",
      "Reward: -1, Total: -1\n",
      "------------------------------\n",
      "+---------+\n",
      "|R: | : :G|\n",
      "| : | :T: |\n",
      "| : : : : |\n",
      "| | : | : |\n",
      "|Y| : |B: |\n",
      "+---------+\n",
      "Step: 1, State: 168 (1,3,Y (Yellow),R (Red))\n",
      "Prefs: [ 1.38808279  0.76677221  0.261009    1.83591262 -1.78464664 -2.46712998]\n",
      "Probs: [0.28659944 0.15397265 0.09285246 0.44850301 0.01200539 0.00606705]\n",
      "Chosen: West  ←\n",
      "Reward: -1, Total: -2\n",
      "------------------------------\n",
      "+---------+\n",
      "|R: | : :G|\n",
      "| : |T: : |\n",
      "| : : : : |\n",
      "| | : | : |\n",
      "|Y| : |B: |\n",
      "+---------+\n",
      "Step: 2, State: 148 (1,2,Y (Yellow),R (Red))\n",
      "Prefs: [ 1.96088144  0.47344351  0.17345183  1.74159047 -1.84346975 -2.50589749]\n",
      "Probs: [0.44839297 0.10131476 0.07505644 0.36009902 0.00998735 0.00514946]\n",
      "Chosen: South ↓\n",
      "Reward: -1, Total: -3\n",
      "------------------------------\n",
      "+---------+\n",
      "|R: | : :G|\n",
      "| : | : : |\n",
      "| : :T: : |\n",
      "| | : | : |\n",
      "|Y| : |B: |\n",
      "+---------+\n",
      "Step: 3, State: 248 (2,2,Y (Yellow),R (Red))\n",
      "Prefs: [ 1.01729065  0.55295489  0.27555141  2.44464362 -1.80464001 -2.48580055]\n",
      "Probs: [0.15718117 0.09879661 0.07486301 0.65507653 0.00935086 0.00473181]\n",
      "Chosen: West  ←\n",
      "Reward: -1, Total: -4\n",
      "------------------------------\n",
      "+---------+\n",
      "|R: | : :G|\n",
      "| : | : : |\n",
      "| :T: : : |\n",
      "| | : | : |\n",
      "|Y| : |B: |\n",
      "+---------+\n",
      "Step: 4, State: 228 (2,1,Y (Yellow),R (Red))\n",
      "Prefs: [ 0.83896482  0.70234911  0.30577624  2.49306712 -1.81950433 -2.52065296]\n",
      "Probs: [0.12833305 0.11194561 0.075297   0.67097452 0.00899042 0.00445939]\n",
      "Chosen: West  ←\n",
      "Reward: -1, Total: -5\n",
      "------------------------------\n",
      "+---------+\n",
      "|R: | : :G|\n",
      "| : | : : |\n",
      "|T: : : : |\n",
      "| | : | : |\n",
      "|Y| : |B: |\n",
      "+---------+\n",
      "Step: 5, State: 208 (2,0,Y (Yellow),R (Red))\n",
      "Prefs: [ 2.10343275  0.83147174 -0.10156158  1.69271274 -1.9149112  -2.61114445]\n",
      "Probs: [0.48061868 0.1347085  0.05298876 0.31873313 0.00864283 0.0043081 ]\n",
      "Chosen: South ↓\n",
      "Reward: -1, Total: -6\n",
      "------------------------------\n",
      "+---------+\n",
      "|R: | : :G|\n",
      "| : | : : |\n",
      "| : : : : |\n",
      "|T| : | : |\n",
      "|Y| : |B: |\n",
      "+---------+\n",
      "Step: 6, State: 308 (3,0,Y (Yellow),R (Red))\n",
      "Prefs: [ 2.33868646  0.47837606  0.20848903  1.68887843 -1.99825586 -2.71617412]\n",
      "Probs: [0.55064901 0.08569438 0.06542472 0.28751918 0.00720053 0.00351218]\n",
      "Chosen: South ↓\n",
      "Reward: -1, Total: -7\n",
      "------------------------------\n",
      "+---------+\n",
      "|R: | : :G|\n",
      "| : | : : |\n",
      "| : : : : |\n",
      "| | : | : |\n",
      "|T| : |B: |\n",
      "+---------+\n",
      "Step: 7, State: 408 (4,0,Y (Yellow),R (Red))\n",
      "Prefs: [ 0.97054611 -0.33087217 -0.03381234  1.79113719  0.26560311 -2.6626019 ]\n",
      "Probs: [0.225691   0.0614208  0.082666   0.51273434 0.11152221 0.00596565]\n",
      "Chosen: West  ←\n",
      "Reward: -1, Total: -8\n",
      "------------------------------\n",
      "+---------+\n",
      "|R: | : :G|\n",
      "| : | : : |\n",
      "| : : : : |\n",
      "| | : | : |\n",
      "|T| : |B: |\n",
      "+---------+\n",
      "Step: 8, State: 408 (4,0,Y (Yellow),R (Red))\n",
      "Prefs: [ 0.97054611 -0.33087217 -0.03381234  1.79113719  0.26560311 -2.6626019 ]\n",
      "Probs: [0.225691   0.0614208  0.082666   0.51273434 0.11152221 0.00596565]\n",
      "Chosen: West  ←\n",
      "Reward: -1, Total: -9\n",
      "------------------------------\n",
      "+---------+\n",
      "|R: | : :G|\n",
      "| : | : : |\n",
      "| : : : : |\n",
      "| | : | : |\n",
      "|T| : |B: |\n",
      "+---------+\n",
      "Step: 9, State: 408 (4,0,Y (Yellow),R (Red))\n",
      "Prefs: [ 0.97054611 -0.33087217 -0.03381234  1.79113719  0.26560311 -2.6626019 ]\n",
      "Probs: [0.225691   0.0614208  0.082666   0.51273434 0.11152221 0.00596565]\n",
      "Chosen: West  ←\n",
      "Reward: -1, Total: -10\n",
      "------------------------------\n",
      "+---------+\n",
      "|R: | : :G|\n",
      "| : | : : |\n",
      "| : : : : |\n",
      "| | : | : |\n",
      "|T| : |B: |\n",
      "+---------+\n",
      "Step: 10, State: 408 (4,0,Y (Yellow),R (Red))\n",
      "Prefs: [ 0.97054611 -0.33087217 -0.03381234  1.79113719  0.26560311 -2.6626019 ]\n",
      "Probs: [0.225691   0.0614208  0.082666   0.51273434 0.11152221 0.00596565]\n",
      "Chosen: West  ←\n",
      "Reward: -1, Total: -11\n",
      "------------------------------\n",
      "+---------+\n",
      "|R: | : :G|\n",
      "| : | : : |\n",
      "| : : : : |\n",
      "| | : | : |\n",
      "|T| : |B: |\n",
      "+---------+\n",
      "Step: 11, State: 408 (4,0,Y (Yellow),R (Red))\n",
      "Prefs: [ 0.97054611 -0.33087217 -0.03381234  1.79113719  0.26560311 -2.6626019 ]\n",
      "Probs: [0.225691   0.0614208  0.082666   0.51273434 0.11152221 0.00596565]\n",
      "Chosen: West  ←\n",
      "Reward: -1, Total: -12\n",
      "------------------------------\n",
      "+---------+\n",
      "|R: | : :G|\n",
      "| : | : : |\n",
      "| : : : : |\n",
      "| | : | : |\n",
      "|T| : |B: |\n",
      "+---------+\n",
      "Step: 12, State: 408 (4,0,Y (Yellow),R (Red))\n",
      "Prefs: [ 0.97054611 -0.33087217 -0.03381234  1.79113719  0.26560311 -2.6626019 ]\n",
      "Probs: [0.225691   0.0614208  0.082666   0.51273434 0.11152221 0.00596565]\n",
      "Chosen: West  ←\n",
      "Reward: -1, Total: -13\n",
      "------------------------------\n",
      "+---------+\n",
      "|R: | : :G|\n",
      "| : | : : |\n",
      "| : : : : |\n",
      "| | : | : |\n",
      "|T| : |B: |\n",
      "+---------+\n",
      "Step: 13, State: 408 (4,0,Y (Yellow),R (Red))\n",
      "Prefs: [ 0.97054611 -0.33087217 -0.03381234  1.79113719  0.26560311 -2.6626019 ]\n",
      "Probs: [0.225691   0.0614208  0.082666   0.51273434 0.11152221 0.00596565]\n",
      "Chosen: West  ←\n",
      "Reward: -1, Total: -14\n",
      "------------------------------\n",
      "+---------+\n",
      "|R: | : :G|\n",
      "| : | : : |\n",
      "| : : : : |\n",
      "| | : | : |\n",
      "|T| : |B: |\n",
      "+---------+\n",
      "Step: 14, State: 408 (4,0,Y (Yellow),R (Red))\n",
      "Prefs: [ 0.97054611 -0.33087217 -0.03381234  1.79113719  0.26560311 -2.6626019 ]\n",
      "Probs: [0.225691   0.0614208  0.082666   0.51273434 0.11152221 0.00596565]\n",
      "Chosen: West  ←\n",
      "Reward: -1, Total: -15\n",
      "------------------------------\n",
      "+---------+\n",
      "|R: | : :G|\n",
      "| : | : : |\n",
      "| : : : : |\n",
      "| | : | : |\n",
      "|T| : |B: |\n",
      "+---------+\n",
      "Step: 15, State: 408 (4,0,Y (Yellow),R (Red))\n",
      "Prefs: [ 0.97054611 -0.33087217 -0.03381234  1.79113719  0.26560311 -2.6626019 ]\n",
      "Probs: [0.225691   0.0614208  0.082666   0.51273434 0.11152221 0.00596565]\n",
      "Chosen: West  ←\n",
      "Reward: -1, Total: -16\n",
      "------------------------------\n",
      "+---------+\n",
      "|R: | : :G|\n",
      "| : | : : |\n",
      "| : : : : |\n",
      "| | : | : |\n",
      "|T| : |B: |\n",
      "+---------+\n",
      "Step: 16, State: 408 (4,0,Y (Yellow),R (Red))\n",
      "Prefs: [ 0.97054611 -0.33087217 -0.03381234  1.79113719  0.26560311 -2.6626019 ]\n",
      "Probs: [0.225691   0.0614208  0.082666   0.51273434 0.11152221 0.00596565]\n",
      "Chosen: West  ←\n",
      "Reward: -1, Total: -17\n",
      "------------------------------\n",
      "+---------+\n",
      "|R: | : :G|\n",
      "| : | : : |\n",
      "| : : : : |\n",
      "| | : | : |\n",
      "|T| : |B: |\n",
      "+---------+\n",
      "Step: 17, State: 408 (4,0,Y (Yellow),R (Red))\n",
      "Prefs: [ 0.97054611 -0.33087217 -0.03381234  1.79113719  0.26560311 -2.6626019 ]\n",
      "Probs: [0.225691   0.0614208  0.082666   0.51273434 0.11152221 0.00596565]\n",
      "Chosen: West  ←\n",
      "Reward: -1, Total: -18\n",
      "------------------------------\n",
      "+---------+\n",
      "|R: | : :G|\n",
      "| : | : : |\n",
      "| : : : : |\n",
      "| | : | : |\n",
      "|T| : |B: |\n",
      "+---------+\n",
      "Step: 18, State: 408 (4,0,Y (Yellow),R (Red))\n",
      "Prefs: [ 0.97054611 -0.33087217 -0.03381234  1.79113719  0.26560311 -2.6626019 ]\n",
      "Probs: [0.225691   0.0614208  0.082666   0.51273434 0.11152221 0.00596565]\n",
      "Chosen: West  ←\n",
      "Reward: -1, Total: -19\n",
      "------------------------------\n",
      "+---------+\n",
      "|R: | : :G|\n",
      "| : | : : |\n",
      "| : : : : |\n",
      "| | : | : |\n",
      "|T| : |B: |\n",
      "+---------+\n",
      "Step: 19, State: 408 (4,0,Y (Yellow),R (Red))\n",
      "Prefs: [ 0.97054611 -0.33087217 -0.03381234  1.79113719  0.26560311 -2.6626019 ]\n",
      "Probs: [0.225691   0.0614208  0.082666   0.51273434 0.11152221 0.00596565]\n",
      "Chosen: West  ←\n",
      "Reward: -1, Total: -20\n",
      "------------------------------\n",
      "+---------+\n",
      "|R: | : :G|\n",
      "| : | : : |\n",
      "| : : : : |\n",
      "| | : | : |\n",
      "|T| : |B: |\n",
      "+---------+\n",
      "Step: 20, State: 408 (4,0,Y (Yellow),R (Red))\n",
      "Prefs: [ 0.97054611 -0.33087217 -0.03381234  1.79113719  0.26560311 -2.6626019 ]\n",
      "Probs: [0.225691   0.0614208  0.082666   0.51273434 0.11152221 0.00596565]\n",
      "Chosen: West  ←\n",
      "Reward: -1, Total: -21\n",
      "------------------------------\n",
      "+---------+\n",
      "|R: | : :G|\n",
      "| : | : : |\n",
      "| : : : : |\n",
      "| | : | : |\n",
      "|T| : |B: |\n",
      "+---------+\n",
      "Step: 21, State: 408 (4,0,Y (Yellow),R (Red))\n",
      "Prefs: [ 0.97054611 -0.33087217 -0.03381234  1.79113719  0.26560311 -2.6626019 ]\n",
      "Probs: [0.225691   0.0614208  0.082666   0.51273434 0.11152221 0.00596565]\n",
      "Chosen: West  ←\n",
      "Reward: -1, Total: -22\n",
      "------------------------------\n"
     ]
    },
    {
     "name": "stdout",
     "output_type": "stream",
     "text": [
      "+---------+\n",
      "|R: | : :G|\n",
      "| : | : : |\n",
      "| : : : : |\n",
      "| | : | : |\n",
      "|T| : |B: |\n",
      "+---------+\n",
      "Step: 22, State: 408 (4,0,Y (Yellow),R (Red))\n",
      "Prefs: [ 0.97054611 -0.33087217 -0.03381234  1.79113719  0.26560311 -2.6626019 ]\n",
      "Probs: [0.225691   0.0614208  0.082666   0.51273434 0.11152221 0.00596565]\n",
      "Chosen: West  ←\n",
      "Reward: -1, Total: -23\n",
      "------------------------------\n",
      "+---------+\n",
      "|R: | : :G|\n",
      "| : | : : |\n",
      "| : : : : |\n",
      "| | : | : |\n",
      "|T| : |B: |\n",
      "+---------+\n",
      "Step: 23, State: 408 (4,0,Y (Yellow),R (Red))\n",
      "Prefs: [ 0.97054611 -0.33087217 -0.03381234  1.79113719  0.26560311 -2.6626019 ]\n",
      "Probs: [0.225691   0.0614208  0.082666   0.51273434 0.11152221 0.00596565]\n",
      "Chosen: West  ←\n",
      "Reward: -1, Total: -24\n",
      "------------------------------\n",
      "+---------+\n",
      "|R: | : :G|\n",
      "| : | : : |\n",
      "| : : : : |\n",
      "| | : | : |\n",
      "|T| : |B: |\n",
      "+---------+\n",
      "Step: 24, State: 408 (4,0,Y (Yellow),R (Red))\n",
      "Prefs: [ 0.97054611 -0.33087217 -0.03381234  1.79113719  0.26560311 -2.6626019 ]\n",
      "Probs: [0.225691   0.0614208  0.082666   0.51273434 0.11152221 0.00596565]\n",
      "Chosen: West  ←\n",
      "Reward: -1, Total: -25\n",
      "------------------------------\n",
      "+---------+\n",
      "|R: | : :G|\n",
      "| : | : : |\n",
      "| : : : : |\n",
      "| | : | : |\n",
      "|T| : |B: |\n",
      "+---------+\n",
      "Step: 25, State: 408 (4,0,Y (Yellow),R (Red))\n",
      "Prefs: [ 0.97054611 -0.33087217 -0.03381234  1.79113719  0.26560311 -2.6626019 ]\n",
      "Probs: [0.225691   0.0614208  0.082666   0.51273434 0.11152221 0.00596565]\n",
      "Chosen: West  ←\n",
      "Reward: -1, Total: -26\n",
      "------------------------------\n",
      "+---------+\n",
      "|R: | : :G|\n",
      "| : | : : |\n",
      "| : : : : |\n",
      "| | : | : |\n",
      "|T| : |B: |\n",
      "+---------+\n",
      "Step: 26, State: 408 (4,0,Y (Yellow),R (Red))\n",
      "Prefs: [ 0.97054611 -0.33087217 -0.03381234  1.79113719  0.26560311 -2.6626019 ]\n",
      "Probs: [0.225691   0.0614208  0.082666   0.51273434 0.11152221 0.00596565]\n",
      "Chosen: West  ←\n",
      "Reward: -1, Total: -27\n",
      "------------------------------\n",
      "+---------+\n",
      "|R: | : :G|\n",
      "| : | : : |\n",
      "| : : : : |\n",
      "| | : | : |\n",
      "|T| : |B: |\n",
      "+---------+\n",
      "Step: 27, State: 408 (4,0,Y (Yellow),R (Red))\n",
      "Prefs: [ 0.97054611 -0.33087217 -0.03381234  1.79113719  0.26560311 -2.6626019 ]\n",
      "Probs: [0.225691   0.0614208  0.082666   0.51273434 0.11152221 0.00596565]\n",
      "Chosen: West  ←\n",
      "Reward: -1, Total: -28\n",
      "------------------------------\n",
      "+---------+\n",
      "|R: | : :G|\n",
      "| : | : : |\n",
      "| : : : : |\n",
      "| | : | : |\n",
      "|T| : |B: |\n",
      "+---------+\n",
      "Step: 28, State: 408 (4,0,Y (Yellow),R (Red))\n",
      "Prefs: [ 0.97054611 -0.33087217 -0.03381234  1.79113719  0.26560311 -2.6626019 ]\n",
      "Probs: [0.225691   0.0614208  0.082666   0.51273434 0.11152221 0.00596565]\n",
      "Chosen: West  ←\n",
      "Reward: -1, Total: -29\n",
      "------------------------------\n",
      "+---------+\n",
      "|R: | : :G|\n",
      "| : | : : |\n",
      "| : : : : |\n",
      "| | : | : |\n",
      "|T| : |B: |\n",
      "+---------+\n",
      "Step: 29, State: 408 (4,0,Y (Yellow),R (Red))\n",
      "Prefs: [ 0.97054611 -0.33087217 -0.03381234  1.79113719  0.26560311 -2.6626019 ]\n",
      "Probs: [0.225691   0.0614208  0.082666   0.51273434 0.11152221 0.00596565]\n",
      "Chosen: West  ←\n",
      "Reward: -1, Total: -30\n",
      "------------------------------\n",
      "+---------+\n",
      "|R: | : :G|\n",
      "| : | : : |\n",
      "| : : : : |\n",
      "| | : | : |\n",
      "|T| : |B: |\n",
      "+---------+\n",
      "Step: 30, State: 408 (4,0,Y (Yellow),R (Red))\n",
      "Prefs: [ 0.97054611 -0.33087217 -0.03381234  1.79113719  0.26560311 -2.6626019 ]\n",
      "Probs: [0.225691   0.0614208  0.082666   0.51273434 0.11152221 0.00596565]\n",
      "Chosen: West  ←\n",
      "Reward: -1, Total: -31\n",
      "------------------------------\n",
      "+---------+\n",
      "|R: | : :G|\n",
      "| : | : : |\n",
      "| : : : : |\n",
      "| | : | : |\n",
      "|T| : |B: |\n",
      "+---------+\n",
      "Step: 31, State: 408 (4,0,Y (Yellow),R (Red))\n",
      "Prefs: [ 0.97054611 -0.33087217 -0.03381234  1.79113719  0.26560311 -2.6626019 ]\n",
      "Probs: [0.225691   0.0614208  0.082666   0.51273434 0.11152221 0.00596565]\n",
      "Chosen: West  ←\n",
      "Reward: -1, Total: -32\n",
      "------------------------------\n",
      "+---------+\n",
      "|R: | : :G|\n",
      "| : | : : |\n",
      "| : : : : |\n",
      "| | : | : |\n",
      "|T| : |B: |\n",
      "+---------+\n",
      "Step: 32, State: 408 (4,0,Y (Yellow),R (Red))\n",
      "Prefs: [ 0.97054611 -0.33087217 -0.03381234  1.79113719  0.26560311 -2.6626019 ]\n",
      "Probs: [0.225691   0.0614208  0.082666   0.51273434 0.11152221 0.00596565]\n",
      "Chosen: West  ←\n",
      "Reward: -1, Total: -33\n",
      "------------------------------\n",
      "+---------+\n",
      "|R: | : :G|\n",
      "| : | : : |\n",
      "| : : : : |\n",
      "| | : | : |\n",
      "|T| : |B: |\n",
      "+---------+\n",
      "Step: 33, State: 408 (4,0,Y (Yellow),R (Red))\n",
      "Prefs: [ 0.97054611 -0.33087217 -0.03381234  1.79113719  0.26560311 -2.6626019 ]\n",
      "Probs: [0.225691   0.0614208  0.082666   0.51273434 0.11152221 0.00596565]\n",
      "Chosen: West  ←\n",
      "Reward: -1, Total: -34\n",
      "------------------------------\n",
      "+---------+\n",
      "|R: | : :G|\n",
      "| : | : : |\n",
      "| : : : : |\n",
      "| | : | : |\n",
      "|T| : |B: |\n",
      "+---------+\n",
      "Step: 34, State: 408 (4,0,Y (Yellow),R (Red))\n",
      "Prefs: [ 0.97054611 -0.33087217 -0.03381234  1.79113719  0.26560311 -2.6626019 ]\n",
      "Probs: [0.225691   0.0614208  0.082666   0.51273434 0.11152221 0.00596565]\n",
      "Chosen: West  ←\n",
      "Reward: -1, Total: -35\n",
      "------------------------------\n",
      "+---------+\n",
      "|R: | : :G|\n",
      "| : | : : |\n",
      "| : : : : |\n",
      "| | : | : |\n",
      "|T| : |B: |\n",
      "+---------+\n",
      "Step: 35, State: 408 (4,0,Y (Yellow),R (Red))\n",
      "Prefs: [ 0.97054611 -0.33087217 -0.03381234  1.79113719  0.26560311 -2.6626019 ]\n",
      "Probs: [0.225691   0.0614208  0.082666   0.51273434 0.11152221 0.00596565]\n",
      "Chosen: West  ←\n",
      "Reward: -1, Total: -36\n",
      "------------------------------\n",
      "+---------+\n",
      "|R: | : :G|\n",
      "| : | : : |\n",
      "| : : : : |\n",
      "| | : | : |\n",
      "|T| : |B: |\n",
      "+---------+\n",
      "Step: 36, State: 408 (4,0,Y (Yellow),R (Red))\n",
      "Prefs: [ 0.97054611 -0.33087217 -0.03381234  1.79113719  0.26560311 -2.6626019 ]\n",
      "Probs: [0.225691   0.0614208  0.082666   0.51273434 0.11152221 0.00596565]\n",
      "Chosen: West  ←\n",
      "Reward: -1, Total: -37\n",
      "------------------------------\n",
      "+---------+\n",
      "|R: | : :G|\n",
      "| : | : : |\n",
      "| : : : : |\n",
      "| | : | : |\n",
      "|T| : |B: |\n",
      "+---------+\n",
      "Step: 37, State: 408 (4,0,Y (Yellow),R (Red))\n",
      "Prefs: [ 0.97054611 -0.33087217 -0.03381234  1.79113719  0.26560311 -2.6626019 ]\n",
      "Probs: [0.225691   0.0614208  0.082666   0.51273434 0.11152221 0.00596565]\n",
      "Chosen: West  ←\n",
      "Reward: -1, Total: -38\n",
      "------------------------------\n",
      "+---------+\n",
      "|R: | : :G|\n",
      "| : | : : |\n",
      "| : : : : |\n",
      "| | : | : |\n",
      "|T| : |B: |\n",
      "+---------+\n",
      "Step: 38, State: 408 (4,0,Y (Yellow),R (Red))\n",
      "Prefs: [ 0.97054611 -0.33087217 -0.03381234  1.79113719  0.26560311 -2.6626019 ]\n",
      "Probs: [0.225691   0.0614208  0.082666   0.51273434 0.11152221 0.00596565]\n",
      "Chosen: West  ←\n",
      "Reward: -1, Total: -39\n",
      "------------------------------\n",
      "+---------+\n",
      "|R: | : :G|\n",
      "| : | : : |\n",
      "| : : : : |\n",
      "| | : | : |\n",
      "|T| : |B: |\n",
      "+---------+\n",
      "Step: 39, State: 408 (4,0,Y (Yellow),R (Red))\n",
      "Prefs: [ 0.97054611 -0.33087217 -0.03381234  1.79113719  0.26560311 -2.6626019 ]\n",
      "Probs: [0.225691   0.0614208  0.082666   0.51273434 0.11152221 0.00596565]\n",
      "Chosen: West  ←\n",
      "Reward: -1, Total: -40\n",
      "------------------------------\n",
      "+---------+\n",
      "|R: | : :G|\n",
      "| : | : : |\n",
      "| : : : : |\n",
      "| | : | : |\n",
      "|T| : |B: |\n",
      "+---------+\n",
      "Step: 40, State: 408 (4,0,Y (Yellow),R (Red))\n",
      "Prefs: [ 0.97054611 -0.33087217 -0.03381234  1.79113719  0.26560311 -2.6626019 ]\n",
      "Probs: [0.225691   0.0614208  0.082666   0.51273434 0.11152221 0.00596565]\n",
      "Chosen: West  ←\n",
      "Reward: -1, Total: -41\n",
      "------------------------------\n",
      "+---------+\n",
      "|R: | : :G|\n",
      "| : | : : |\n",
      "| : : : : |\n",
      "| | : | : |\n",
      "|T| : |B: |\n",
      "+---------+\n",
      "Step: 41, State: 408 (4,0,Y (Yellow),R (Red))\n",
      "Prefs: [ 0.97054611 -0.33087217 -0.03381234  1.79113719  0.26560311 -2.6626019 ]\n",
      "Probs: [0.225691   0.0614208  0.082666   0.51273434 0.11152221 0.00596565]\n",
      "Chosen: West  ←\n",
      "Reward: -1, Total: -42\n",
      "------------------------------\n",
      "+---------+\n",
      "|R: | : :G|\n",
      "| : | : : |\n",
      "| : : : : |\n",
      "| | : | : |\n",
      "|T| : |B: |\n",
      "+---------+\n",
      "Step: 42, State: 408 (4,0,Y (Yellow),R (Red))\n",
      "Prefs: [ 0.97054611 -0.33087217 -0.03381234  1.79113719  0.26560311 -2.6626019 ]\n",
      "Probs: [0.225691   0.0614208  0.082666   0.51273434 0.11152221 0.00596565]\n",
      "Chosen: West  ←\n",
      "Reward: -1, Total: -43\n",
      "------------------------------\n",
      "+---------+\n",
      "|R: | : :G|\n",
      "| : | : : |\n",
      "| : : : : |\n",
      "| | : | : |\n",
      "|T| : |B: |\n",
      "+---------+\n",
      "Step: 43, State: 408 (4,0,Y (Yellow),R (Red))\n",
      "Prefs: [ 0.97054611 -0.33087217 -0.03381234  1.79113719  0.26560311 -2.6626019 ]\n",
      "Probs: [0.225691   0.0614208  0.082666   0.51273434 0.11152221 0.00596565]\n",
      "Chosen: West  ←\n",
      "Reward: -1, Total: -44\n",
      "------------------------------\n",
      "+---------+\n",
      "|R: | : :G|\n",
      "| : | : : |\n",
      "| : : : : |\n",
      "| | : | : |\n",
      "|T| : |B: |\n",
      "+---------+\n",
      "Step: 44, State: 408 (4,0,Y (Yellow),R (Red))\n",
      "Prefs: [ 0.97054611 -0.33087217 -0.03381234  1.79113719  0.26560311 -2.6626019 ]\n",
      "Probs: [0.225691   0.0614208  0.082666   0.51273434 0.11152221 0.00596565]\n",
      "Chosen: West  ←\n",
      "Reward: -1, Total: -45\n",
      "------------------------------\n",
      "+---------+\n",
      "|R: | : :G|\n",
      "| : | : : |\n",
      "| : : : : |\n",
      "| | : | : |\n",
      "|T| : |B: |\n",
      "+---------+\n",
      "Step: 45, State: 408 (4,0,Y (Yellow),R (Red))\n",
      "Prefs: [ 0.97054611 -0.33087217 -0.03381234  1.79113719  0.26560311 -2.6626019 ]\n",
      "Probs: [0.225691   0.0614208  0.082666   0.51273434 0.11152221 0.00596565]\n",
      "Chosen: West  ←\n",
      "Reward: -1, Total: -46\n",
      "------------------------------\n"
     ]
    },
    {
     "name": "stdout",
     "output_type": "stream",
     "text": [
      "+---------+\n",
      "|R: | : :G|\n",
      "| : | : : |\n",
      "| : : : : |\n",
      "| | : | : |\n",
      "|T| : |B: |\n",
      "+---------+\n",
      "Step: 46, State: 408 (4,0,Y (Yellow),R (Red))\n",
      "Prefs: [ 0.97054611 -0.33087217 -0.03381234  1.79113719  0.26560311 -2.6626019 ]\n",
      "Probs: [0.225691   0.0614208  0.082666   0.51273434 0.11152221 0.00596565]\n",
      "Chosen: West  ←\n",
      "Reward: -1, Total: -47\n",
      "------------------------------\n",
      "+---------+\n",
      "|R: | : :G|\n",
      "| : | : : |\n",
      "| : : : : |\n",
      "| | : | : |\n",
      "|T| : |B: |\n",
      "+---------+\n",
      "Step: 47, State: 408 (4,0,Y (Yellow),R (Red))\n",
      "Prefs: [ 0.97054611 -0.33087217 -0.03381234  1.79113719  0.26560311 -2.6626019 ]\n",
      "Probs: [0.225691   0.0614208  0.082666   0.51273434 0.11152221 0.00596565]\n",
      "Chosen: West  ←\n",
      "Reward: -1, Total: -48\n",
      "------------------------------\n",
      "+---------+\n",
      "|R: | : :G|\n",
      "| : | : : |\n",
      "| : : : : |\n",
      "| | : | : |\n",
      "|T| : |B: |\n",
      "+---------+\n",
      "Step: 48, State: 408 (4,0,Y (Yellow),R (Red))\n",
      "Prefs: [ 0.97054611 -0.33087217 -0.03381234  1.79113719  0.26560311 -2.6626019 ]\n",
      "Probs: [0.225691   0.0614208  0.082666   0.51273434 0.11152221 0.00596565]\n",
      "Chosen: West  ←\n",
      "Reward: -1, Total: -49\n",
      "------------------------------\n",
      "+---------+\n",
      "|R: | : :G|\n",
      "| : | : : |\n",
      "| : : : : |\n",
      "| | : | : |\n",
      "|T| : |B: |\n",
      "+---------+\n",
      "Step: 49, State: 408 (4,0,Y (Yellow),R (Red))\n",
      "Prefs: [ 0.97054611 -0.33087217 -0.03381234  1.79113719  0.26560311 -2.6626019 ]\n",
      "Probs: [0.225691   0.0614208  0.082666   0.51273434 0.11152221 0.00596565]\n",
      "Chosen: West  ←\n",
      "Reward: -1, Total: -50\n",
      "------------------------------\n",
      "Sim finished in 50 steps, total reward -50.\n"
     ]
    }
   ],
   "source": [
    "import gymnasium as gym\n",
    "import numpy as np\n",
    "import time\n",
    "import os\n",
    "import matplotlib.pyplot as plt\n",
    "from tqdm import tqdm\n",
    "from scipy.special import softmax\n",
    "\n",
    "# === Constants and Helper Functions ===\n",
    "LOC_NAMES = {0: \"R (Red)\", 1: \"G (Green)\", 2: \"Y (Yellow)\", 3: \"B (Blue)\", 4: \"in Taxi\"}\n",
    "ACTION_NAMES = {0: \"South ↓\", 1: \"North ↑\", 2: \"East  →\", 3: \"West  ←\", 4: \"Pickup :)\", 5: \"Dropoff ⬇\"}\n",
    "NUM_STATE_FEATURES = 37\n",
    "NUM_STATE_ACTION_FEATURES = NUM_STATE_FEATURES * 6 # 222\n",
    "\n",
    "def decode_taxi_state(state_int):\n",
    "    taxi_row = (state_int // 100) % 5\n",
    "    taxi_col = (state_int // 20) % 5\n",
    "    pass_loc_idx = (state_int // 4) % 5\n",
    "    dest_loc_idx = state_int % 4\n",
    "    return taxi_row, taxi_col, pass_loc_idx, dest_loc_idx\n",
    "\n",
    "def draw_custom_map(taxi_row, taxi_col, pass_loc_idx, dest_idx):\n",
    "    map_template = [\n",
    "        \"+---------+\", \"|R: | : :G|\", \"| : | : : |\", \"| : : : : |\",\n",
    "        \"| | : | : |\", \"|Y| : |B: |\", \"+---------+\"\n",
    "    ]\n",
    "    map_lines = [list(line) for line in map_template]\n",
    "    map_char_cols = [1, 3, 5, 7, 9] \n",
    "    if 0 <= taxi_row < 5 and 0 <= taxi_col < 5:\n",
    "        vis_row_idx = taxi_row + 1\n",
    "        vis_col_idx = map_char_cols[taxi_col]\n",
    "        map_lines[vis_row_idx][vis_col_idx] = \"T\"\n",
    "    return '\\n'.join(''.join(line) for line in map_lines)\n",
    "\n",
    "def get_state_features(state_int):\n",
    "    taxi_row, taxi_col, pass_loc_idx, dest_loc_idx = decode_taxi_state(state_int)\n",
    "    phi_state_base = np.zeros(25 + 5 + 4)\n",
    "    current_idx = 0\n",
    "    phi_state_base[current_idx + taxi_row * 5 + taxi_col] = 1.0; current_idx += 25\n",
    "    phi_state_base[current_idx + pass_loc_idx] = 1.0; current_idx += 5\n",
    "    phi_state_base[current_idx + dest_loc_idx] = 1.0\n",
    "    passenger_in_taxi = 1.0 if pass_loc_idx == 4 else 0.0\n",
    "    fixed_loc_coords = {0:(0,0), 1:(0,4), 2:(4,0), 3:(4,3)} \n",
    "    at_passenger_pickup_loc_feature = 0.0\n",
    "    if not passenger_in_taxi and pass_loc_idx in fixed_loc_coords:\n",
    "        expected_pass_row, expected_pass_col = fixed_loc_coords[pass_loc_idx]\n",
    "        if taxi_row == expected_pass_row and taxi_col == expected_pass_col:\n",
    "            at_passenger_pickup_loc_feature = 1.0\n",
    "    at_destination_with_passenger_feature = 0.0\n",
    "    if passenger_in_taxi and dest_loc_idx in fixed_loc_coords:\n",
    "        expected_dest_row, expected_dest_col = fixed_loc_coords[dest_loc_idx]\n",
    "        if taxi_row == expected_dest_row and taxi_col == expected_dest_col:\n",
    "            at_destination_with_passenger_feature = 1.0\n",
    "    additional_task_features = np.array([passenger_in_taxi, at_passenger_pickup_loc_feature, at_destination_with_passenger_feature])\n",
    "    return np.concatenate((phi_state_base, additional_task_features))\n",
    "\n",
    "def get_state_action_features(state_int, action, n_actions=6):\n",
    "    phi_state_aug = get_state_features(state_int)\n",
    "    total_num_features = NUM_STATE_FEATURES * n_actions\n",
    "    final_interaction_features = np.zeros(total_num_features)\n",
    "    start_idx = action * NUM_STATE_FEATURES\n",
    "    end_idx = start_idx + NUM_STATE_FEATURES\n",
    "    final_interaction_features[start_idx:end_idx] = phi_state_aug\n",
    "    return final_interaction_features\n",
    "# === End Helper Functions ===\n",
    "\n",
    "\n",
    "# === REINFORCE with Baseline Algorithm (with save/load and tweaks) ===\n",
    "def reinforce_with_baseline(env, alpha_actor=0.00005, alpha_critic=0.001, gamma=0.99, \n",
    "                            episodes_to_run=100000,\n",
    "                            initial_theta_actor=None, initial_theta_critic=None,\n",
    "                            initial_rewards_log=None, initial_steps_log=None,\n",
    "                            initial_successes_log=None, initial_sq_advantage_log=None,\n",
    "                            start_episode_num=0,\n",
    "                            normalize_advantages=True, # to normalize advantages\n",
    "                            gradient_clip_norm=None):  # for gradient clipping (e.g., 1.0 or 5.0)\n",
    "\n",
    "    n_actions = env.action_space.n\n",
    "\n",
    "    if initial_theta_actor is not None:\n",
    "        print(f\"Loading initial actor weights (trained for {start_episode_num} episodes).\")\n",
    "        theta_actor = initial_theta_actor\n",
    "        assert theta_actor.shape[0] == NUM_STATE_ACTION_FEATURES, \"Actor weights shape mismatch!\"\n",
    "    else:\n",
    "        print(\"Initializing new actor weights.\")\n",
    "        theta_actor = np.zeros(NUM_STATE_ACTION_FEATURES)\n",
    "    \n",
    "    if initial_theta_critic is not None:\n",
    "        print(f\"Loading initial critic weights (trained for {start_episode_num} episodes).\")\n",
    "        theta_critic = initial_theta_critic\n",
    "        assert theta_critic.shape[0] == NUM_STATE_FEATURES, \"Critic weights shape mismatch!\"\n",
    "    else:\n",
    "        print(\"Initializing new critic weights.\")\n",
    "        theta_critic = np.zeros(NUM_STATE_FEATURES)\n",
    "\n",
    "    rewards_per_episode_log = initial_rewards_log if initial_rewards_log is not None else []\n",
    "    steps_per_episode_log = initial_steps_log if initial_steps_log is not None else []\n",
    "    successes_per_episode_log = initial_successes_log if initial_successes_log is not None else []\n",
    "    avg_squared_advantage_log = initial_sq_advantage_log if initial_sq_advantage_log is not None else []\n",
    "\n",
    "    print(f\"Training REINFORCE w/ Baseline for {episodes_to_run} more episodes.\")\n",
    "    print(f\"Params: alpha_actor={alpha_actor}, alpha_critic={alpha_critic}, gamma={gamma}, normalize_adv={normalize_advantages}, grad_clip={gradient_clip_norm}\")\n",
    "\n",
    "    for ep_offset in tqdm(range(episodes_to_run), desc=\"Training REINFORCE w/ Baseline\"):\n",
    "        current_true_episode_num = start_episode_num + ep_offset\n",
    "        episode_states, episode_actions, episode_rewards, episode_phis_st, episode_grad_log_pis = [], [], [], [], []\n",
    "        \n",
    "        state, _ = env.reset()\n",
    "        done = False\n",
    "        truncated = False\n",
    "        current_episode_steps = 0\n",
    "        max_steps = 200\n",
    "\n",
    "        while not done and not truncated and current_episode_steps < max_steps:\n",
    "            action_preferences = np.array([theta_actor.dot(get_state_action_features(state, a, n_actions)) for a in range(n_actions)])\n",
    "            action_probs = softmax(action_preferences)\n",
    "            action_probs = action_probs / np.sum(action_probs) # Ensure sum to 1\n",
    "\n",
    "            try:\n",
    "                action = np.random.choice(n_actions, p=action_probs)\n",
    "            except ValueError:\n",
    "                action = np.argmax(action_probs) # Fallback if probs are weird\n",
    "\n",
    "            next_state, reward, done, truncated, _ = env.step(action)\n",
    "\n",
    "            episode_states.append(state)\n",
    "            episode_actions.append(action)\n",
    "            episode_rewards.append(reward)\n",
    "            \n",
    "            # Store features needed for updates later\n",
    "            episode_phis_st.append(get_state_features(state)) # For critic update\n",
    "            expected_phi_sa = np.sum([p * get_state_action_features(state, act_idx, n_actions) for act_idx, p in enumerate(action_probs)], axis=0)\n",
    "            episode_grad_log_pis.append(phi_sa_t - expected_phi_sa) # For actor update\n",
    "\n",
    "            state = next_state\n",
    "            current_episode_steps += 1\n",
    "        \n",
    "        rewards_per_episode_log.append(sum(episode_rewards))\n",
    "        steps_per_episode_log.append(current_episode_steps)\n",
    "        successes_per_episode_log.append(1 if done and episode_rewards[-1] == 20 else 0)\n",
    "        \n",
    "        # Calculate returns and advantages for the episode\n",
    "        returns_g = np.zeros(len(episode_rewards))\n",
    "        advantages = np.zeros(len(episode_rewards))\n",
    "        G = 0\n",
    "        for t in reversed(range(len(episode_rewards))):\n",
    "            G = episode_rewards[t] + gamma * G\n",
    "            returns_g[t] = G\n",
    "            V_s_t = theta_critic.dot(episode_phis_st[t])\n",
    "            advantages[t] = G - V_s_t\n",
    "        \n",
    "        if normalize_advantages and len(advantages) > 1: # Avoid division by zero if only one step\n",
    "            adv_mean = np.mean(advantages)\n",
    "            adv_std = np.std(advantages)\n",
    "            if adv_std > 1e-8: # Avoid division by zero or tiny std\n",
    "                advantages = (advantages - adv_mean) / adv_std\n",
    "        \n",
    "        avg_squared_advantage_log.append(np.mean(advantages**2))\n",
    "\n",
    "        # Update actor and critic\n",
    "        for t in range(len(episode_states)):\n",
    "            # Critic update\n",
    "            # Advantage already calculated is (G_t - V(s_t))\n",
    "            critic_grad_update = alpha_critic * advantages[t] * episode_phis_st[t]\n",
    "            if gradient_clip_norm is not None:\n",
    "                 grad_norm = np.linalg.norm(critic_grad_update)\n",
    "                 if grad_norm > gradient_clip_norm:\n",
    "                     critic_grad_update = critic_grad_update * (gradient_clip_norm / grad_norm)\n",
    "            theta_critic += critic_grad_update\n",
    "\n",
    "            # Actor update\n",
    "            actor_grad_update = alpha_actor * advantages[t] * episode_grad_log_pis[t] \n",
    "            if gradient_clip_norm is not None:\n",
    "                grad_norm = np.linalg.norm(actor_grad_update)\n",
    "                if grad_norm > gradient_clip_norm:\n",
    "                    actor_grad_update = actor_grad_update * (gradient_clip_norm / grad_norm)\n",
    "            theta_actor += actor_grad_update\n",
    "        \n",
    "        if (ep_offset + 1) % (episodes_to_run // 100 if episodes_to_run >=100 else 1) == 0 or ep_offset == 0:\n",
    "            window_size = 100\n",
    "            avg_r = np.mean(rewards_per_episode_log[-window_size:]) if len(rewards_per_episode_log) >= window_size else (np.mean(rewards_per_episode_log) if rewards_per_episode_log else 0)\n",
    "            avg_s = np.mean(successes_per_episode_log[-window_size:]) if len(successes_per_episode_log) >= window_size else (np.mean(successes_per_episode_log) if successes_per_episode_log else 0)\n",
    "            avg_adv_sq = np.mean(avg_squared_advantage_log[-window_size:]) if len(avg_squared_advantage_log) >= window_size else (np.mean(avg_squared_advantage_log) if avg_squared_advantage_log else 0)\n",
    "            print(f\"Overall Ep {current_true_episode_num+1}, Avg Rew (last {min(window_size, len(rewards_per_episode_log))}): {avg_r:.2f}, \"\n",
    "                  f\"Success (last {min(window_size, len(successes_per_episode_log))}): {avg_s:.2f}, \"\n",
    "                  f\"Avg Sq Adv (last {min(window_size, len(avg_squared_advantage_log))}): {avg_adv_sq:.2f}\")\n",
    "\n",
    "    learning_curves = {\n",
    "        \"rewards\": rewards_per_episode_log, \"steps\": steps_per_episode_log,\n",
    "        \"successes\": successes_per_episode_log, \"avg_sq_advantage\": avg_squared_advantage_log\n",
    "    }\n",
    "    return theta_actor, theta_critic, learning_curves\n",
    "\n",
    "# === Policy Derivation and Evaluation ===\n",
    "def derive_pg_policy(theta_actor, n_states, n_actions):\n",
    "    policy = np.zeros(n_states, dtype=int)\n",
    "    for s in range(n_states):\n",
    "        action_preferences = np.array([theta_actor.dot(get_state_action_features(s, a, n_actions)) for a in range(n_actions)])\n",
    "        policy[s] = np.argmax(action_preferences)\n",
    "    return policy\n",
    "\n",
    "def evaluate_pg_policy(env, policy, num_episodes=1000, algorithm_name=\"Policy Gradient Policy\"):\n",
    "    total_rewards, total_steps, successful_dropoffs = [], [], 0\n",
    "    print(f\"\\n--- Evaluating Final {algorithm_name} for {num_episodes} episodes ---\")\n",
    "    for _ in tqdm(range(num_episodes), desc=f\"Evaluating {algorithm_name}\"):\n",
    "        obs, _ = env.reset(); done, trunc, ep_rew, ep_steps = False, False, 0, 0\n",
    "        for _ in range(200):\n",
    "            action = policy[obs]\n",
    "            obs, reward, done, trunc, _ = env.step(action)\n",
    "            ep_rew += reward; ep_steps += 1\n",
    "            if done or trunc: break\n",
    "        total_rewards.append(ep_rew); total_steps.append(ep_steps)\n",
    "        if done and reward == 20: successful_dropoffs += 1\n",
    "    avg_reward = np.mean(total_rewards); std_reward = np.std(total_rewards)\n",
    "    avg_steps = np.mean(total_steps); std_steps = np.std(total_steps)\n",
    "    success_rate = (successful_dropoffs / num_episodes) * 100\n",
    "    print(f\"--- {algorithm_name} Evaluation Results ---\\nAvg Reward: {avg_reward:.2f} +/- {std_reward:.2f}\\nAvg Steps: {avg_steps:.2f} +/- {std_steps:.2f}\\nSuccess Rate: {success_rate:.2f}%\")\n",
    "    return avg_reward, avg_steps, success_rate, std_reward, std_steps\n",
    "\n",
    "# === Plotting ===\n",
    "def plot_pg_learning_curves(learning_curves_data, algorithm_name=\"REINFORCE w/ Baseline\"):\n",
    "    # (Identical to previous plot_pg_learning_curves function)\n",
    "    num_episodes = len(learning_curves_data[\"rewards\"])\n",
    "    episodes_axis = np.arange(1, num_episodes + 1)\n",
    "    window = max(1, num_episodes // 100 if num_episodes > 100 else 50)\n",
    "    plt.figure(figsize=(18, 10)); plt.suptitle(f\"{algorithm_name} Performance Metrics on Taxi-v3\", fontsize=16)\n",
    "    plt.subplot(2, 2, 1) # Average Reward\n",
    "    if num_episodes >= window:\n",
    "        smoothed_rewards = np.convolve(learning_curves_data[\"rewards\"], np.ones(window)/window, mode='valid')\n",
    "        plt.plot(episodes_axis[window-1:], smoothed_rewards, label=f'Smoothed (win {window})')\n",
    "    plt.plot(episodes_axis, learning_curves_data[\"rewards\"], alpha=0.3, label='Raw')\n",
    "    plt.title('Avg Reward/Ep'); plt.xlabel('Episode'); plt.ylabel('Avg Reward'); plt.legend(); plt.grid(True)\n",
    "    plt.subplot(2, 2, 2) # Steps per Episode\n",
    "    if num_episodes >= window:\n",
    "        smoothed_steps = np.convolve(learning_curves_data[\"steps\"], np.ones(window)/window, mode='valid')\n",
    "        plt.plot(episodes_axis[window-1:], smoothed_steps, label=f'Smoothed (win {window})')\n",
    "    plt.plot(episodes_axis, learning_curves_data[\"steps\"], alpha=0.3, label='Raw')\n",
    "    plt.title('Steps/Ep'); plt.xlabel('Episode'); plt.ylabel('Steps'); plt.legend(); plt.grid(True)\n",
    "    plt.subplot(2, 2, 3) # Success Rate\n",
    "    success_rate_curve = [np.mean(learning_curves_data[\"successes\"][max(0,i-window+1):i+1])*100 for i in range(num_episodes)]\n",
    "    plt.plot(episodes_axis, success_rate_curve, label=f'Success Rate (win {window})')\n",
    "    plt.title('Success Rate (%)'); plt.xlabel('Episode'); plt.ylabel('Success (%)'); plt.ylim(-5, 105); plt.legend(); plt.grid(True)\n",
    "    plt.subplot(2, 2, 4) # Average Squared Advantage\n",
    "    if learning_curves_data.get(\"avg_sq_advantage\"):\n",
    "        if num_episodes >= window:\n",
    "            smoothed_adv = np.convolve(learning_curves_data[\"avg_sq_advantage\"], np.ones(window)/window, mode='valid')\n",
    "            plt.plot(episodes_axis[window-1:], smoothed_adv, label=f'Smoothed (win {window})')\n",
    "        plt.plot(episodes_axis, learning_curves_data[\"avg_sq_advantage\"], alpha=0.3, label='Raw')\n",
    "        plt.title('Avg Sq Advantage/Ep'); plt.xlabel('Episode'); plt.ylabel('Avg Sq Adv'); plt.legend(); plt.grid(True); plt.yscale('log', nonpositive='clip')\n",
    "    plt.tight_layout(rect=[0, 0, 1, 0.96]); plt.show()\n",
    "\n",
    "\n",
    "# === Main Execution ===\n",
    "if __name__ == \"__main__\":\n",
    "    env_pg = gym.make(\"Taxi-v3\")\n",
    "\n",
    "    # --- Configuration ---\n",
    "    LOAD_PG_WEIGHTS = True  \n",
    "    EXPECTED_PG_PREV_EP_COUNT = 200000 \n",
    "    PG_STATE_BASE_FILENAME = \"taxi_reinforce_linear\" \n",
    "    \n",
    "    pg_alpha_actor = 5e-5      # 0.00005 \n",
    "    pg_alpha_critic = 1e-3     # 0.001\n",
    "    pg_gamma = 0.99           \n",
    "    pg_episodes_this_run = 200000  #  Episodes for THIS run (e.g., add 200k more)\n",
    "    \n",
    "    pg_normalize_advantages = True\n",
    "    pg_gradient_clip_norm = 1.0 # Clip gradient update norms if they exceed this value\n",
    "    # --- End Configuration ---\n",
    "\n",
    "    loaded_theta_actor, loaded_theta_critic = None, None\n",
    "    loaded_rewards, loaded_steps, loaded_successes, loaded_adv_sq = [], [], [], []\n",
    "    pg_previous_episodes_loaded = 0\n",
    "\n",
    "    if LOAD_PG_WEIGHTS:\n",
    "        if EXPECTED_PG_PREV_EP_COUNT > 0:\n",
    "            actor_w_file = f\"{PG_STATE_BASE_FILENAME}_{EXPECTED_PG_PREV_EP_COUNT // 1000}k_actor_weights.npy\"\n",
    "            critic_w_file = f\"{PG_STATE_BASE_FILENAME}_{EXPECTED_PG_PREV_EP_COUNT // 1000}k_critic_weights.npy\"\n",
    "            rewards_f = f\"{PG_STATE_BASE_FILENAME}_{EXPECTED_PG_PREV_EP_COUNT // 1000}k_rewards.npy\"\n",
    "            # ... (add similar for steps, successes, adv_sq if you save them)\n",
    "            \n",
    "            try:\n",
    "                if os.path.exists(actor_w_file) and os.path.exists(critic_w_file):\n",
    "                    print(f\"Loading REINFORCE state for {EXPECTED_PG_PREV_EP_COUNT} episodes...\")\n",
    "                    loaded_theta_actor = np.load(actor_w_file)\n",
    "                    loaded_theta_critic = np.load(critic_w_file)\n",
    "                    if os.path.exists(rewards_f): loaded_rewards = list(np.load(rewards_f))\n",
    "                    # ... (load other logs if saved) ...\n",
    "                    pg_previous_episodes_loaded = EXPECTED_PG_PREV_EP_COUNT\n",
    "                    print(\"Successfully loaded previous REINFORCE state.\")\n",
    "                else:\n",
    "                    print(f\"Weight files not found for {EXPECTED_PG_PREV_EP_COUNT} episodes. Starting fresh.\")\n",
    "                    LOAD_PG_WEIGHTS = False \n",
    "            except Exception as e:\n",
    "                print(f\"Error loading REINFORCE files: {e}. Starting fresh.\")\n",
    "                LOAD_PG_WEIGHTS = False\n",
    "        else: # EXPECTED_PG_PREV_EP_COUNT is 0 but LOAD_PG_WEIGHTS is True\n",
    "            print(\"LOAD_PG_WEIGHTS is True but EXPECTED_PG_PREV_EP_COUNT is 0. Starting fresh.\")\n",
    "            LOAD_PG_WEIGHTS = False\n",
    "            \n",
    "    if not LOAD_PG_WEIGHTS: # Reset if starting fresh\n",
    "        loaded_theta_actor, loaded_theta_critic = None, None\n",
    "        loaded_rewards, loaded_steps, loaded_successes, loaded_adv_sq = [], [], [], []\n",
    "        pg_previous_episodes_loaded = 0\n",
    "        print(\"Starting REINFORCE training from scratch.\")\n",
    "\n",
    "    pg_start_time = time.time()\n",
    "    theta_actor_final, theta_critic_final, pg_learning_curves = reinforce_with_baseline(\n",
    "        env_pg, \n",
    "        alpha_actor=pg_alpha_actor, alpha_critic=pg_alpha_critic, gamma=pg_gamma, \n",
    "        episodes_to_run=pg_episodes_this_run,\n",
    "        initial_theta_actor=loaded_theta_actor, initial_theta_critic=loaded_theta_critic,\n",
    "        initial_rewards_log=loaded_rewards, initial_steps_log=loaded_steps,\n",
    "        initial_successes_log=loaded_successes, initial_sq_advantage_log=loaded_adv_sq,\n",
    "        start_episode_num=pg_previous_episodes_loaded,\n",
    "        normalize_advantages=pg_normalize_advantages,\n",
    "        gradient_clip_norm=pg_gradient_clip_norm\n",
    "    )\n",
    "    pg_training_time = time.time() - pg_start_time\n",
    "    print(f\"REINFORCE w/ Baseline Training Time for this run: {pg_training_time:.2f} seconds\")\n",
    "\n",
    "    current_total_pg_episodes = pg_previous_episodes_loaded + pg_episodes_this_run\n",
    "    pg_save_base = f\"{PG_STATE_BASE_FILENAME}_{current_total_pg_episodes // 1000}k\"\n",
    "    np.save(f\"{pg_save_base}_actor_weights.npy\", theta_actor_final)\n",
    "    np.save(f\"{pg_save_base}_critic_weights.npy\", theta_critic_final)\n",
    "    np.save(f\"{pg_save_base}_rewards.npy\", np.array(pg_learning_curves[\"rewards\"]))\n",
    "    np.save(f\"{pg_save_base}_steps.npy\", np.array(pg_learning_curves[\"steps\"]))\n",
    "    np.save(f\"{pg_save_base}_successes.npy\", np.array(pg_learning_curves[\"successes\"]))\n",
    "    np.save(f\"{pg_save_base}_avg_sq_advantage.npy\", np.array(pg_learning_curves[\"avg_sq_advantage\"]))\n",
    "    print(f\"Saved REINFORCE weights and logs to files starting with: {pg_save_base}\")\n",
    "\n",
    "    if pg_learning_curves[\"rewards\"]: plot_pg_learning_curves(pg_learning_curves)\n",
    "    \n",
    "    pg_final_policy = derive_pg_policy(theta_actor_final, env_pg.observation_space.n, env_pg.action_space.n)\n",
    "    pg_avg_reward, pg_avg_steps, pg_success_rate, pg_std_reward, pg_std_steps = evaluate_pg_policy(\n",
    "        env_pg, pg_final_policy, num_episodes=1000, algorithm_name=\"REINFORCE Policy\"\n",
    "    )\n",
    "    \n",
    "    pg_metrics = { # Populate with final values\n",
    "        \"Algorithm\": \"REINFORCE w/ Baseline (Linear FA)\",\n",
    "        \"Total Training Time (s) for this run\": f\"{pg_training_time:.2f}\",\n",
    "        \"Total Episodes Trained\": current_total_pg_episodes,\n",
    "         \"Final Policy - Success Rate (%)\": f\"{pg_success_rate:.2f}\",\n",
    "    }\n",
    "    print(\"\\n--- REINFORCE w/ Baseline Metrics Summary (after current run) ---\")\n",
    "    for key, value in pg_metrics.items(): print(f\"{key}: {value}\")\n",
    "\n",
    "    # Simulation (using globals LOC_NAMES, ACTION_NAMES defined at the top)\n",
    "    print(\"\\n--- Simulating one episode with the final REINFORCE policy ---\")\n",
    "    obs_sim, _ = env_pg.reset(seed=np.random.randint(0,100000))\n",
    "    done_sim, trunc_sim, tot_rew_sim, steps_sim = False, False, 0, 0\n",
    "    for _ in range(50):\n",
    "        action_sim = pg_final_policy[obs_sim]\n",
    "        r_sim, c_sim, p_idx_sim, d_idx_sim = decode_taxi_state(obs_sim)\n",
    "        print(draw_custom_map(r_sim, c_sim, p_idx_sim, d_idx_sim))\n",
    "        print(f\"Step: {steps_sim}, State: {obs_sim} ({r_sim},{c_sim},{LOC_NAMES[p_idx_sim]},{LOC_NAMES[d_idx_sim]})\")\n",
    "        action_prefs_sim = np.array([theta_actor_final.dot(get_state_action_features(obs_sim,a,env_pg.action_space.n)) for a in range(env_pg.action_space.n)])\n",
    "        print(f\"Prefs: {action_prefs_sim}\\nProbs: {softmax(action_prefs_sim)}\\nChosen: {ACTION_NAMES[action_sim]}\")\n",
    "        obs_sim, rew_sim, done_sim, trunc_sim, _ = env_pg.step(action_sim)\n",
    "        tot_rew_sim += rew_sim\n",
    "        print(f\"Reward: {rew_sim}, Total: {tot_rew_sim}\\n{'-'*30}\")\n",
    "        steps_sim += 1\n",
    "        if done_sim or trunc_sim: break\n",
    "        time.sleep(0.2)\n",
    "    print(f\"Sim finished in {steps_sim} steps, total reward {tot_rew_sim}.\")\n",
    "    if done_sim and rew_sim == 20: print(\"Successful dropoff!\")\n",
    "    env_pg.close()"
   ]
  },
  {
   "cell_type": "code",
   "execution_count": null,
   "id": "1e547fff",
   "metadata": {},
   "outputs": [],
   "source": []
  },
  {
   "cell_type": "code",
   "execution_count": null,
   "id": "6e432071",
   "metadata": {},
   "outputs": [],
   "source": []
  },
  {
   "cell_type": "code",
   "execution_count": 2,
   "id": "760c4203",
   "metadata": {},
   "outputs": [
    {
     "name": "stdout",
     "output_type": "stream",
     "text": [
      "Loading REINFORCE state for 200000 episodes...\n",
      "Successfully loaded previous REINFORCE state.\n",
      "Loading initial actor weights (trained for 200000 episodes).\n",
      "Loading initial critic weights (trained for 200000 episodes).\n",
      "Training REINFORCE w/ Baseline for 200000 more episodes.\n",
      "Params: alpha_actor=5e-05, alpha_critic=0.001, gamma=0.99, normalize_adv=True, grad_clip=1.0\n"
     ]
    },
    {
     "name": "stderr",
     "output_type": "stream",
     "text": [
      "Training REINFORCE w/ Baseline:   0%|          | 2/200000 [00:00<3:43:19, 14.93it/s]"
     ]
    },
    {
     "name": "stdout",
     "output_type": "stream",
     "text": [
      "Overall Ep 200001, Avg Rew (last 100): -175.12, Success (last 1): 1.00, Avg Sq Adv (last 1): 1.00\n"
     ]
    },
    {
     "name": "stderr",
     "output_type": "stream",
     "text": [
      "Training REINFORCE w/ Baseline:   1%|          | 2001/200000 [02:53<4:30:29, 12.20it/s]"
     ]
    },
    {
     "name": "stdout",
     "output_type": "stream",
     "text": [
      "Overall Ep 202000, Avg Rew (last 100): -178.18, Success (last 100): 0.19, Avg Sq Adv (last 100): 1.00\n"
     ]
    },
    {
     "name": "stderr",
     "output_type": "stream",
     "text": [
      "Training REINFORCE w/ Baseline:   2%|▏         | 4001/200000 [05:46<8:24:12,  6.48it/s]"
     ]
    },
    {
     "name": "stdout",
     "output_type": "stream",
     "text": [
      "Overall Ep 204000, Avg Rew (last 100): -187.29, Success (last 100): 0.14, Avg Sq Adv (last 100): 1.00\n"
     ]
    },
    {
     "name": "stderr",
     "output_type": "stream",
     "text": [
      "Training REINFORCE w/ Baseline:   3%|▎         | 6001/200000 [08:36<3:24:29, 15.81it/s]"
     ]
    },
    {
     "name": "stdout",
     "output_type": "stream",
     "text": [
      "Overall Ep 206000, Avg Rew (last 100): -174.10, Success (last 100): 0.21, Avg Sq Adv (last 100): 1.00\n"
     ]
    },
    {
     "name": "stderr",
     "output_type": "stream",
     "text": [
      "Training REINFORCE w/ Baseline:   4%|▍         | 8001/200000 [11:20<5:00:49, 10.64it/s]"
     ]
    },
    {
     "name": "stdout",
     "output_type": "stream",
     "text": [
      "Overall Ep 208000, Avg Rew (last 100): -177.30, Success (last 100): 0.19, Avg Sq Adv (last 100): 1.00\n"
     ]
    },
    {
     "name": "stderr",
     "output_type": "stream",
     "text": [
      "Training REINFORCE w/ Baseline:   5%|▌         | 10001/200000 [14:01<6:38:02,  7.96it/s]"
     ]
    },
    {
     "name": "stdout",
     "output_type": "stream",
     "text": [
      "Overall Ep 210000, Avg Rew (last 100): -176.67, Success (last 100): 0.21, Avg Sq Adv (last 100): 1.00\n"
     ]
    },
    {
     "name": "stderr",
     "output_type": "stream",
     "text": [
      "Training REINFORCE w/ Baseline:   6%|▌         | 12003/200000 [16:42<2:16:16, 22.99it/s]"
     ]
    },
    {
     "name": "stdout",
     "output_type": "stream",
     "text": [
      "Overall Ep 212000, Avg Rew (last 100): -172.95, Success (last 100): 0.23, Avg Sq Adv (last 100): 1.00\n"
     ]
    },
    {
     "name": "stderr",
     "output_type": "stream",
     "text": [
      "Training REINFORCE w/ Baseline:   7%|▋         | 14001/200000 [19:24<5:06:20, 10.12it/s]"
     ]
    },
    {
     "name": "stdout",
     "output_type": "stream",
     "text": [
      "Overall Ep 214000, Avg Rew (last 100): -178.45, Success (last 100): 0.18, Avg Sq Adv (last 100): 1.00\n"
     ]
    },
    {
     "name": "stderr",
     "output_type": "stream",
     "text": [
      "Training REINFORCE w/ Baseline:   8%|▊         | 16001/200000 [22:04<2:54:00, 17.62it/s]"
     ]
    },
    {
     "name": "stdout",
     "output_type": "stream",
     "text": [
      "Overall Ep 216000, Avg Rew (last 100): -171.96, Success (last 100): 0.23, Avg Sq Adv (last 100): 1.00\n"
     ]
    },
    {
     "name": "stderr",
     "output_type": "stream",
     "text": [
      "Training REINFORCE w/ Baseline:   9%|▉         | 18001/200000 [24:44<5:54:38,  8.55it/s]"
     ]
    },
    {
     "name": "stdout",
     "output_type": "stream",
     "text": [
      "Overall Ep 218000, Avg Rew (last 100): -180.55, Success (last 100): 0.18, Avg Sq Adv (last 100): 1.00\n"
     ]
    },
    {
     "name": "stderr",
     "output_type": "stream",
     "text": [
      "Training REINFORCE w/ Baseline:  10%|█         | 20001/200000 [27:23<5:15:03,  9.52it/s]"
     ]
    },
    {
     "name": "stdout",
     "output_type": "stream",
     "text": [
      "Overall Ep 220000, Avg Rew (last 100): -182.94, Success (last 100): 0.17, Avg Sq Adv (last 100): 1.00\n"
     ]
    },
    {
     "name": "stderr",
     "output_type": "stream",
     "text": [
      "Training REINFORCE w/ Baseline:  11%|█         | 22003/200000 [30:03<2:20:23, 21.13it/s]"
     ]
    },
    {
     "name": "stdout",
     "output_type": "stream",
     "text": [
      "Overall Ep 222000, Avg Rew (last 100): -174.84, Success (last 100): 0.20, Avg Sq Adv (last 100): 1.00\n"
     ]
    },
    {
     "name": "stderr",
     "output_type": "stream",
     "text": [
      "Training REINFORCE w/ Baseline:  12%|█▏        | 24000/200000 [32:41<3:53:38, 12.55it/s]"
     ]
    },
    {
     "name": "stdout",
     "output_type": "stream",
     "text": [
      "Overall Ep 224000, Avg Rew (last 100): -182.20, Success (last 100): 0.15, Avg Sq Adv (last 100): 1.00\n"
     ]
    },
    {
     "name": "stderr",
     "output_type": "stream",
     "text": [
      "Training REINFORCE w/ Baseline:  13%|█▎        | 26003/200000 [35:20<2:22:53, 20.30it/s]"
     ]
    },
    {
     "name": "stdout",
     "output_type": "stream",
     "text": [
      "Overall Ep 226000, Avg Rew (last 100): -176.79, Success (last 100): 0.18, Avg Sq Adv (last 100): 1.00\n"
     ]
    },
    {
     "name": "stderr",
     "output_type": "stream",
     "text": [
      "Training REINFORCE w/ Baseline:  14%|█▍        | 28003/200000 [37:59<2:40:31, 17.86it/s]"
     ]
    },
    {
     "name": "stdout",
     "output_type": "stream",
     "text": [
      "Overall Ep 228000, Avg Rew (last 100): -164.91, Success (last 100): 0.25, Avg Sq Adv (last 100): 1.00\n"
     ]
    },
    {
     "name": "stderr",
     "output_type": "stream",
     "text": [
      "Training REINFORCE w/ Baseline:  15%|█▌        | 30003/200000 [40:40<2:51:01, 16.57it/s]"
     ]
    },
    {
     "name": "stdout",
     "output_type": "stream",
     "text": [
      "Overall Ep 230000, Avg Rew (last 100): -183.14, Success (last 100): 0.15, Avg Sq Adv (last 100): 1.00\n"
     ]
    },
    {
     "name": "stderr",
     "output_type": "stream",
     "text": [
      "Training REINFORCE w/ Baseline:  16%|█▌        | 32003/200000 [43:18<2:17:09, 20.41it/s]"
     ]
    },
    {
     "name": "stdout",
     "output_type": "stream",
     "text": [
      "Overall Ep 232000, Avg Rew (last 100): -171.32, Success (last 100): 0.22, Avg Sq Adv (last 100): 1.00\n"
     ]
    },
    {
     "name": "stderr",
     "output_type": "stream",
     "text": [
      "Training REINFORCE w/ Baseline:  17%|█▋        | 34002/200000 [46:43<2:07:22, 21.72it/s] "
     ]
    },
    {
     "name": "stdout",
     "output_type": "stream",
     "text": [
      "Overall Ep 234000, Avg Rew (last 100): -169.40, Success (last 100): 0.24, Avg Sq Adv (last 100): 1.00\n"
     ]
    },
    {
     "name": "stderr",
     "output_type": "stream",
     "text": [
      "Training REINFORCE w/ Baseline:  18%|█▊        | 36002/200000 [50:39<5:26:55,  8.36it/s] "
     ]
    },
    {
     "name": "stdout",
     "output_type": "stream",
     "text": [
      "Overall Ep 236000, Avg Rew (last 100): -177.21, Success (last 100): 0.17, Avg Sq Adv (last 100): 1.00\n"
     ]
    },
    {
     "name": "stderr",
     "output_type": "stream",
     "text": [
      "Training REINFORCE w/ Baseline:  19%|█▉        | 38001/200000 [55:35<6:41:35,  6.72it/s] "
     ]
    },
    {
     "name": "stdout",
     "output_type": "stream",
     "text": [
      "Overall Ep 238000, Avg Rew (last 100): -174.09, Success (last 100): 0.24, Avg Sq Adv (last 100): 1.00\n"
     ]
    },
    {
     "name": "stderr",
     "output_type": "stream",
     "text": [
      "Training REINFORCE w/ Baseline:  20%|██        | 40002/200000 [59:31<1:52:06, 23.78it/s] "
     ]
    },
    {
     "name": "stdout",
     "output_type": "stream",
     "text": [
      "Overall Ep 240000, Avg Rew (last 100): -168.14, Success (last 100): 0.25, Avg Sq Adv (last 100): 1.00\n"
     ]
    },
    {
     "name": "stderr",
     "output_type": "stream",
     "text": [
      "Training REINFORCE w/ Baseline:  21%|██        | 42002/200000 [1:02:07<4:14:50, 10.33it/s]"
     ]
    },
    {
     "name": "stdout",
     "output_type": "stream",
     "text": [
      "Overall Ep 242000, Avg Rew (last 100): -182.17, Success (last 100): 0.18, Avg Sq Adv (last 100): 1.00\n"
     ]
    },
    {
     "name": "stderr",
     "output_type": "stream",
     "text": [
      "Training REINFORCE w/ Baseline:  22%|██▏       | 44002/200000 [1:04:45<3:09:36, 13.71it/s]"
     ]
    },
    {
     "name": "stdout",
     "output_type": "stream",
     "text": [
      "Overall Ep 244000, Avg Rew (last 100): -173.85, Success (last 100): 0.21, Avg Sq Adv (last 100): 1.00\n"
     ]
    },
    {
     "name": "stderr",
     "output_type": "stream",
     "text": [
      "Training REINFORCE w/ Baseline:  23%|██▎       | 46002/200000 [1:07:18<2:25:59, 17.58it/s]"
     ]
    },
    {
     "name": "stdout",
     "output_type": "stream",
     "text": [
      "Overall Ep 246000, Avg Rew (last 100): -172.53, Success (last 100): 0.22, Avg Sq Adv (last 100): 1.00\n"
     ]
    },
    {
     "name": "stderr",
     "output_type": "stream",
     "text": [
      "Training REINFORCE w/ Baseline:  24%|██▍       | 48001/200000 [1:09:48<3:43:55, 11.31it/s]"
     ]
    },
    {
     "name": "stdout",
     "output_type": "stream",
     "text": [
      "Overall Ep 248000, Avg Rew (last 100): -175.18, Success (last 100): 0.18, Avg Sq Adv (last 100): 1.00\n"
     ]
    },
    {
     "name": "stderr",
     "output_type": "stream",
     "text": [
      "Training REINFORCE w/ Baseline:  25%|██▌       | 50000/200000 [1:12:24<3:28:39, 11.98it/s]"
     ]
    },
    {
     "name": "stdout",
     "output_type": "stream",
     "text": [
      "Overall Ep 250000, Avg Rew (last 100): -170.58, Success (last 100): 0.21, Avg Sq Adv (last 100): 1.00\n"
     ]
    },
    {
     "name": "stderr",
     "output_type": "stream",
     "text": [
      "Training REINFORCE w/ Baseline:  26%|██▌       | 52000/200000 [1:15:28<3:58:58, 10.32it/s] "
     ]
    },
    {
     "name": "stdout",
     "output_type": "stream",
     "text": [
      "Overall Ep 252000, Avg Rew (last 100): -167.83, Success (last 100): 0.23, Avg Sq Adv (last 100): 1.00\n"
     ]
    },
    {
     "name": "stderr",
     "output_type": "stream",
     "text": [
      "Training REINFORCE w/ Baseline:  27%|██▋       | 54001/200000 [1:18:45<4:32:55,  8.92it/s]"
     ]
    },
    {
     "name": "stdout",
     "output_type": "stream",
     "text": [
      "Overall Ep 254000, Avg Rew (last 100): -171.58, Success (last 100): 0.21, Avg Sq Adv (last 100): 1.00\n"
     ]
    },
    {
     "name": "stderr",
     "output_type": "stream",
     "text": [
      "Training REINFORCE w/ Baseline:  28%|██▊       | 56001/200000 [1:21:27<4:03:59,  9.84it/s]"
     ]
    },
    {
     "name": "stdout",
     "output_type": "stream",
     "text": [
      "Overall Ep 256000, Avg Rew (last 100): -171.50, Success (last 100): 0.21, Avg Sq Adv (last 100): 1.00\n"
     ]
    },
    {
     "name": "stderr",
     "output_type": "stream",
     "text": [
      "Training REINFORCE w/ Baseline:  29%|██▉       | 58004/200000 [1:24:06<1:36:02, 24.64it/s]"
     ]
    },
    {
     "name": "stdout",
     "output_type": "stream",
     "text": [
      "Overall Ep 258000, Avg Rew (last 100): -178.83, Success (last 100): 0.15, Avg Sq Adv (last 100): 1.00\n"
     ]
    },
    {
     "name": "stderr",
     "output_type": "stream",
     "text": [
      "Training REINFORCE w/ Baseline:  30%|███       | 60001/200000 [1:26:44<3:33:04, 10.95it/s]"
     ]
    },
    {
     "name": "stdout",
     "output_type": "stream",
     "text": [
      "Overall Ep 260000, Avg Rew (last 100): -165.96, Success (last 100): 0.23, Avg Sq Adv (last 100): 1.00\n"
     ]
    },
    {
     "name": "stderr",
     "output_type": "stream",
     "text": [
      "Training REINFORCE w/ Baseline:  31%|███       | 62003/200000 [1:29:41<1:58:37, 19.39it/s]"
     ]
    },
    {
     "name": "stdout",
     "output_type": "stream",
     "text": [
      "Overall Ep 262000, Avg Rew (last 100): -185.70, Success (last 100): 0.14, Avg Sq Adv (last 100): 1.00\n"
     ]
    },
    {
     "name": "stderr",
     "output_type": "stream",
     "text": [
      "Training REINFORCE w/ Baseline:  32%|███▏      | 64002/200000 [1:33:01<2:13:08, 17.02it/s]"
     ]
    },
    {
     "name": "stdout",
     "output_type": "stream",
     "text": [
      "Overall Ep 264000, Avg Rew (last 100): -168.06, Success (last 100): 0.21, Avg Sq Adv (last 100): 1.00\n"
     ]
    },
    {
     "name": "stderr",
     "output_type": "stream",
     "text": [
      "Training REINFORCE w/ Baseline:  33%|███▎      | 66002/200000 [1:36:30<2:05:13, 17.83it/s]"
     ]
    },
    {
     "name": "stdout",
     "output_type": "stream",
     "text": [
      "Overall Ep 266000, Avg Rew (last 100): -170.97, Success (last 100): 0.21, Avg Sq Adv (last 100): 1.00\n"
     ]
    },
    {
     "name": "stderr",
     "output_type": "stream",
     "text": [
      "Training REINFORCE w/ Baseline:  34%|███▍      | 68001/200000 [1:39:27<4:13:29,  8.68it/s]"
     ]
    },
    {
     "name": "stdout",
     "output_type": "stream",
     "text": [
      "Overall Ep 268000, Avg Rew (last 100): -179.31, Success (last 100): 0.15, Avg Sq Adv (last 100): 1.00\n"
     ]
    },
    {
     "name": "stderr",
     "output_type": "stream",
     "text": [
      "Training REINFORCE w/ Baseline:  35%|███▌      | 70003/200000 [1:42:51<2:07:54, 16.94it/s]"
     ]
    },
    {
     "name": "stdout",
     "output_type": "stream",
     "text": [
      "Overall Ep 270000, Avg Rew (last 100): -172.45, Success (last 100): 0.20, Avg Sq Adv (last 100): 1.00\n"
     ]
    },
    {
     "name": "stderr",
     "output_type": "stream",
     "text": [
      "Training REINFORCE w/ Baseline:  36%|███▌      | 72001/200000 [1:46:28<5:08:37,  6.91it/s]"
     ]
    },
    {
     "name": "stdout",
     "output_type": "stream",
     "text": [
      "Overall Ep 272000, Avg Rew (last 100): -179.70, Success (last 100): 0.16, Avg Sq Adv (last 100): 1.00\n"
     ]
    },
    {
     "name": "stderr",
     "output_type": "stream",
     "text": [
      "Training REINFORCE w/ Baseline:  37%|███▋      | 74001/200000 [1:50:19<4:58:49,  7.03it/s] "
     ]
    },
    {
     "name": "stdout",
     "output_type": "stream",
     "text": [
      "Overall Ep 274000, Avg Rew (last 100): -168.05, Success (last 100): 0.22, Avg Sq Adv (last 100): 1.00\n"
     ]
    },
    {
     "name": "stderr",
     "output_type": "stream",
     "text": [
      "Training REINFORCE w/ Baseline:  38%|███▊      | 76001/200000 [1:53:55<1:41:00, 20.46it/s]"
     ]
    },
    {
     "name": "stdout",
     "output_type": "stream",
     "text": [
      "Overall Ep 276000, Avg Rew (last 100): -184.40, Success (last 100): 0.16, Avg Sq Adv (last 100): 1.00\n"
     ]
    },
    {
     "name": "stderr",
     "output_type": "stream",
     "text": [
      "Training REINFORCE w/ Baseline:  39%|███▉      | 78001/200000 [1:56:52<3:47:34,  8.93it/s]"
     ]
    },
    {
     "name": "stdout",
     "output_type": "stream",
     "text": [
      "Overall Ep 278000, Avg Rew (last 100): -183.41, Success (last 100): 0.15, Avg Sq Adv (last 100): 1.00\n"
     ]
    },
    {
     "name": "stderr",
     "output_type": "stream",
     "text": [
      "Training REINFORCE w/ Baseline:  40%|████      | 80001/200000 [2:00:12<4:18:19,  7.74it/s]"
     ]
    },
    {
     "name": "stdout",
     "output_type": "stream",
     "text": [
      "Overall Ep 280000, Avg Rew (last 100): -162.65, Success (last 100): 0.25, Avg Sq Adv (last 100): 1.00\n"
     ]
    },
    {
     "name": "stderr",
     "output_type": "stream",
     "text": [
      "Training REINFORCE w/ Baseline:  41%|████      | 82002/200000 [2:03:01<2:55:05, 11.23it/s]"
     ]
    },
    {
     "name": "stdout",
     "output_type": "stream",
     "text": [
      "Overall Ep 282000, Avg Rew (last 100): -187.92, Success (last 100): 0.10, Avg Sq Adv (last 100): 1.00\n"
     ]
    },
    {
     "name": "stderr",
     "output_type": "stream",
     "text": [
      "Training REINFORCE w/ Baseline:  42%|████▏     | 84000/200000 [2:05:37<2:15:19, 14.29it/s]"
     ]
    },
    {
     "name": "stdout",
     "output_type": "stream",
     "text": [
      "Overall Ep 284000, Avg Rew (last 100): -152.13, Success (last 100): 0.30, Avg Sq Adv (last 100): 1.00\n"
     ]
    },
    {
     "name": "stderr",
     "output_type": "stream",
     "text": [
      "Training REINFORCE w/ Baseline:  43%|████▎     | 86001/200000 [2:08:19<1:27:11, 21.79it/s]"
     ]
    },
    {
     "name": "stdout",
     "output_type": "stream",
     "text": [
      "Overall Ep 286000, Avg Rew (last 100): -163.37, Success (last 100): 0.24, Avg Sq Adv (last 100): 1.00\n"
     ]
    },
    {
     "name": "stderr",
     "output_type": "stream",
     "text": [
      "Training REINFORCE w/ Baseline:  44%|████▍     | 88001/200000 [2:11:06<3:18:48,  9.39it/s]"
     ]
    },
    {
     "name": "stdout",
     "output_type": "stream",
     "text": [
      "Overall Ep 288000, Avg Rew (last 100): -169.83, Success (last 100): 0.21, Avg Sq Adv (last 100): 1.00\n"
     ]
    },
    {
     "name": "stderr",
     "output_type": "stream",
     "text": [
      "Training REINFORCE w/ Baseline:  45%|████▌     | 90000/200000 [2:13:49<1:30:05, 20.35it/s]"
     ]
    },
    {
     "name": "stdout",
     "output_type": "stream",
     "text": [
      "Overall Ep 290000, Avg Rew (last 100): -169.37, Success (last 100): 0.20, Avg Sq Adv (last 100): 1.00\n"
     ]
    },
    {
     "name": "stderr",
     "output_type": "stream",
     "text": [
      "Training REINFORCE w/ Baseline:  46%|████▌     | 92003/200000 [2:16:36<1:22:12, 21.90it/s]"
     ]
    },
    {
     "name": "stdout",
     "output_type": "stream",
     "text": [
      "Overall Ep 292000, Avg Rew (last 100): -168.37, Success (last 100): 0.21, Avg Sq Adv (last 100): 1.00\n"
     ]
    },
    {
     "name": "stderr",
     "output_type": "stream",
     "text": [
      "Training REINFORCE w/ Baseline:  47%|████▋     | 94003/200000 [2:19:30<1:23:58, 21.04it/s]"
     ]
    },
    {
     "name": "stdout",
     "output_type": "stream",
     "text": [
      "Overall Ep 294000, Avg Rew (last 100): -170.23, Success (last 100): 0.22, Avg Sq Adv (last 100): 1.00\n"
     ]
    },
    {
     "name": "stderr",
     "output_type": "stream",
     "text": [
      "Training REINFORCE w/ Baseline:  48%|████▊     | 96001/200000 [2:22:45<3:28:30,  8.31it/s]"
     ]
    },
    {
     "name": "stdout",
     "output_type": "stream",
     "text": [
      "Overall Ep 296000, Avg Rew (last 100): -165.01, Success (last 100): 0.22, Avg Sq Adv (last 100): 1.00\n"
     ]
    },
    {
     "name": "stderr",
     "output_type": "stream",
     "text": [
      "Training REINFORCE w/ Baseline:  49%|████▉     | 98002/200000 [2:25:52<2:24:29, 11.76it/s]"
     ]
    },
    {
     "name": "stdout",
     "output_type": "stream",
     "text": [
      "Overall Ep 298000, Avg Rew (last 100): -183.07, Success (last 100): 0.13, Avg Sq Adv (last 100): 1.00\n"
     ]
    },
    {
     "name": "stderr",
     "output_type": "stream",
     "text": [
      "Training REINFORCE w/ Baseline:  50%|█████     | 100001/200000 [2:28:38<2:16:57, 12.17it/s]"
     ]
    },
    {
     "name": "stdout",
     "output_type": "stream",
     "text": [
      "Overall Ep 300000, Avg Rew (last 100): -172.28, Success (last 100): 0.18, Avg Sq Adv (last 100): 1.00\n"
     ]
    },
    {
     "name": "stderr",
     "output_type": "stream",
     "text": [
      "Training REINFORCE w/ Baseline:  51%|█████     | 102001/200000 [2:32:04<3:35:43,  7.57it/s]"
     ]
    },
    {
     "name": "stdout",
     "output_type": "stream",
     "text": [
      "Overall Ep 302000, Avg Rew (last 100): -172.67, Success (last 100): 0.19, Avg Sq Adv (last 100): 1.00\n"
     ]
    },
    {
     "name": "stderr",
     "output_type": "stream",
     "text": [
      "Training REINFORCE w/ Baseline:  52%|█████▏    | 104001/200000 [2:35:18<2:50:09,  9.40it/s]"
     ]
    },
    {
     "name": "stdout",
     "output_type": "stream",
     "text": [
      "Overall Ep 304000, Avg Rew (last 100): -179.38, Success (last 100): 0.15, Avg Sq Adv (last 100): 1.00\n"
     ]
    },
    {
     "name": "stderr",
     "output_type": "stream",
     "text": [
      "Training REINFORCE w/ Baseline:  53%|█████▎    | 106001/200000 [2:38:32<2:45:08,  9.49it/s]"
     ]
    },
    {
     "name": "stdout",
     "output_type": "stream",
     "text": [
      "Overall Ep 306000, Avg Rew (last 100): -181.24, Success (last 100): 0.13, Avg Sq Adv (last 100): 1.00\n"
     ]
    },
    {
     "name": "stderr",
     "output_type": "stream",
     "text": [
      "Training REINFORCE w/ Baseline:  54%|█████▍    | 108002/200000 [2:41:12<2:25:00, 10.57it/s]"
     ]
    },
    {
     "name": "stdout",
     "output_type": "stream",
     "text": [
      "Overall Ep 308000, Avg Rew (last 100): -182.87, Success (last 100): 0.13, Avg Sq Adv (last 100): 1.00\n"
     ]
    },
    {
     "name": "stderr",
     "output_type": "stream",
     "text": [
      "Training REINFORCE w/ Baseline:  55%|█████▌    | 110003/200000 [2:43:53<2:07:20, 11.78it/s]"
     ]
    },
    {
     "name": "stdout",
     "output_type": "stream",
     "text": [
      "Overall Ep 310000, Avg Rew (last 100): -174.39, Success (last 100): 0.17, Avg Sq Adv (last 100): 1.00\n"
     ]
    },
    {
     "name": "stderr",
     "output_type": "stream",
     "text": [
      "Training REINFORCE w/ Baseline:  56%|█████▌    | 112002/200000 [2:47:21<1:14:51, 19.59it/s]"
     ]
    },
    {
     "name": "stdout",
     "output_type": "stream",
     "text": [
      "Overall Ep 312000, Avg Rew (last 100): -178.13, Success (last 100): 0.16, Avg Sq Adv (last 100): 1.00\n"
     ]
    },
    {
     "name": "stderr",
     "output_type": "stream",
     "text": [
      "Training REINFORCE w/ Baseline:  57%|█████▋    | 114003/200000 [2:50:01<1:26:39, 16.54it/s]"
     ]
    },
    {
     "name": "stdout",
     "output_type": "stream",
     "text": [
      "Overall Ep 314000, Avg Rew (last 100): -165.48, Success (last 100): 0.22, Avg Sq Adv (last 100): 1.00\n"
     ]
    },
    {
     "name": "stderr",
     "output_type": "stream",
     "text": [
      "Training REINFORCE w/ Baseline:  58%|█████▊    | 116002/200000 [2:52:39<1:16:24, 18.32it/s]"
     ]
    },
    {
     "name": "stdout",
     "output_type": "stream",
     "text": [
      "Overall Ep 316000, Avg Rew (last 100): -180.04, Success (last 100): 0.15, Avg Sq Adv (last 100): 1.00\n"
     ]
    },
    {
     "name": "stderr",
     "output_type": "stream",
     "text": [
      "Training REINFORCE w/ Baseline:  59%|█████▉    | 118005/200000 [2:55:14<1:00:09, 22.72it/s]"
     ]
    },
    {
     "name": "stdout",
     "output_type": "stream",
     "text": [
      "Overall Ep 318000, Avg Rew (last 100): -173.19, Success (last 100): 0.19, Avg Sq Adv (last 100): 1.00\n"
     ]
    },
    {
     "name": "stderr",
     "output_type": "stream",
     "text": [
      "Training REINFORCE w/ Baseline:  60%|██████    | 120001/200000 [2:57:54<2:14:46,  9.89it/s]"
     ]
    },
    {
     "name": "stdout",
     "output_type": "stream",
     "text": [
      "Overall Ep 320000, Avg Rew (last 100): -165.58, Success (last 100): 0.23, Avg Sq Adv (last 100): 1.00\n"
     ]
    },
    {
     "name": "stderr",
     "output_type": "stream",
     "text": [
      "Training REINFORCE w/ Baseline:  61%|██████    | 122004/200000 [3:00:32<52:22, 24.82it/s]  "
     ]
    },
    {
     "name": "stdout",
     "output_type": "stream",
     "text": [
      "Overall Ep 322000, Avg Rew (last 100): -175.33, Success (last 100): 0.18, Avg Sq Adv (last 100): 1.00\n"
     ]
    },
    {
     "name": "stderr",
     "output_type": "stream",
     "text": [
      "Training REINFORCE w/ Baseline:  62%|██████▏   | 124000/200000 [3:03:08<1:20:47, 15.68it/s]"
     ]
    },
    {
     "name": "stdout",
     "output_type": "stream",
     "text": [
      "Overall Ep 324000, Avg Rew (last 100): -176.66, Success (last 100): 0.16, Avg Sq Adv (last 100): 1.00\n"
     ]
    },
    {
     "name": "stderr",
     "output_type": "stream",
     "text": [
      "Training REINFORCE w/ Baseline:  63%|██████▎   | 126001/200000 [3:05:45<1:48:38, 11.35it/s]"
     ]
    },
    {
     "name": "stdout",
     "output_type": "stream",
     "text": [
      "Overall Ep 326000, Avg Rew (last 100): -161.49, Success (last 100): 0.24, Avg Sq Adv (last 100): 1.00\n"
     ]
    },
    {
     "name": "stderr",
     "output_type": "stream",
     "text": [
      "Training REINFORCE w/ Baseline:  64%|██████▍   | 128001/200000 [3:08:22<1:53:39, 10.56it/s]"
     ]
    },
    {
     "name": "stdout",
     "output_type": "stream",
     "text": [
      "Overall Ep 328000, Avg Rew (last 100): -169.26, Success (last 100): 0.19, Avg Sq Adv (last 100): 1.00\n"
     ]
    },
    {
     "name": "stderr",
     "output_type": "stream",
     "text": [
      "Training REINFORCE w/ Baseline:  65%|██████▌   | 130000/200000 [3:11:00<1:38:17, 11.87it/s]"
     ]
    },
    {
     "name": "stdout",
     "output_type": "stream",
     "text": [
      "Overall Ep 330000, Avg Rew (last 100): -166.14, Success (last 100): 0.24, Avg Sq Adv (last 100): 1.00\n"
     ]
    },
    {
     "name": "stderr",
     "output_type": "stream",
     "text": [
      "Training REINFORCE w/ Baseline:  66%|██████▌   | 132001/200000 [3:13:39<2:05:01,  9.06it/s]"
     ]
    },
    {
     "name": "stdout",
     "output_type": "stream",
     "text": [
      "Overall Ep 332000, Avg Rew (last 100): -170.47, Success (last 100): 0.19, Avg Sq Adv (last 100): 1.00\n"
     ]
    },
    {
     "name": "stderr",
     "output_type": "stream",
     "text": [
      "Training REINFORCE w/ Baseline:  67%|██████▋   | 134002/200000 [3:16:15<1:39:35, 11.04it/s]"
     ]
    },
    {
     "name": "stdout",
     "output_type": "stream",
     "text": [
      "Overall Ep 334000, Avg Rew (last 100): -166.85, Success (last 100): 0.22, Avg Sq Adv (last 100): 1.00\n"
     ]
    },
    {
     "name": "stderr",
     "output_type": "stream",
     "text": [
      "Training REINFORCE w/ Baseline:  68%|██████▊   | 136003/200000 [3:18:53<52:29, 20.32it/s]  "
     ]
    },
    {
     "name": "stdout",
     "output_type": "stream",
     "text": [
      "Overall Ep 336000, Avg Rew (last 100): -164.82, Success (last 100): 0.22, Avg Sq Adv (last 100): 1.00\n"
     ]
    },
    {
     "name": "stderr",
     "output_type": "stream",
     "text": [
      "Training REINFORCE w/ Baseline:  69%|██████▉   | 138002/200000 [3:21:28<48:54, 21.13it/s]  "
     ]
    },
    {
     "name": "stdout",
     "output_type": "stream",
     "text": [
      "Overall Ep 338000, Avg Rew (last 100): -170.26, Success (last 100): 0.18, Avg Sq Adv (last 100): 1.00\n"
     ]
    },
    {
     "name": "stderr",
     "output_type": "stream",
     "text": [
      "Training REINFORCE w/ Baseline:  70%|███████   | 140001/200000 [3:24:05<1:37:06, 10.30it/s]"
     ]
    },
    {
     "name": "stdout",
     "output_type": "stream",
     "text": [
      "Overall Ep 340000, Avg Rew (last 100): -167.49, Success (last 100): 0.21, Avg Sq Adv (last 100): 1.00\n"
     ]
    },
    {
     "name": "stderr",
     "output_type": "stream",
     "text": [
      "Training REINFORCE w/ Baseline:  71%|███████   | 142001/200000 [3:26:45<1:24:07, 11.49it/s]"
     ]
    },
    {
     "name": "stdout",
     "output_type": "stream",
     "text": [
      "Overall Ep 342000, Avg Rew (last 100): -181.89, Success (last 100): 0.14, Avg Sq Adv (last 100): 1.00\n"
     ]
    },
    {
     "name": "stderr",
     "output_type": "stream",
     "text": [
      "Training REINFORCE w/ Baseline:  72%|███████▏  | 144000/200000 [3:29:18<1:31:51, 10.16it/s]"
     ]
    },
    {
     "name": "stdout",
     "output_type": "stream",
     "text": [
      "Overall Ep 344000, Avg Rew (last 100): -173.92, Success (last 100): 0.17, Avg Sq Adv (last 100): 1.00\n"
     ]
    },
    {
     "name": "stderr",
     "output_type": "stream",
     "text": [
      "Training REINFORCE w/ Baseline:  73%|███████▎  | 146001/200000 [3:31:56<1:32:39,  9.71it/s]"
     ]
    },
    {
     "name": "stdout",
     "output_type": "stream",
     "text": [
      "Overall Ep 346000, Avg Rew (last 100): -165.69, Success (last 100): 0.21, Avg Sq Adv (last 100): 1.00\n"
     ]
    },
    {
     "name": "stderr",
     "output_type": "stream",
     "text": [
      "Training REINFORCE w/ Baseline:  74%|███████▍  | 148001/200000 [3:34:30<1:34:32,  9.17it/s]"
     ]
    },
    {
     "name": "stdout",
     "output_type": "stream",
     "text": [
      "Overall Ep 348000, Avg Rew (last 100): -179.66, Success (last 100): 0.14, Avg Sq Adv (last 100): 1.00\n"
     ]
    },
    {
     "name": "stderr",
     "output_type": "stream",
     "text": [
      "Training REINFORCE w/ Baseline:  75%|███████▌  | 150000/200000 [3:37:06<1:22:45, 10.07it/s]"
     ]
    },
    {
     "name": "stdout",
     "output_type": "stream",
     "text": [
      "Overall Ep 350000, Avg Rew (last 100): -168.76, Success (last 100): 0.20, Avg Sq Adv (last 100): 1.00\n"
     ]
    },
    {
     "name": "stderr",
     "output_type": "stream",
     "text": [
      "Training REINFORCE w/ Baseline:  76%|███████▌  | 152001/200000 [3:39:39<1:33:01,  8.60it/s]"
     ]
    },
    {
     "name": "stdout",
     "output_type": "stream",
     "text": [
      "Overall Ep 352000, Avg Rew (last 100): -173.96, Success (last 100): 0.17, Avg Sq Adv (last 100): 1.00\n"
     ]
    },
    {
     "name": "stderr",
     "output_type": "stream",
     "text": [
      "Training REINFORCE w/ Baseline:  77%|███████▋  | 154001/200000 [3:42:12<58:07, 13.19it/s]  "
     ]
    },
    {
     "name": "stdout",
     "output_type": "stream",
     "text": [
      "Overall Ep 354000, Avg Rew (last 100): -180.56, Success (last 100): 0.13, Avg Sq Adv (last 100): 1.00\n"
     ]
    },
    {
     "name": "stderr",
     "output_type": "stream",
     "text": [
      "Training REINFORCE w/ Baseline:  78%|███████▊  | 156001/200000 [3:44:48<1:05:30, 11.19it/s]"
     ]
    },
    {
     "name": "stdout",
     "output_type": "stream",
     "text": [
      "Overall Ep 356000, Avg Rew (last 100): -155.59, Success (last 100): 0.28, Avg Sq Adv (last 100): 1.00\n"
     ]
    },
    {
     "name": "stderr",
     "output_type": "stream",
     "text": [
      "Training REINFORCE w/ Baseline:  79%|███████▉  | 158000/200000 [3:47:31<1:11:38,  9.77it/s]"
     ]
    },
    {
     "name": "stdout",
     "output_type": "stream",
     "text": [
      "Overall Ep 358000, Avg Rew (last 100): -177.22, Success (last 100): 0.15, Avg Sq Adv (last 100): 1.00\n"
     ]
    },
    {
     "name": "stderr",
     "output_type": "stream",
     "text": [
      "Training REINFORCE w/ Baseline:  80%|████████  | 160002/200000 [3:50:23<31:50, 20.94it/s]  "
     ]
    },
    {
     "name": "stdout",
     "output_type": "stream",
     "text": [
      "Overall Ep 360000, Avg Rew (last 100): -174.95, Success (last 100): 0.16, Avg Sq Adv (last 100): 1.00\n"
     ]
    },
    {
     "name": "stderr",
     "output_type": "stream",
     "text": [
      "Training REINFORCE w/ Baseline:  81%|████████  | 162001/200000 [3:53:01<59:46, 10.59it/s]  "
     ]
    },
    {
     "name": "stdout",
     "output_type": "stream",
     "text": [
      "Overall Ep 362000, Avg Rew (last 100): -176.93, Success (last 100): 0.15, Avg Sq Adv (last 100): 1.00\n"
     ]
    },
    {
     "name": "stderr",
     "output_type": "stream",
     "text": [
      "Training REINFORCE w/ Baseline:  82%|████████▏ | 164001/200000 [3:55:34<1:04:00,  9.37it/s]"
     ]
    },
    {
     "name": "stdout",
     "output_type": "stream",
     "text": [
      "Overall Ep 364000, Avg Rew (last 100): -166.33, Success (last 100): 0.21, Avg Sq Adv (last 100): 1.00\n"
     ]
    },
    {
     "name": "stderr",
     "output_type": "stream",
     "text": [
      "Training REINFORCE w/ Baseline:  83%|████████▎ | 166001/200000 [3:58:14<48:23, 11.71it/s]  "
     ]
    },
    {
     "name": "stdout",
     "output_type": "stream",
     "text": [
      "Overall Ep 366000, Avg Rew (last 100): -171.45, Success (last 100): 0.18, Avg Sq Adv (last 100): 1.00\n"
     ]
    },
    {
     "name": "stderr",
     "output_type": "stream",
     "text": [
      "Training REINFORCE w/ Baseline:  84%|████████▍ | 167999/200000 [4:00:49<23:12, 22.97it/s]  "
     ]
    },
    {
     "name": "stdout",
     "output_type": "stream",
     "text": [
      "Overall Ep 368000, Avg Rew (last 100): -165.16, Success (last 100): 0.20, Avg Sq Adv (last 100): 1.00\n"
     ]
    },
    {
     "name": "stderr",
     "output_type": "stream",
     "text": [
      "Training REINFORCE w/ Baseline:  85%|████████▌ | 170002/200000 [4:03:28<53:04,  9.42it/s]  "
     ]
    },
    {
     "name": "stdout",
     "output_type": "stream",
     "text": [
      "Overall Ep 370000, Avg Rew (last 100): -170.16, Success (last 100): 0.19, Avg Sq Adv (last 100): 1.00\n"
     ]
    },
    {
     "name": "stderr",
     "output_type": "stream",
     "text": [
      "Training REINFORCE w/ Baseline:  86%|████████▌ | 172001/200000 [4:06:04<51:05,  9.13it/s]  "
     ]
    },
    {
     "name": "stdout",
     "output_type": "stream",
     "text": [
      "Overall Ep 372000, Avg Rew (last 100): -171.98, Success (last 100): 0.17, Avg Sq Adv (last 100): 1.00\n"
     ]
    },
    {
     "name": "stderr",
     "output_type": "stream",
     "text": [
      "Training REINFORCE w/ Baseline:  87%|████████▋ | 174001/200000 [4:08:47<31:00, 13.98it/s]  "
     ]
    },
    {
     "name": "stdout",
     "output_type": "stream",
     "text": [
      "Overall Ep 374000, Avg Rew (last 100): -171.92, Success (last 100): 0.19, Avg Sq Adv (last 100): 1.00\n"
     ]
    },
    {
     "name": "stderr",
     "output_type": "stream",
     "text": [
      "Training REINFORCE w/ Baseline:  88%|████████▊ | 176001/200000 [4:11:26<42:51,  9.33it/s]  "
     ]
    },
    {
     "name": "stdout",
     "output_type": "stream",
     "text": [
      "Overall Ep 376000, Avg Rew (last 100): -164.13, Success (last 100): 0.23, Avg Sq Adv (last 100): 1.00\n"
     ]
    },
    {
     "name": "stderr",
     "output_type": "stream",
     "text": [
      "Training REINFORCE w/ Baseline:  89%|████████▉ | 178002/200000 [4:14:08<24:43, 14.83it/s]"
     ]
    },
    {
     "name": "stdout",
     "output_type": "stream",
     "text": [
      "Overall Ep 378000, Avg Rew (last 100): -181.84, Success (last 100): 0.12, Avg Sq Adv (last 100): 1.00\n"
     ]
    },
    {
     "name": "stderr",
     "output_type": "stream",
     "text": [
      "Training REINFORCE w/ Baseline:  90%|█████████ | 180002/200000 [4:16:41<37:39,  8.85it/s]"
     ]
    },
    {
     "name": "stdout",
     "output_type": "stream",
     "text": [
      "Overall Ep 380000, Avg Rew (last 100): -178.52, Success (last 100): 0.13, Avg Sq Adv (last 100): 1.00\n"
     ]
    },
    {
     "name": "stderr",
     "output_type": "stream",
     "text": [
      "Training REINFORCE w/ Baseline:  91%|█████████ | 182000/200000 [4:19:18<30:45,  9.75it/s]"
     ]
    },
    {
     "name": "stdout",
     "output_type": "stream",
     "text": [
      "Overall Ep 382000, Avg Rew (last 100): -176.71, Success (last 100): 0.14, Avg Sq Adv (last 100): 1.00\n"
     ]
    },
    {
     "name": "stderr",
     "output_type": "stream",
     "text": [
      "Training REINFORCE w/ Baseline:  92%|█████████▏| 184001/200000 [4:21:53<25:22, 10.51it/s]"
     ]
    },
    {
     "name": "stdout",
     "output_type": "stream",
     "text": [
      "Overall Ep 384000, Avg Rew (last 100): -165.76, Success (last 100): 0.21, Avg Sq Adv (last 100): 1.00\n"
     ]
    },
    {
     "name": "stderr",
     "output_type": "stream",
     "text": [
      "Training REINFORCE w/ Baseline:  93%|█████████▎| 186002/200000 [4:24:32<10:01, 23.25it/s]"
     ]
    },
    {
     "name": "stdout",
     "output_type": "stream",
     "text": [
      "Overall Ep 386000, Avg Rew (last 100): -171.33, Success (last 100): 0.18, Avg Sq Adv (last 100): 1.00\n"
     ]
    },
    {
     "name": "stderr",
     "output_type": "stream",
     "text": [
      "Training REINFORCE w/ Baseline:  94%|█████████▍| 188001/200000 [4:27:09<14:48, 13.51it/s]"
     ]
    },
    {
     "name": "stdout",
     "output_type": "stream",
     "text": [
      "Overall Ep 388000, Avg Rew (last 100): -171.43, Success (last 100): 0.18, Avg Sq Adv (last 100): 1.00\n"
     ]
    },
    {
     "name": "stderr",
     "output_type": "stream",
     "text": [
      "Training REINFORCE w/ Baseline:  95%|█████████▌| 190003/200000 [4:29:47<13:55, 11.96it/s]"
     ]
    },
    {
     "name": "stdout",
     "output_type": "stream",
     "text": [
      "Overall Ep 390000, Avg Rew (last 100): -170.00, Success (last 100): 0.18, Avg Sq Adv (last 100): 1.00\n"
     ]
    },
    {
     "name": "stderr",
     "output_type": "stream",
     "text": [
      "Training REINFORCE w/ Baseline:  96%|█████████▌| 192003/200000 [4:32:22<06:35, 20.25it/s]"
     ]
    },
    {
     "name": "stdout",
     "output_type": "stream",
     "text": [
      "Overall Ep 392000, Avg Rew (last 100): -171.89, Success (last 100): 0.18, Avg Sq Adv (last 100): 1.00\n"
     ]
    },
    {
     "name": "stderr",
     "output_type": "stream",
     "text": [
      "Training REINFORCE w/ Baseline:  97%|█████████▋| 194003/200000 [4:35:01<03:59, 25.07it/s]"
     ]
    },
    {
     "name": "stdout",
     "output_type": "stream",
     "text": [
      "Overall Ep 394000, Avg Rew (last 100): -140.25, Success (last 100): 0.34, Avg Sq Adv (last 100): 1.00\n"
     ]
    },
    {
     "name": "stderr",
     "output_type": "stream",
     "text": [
      "Training REINFORCE w/ Baseline:  98%|█████████▊| 196003/200000 [4:37:36<04:26, 15.00it/s]"
     ]
    },
    {
     "name": "stdout",
     "output_type": "stream",
     "text": [
      "Overall Ep 396000, Avg Rew (last 100): -173.01, Success (last 100): 0.17, Avg Sq Adv (last 100): 1.00\n"
     ]
    },
    {
     "name": "stderr",
     "output_type": "stream",
     "text": [
      "Training REINFORCE w/ Baseline:  99%|█████████▉| 198001/200000 [4:40:10<03:12, 10.37it/s]"
     ]
    },
    {
     "name": "stdout",
     "output_type": "stream",
     "text": [
      "Overall Ep 398000, Avg Rew (last 100): -166.50, Success (last 100): 0.21, Avg Sq Adv (last 100): 1.00\n"
     ]
    },
    {
     "name": "stderr",
     "output_type": "stream",
     "text": [
      "Training REINFORCE w/ Baseline: 100%|██████████| 200000/200000 [4:42:48<00:00, 11.79it/s]"
     ]
    },
    {
     "name": "stdout",
     "output_type": "stream",
     "text": [
      "Overall Ep 400000, Avg Rew (last 100): -176.52, Success (last 100): 0.15, Avg Sq Adv (last 100): 1.00\n"
     ]
    },
    {
     "name": "stderr",
     "output_type": "stream",
     "text": [
      "\n"
     ]
    },
    {
     "name": "stdout",
     "output_type": "stream",
     "text": [
      "REINFORCE w/ Baseline Training Time for this run: 16969.49 seconds\n",
      "Saved REINFORCE weights and logs to files starting with: taxi_reinforce_linear_400k\n"
     ]
    },
    {
     "ename": "ValueError",
     "evalue": "x and y must have same first dimension, but have shapes (396001,) and (196001,)",
     "output_type": "error",
     "traceback": [
      "\u001b[1;31m---------------------------------------------------------------------------\u001b[0m",
      "\u001b[1;31mValueError\u001b[0m                                Traceback (most recent call last)",
      "Input \u001b[1;32mIn [2]\u001b[0m, in \u001b[0;36m<cell line: 255>\u001b[1;34m()\u001b[0m\n\u001b[0;32m    330\u001b[0m np\u001b[38;5;241m.\u001b[39msave(\u001b[38;5;124mf\u001b[39m\u001b[38;5;124m\"\u001b[39m\u001b[38;5;132;01m{\u001b[39;00mpg_save_base\u001b[38;5;132;01m}\u001b[39;00m\u001b[38;5;124m_avg_sq_advantage.npy\u001b[39m\u001b[38;5;124m\"\u001b[39m, np\u001b[38;5;241m.\u001b[39marray(pg_learning_curves[\u001b[38;5;124m\"\u001b[39m\u001b[38;5;124mavg_sq_advantage\u001b[39m\u001b[38;5;124m\"\u001b[39m]))\n\u001b[0;32m    331\u001b[0m \u001b[38;5;28mprint\u001b[39m(\u001b[38;5;124mf\u001b[39m\u001b[38;5;124m\"\u001b[39m\u001b[38;5;124mSaved REINFORCE weights and logs to files starting with: \u001b[39m\u001b[38;5;132;01m{\u001b[39;00mpg_save_base\u001b[38;5;132;01m}\u001b[39;00m\u001b[38;5;124m\"\u001b[39m)\n\u001b[1;32m--> 333\u001b[0m \u001b[38;5;28;01mif\u001b[39;00m pg_learning_curves[\u001b[38;5;124m\"\u001b[39m\u001b[38;5;124mrewards\u001b[39m\u001b[38;5;124m\"\u001b[39m]: plot_pg_learning_curves(pg_learning_curves)\n\u001b[0;32m    335\u001b[0m pg_final_policy \u001b[38;5;241m=\u001b[39m derive_pg_policy(theta_actor_final, env_pg\u001b[38;5;241m.\u001b[39mobservation_space\u001b[38;5;241m.\u001b[39mn, env_pg\u001b[38;5;241m.\u001b[39maction_space\u001b[38;5;241m.\u001b[39mn)\n\u001b[0;32m    336\u001b[0m pg_avg_reward, pg_avg_steps, pg_success_rate, pg_std_reward, pg_std_steps \u001b[38;5;241m=\u001b[39m evaluate_pg_policy(\n\u001b[0;32m    337\u001b[0m     env_pg, pg_final_policy, num_episodes\u001b[38;5;241m=\u001b[39m\u001b[38;5;241m1000\u001b[39m, algorithm_name\u001b[38;5;241m=\u001b[39m\u001b[38;5;124m\"\u001b[39m\u001b[38;5;124mREINFORCE Policy\u001b[39m\u001b[38;5;124m\"\u001b[39m\n\u001b[0;32m    338\u001b[0m )\n",
      "Input \u001b[1;32mIn [2]\u001b[0m, in \u001b[0;36mplot_pg_learning_curves\u001b[1;34m(learning_curves_data, algorithm_name)\u001b[0m\n\u001b[0;32m    235\u001b[0m \u001b[38;5;28;01mif\u001b[39;00m num_episodes \u001b[38;5;241m>\u001b[39m\u001b[38;5;241m=\u001b[39m window:\n\u001b[0;32m    236\u001b[0m     smoothed_steps \u001b[38;5;241m=\u001b[39m np\u001b[38;5;241m.\u001b[39mconvolve(learning_curves_data[\u001b[38;5;124m\"\u001b[39m\u001b[38;5;124msteps\u001b[39m\u001b[38;5;124m\"\u001b[39m], np\u001b[38;5;241m.\u001b[39mones(window)\u001b[38;5;241m/\u001b[39mwindow, mode\u001b[38;5;241m=\u001b[39m\u001b[38;5;124m'\u001b[39m\u001b[38;5;124mvalid\u001b[39m\u001b[38;5;124m'\u001b[39m)\n\u001b[1;32m--> 237\u001b[0m     \u001b[43mplt\u001b[49m\u001b[38;5;241;43m.\u001b[39;49m\u001b[43mplot\u001b[49m\u001b[43m(\u001b[49m\u001b[43mepisodes_axis\u001b[49m\u001b[43m[\u001b[49m\u001b[43mwindow\u001b[49m\u001b[38;5;241;43m-\u001b[39;49m\u001b[38;5;241;43m1\u001b[39;49m\u001b[43m:\u001b[49m\u001b[43m]\u001b[49m\u001b[43m,\u001b[49m\u001b[43m \u001b[49m\u001b[43msmoothed_steps\u001b[49m\u001b[43m,\u001b[49m\u001b[43m \u001b[49m\u001b[43mlabel\u001b[49m\u001b[38;5;241;43m=\u001b[39;49m\u001b[38;5;124;43mf\u001b[39;49m\u001b[38;5;124;43m'\u001b[39;49m\u001b[38;5;124;43mSmoothed (win \u001b[39;49m\u001b[38;5;132;43;01m{\u001b[39;49;00m\u001b[43mwindow\u001b[49m\u001b[38;5;132;43;01m}\u001b[39;49;00m\u001b[38;5;124;43m)\u001b[39;49m\u001b[38;5;124;43m'\u001b[39;49m\u001b[43m)\u001b[49m\n\u001b[0;32m    238\u001b[0m plt\u001b[38;5;241m.\u001b[39mplot(episodes_axis, learning_curves_data[\u001b[38;5;124m\"\u001b[39m\u001b[38;5;124msteps\u001b[39m\u001b[38;5;124m\"\u001b[39m], alpha\u001b[38;5;241m=\u001b[39m\u001b[38;5;241m0.3\u001b[39m, label\u001b[38;5;241m=\u001b[39m\u001b[38;5;124m'\u001b[39m\u001b[38;5;124mRaw\u001b[39m\u001b[38;5;124m'\u001b[39m)\n\u001b[0;32m    239\u001b[0m plt\u001b[38;5;241m.\u001b[39mtitle(\u001b[38;5;124m'\u001b[39m\u001b[38;5;124mSteps/Ep\u001b[39m\u001b[38;5;124m'\u001b[39m); plt\u001b[38;5;241m.\u001b[39mxlabel(\u001b[38;5;124m'\u001b[39m\u001b[38;5;124mEpisode\u001b[39m\u001b[38;5;124m'\u001b[39m); plt\u001b[38;5;241m.\u001b[39mylabel(\u001b[38;5;124m'\u001b[39m\u001b[38;5;124mSteps\u001b[39m\u001b[38;5;124m'\u001b[39m); plt\u001b[38;5;241m.\u001b[39mlegend(); plt\u001b[38;5;241m.\u001b[39mgrid(\u001b[38;5;28;01mTrue\u001b[39;00m)\n",
      "File \u001b[1;32m~\\anaconda3\\lib\\site-packages\\matplotlib\\pyplot.py:2757\u001b[0m, in \u001b[0;36mplot\u001b[1;34m(scalex, scaley, data, *args, **kwargs)\u001b[0m\n\u001b[0;32m   2755\u001b[0m \u001b[38;5;129m@_copy_docstring_and_deprecators\u001b[39m(Axes\u001b[38;5;241m.\u001b[39mplot)\n\u001b[0;32m   2756\u001b[0m \u001b[38;5;28;01mdef\u001b[39;00m \u001b[38;5;21mplot\u001b[39m(\u001b[38;5;241m*\u001b[39margs, scalex\u001b[38;5;241m=\u001b[39m\u001b[38;5;28;01mTrue\u001b[39;00m, scaley\u001b[38;5;241m=\u001b[39m\u001b[38;5;28;01mTrue\u001b[39;00m, data\u001b[38;5;241m=\u001b[39m\u001b[38;5;28;01mNone\u001b[39;00m, \u001b[38;5;241m*\u001b[39m\u001b[38;5;241m*\u001b[39mkwargs):\n\u001b[1;32m-> 2757\u001b[0m     \u001b[38;5;28;01mreturn\u001b[39;00m gca()\u001b[38;5;241m.\u001b[39mplot(\n\u001b[0;32m   2758\u001b[0m         \u001b[38;5;241m*\u001b[39margs, scalex\u001b[38;5;241m=\u001b[39mscalex, scaley\u001b[38;5;241m=\u001b[39mscaley,\n\u001b[0;32m   2759\u001b[0m         \u001b[38;5;241m*\u001b[39m\u001b[38;5;241m*\u001b[39m({\u001b[38;5;124m\"\u001b[39m\u001b[38;5;124mdata\u001b[39m\u001b[38;5;124m\"\u001b[39m: data} \u001b[38;5;28;01mif\u001b[39;00m data \u001b[38;5;129;01mis\u001b[39;00m \u001b[38;5;129;01mnot\u001b[39;00m \u001b[38;5;28;01mNone\u001b[39;00m \u001b[38;5;28;01melse\u001b[39;00m {}), \u001b[38;5;241m*\u001b[39m\u001b[38;5;241m*\u001b[39mkwargs)\n",
      "File \u001b[1;32m~\\anaconda3\\lib\\site-packages\\matplotlib\\axes\\_axes.py:1632\u001b[0m, in \u001b[0;36mAxes.plot\u001b[1;34m(self, scalex, scaley, data, *args, **kwargs)\u001b[0m\n\u001b[0;32m   1390\u001b[0m \u001b[38;5;250m\u001b[39m\u001b[38;5;124;03m\"\"\"\u001b[39;00m\n\u001b[0;32m   1391\u001b[0m \u001b[38;5;124;03mPlot y versus x as lines and/or markers.\u001b[39;00m\n\u001b[0;32m   1392\u001b[0m \n\u001b[1;32m   (...)\u001b[0m\n\u001b[0;32m   1629\u001b[0m \u001b[38;5;124;03m(``'green'``) or hex strings (``'#008000'``).\u001b[39;00m\n\u001b[0;32m   1630\u001b[0m \u001b[38;5;124;03m\"\"\"\u001b[39;00m\n\u001b[0;32m   1631\u001b[0m kwargs \u001b[38;5;241m=\u001b[39m cbook\u001b[38;5;241m.\u001b[39mnormalize_kwargs(kwargs, mlines\u001b[38;5;241m.\u001b[39mLine2D)\n\u001b[1;32m-> 1632\u001b[0m lines \u001b[38;5;241m=\u001b[39m [\u001b[38;5;241m*\u001b[39m\u001b[38;5;28mself\u001b[39m\u001b[38;5;241m.\u001b[39m_get_lines(\u001b[38;5;241m*\u001b[39margs, data\u001b[38;5;241m=\u001b[39mdata, \u001b[38;5;241m*\u001b[39m\u001b[38;5;241m*\u001b[39mkwargs)]\n\u001b[0;32m   1633\u001b[0m \u001b[38;5;28;01mfor\u001b[39;00m line \u001b[38;5;129;01min\u001b[39;00m lines:\n\u001b[0;32m   1634\u001b[0m     \u001b[38;5;28mself\u001b[39m\u001b[38;5;241m.\u001b[39madd_line(line)\n",
      "File \u001b[1;32m~\\anaconda3\\lib\\site-packages\\matplotlib\\axes\\_base.py:312\u001b[0m, in \u001b[0;36m_process_plot_var_args.__call__\u001b[1;34m(self, data, *args, **kwargs)\u001b[0m\n\u001b[0;32m    310\u001b[0m     this \u001b[38;5;241m+\u001b[39m\u001b[38;5;241m=\u001b[39m args[\u001b[38;5;241m0\u001b[39m],\n\u001b[0;32m    311\u001b[0m     args \u001b[38;5;241m=\u001b[39m args[\u001b[38;5;241m1\u001b[39m:]\n\u001b[1;32m--> 312\u001b[0m \u001b[38;5;28;01myield from\u001b[39;00m \u001b[38;5;28;43mself\u001b[39;49m\u001b[38;5;241;43m.\u001b[39;49m\u001b[43m_plot_args\u001b[49m\u001b[43m(\u001b[49m\u001b[43mthis\u001b[49m\u001b[43m,\u001b[49m\u001b[43m \u001b[49m\u001b[43mkwargs\u001b[49m\u001b[43m)\u001b[49m\n",
      "File \u001b[1;32m~\\anaconda3\\lib\\site-packages\\matplotlib\\axes\\_base.py:498\u001b[0m, in \u001b[0;36m_process_plot_var_args._plot_args\u001b[1;34m(self, tup, kwargs, return_kwargs)\u001b[0m\n\u001b[0;32m    495\u001b[0m     \u001b[38;5;28mself\u001b[39m\u001b[38;5;241m.\u001b[39maxes\u001b[38;5;241m.\u001b[39myaxis\u001b[38;5;241m.\u001b[39mupdate_units(y)\n\u001b[0;32m    497\u001b[0m \u001b[38;5;28;01mif\u001b[39;00m x\u001b[38;5;241m.\u001b[39mshape[\u001b[38;5;241m0\u001b[39m] \u001b[38;5;241m!=\u001b[39m y\u001b[38;5;241m.\u001b[39mshape[\u001b[38;5;241m0\u001b[39m]:\n\u001b[1;32m--> 498\u001b[0m     \u001b[38;5;28;01mraise\u001b[39;00m \u001b[38;5;167;01mValueError\u001b[39;00m(\u001b[38;5;124mf\u001b[39m\u001b[38;5;124m\"\u001b[39m\u001b[38;5;124mx and y must have same first dimension, but \u001b[39m\u001b[38;5;124m\"\u001b[39m\n\u001b[0;32m    499\u001b[0m                      \u001b[38;5;124mf\u001b[39m\u001b[38;5;124m\"\u001b[39m\u001b[38;5;124mhave shapes \u001b[39m\u001b[38;5;132;01m{\u001b[39;00mx\u001b[38;5;241m.\u001b[39mshape\u001b[38;5;132;01m}\u001b[39;00m\u001b[38;5;124m and \u001b[39m\u001b[38;5;132;01m{\u001b[39;00my\u001b[38;5;241m.\u001b[39mshape\u001b[38;5;132;01m}\u001b[39;00m\u001b[38;5;124m\"\u001b[39m)\n\u001b[0;32m    500\u001b[0m \u001b[38;5;28;01mif\u001b[39;00m x\u001b[38;5;241m.\u001b[39mndim \u001b[38;5;241m>\u001b[39m \u001b[38;5;241m2\u001b[39m \u001b[38;5;129;01mor\u001b[39;00m y\u001b[38;5;241m.\u001b[39mndim \u001b[38;5;241m>\u001b[39m \u001b[38;5;241m2\u001b[39m:\n\u001b[0;32m    501\u001b[0m     \u001b[38;5;28;01mraise\u001b[39;00m \u001b[38;5;167;01mValueError\u001b[39;00m(\u001b[38;5;124mf\u001b[39m\u001b[38;5;124m\"\u001b[39m\u001b[38;5;124mx and y can be no greater than 2D, but have \u001b[39m\u001b[38;5;124m\"\u001b[39m\n\u001b[0;32m    502\u001b[0m                      \u001b[38;5;124mf\u001b[39m\u001b[38;5;124m\"\u001b[39m\u001b[38;5;124mshapes \u001b[39m\u001b[38;5;132;01m{\u001b[39;00mx\u001b[38;5;241m.\u001b[39mshape\u001b[38;5;132;01m}\u001b[39;00m\u001b[38;5;124m and \u001b[39m\u001b[38;5;132;01m{\u001b[39;00my\u001b[38;5;241m.\u001b[39mshape\u001b[38;5;132;01m}\u001b[39;00m\u001b[38;5;124m\"\u001b[39m)\n",
      "\u001b[1;31mValueError\u001b[0m: x and y must have same first dimension, but have shapes (396001,) and (196001,)"
     ]
    },
    {
     "data": {
      "image/png": "[encoded data removed]",
      "text/plain": [
       "<Figure size 1296x720 with 2 Axes>"
      ]
     },
     "metadata": {
      "needs_background": "light"
     },
     "output_type": "display_data"
    }
   ],
   "source": [
    "import gymnasium as gym\n",
    "import numpy as np\n",
    "import time\n",
    "import os\n",
    "import matplotlib.pyplot as plt\n",
    "from tqdm import tqdm\n",
    "from scipy.special import softmax\n",
    "\n",
    "# === Constants and Helper Functions ===\n",
    "LOC_NAMES = {0: \"R (Red)\", 1: \"G (Green)\", 2: \"Y (Yellow)\", 3: \"B (Blue)\", 4: \"in Taxi\"}\n",
    "ACTION_NAMES = {0: \"South ↓\", 1: \"North ↑\", 2: \"East  →\", 3: \"West  ←\", 4: \"Pickup :)\", 5: \"Dropoff ⬇\"}\n",
    "NUM_STATE_FEATURES = 37\n",
    "NUM_STATE_ACTION_FEATURES = NUM_STATE_FEATURES * 6 # 222\n",
    "\n",
    "def decode_taxi_state(state_int):\n",
    "    taxi_row = (state_int // 100) % 5\n",
    "    taxi_col = (state_int // 20) % 5\n",
    "    pass_loc_idx = (state_int // 4) % 5\n",
    "    dest_loc_idx = state_int % 4\n",
    "    return taxi_row, taxi_col, pass_loc_idx, dest_loc_idx\n",
    "\n",
    "def draw_custom_map(taxi_row, taxi_col, pass_loc_idx, dest_idx):\n",
    "    map_template = [\n",
    "        \"+---------+\", \"|R: | : :G|\", \"| : | : : |\", \"| : : : : |\",\n",
    "        \"| | : | : |\", \"|Y| : |B: |\", \"+---------+\"\n",
    "    ]\n",
    "    map_lines = [list(line) for line in map_template]\n",
    "    map_char_cols = [1, 3, 5, 7, 9] \n",
    "    if 0 <= taxi_row < 5 and 0 <= taxi_col < 5:\n",
    "        vis_row_idx = taxi_row + 1\n",
    "        vis_col_idx = map_char_cols[taxi_col]\n",
    "        map_lines[vis_row_idx][vis_col_idx] = \"T\"\n",
    "    return '\\n'.join(''.join(line) for line in map_lines)\n",
    "\n",
    "def get_state_features(state_int):\n",
    "    taxi_row, taxi_col, pass_loc_idx, dest_loc_idx = decode_taxi_state(state_int)\n",
    "    phi_state_base = np.zeros(25 + 5 + 4)\n",
    "    current_idx = 0\n",
    "    phi_state_base[current_idx + taxi_row * 5 + taxi_col] = 1.0; current_idx += 25\n",
    "    phi_state_base[current_idx + pass_loc_idx] = 1.0; current_idx += 5\n",
    "    phi_state_base[current_idx + dest_loc_idx] = 1.0\n",
    "    passenger_in_taxi = 1.0 if pass_loc_idx == 4 else 0.0\n",
    "    fixed_loc_coords = {0:(0,0), 1:(0,4), 2:(4,0), 3:(4,3)} \n",
    "    at_passenger_pickup_loc_feature = 0.0\n",
    "    if not passenger_in_taxi and pass_loc_idx in fixed_loc_coords:\n",
    "        expected_pass_row, expected_pass_col = fixed_loc_coords[pass_loc_idx]\n",
    "        if taxi_row == expected_pass_row and taxi_col == expected_pass_col:\n",
    "            at_passenger_pickup_loc_feature = 1.0\n",
    "    at_destination_with_passenger_feature = 0.0\n",
    "    if passenger_in_taxi and dest_loc_idx in fixed_loc_coords:\n",
    "        expected_dest_row, expected_dest_col = fixed_loc_coords[dest_loc_idx]\n",
    "        if taxi_row == expected_dest_row and taxi_col == expected_dest_col:\n",
    "            at_destination_with_passenger_feature = 1.0\n",
    "    additional_task_features = np.array([passenger_in_taxi, at_passenger_pickup_loc_feature, at_destination_with_passenger_feature])\n",
    "    return np.concatenate((phi_state_base, additional_task_features))\n",
    "\n",
    "def get_state_action_features(state_int, action, n_actions=6):\n",
    "    phi_state_aug = get_state_features(state_int)\n",
    "    total_num_features = NUM_STATE_FEATURES * n_actions\n",
    "    final_interaction_features = np.zeros(total_num_features)\n",
    "    start_idx = action * NUM_STATE_FEATURES\n",
    "    end_idx = start_idx + NUM_STATE_FEATURES\n",
    "    final_interaction_features[start_idx:end_idx] = phi_state_aug\n",
    "    return final_interaction_features\n",
    "# === End Helper Functions ===\n",
    "\n",
    "\n",
    "# === REINFORCE with Baseline Algorithm (with save/load and tweaks) ===\n",
    "def reinforce_with_baseline(env, alpha_actor=0.00005, alpha_critic=0.001, gamma=0.99, \n",
    "                            episodes_to_run=100000,\n",
    "                            initial_theta_actor=None, initial_theta_critic=None,\n",
    "                            initial_rewards_log=None, initial_steps_log=None,\n",
    "                            initial_successes_log=None, initial_sq_advantage_log=None,\n",
    "                            start_episode_num=0,\n",
    "                            normalize_advantages=True, #to normalize advantages\n",
    "                            gradient_clip_norm=None):  # for gradient clipping (e.g., 1.0 or 5.0)\n",
    "\n",
    "    n_actions = env.action_space.n\n",
    "\n",
    "    if initial_theta_actor is not None:\n",
    "        print(f\"Loading initial actor weights (trained for {start_episode_num} episodes).\")\n",
    "        theta_actor = initial_theta_actor\n",
    "        assert theta_actor.shape[0] == NUM_STATE_ACTION_FEATURES, \"Actor weights shape mismatch!\"\n",
    "    else:\n",
    "        print(\"Initializing new actor weights.\")\n",
    "        theta_actor = np.zeros(NUM_STATE_ACTION_FEATURES)\n",
    "    \n",
    "    if initial_theta_critic is not None:\n",
    "        print(f\"Loading initial critic weights (trained for {start_episode_num} episodes).\")\n",
    "        theta_critic = initial_theta_critic\n",
    "        assert theta_critic.shape[0] == NUM_STATE_FEATURES, \"Critic weights shape mismatch!\"\n",
    "    else:\n",
    "        print(\"Initializing new critic weights.\")\n",
    "        theta_critic = np.zeros(NUM_STATE_FEATURES)\n",
    "\n",
    "    rewards_per_episode_log = initial_rewards_log if initial_rewards_log is not None else []\n",
    "    steps_per_episode_log = initial_steps_log if initial_steps_log is not None else []\n",
    "    successes_per_episode_log = initial_successes_log if initial_successes_log is not None else []\n",
    "    avg_squared_advantage_log = initial_sq_advantage_log if initial_sq_advantage_log is not None else []\n",
    "\n",
    "    print(f\"Training REINFORCE w/ Baseline for {episodes_to_run} more episodes.\")\n",
    "    print(f\"Params: alpha_actor={alpha_actor}, alpha_critic={alpha_critic}, gamma={gamma}, normalize_adv={normalize_advantages}, grad_clip={gradient_clip_norm}\")\n",
    "\n",
    "    for ep_offset in tqdm(range(episodes_to_run), desc=\"Training REINFORCE w/ Baseline\"):\n",
    "        current_true_episode_num = start_episode_num + ep_offset\n",
    "        episode_states, episode_actions, episode_rewards, episode_phis_st, episode_grad_log_pis = [], [], [], [], []\n",
    "        \n",
    "        state, _ = env.reset()\n",
    "        done = False\n",
    "        truncated = False\n",
    "        current_episode_steps = 0\n",
    "        max_steps = 200\n",
    "\n",
    "        while not done and not truncated and current_episode_steps < max_steps:\n",
    "            action_preferences = np.array([theta_actor.dot(get_state_action_features(state, a, n_actions)) for a in range(n_actions)])\n",
    "            action_probs = softmax(action_preferences)\n",
    "            action_probs = action_probs / np.sum(action_probs) # Ensure sum to 1\n",
    "\n",
    "            try:\n",
    "                action = np.random.choice(n_actions, p=action_probs)\n",
    "            except ValueError:\n",
    "                action = np.argmax(action_probs) # Fallback if probs are weird\n",
    "\n",
    "            next_state, reward, done, truncated, _ = env.step(action)\n",
    "\n",
    "            episode_states.append(state)\n",
    "            episode_actions.append(action)\n",
    "            episode_rewards.append(reward)\n",
    "            \n",
    "            # Store features needed for updates later\n",
    "            episode_phis_st.append(get_state_features(state)) # For critic update\n",
    "            phi_sa_t = get_state_action_features(state, action, n_actions)\n",
    "            expected_phi_sa = np.sum([p * get_state_action_features(state, act_idx, n_actions) for act_idx, p in enumerate(action_probs)], axis=0)\n",
    "            episode_grad_log_pis.append(phi_sa_t - expected_phi_sa) # For actor update\n",
    "\n",
    "            state = next_state\n",
    "            current_episode_steps += 1\n",
    "        \n",
    "        rewards_per_episode_log.append(sum(episode_rewards))\n",
    "        steps_per_episode_log.append(current_episode_steps)\n",
    "        successes_per_episode_log.append(1 if done and episode_rewards[-1] == 20 else 0)\n",
    "        \n",
    "        # Calculate returns and advantages for the episode\n",
    "        returns_g = np.zeros(len(episode_rewards))\n",
    "        advantages = np.zeros(len(episode_rewards))\n",
    "        G = 0\n",
    "        for t in reversed(range(len(episode_rewards))):\n",
    "            G = episode_rewards[t] + gamma * G\n",
    "            returns_g[t] = G\n",
    "            V_s_t = theta_critic.dot(episode_phis_st[t])\n",
    "            advantages[t] = G - V_s_t\n",
    "        \n",
    "        if normalize_advantages and len(advantages) > 1: # Avoid division by zero if only one step\n",
    "            adv_mean = np.mean(advantages)\n",
    "            adv_std = np.std(advantages)\n",
    "            if adv_std > 1e-8: # Avoid division by zero or tiny std\n",
    "                advantages = (advantages - adv_mean) / adv_std\n",
    "        \n",
    "        avg_squared_advantage_log.append(np.mean(advantages**2))\n",
    "\n",
    "        # Update actor and critic\n",
    "        for t in range(len(episode_states)):\n",
    "            # Critic update\n",
    "            # Advantage already calculated is (G_t - V(s_t))\n",
    "            critic_grad_update = alpha_critic * advantages[t] * episode_phis_st[t]\n",
    "            if gradient_clip_norm is not None:\n",
    "                 grad_norm = np.linalg.norm(critic_grad_update)\n",
    "                 if grad_norm > gradient_clip_norm:\n",
    "                     critic_grad_update = critic_grad_update * (gradient_clip_norm / grad_norm)\n",
    "            theta_critic += critic_grad_update\n",
    "\n",
    "            # Actor update\n",
    "            actor_grad_update = alpha_actor * advantages[t] * episode_grad_log_pis[t] \n",
    "            if gradient_clip_norm is not None:\n",
    "                grad_norm = np.linalg.norm(actor_grad_update)\n",
    "                if grad_norm > gradient_clip_norm:\n",
    "                    actor_grad_update = actor_grad_update * (gradient_clip_norm / grad_norm)\n",
    "            theta_actor += actor_grad_update\n",
    "        \n",
    "        if (ep_offset + 1) % (episodes_to_run // 100 if episodes_to_run >=100 else 1) == 0 or ep_offset == 0:\n",
    "            window_size = 100\n",
    "            avg_r = np.mean(rewards_per_episode_log[-window_size:]) if len(rewards_per_episode_log) >= window_size else (np.mean(rewards_per_episode_log) if rewards_per_episode_log else 0)\n",
    "            avg_s = np.mean(successes_per_episode_log[-window_size:]) if len(successes_per_episode_log) >= window_size else (np.mean(successes_per_episode_log) if successes_per_episode_log else 0)\n",
    "            avg_adv_sq = np.mean(avg_squared_advantage_log[-window_size:]) if len(avg_squared_advantage_log) >= window_size else (np.mean(avg_squared_advantage_log) if avg_squared_advantage_log else 0)\n",
    "            print(f\"Overall Ep {current_true_episode_num+1}, Avg Rew (last {min(window_size, len(rewards_per_episode_log))}): {avg_r:.2f}, \"\n",
    "                  f\"Success (last {min(window_size, len(successes_per_episode_log))}): {avg_s:.2f}, \"\n",
    "                  f\"Avg Sq Adv (last {min(window_size, len(avg_squared_advantage_log))}): {avg_adv_sq:.2f}\")\n",
    "\n",
    "    learning_curves = {\n",
    "        \"rewards\": rewards_per_episode_log, \"steps\": steps_per_episode_log,\n",
    "        \"successes\": successes_per_episode_log, \"avg_sq_advantage\": avg_squared_advantage_log\n",
    "    }\n",
    "    return theta_actor, theta_critic, learning_curves\n",
    "\n",
    "# === Policy Derivation and Evaluation (can reuse from previous script) ===\n",
    "def derive_pg_policy(theta_actor, n_states, n_actions):\n",
    "    policy = np.zeros(n_states, dtype=int)\n",
    "    for s in range(n_states):\n",
    "        action_preferences = np.array([theta_actor.dot(get_state_action_features(s, a, n_actions)) for a in range(n_actions)])\n",
    "        policy[s] = np.argmax(action_preferences)\n",
    "    return policy\n",
    "\n",
    "def evaluate_pg_policy(env, policy, num_episodes=1000, algorithm_name=\"Policy Gradient Policy\"):\n",
    "    total_rewards, total_steps, successful_dropoffs = [], [], 0\n",
    "    print(f\"\\n--- Evaluating Final {algorithm_name} for {num_episodes} episodes ---\")\n",
    "    for _ in tqdm(range(num_episodes), desc=f\"Evaluating {algorithm_name}\"):\n",
    "        obs, _ = env.reset(); done, trunc, ep_rew, ep_steps = False, False, 0, 0\n",
    "        for _ in range(200):\n",
    "            action = policy[obs]\n",
    "            obs, reward, done, trunc, _ = env.step(action)\n",
    "            ep_rew += reward; ep_steps += 1\n",
    "            if done or trunc: break\n",
    "        total_rewards.append(ep_rew); total_steps.append(ep_steps)\n",
    "        if done and reward == 20: successful_dropoffs += 1\n",
    "    avg_reward = np.mean(total_rewards); std_reward = np.std(total_rewards)\n",
    "    avg_steps = np.mean(total_steps); std_steps = np.std(total_steps)\n",
    "    success_rate = (successful_dropoffs / num_episodes) * 100\n",
    "    print(f\"--- {algorithm_name} Evaluation Results ---\\nAvg Reward: {avg_reward:.2f} +/- {std_reward:.2f}\\nAvg Steps: {avg_steps:.2f} +/- {std_steps:.2f}\\nSuccess Rate: {success_rate:.2f}%\")\n",
    "    return avg_reward, avg_steps, success_rate, std_reward, std_steps\n",
    "\n",
    "# === Plotting (can reuse from previous script) ===\n",
    "def plot_pg_learning_curves(learning_curves_data, algorithm_name=\"REINFORCE w/ Baseline\"):\n",
    "    # (Identical to previous plot_pg_learning_curves function)\n",
    "    num_episodes = len(learning_curves_data[\"rewards\"])\n",
    "    episodes_axis = np.arange(1, num_episodes + 1)\n",
    "    window = max(1, num_episodes // 100 if num_episodes > 100 else 50)\n",
    "    plt.figure(figsize=(18, 10)); plt.suptitle(f\"{algorithm_name} Performance Metrics on Taxi-v3\", fontsize=16)\n",
    "    plt.subplot(2, 2, 1) # Average Reward\n",
    "    if num_episodes >= window:\n",
    "        smoothed_rewards = np.convolve(learning_curves_data[\"rewards\"], np.ones(window)/window, mode='valid')\n",
    "        plt.plot(episodes_axis[window-1:], smoothed_rewards, label=f'Smoothed (win {window})')\n",
    "    plt.plot(episodes_axis, learning_curves_data[\"rewards\"], alpha=0.3, label='Raw')\n",
    "    plt.title('Avg Reward/Ep'); plt.xlabel('Episode'); plt.ylabel('Avg Reward'); plt.legend(); plt.grid(True)\n",
    "    plt.subplot(2, 2, 2) # Steps per Episode\n",
    "    if num_episodes >= window:\n",
    "        smoothed_steps = np.convolve(learning_curves_data[\"steps\"], np.ones(window)/window, mode='valid')\n",
    "        plt.plot(episodes_axis[window-1:], smoothed_steps, label=f'Smoothed (win {window})')\n",
    "    plt.plot(episodes_axis, learning_curves_data[\"steps\"], alpha=0.3, label='Raw')\n",
    "    plt.title('Steps/Ep'); plt.xlabel('Episode'); plt.ylabel('Steps'); plt.legend(); plt.grid(True)\n",
    "    plt.subplot(2, 2, 3) # Success Rate\n",
    "    success_rate_curve = [np.mean(learning_curves_data[\"successes\"][max(0,i-window+1):i+1])*100 for i in range(num_episodes)]\n",
    "    plt.plot(episodes_axis, success_rate_curve, label=f'Success Rate (win {window})')\n",
    "    plt.title('Success Rate (%)'); plt.xlabel('Episode'); plt.ylabel('Success (%)'); plt.ylim(-5, 105); plt.legend(); plt.grid(True)\n",
    "    plt.subplot(2, 2, 4) # Average Squared Advantage\n",
    "    if learning_curves_data.get(\"avg_sq_advantage\"):\n",
    "        if num_episodes >= window:\n",
    "            smoothed_adv = np.convolve(learning_curves_data[\"avg_sq_advantage\"], np.ones(window)/window, mode='valid')\n",
    "            plt.plot(episodes_axis[window-1:], smoothed_adv, label=f'Smoothed (win {window})')\n",
    "        plt.plot(episodes_axis, learning_curves_data[\"avg_sq_advantage\"], alpha=0.3, label='Raw')\n",
    "        plt.title('Avg Sq Advantage/Ep'); plt.xlabel('Episode'); plt.ylabel('Avg Sq Adv'); plt.legend(); plt.grid(True); plt.yscale('log', nonpositive='clip')\n",
    "    plt.tight_layout(rect=[0, 0, 1, 0.96]); plt.show()\n",
    "\n",
    "\n",
    "# === Main Execution ===\n",
    "if __name__ == \"__main__\":\n",
    "    env_pg = gym.make(\"Taxi-v3\")\n",
    "\n",
    "    # --- Configuration ---\n",
    "    LOAD_PG_WEIGHTS = True  \n",
    "    EXPECTED_PG_PREV_EP_COUNT = 200000 \n",
    "    PG_STATE_BASE_FILENAME = \"taxi_reinforce_linear\" \n",
    "    \n",
    "    pg_alpha_actor = 5e-5      # 0.00005\n",
    "    pg_alpha_critic = 1e-3     # 0.001\n",
    "    pg_gamma = 0.99           \n",
    "    pg_episodes_this_run = 200000  )\n",
    "    \n",
    "    pg_normalize_advantages = True\n",
    "    pg_gradient_clip_norm = 1.0 # Clip gradient update norms if they exceed this value\n",
    "    # --- End Configuration ---\n",
    "\n",
    "    loaded_theta_actor, loaded_theta_critic = None, None\n",
    "    loaded_rewards, loaded_steps, loaded_successes, loaded_adv_sq = [], [], [], []\n",
    "    pg_previous_episodes_loaded = 0\n",
    "\n",
    "    if LOAD_PG_WEIGHTS:\n",
    "        if EXPECTED_PG_PREV_EP_COUNT > 0:\n",
    "            actor_w_file = f\"{PG_STATE_BASE_FILENAME}_{EXPECTED_PG_PREV_EP_COUNT // 1000}k_actor_weights.npy\"\n",
    "            critic_w_file = f\"{PG_STATE_BASE_FILENAME}_{EXPECTED_PG_PREV_EP_COUNT // 1000}k_critic_weights.npy\"\n",
    "            rewards_f = f\"{PG_STATE_BASE_FILENAME}_{EXPECTED_PG_PREV_EP_COUNT // 1000}k_rewards.npy\"\n",
    "            \n",
    "            try:\n",
    "                if os.path.exists(actor_w_file) and os.path.exists(critic_w_file):\n",
    "                    print(f\"Loading REINFORCE state for {EXPECTED_PG_PREV_EP_COUNT} episodes...\")\n",
    "                    loaded_theta_actor = np.load(actor_w_file)\n",
    "                    loaded_theta_critic = np.load(critic_w_file)\n",
    "                    if os.path.exists(rewards_f): loaded_rewards = list(np.load(rewards_f))\n",
    "                    pg_previous_episodes_loaded = EXPECTED_PG_PREV_EP_COUNT\n",
    "                    print(\"Successfully loaded previous REINFORCE state.\")\n",
    "                else:\n",
    "                    print(f\"Weight files not found for {EXPECTED_PG_PREV_EP_COUNT} episodes. Starting fresh.\")\n",
    "                    LOAD_PG_WEIGHTS = False \n",
    "            except Exception as e:\n",
    "                print(f\"Error loading REINFORCE files: {e}. Starting fresh.\")\n",
    "                LOAD_PG_WEIGHTS = False\n",
    "        else: # EXPECTED_PG_PREV_EP_COUNT is 0 but LOAD_PG_WEIGHTS is True\n",
    "            print(\"LOAD_PG_WEIGHTS is True but EXPECTED_PG_PREV_EP_COUNT is 0. Starting fresh.\")\n",
    "            LOAD_PG_WEIGHTS = False\n",
    "            \n",
    "    if not LOAD_PG_WEIGHTS: # Reset if starting fresh\n",
    "        loaded_theta_actor, loaded_theta_critic = None, None\n",
    "        loaded_rewards, loaded_steps, loaded_successes, loaded_adv_sq = [], [], [], []\n",
    "        pg_previous_episodes_loaded = 0\n",
    "        print(\"Starting REINFORCE training from scratch.\")\n",
    "\n",
    "    pg_start_time = time.time()\n",
    "    theta_actor_final, theta_critic_final, pg_learning_curves = reinforce_with_baseline(\n",
    "        env_pg, \n",
    "        alpha_actor=pg_alpha_actor, alpha_critic=pg_alpha_critic, gamma=pg_gamma, \n",
    "        episodes_to_run=pg_episodes_this_run,\n",
    "        initial_theta_actor=loaded_theta_actor, initial_theta_critic=loaded_theta_critic,\n",
    "        initial_rewards_log=loaded_rewards, initial_steps_log=loaded_steps,\n",
    "        initial_successes_log=loaded_successes, initial_sq_advantage_log=loaded_adv_sq,\n",
    "        start_episode_num=pg_previous_episodes_loaded,\n",
    "        normalize_advantages=pg_normalize_advantages,\n",
    "        gradient_clip_norm=pg_gradient_clip_norm\n",
    "    )\n",
    "    pg_training_time = time.time() - pg_start_time\n",
    "    print(f\"REINFORCE w/ Baseline Training Time for this run: {pg_training_time:.2f} seconds\")\n",
    "\n",
    "    current_total_pg_episodes = pg_previous_episodes_loaded + pg_episodes_this_run\n",
    "    pg_save_base = f\"{PG_STATE_BASE_FILENAME}_{current_total_pg_episodes // 1000}k\"\n",
    "    np.save(f\"{pg_save_base}_actor_weights.npy\", theta_actor_final)\n",
    "    np.save(f\"{pg_save_base}_critic_weights.npy\", theta_critic_final)\n",
    "    np.save(f\"{pg_save_base}_rewards.npy\", np.array(pg_learning_curves[\"rewards\"]))\n",
    "    np.save(f\"{pg_save_base}_steps.npy\", np.array(pg_learning_curves[\"steps\"]))\n",
    "    np.save(f\"{pg_save_base}_successes.npy\", np.array(pg_learning_curves[\"successes\"]))\n",
    "    np.save(f\"{pg_save_base}_avg_sq_advantage.npy\", np.array(pg_learning_curves[\"avg_sq_advantage\"]))\n",
    "    print(f\"Saved REINFORCE weights and logs to files starting with: {pg_save_base}\")\n",
    "\n",
    "    if pg_learning_curves[\"rewards\"]: plot_pg_learning_curves(pg_learning_curves)\n",
    "    \n",
    "    pg_final_policy = derive_pg_policy(theta_actor_final, env_pg.observation_space.n, env_pg.action_space.n)\n",
    "    pg_avg_reward, pg_avg_steps, pg_success_rate, pg_std_reward, pg_std_steps = evaluate_pg_policy(\n",
    "        env_pg, pg_final_policy, num_episodes=1000, algorithm_name=\"REINFORCE Policy\"\n",
    "    )\n",
    "    \n",
    "    pg_metrics = { # Populate with final values\n",
    "        \"Algorithm\": \"REINFORCE w/ Baseline (Linear FA)\",\n",
    "        \"Total Training Time (s) for this run\": f\"{pg_training_time:.2f}\",\n",
    "        \"Total Episodes Trained\": current_total_pg_episodes,\n",
    "        # ... (other metrics as before) ...\n",
    "         \"Final Policy - Success Rate (%)\": f\"{pg_success_rate:.2f}\",\n",
    "    }\n",
    "    print(\"\\n--- REINFORCE w/ Baseline Metrics Summary (after current run) ---\")\n",
    "    for key, value in pg_metrics.items(): print(f\"{key}: {value}\")\n",
    "\n",
    "    # Simulation (using globals LOC_NAMES, ACTION_NAMES defined at the top)\n",
    "    print(\"\\n--- Simulating one episode with the final REINFORCE policy ---\")\n",
    "    obs_sim, _ = env_pg.reset(seed=np.random.randint(0,100000))\n",
    "    done_sim, trunc_sim, tot_rew_sim, steps_sim = False, False, 0, 0\n",
    "    for _ in range(50):\n",
    "        action_sim = pg_final_policy[obs_sim]\n",
    "        r_sim, c_sim, p_idx_sim, d_idx_sim = decode_taxi_state(obs_sim)\n",
    "        print(draw_custom_map(r_sim, c_sim, p_idx_sim, d_idx_sim))\n",
    "        print(f\"Step: {steps_sim}, State: {obs_sim} ({r_sim},{c_sim},{LOC_NAMES[p_idx_sim]},{LOC_NAMES[d_idx_sim]})\")\n",
    "        action_prefs_sim = np.array([theta_actor_final.dot(get_state_action_features(obs_sim,a,env_pg.action_space.n)) for a in range(env_pg.action_space.n)])\n",
    "        print(f\"Prefs: {action_prefs_sim}\\nProbs: {softmax(action_prefs_sim)}\\nChosen: {ACTION_NAMES[action_sim]}\")\n",
    "        obs_sim, rew_sim, done_sim, trunc_sim, _ = env_pg.step(action_sim)\n",
    "        tot_rew_sim += rew_sim\n",
    "        print(f\"Reward: {rew_sim}, Total: {tot_rew_sim}\\n{'-'*30}\")\n",
    "        steps_sim += 1\n",
    "        if done_sim or trunc_sim: break\n",
    "        time.sleep(0.2)\n",
    "    print(f\"Sim finished in {steps_sim} steps, total reward {tot_rew_sim}.\")\n",
    "    if done_sim and rew_sim == 20: print(\"Successful dropoff!\")\n",
    "    env_pg.close()"
   ]
  },
  {
   "cell_type": "code",
   "execution_count": null,
   "id": "0032401e",
   "metadata": {},
   "outputs": [],
   "source": []
  },
  {
   "cell_type": "code",
   "execution_count": 3,
   "id": "3f5bc637",
   "metadata": {},
   "outputs": [
    {
     "name": "stdout",
     "output_type": "stream",
     "text": [
      "Successfully loaded log data for 400000 episodes.\n",
      "Number of reward entries: 400000\n",
      "Number of step entries: 200000\n",
      "Number of success entries: 200000\n",
      "Number of adv_sq entries: 200000\n",
      "An error occurred during loading or plotting: x and y must have same first dimension, but have shapes (400000,) and (200000,)\n"
     ]
    },
    {
     "data": {
      "image/png": "[encoded data removed]",
      "text/plain": [
       "<Figure size 1296x720 with 2 Axes>"
      ]
     },
     "metadata": {
      "needs_background": "light"
     },
     "output_type": "display_data"
    }
   ],
   "source": [
    "import numpy as np\n",
    "import matplotlib.pyplot as plt\n",
    "\n",
    "-\n",
    "def plot_pg_learning_curves(learning_curves_data, algorithm_name=\"REINFORCE w/ Baseline\"):\n",
    "    # ... (the full corrected function from above) ...\n",
    "    num_episodes = len(learning_curves_data[\"rewards\"]) \n",
    "    episodes_axis = np.arange(1, num_episodes + 1)\n",
    "    window = max(1, num_episodes // 100 if num_episodes > 100 else 50)\n",
    "    plt.figure(figsize=(18, 10)) \n",
    "    plt.suptitle(f\"{algorithm_name} Performance Metrics on Taxi-v3 (Total Eps: {num_episodes})\", fontsize=16)\n",
    "    plt.subplot(2, 2, 1) \n",
    "    if num_episodes >= window and learning_curves_data[\"rewards\"]: \n",
    "        smoothed_rewards = np.convolve(learning_curves_data[\"rewards\"], np.ones(window)/window, mode='valid')\n",
    "        x_smooth_rewards = episodes_axis[window-1 : len(learning_curves_data[\"rewards\"])] \n",
    "        if len(x_smooth_rewards) == len(smoothed_rewards): \n",
    "             plt.plot(x_smooth_rewards, smoothed_rewards, label=f'Smoothed (win {window})')\n",
    "        else:\n",
    "            print(f\"Warning: Reward smoothing length mismatch. x: {len(x_smooth_rewards)}, y: {len(smoothed_rewards)}\")\n",
    "    if learning_curves_data[\"rewards\"]: \n",
    "        plt.plot(episodes_axis, learning_curves_data[\"rewards\"], alpha=0.3, label='Raw')\n",
    "    plt.title('Avg Reward/Ep'); plt.xlabel('Episode'); plt.ylabel('Avg Reward'); plt.legend(); plt.grid(True)\n",
    "    plt.subplot(2, 2, 2) \n",
    "    if num_episodes >= window and learning_curves_data[\"steps\"]: \n",
    "        smoothed_steps = np.convolve(learning_curves_data[\"steps\"], np.ones(window)/window, mode='valid')\n",
    "        x_smooth_steps = episodes_axis[window-1 : len(learning_curves_data[\"steps\"])] \n",
    "        if len(x_smooth_steps) == len(smoothed_steps):\n",
    "            plt.plot(x_smooth_steps, smoothed_steps, label=f'Smoothed (win {window})')\n",
    "        else:\n",
    "            print(f\"Warning: Steps smoothing length mismatch. x: {len(x_smooth_steps)}, y: {len(smoothed_steps)}\")\n",
    "    if learning_curves_data[\"steps\"]: \n",
    "        plt.plot(episodes_axis, learning_curves_data[\"steps\"], alpha=0.3, label='Raw')\n",
    "    plt.title('Steps/Ep'); plt.xlabel('Episode'); plt.ylabel('Steps'); plt.legend(); plt.grid(True)\n",
    "    plt.subplot(2, 2, 3) \n",
    "    if learning_curves_data[\"successes\"]: \n",
    "        success_rate_curve = []\n",
    "        for i in range(num_episodes):\n",
    "            start_idx = max(0, i - window + 1) \n",
    "            current_window_data = learning_curves_data[\"successes\"][start_idx : i+1]\n",
    "            if current_window_data: \n",
    "                 success_rate_curve.append(np.mean(current_window_data) * 100)\n",
    "            elif success_rate_curve: \n",
    "                 success_rate_curve.append(success_rate_curve[-1])\n",
    "            else:\n",
    "                 success_rate_curve.append(0)\n",
    "        plt.plot(episodes_axis, success_rate_curve, label=f'Success Rate (MA win {window})') \n",
    "    plt.title('Success Rate (%)'); plt.xlabel('Episode'); plt.ylabel('Success (%)'); plt.ylim(-5, 105); plt.legend(); plt.grid(True)\n",
    "    plt.subplot(2, 2, 4) \n",
    "    if \"avg_sq_advantage\" in learning_curves_data and learning_curves_data[\"avg_sq_advantage\"]: \n",
    "        if num_episodes >= window:\n",
    "            smoothed_adv = np.convolve(learning_curves_data[\"avg_sq_advantage\"], np.ones(window)/window, mode='valid')\n",
    "            x_smooth_adv = episodes_axis[window-1 : len(learning_curves_data[\"avg_sq_advantage\"])] \n",
    "            if len(x_smooth_adv) == len(smoothed_adv):\n",
    "                plt.plot(x_smooth_adv, smoothed_adv, label=f'Smoothed (win {window})')\n",
    "            else:\n",
    "                 print(f\"Warning: Adv smoothing length mismatch. x: {len(x_smooth_adv)}, y: {len(smoothed_adv)}\")\n",
    "        plt.plot(episodes_axis, learning_curves_data[\"avg_sq_advantage\"], alpha=0.3, label='Raw')\n",
    "        plt.title('Avg Sq Advantage/Ep'); plt.xlabel('Episode'); plt.ylabel('Avg Sq Adv'); plt.legend(); plt.grid(True); plt.yscale('log', nonpositive='clip')\n",
    "    plt.tight_layout(rect=[0, 0, 1, 0.96]); plt.show()\n",
    "# --- END OF PLOTTING FUNCTION ---\n",
    "\n",
    "# --- Load Data and Plot ---\n",
    "PG_STATE_BASE_FILENAME = \"taxi_reinforce_linear\" # base filename\n",
    "total_episodes_trained = 400000 \n",
    "\n",
    "k_value = total_episodes_trained // 1000\n",
    "\n",
    "try:\n",
    "    rewards = np.load(f\"{PG_STATE_BASE_FILENAME}_{k_value}k_rewards.npy\")\n",
    "    steps = np.load(f\"{PG_STATE_BASE_FILENAME}_{k_value}k_steps.npy\")\n",
    "    successes = np.load(f\"{PG_STATE_BASE_FILENAME}_{k_value}k_successes.npy\")\n",
    "    avg_sq_advantage = np.load(f\"{PG_STATE_BASE_FILENAME}_{k_value}k_avg_sq_advantage.npy\")\n",
    "\n",
    "    loaded_pg_learning_curves = {\n",
    "        \"rewards\": list(rewards), \n",
    "        \"steps\": list(steps),\n",
    "        \"successes\": list(successes),\n",
    "        \"avg_sq_advantage\": list(avg_sq_advantage)\n",
    "    }\n",
    "    print(f\"Successfully loaded log data for {total_episodes_trained} episodes.\")\n",
    "    print(f\"Number of reward entries: {len(loaded_pg_learning_curves['rewards'])}\")\n",
    "    print(f\"Number of step entries: {len(loaded_pg_learning_curves['steps'])}\")\n",
    "    print(f\"Number of success entries: {len(loaded_pg_learning_curves['successes'])}\")\n",
    "    print(f\"Number of adv_sq entries: {len(loaded_pg_learning_curves['avg_sq_advantage'])}\")\n",
    "\n",
    "\n",
    "    if loaded_pg_learning_curves[\"rewards\"]:\n",
    "        plot_pg_learning_curves(loaded_pg_learning_curves, algorithm_name=f\"REINFORCE (Total {k_value}k Eps)\")\n",
    "    else:\n",
    "        print(\"No data loaded to plot.\")\n",
    "\n",
    "except FileNotFoundError:\n",
    "    print(f\"Error: Could not find log files for {PG_STATE_BASE_FILENAME}_{k_value}k. Please check filenames.\")\n",
    "except Exception as e:\n",
    "    print(f\"An error occurred during loading or plotting: {e}\")"
   ]
  },
  {
   "cell_type": "code",
   "execution_count": null,
   "id": "8c77300b",
   "metadata": {},
   "outputs": [],
   "source": []
  },
  {
   "cell_type": "code",
   "execution_count": null,
   "id": "070efd0d",
   "metadata": {},
   "outputs": [],
   "source": []
  },
  {
   "cell_type": "code",
   "execution_count": 4,
   "id": "cd0b24ee",
   "metadata": {},
   "outputs": [
    {
     "name": "stdout",
     "output_type": "stream",
     "text": [
      "Attempting to load logs for 400k episodes...\n",
      "Loaded log lengths:\n",
      "  Rewards: 400000\n",
      "  Steps: 200000\n",
      "  Successes: 200000\n",
      "  Avg Sq Advantage: 200000\n"
     ]
    },
    {
     "data": {
      "image/png": "[encoded data removed]",
      "text/plain": [
       "<Figure size 1296x720 with 4 Axes>"
      ]
     },
     "metadata": {
      "needs_background": "light"
     },
     "output_type": "display_data"
    },
    {
     "name": "stdout",
     "output_type": "stream",
     "text": [
      "\n",
      "--- Attempting Simulation with Loaded Weights ---\n",
      "Successfully loaded actor weights: taxi_reinforce_linear_400k_actor_weights.npy\n"
     ]
    },
    {
     "ename": "AttributeError",
     "evalue": "'numpy.random._generator.Generator' object has no attribute 'get_state'",
     "output_type": "error",
     "traceback": [
      "\u001b[1;31m---------------------------------------------------------------------------\u001b[0m",
      "\u001b[1;31mAttributeError\u001b[0m                            Traceback (most recent call last)",
      "Input \u001b[1;32mIn [4]\u001b[0m, in \u001b[0;36m<cell line: 94>\u001b[1;34m()\u001b[0m\n\u001b[0;32m    176\u001b[0m done, truncated, total_reward_sim, step_sim \u001b[38;5;241m=\u001b[39m \u001b[38;5;28;01mFalse\u001b[39;00m, \u001b[38;5;28;01mFalse\u001b[39;00m, \u001b[38;5;241m0\u001b[39m, \u001b[38;5;241m0\u001b[39m\n\u001b[0;32m    177\u001b[0m max_rollout_steps \u001b[38;5;241m=\u001b[39m \u001b[38;5;241m50\u001b[39m\n\u001b[1;32m--> 178\u001b[0m \u001b[38;5;28mprint\u001b[39m(\u001b[38;5;124mf\u001b[39m\u001b[38;5;124m\"\u001b[39m\u001b[38;5;130;01m\\n\u001b[39;00m\u001b[38;5;124m--- Simulation Rollout #\u001b[39m\u001b[38;5;132;01m{\u001b[39;00mi\u001b[38;5;241m+\u001b[39m\u001b[38;5;241m1\u001b[39m\u001b[38;5;132;01m}\u001b[39;00m\u001b[38;5;124m (Seed: \u001b[39m\u001b[38;5;132;01m{\u001b[39;00menv_sim\u001b[38;5;241m.\u001b[39mnp_random\u001b[38;5;241m.\u001b[39mget_state()[\u001b[38;5;241m1\u001b[39m][\u001b[38;5;241m0\u001b[39m]\u001b[38;5;132;01m}\u001b[39;00m\u001b[38;5;124m) ---\u001b[39m\u001b[38;5;124m\"\u001b[39m)\n\u001b[0;32m    180\u001b[0m \u001b[38;5;28;01mfor\u001b[39;00m _ \u001b[38;5;129;01min\u001b[39;00m \u001b[38;5;28mrange\u001b[39m(max_rollout_steps):\n\u001b[0;32m    181\u001b[0m     action \u001b[38;5;241m=\u001b[39m pg_final_policy_loaded[observation]\n",
      "\u001b[1;31mAttributeError\u001b[0m: 'numpy.random._generator.Generator' object has no attribute 'get_state'"
     ]
    }
   ],
   "source": [
    "import numpy as np\n",
    "import matplotlib.pyplot as plt\n",
    "import os # For checking file existence\n",
    "\n",
    "\n",
    "def plot_pg_learning_curves(learning_curves_data, algorithm_name=\"REINFORCE w/ Baseline\", total_episodes_expected=None):\n",
    "    # Determine num_episodes from rewards, as it seems to be the full one\n",
    "    # If other logs are shorter, we'll handle them individually\n",
    "    if not learning_curves_data.get(\"rewards\"):\n",
    "        print(\"No reward data to plot. Aborting plotting.\")\n",
    "        return\n",
    "        \n",
    "    num_episodes_rewards = len(learning_curves_data[\"rewards\"])\n",
    "    episodes_axis_rewards = np.arange(1, num_episodes_rewards + 1)\n",
    "\n",
    "    plot_title_total_eps = total_episodes_expected if total_episodes_expected is not None else num_episodes_rewards\n",
    "\n",
    "    window = max(1, num_episodes_rewards // 100 if num_episodes_rewards > 100 else 50)\n",
    "\n",
    "    plt.figure(figsize=(18, 10)) \n",
    "    plt.suptitle(f\"{algorithm_name} Performance Metrics on Taxi-v3 (Data up to {plot_title_total_eps} Eps)\", fontsize=16)\n",
    "\n",
    "    # Plot Average Reward\n",
    "    plt.subplot(2, 2, 1) \n",
    "    if learning_curves_data[\"rewards\"]:\n",
    "        if num_episodes_rewards >= window:\n",
    "            smoothed_rewards = np.convolve(learning_curves_data[\"rewards\"], np.ones(window)/window, mode='valid')\n",
    "            x_smooth_rewards = episodes_axis_rewards[window-1:] \n",
    "            if len(x_smooth_rewards) == len(smoothed_rewards):\n",
    "                 plt.plot(x_smooth_rewards, smoothed_rewards, label=f'Smoothed (win {window})')\n",
    "        plt.plot(episodes_axis_rewards, learning_curves_data[\"rewards\"], alpha=0.3, label='Raw')\n",
    "    plt.title('Avg Reward/Ep'); plt.xlabel('Episode'); plt.ylabel('Avg Reward'); plt.legend(); plt.grid(True)\n",
    "\n",
    "    # Plot Steps per Episode\n",
    "    plt.subplot(2, 2, 2) \n",
    "    if learning_curves_data.get(\"steps\") and learning_curves_data[\"steps\"]:\n",
    "        num_episodes_steps = len(learning_curves_data[\"steps\"])\n",
    "        episodes_axis_steps = np.arange(1, num_episodes_steps + 1)\n",
    "        if num_episodes_steps >= window:\n",
    "            smoothed_steps = np.convolve(learning_curves_data[\"steps\"], np.ones(window)/window, mode='valid')\n",
    "            x_smooth_steps = episodes_axis_steps[window-1:]\n",
    "            if len(x_smooth_steps) == len(smoothed_steps):\n",
    "                plt.plot(x_smooth_steps, smoothed_steps, label=f'Smoothed (win {window})')\n",
    "        plt.plot(episodes_axis_steps, learning_curves_data[\"steps\"], alpha=0.3, label='Raw')\n",
    "    else:\n",
    "        plt.text(0.5, 0.5, 'Steps data not available\\nor has incorrect length', ha='center', va='center')\n",
    "    plt.title('Steps/Ep'); plt.xlabel('Episode'); plt.ylabel('Steps'); plt.legend(); plt.grid(True)\n",
    "\n",
    "    # Plot Success Rate\n",
    "    plt.subplot(2, 2, 3) \n",
    "    if learning_curves_data.get(\"successes\") and learning_curves_data[\"successes\"]:\n",
    "        num_episodes_successes = len(learning_curves_data[\"successes\"])\n",
    "        episodes_axis_successes = np.arange(1, num_episodes_successes + 1)\n",
    "        success_rate_curve = []\n",
    "        for i in range(num_episodes_successes):\n",
    "            start_idx = max(0, i - window + 1) \n",
    "            current_window_data = learning_curves_data[\"successes\"][start_idx : i+1]\n",
    "            if current_window_data:\n",
    "                 success_rate_curve.append(np.mean(current_window_data) * 100)\n",
    "            elif success_rate_curve:\n",
    "                 success_rate_curve.append(success_rate_curve[-1])\n",
    "            else:\n",
    "                 success_rate_curve.append(0)\n",
    "        plt.plot(episodes_axis_successes, success_rate_curve, label=f'Success Rate (MA win {window})')\n",
    "    else:\n",
    "        plt.text(0.5, 0.5, 'Successes data not available\\nor has incorrect length', ha='center', va='center')\n",
    "    plt.title('Success Rate (%)'); plt.xlabel('Episode'); plt.ylabel('Success (%)'); plt.ylim(-5, 105); plt.legend(); plt.grid(True)\n",
    "\n",
    "    # Plot Average Squared Advantage\n",
    "    plt.subplot(2, 2, 4) \n",
    "    if learning_curves_data.get(\"avg_sq_advantage\") and learning_curves_data[\"avg_sq_advantage\"]:\n",
    "        num_episodes_adv = len(learning_curves_data[\"avg_sq_advantage\"])\n",
    "        episodes_axis_adv = np.arange(1, num_episodes_adv + 1)\n",
    "        if num_episodes_adv >= window:\n",
    "            smoothed_adv = np.convolve(learning_curves_data[\"avg_sq_advantage\"], np.ones(window)/window, mode='valid')\n",
    "            x_smooth_adv = episodes_axis_adv[window-1:]\n",
    "            if len(x_smooth_adv) == len(smoothed_adv):\n",
    "                plt.plot(x_smooth_adv, smoothed_adv, label=f'Smoothed (win {window})')\n",
    "        plt.plot(episodes_axis_adv, learning_curves_data[\"avg_sq_advantage\"], alpha=0.3, label='Raw')\n",
    "        plt.yscale('log', nonpositive='clip')\n",
    "    else:\n",
    "        plt.text(0.5, 0.5, 'Avg Sq Advantage data not available\\nor has incorrect length', ha='center', va='center')\n",
    "    plt.title('Avg Sq Advantage/Ep'); plt.xlabel('Episode'); plt.ylabel('Avg Sq Adv'); plt.legend(); plt.grid(True)\n",
    "    \n",
    "    plt.tight_layout(rect=[0, 0, 1, 0.96])\n",
    "    plt.show()\n",
    "# --- END OF PLOTTING FUNCTION ---\n",
    "\n",
    "# === Load Data and Plot Script ===\n",
    "if __name__ == \"__main__\":\n",
    "    PG_STATE_BASE_FILENAME = \"taxi_reinforce_linear\" \n",
    "   \n",
    "    k_value_of_saved_files = 400 \n",
    "\n",
    "    loaded_rewards, loaded_steps, loaded_successes, loaded_avg_sq_advantage = [], [], [], []\n",
    "\n",
    "    try:\n",
    "        rewards_file = f\"{PG_STATE_BASE_FILENAME}_{k_value_of_saved_files}k_rewards.npy\"\n",
    "        steps_file = f\"{PG_STATE_BASE_FILENAME}_{k_value_of_saved_files}k_steps.npy\"\n",
    "        successes_file = f\"{PG_STATE_BASE_FILENAME}_{k_value_of_saved_files}k_successes.npy\"\n",
    "        adv_sq_file = f\"{PG_STATE_BASE_FILENAME}_{k_value_of_saved_files}k_avg_sq_advantage.npy\"\n",
    "\n",
    "        print(f\"Attempting to load logs for {k_value_of_saved_files}k episodes...\")\n",
    "        if os.path.exists(rewards_file): loaded_rewards = list(np.load(rewards_file))\n",
    "        if os.path.exists(steps_file): loaded_steps = list(np.load(steps_file))\n",
    "        if os.path.exists(successes_file): loaded_successes = list(np.load(successes_file))\n",
    "        if os.path.exists(adv_sq_file): loaded_avg_sq_advantage = list(np.load(adv_sq_file))\n",
    "        \n",
    "        print(f\"Loaded log lengths:\\n\"\n",
    "              f\"  Rewards: {len(loaded_rewards)}\\n\"\n",
    "              f\"  Steps: {len(loaded_steps)}\\n\"\n",
    "              f\"  Successes: {len(loaded_successes)}\\n\"\n",
    "              f\"  Avg Sq Advantage: {len(loaded_avg_sq_advantage)}\")\n",
    "\n",
    "    \n",
    "        if not loaded_rewards:\n",
    "            print(\"Critical error: Rewards log is empty. Cannot proceed with plotting or simulation.\")\n",
    "            exit()\n",
    "\n",
    "        loaded_pg_learning_curves = {\n",
    "            \"rewards\": loaded_rewards,\n",
    "            \"steps\": loaded_steps,\n",
    "            \"successes\": loaded_successes,\n",
    "            \"avg_sq_advantage\": loaded_avg_sq_advantage\n",
    "        }\n",
    "        \n",
    "        plot_pg_learning_curves(loaded_pg_learning_curves, \n",
    "                                algorithm_name=f\"REINFORCE (Files up to {k_value_of_saved_files}k Eps)\",\n",
    "                                total_episodes_expected=k_value_of_saved_files * 1000) # Pass the expected total for title\n",
    "\n",
    "    except FileNotFoundError as e:\n",
    "        print(f\"Error: Could not find log file: {e}. Please check filenames and paths.\")\n",
    "        exit()\n",
    "    except Exception as e:\n",
    "        print(f\"An error occurred during loading or plotting: {e}\")\n",
    "        exit()\n",
    "\n",
    "    # --- Simulate with loaded weights ---\n",
    "    print(\"\\n--- Attempting Simulation with Loaded Weights ---\")\n",
    "    \n",
    "    LOC_NAMES = {0: \"R (Red)\", 1: \"G (Green)\", 2: \"Y (Yellow)\", 3: \"B (Blue)\", 4: \"in Taxi\"}\n",
    "    ACTION_NAMES = {0: \"South ↓\", 1: \"North ↑\", 2: \"East  →\", 3: \"West  ←\", 4: \"Pickup :)\", 5: \"Dropoff ⬇\"}\n",
    "    NUM_STATE_FEATURES = 37\n",
    "    NUM_STATE_ACTION_FEATURES = NUM_STATE_FEATURES * 6\n",
    "\n",
    "    actor_weights_file = f\"{PG_STATE_BASE_FILENAME}_{k_value_of_saved_files}k_actor_weights.npy\"\n",
    "    theta_actor_loaded = None\n",
    "    if os.path.exists(actor_weights_file):\n",
    "        try:\n",
    "            theta_actor_loaded = np.load(actor_weights_file)\n",
    "            print(f\"Successfully loaded actor weights: {actor_weights_file}\")\n",
    "        except Exception as e:\n",
    "            print(f\"Error loading actor weights: {e}\")\n",
    "    else:\n",
    "        print(f\"Actor weights file not found: {actor_weights_file}\")\n",
    "\n",
    "    if theta_actor_loaded is not None:\n",
    "        env_sim = gym.make(\"Taxi-v3\")\n",
    "        pg_final_policy_loaded = derive_pg_policy(theta_actor_loaded, env_sim.observation_space.n, env_sim.action_space.n)\n",
    "\n",
    "        for i in range(3): # Perform a few rollouts\n",
    "            observation, _ = env_sim.reset(seed=np.random.randint(0,100000)) \n",
    "            done, truncated, total_reward_sim, step_sim = False, False, 0, 0\n",
    "            max_rollout_steps = 50\n",
    "            print(f\"\\n--- Simulation Rollout #{i+1} (Seed: {env_sim.np_random.get_state()[1][0]}) ---\")\n",
    "\n",
    "            for _ in range(max_rollout_steps):\n",
    "                action = pg_final_policy_loaded[observation]\n",
    "                taxi_row, taxi_col, pass_idx, dest_idx = decode_taxi_state(observation)\n",
    "                print(draw_custom_map(taxi_row, taxi_col, pass_idx, dest_idx))\n",
    "                print(f\"Step: {step_sim}, State: {observation} ({taxi_row},{taxi_col},{LOC_NAMES[pass_idx]},{LOC_NAMES[dest_idx]})\")\n",
    "                action_prefs_sim = np.array([theta_actor_loaded.dot(get_state_action_features(observation, a_idx, env_sim.action_space.n)) for a_idx in range(env_sim.action_space.n)])\n",
    "                print(f\"Prefs: {['{:.2f}'.format(x) for x in action_prefs_sim]}\\nProbs: {['{:.2f}'.format(x) for x in softmax(action_prefs_sim)]}\\nChosen: {ACTION_NAMES[action]}\")\n",
    "                \n",
    "                observation, reward, done, truncated, _ = env_sim.step(action)\n",
    "                total_reward_sim += reward\n",
    "                print(f\"Reward: {reward}, Total: {total_reward_sim}\\n{'-'*30}\")\n",
    "                step_sim += 1\n",
    "                if done or truncated: break\n",
    "                time.sleep(0.2)\n",
    "            \n",
    "            print(f\"Sim finished in {step_sim} steps, total reward {total_reward_sim}.\")\n",
    "            if done and reward == 20: print(\"Successful dropoff!\")\n",
    "        env_sim.close()\n",
    "    else:\n",
    "        print(\"Cannot run simulation as actor weights were not loaded.\")"
   ]
  },
  {
   "cell_type": "code",
   "execution_count": null,
   "id": "6809f1d0",
   "metadata": {},
   "outputs": [],
   "source": []
  },
  {
   "cell_type": "code",
   "execution_count": 5,
   "id": "f5e13175",
   "metadata": {},
   "outputs": [
    {
     "name": "stdout",
     "output_type": "stream",
     "text": [
      "Attempting to load logs for 400k episodes...\n",
      "Loaded log lengths:\n",
      "  Rewards: 400000\n",
      "  Steps: 200000\n",
      "  Successes: 200000\n",
      "  Avg Sq Advantage: 200000\n"
     ]
    },
    {
     "data": {
      "image/png": "[encoded data removed]",
      "text/plain": [
       "<Figure size 1296x720 with 4 Axes>"
      ]
     },
     "metadata": {
      "needs_background": "light"
     },
     "output_type": "display_data"
    },
    {
     "name": "stdout",
     "output_type": "stream",
     "text": [
      "\n",
      "--- Attempting Simulation with Loaded Weights ---\n",
      "Successfully loaded actor weights: taxi_reinforce_linear_400k_actor_weights.npy\n",
      "\n",
      "--- Simulation Rollout #1 (Using Seed: 26476) ---\n",
      "+---------+\n",
      "|R: | : :G|\n",
      "| : |T: : |\n",
      "| : : : : |\n",
      "| | : | : |\n",
      "|Y| : |B: |\n",
      "+---------+\n",
      "Step: 0, State: 144 (1,2,G (Green),R (Red))\n",
      "Prefs: ['1.76', '1.07', '2.36', '-0.25', '-2.07', '-2.87']\n",
      "Probs: ['0.29', '0.14', '0.52', '0.04', '0.01', '0.00']\n",
      "Chosen: East  →\n",
      "Reward: -1, Total: -1\n",
      "------------------------------\n",
      "+---------+\n",
      "|R: | : :G|\n",
      "| : | :T: |\n",
      "| : : : : |\n",
      "| | : | : |\n",
      "|Y| : |B: |\n",
      "+---------+\n",
      "Step: 1, State: 164 (1,3,G (Green),R (Red))\n",
      "Prefs: ['0.73', '1.61', '2.47', '-0.01', '-1.99', '-2.81']\n",
      "Probs: ['0.10', '0.25', '0.59', '0.05', '0.01', '0.00']\n",
      "Chosen: East  →\n",
      "Reward: -1, Total: -2\n",
      "------------------------------\n",
      "+---------+\n",
      "|R: | : :G|\n",
      "| : | : :T|\n",
      "| : : : : |\n",
      "| | : | : |\n",
      "|Y| : |B: |\n",
      "+---------+\n",
      "Step: 2, State: 184 (1,4,G (Green),R (Red))\n",
      "Prefs: ['0.51', '2.19', '2.27', '-0.13', '-2.02', '-2.82']\n",
      "Probs: ['0.08', '0.42', '0.45', '0.04', '0.01', '0.00']\n",
      "Chosen: East  →\n",
      "Reward: -1, Total: -3\n",
      "------------------------------\n",
      "+---------+\n",
      "|R: | : :G|\n",
      "| : | : :T|\n",
      "| : : : : |\n",
      "| | : | : |\n",
      "|Y| : |B: |\n",
      "+---------+\n",
      "Step: 3, State: 184 (1,4,G (Green),R (Red))\n",
      "Prefs: ['0.51', '2.19', '2.27', '-0.13', '-2.02', '-2.82']\n",
      "Probs: ['0.08', '0.42', '0.45', '0.04', '0.01', '0.00']\n",
      "Chosen: East  →\n",
      "Reward: -1, Total: -4\n",
      "------------------------------\n",
      "+---------+\n",
      "|R: | : :G|\n",
      "| : | : :T|\n",
      "| : : : : |\n",
      "| | : | : |\n",
      "|Y| : |B: |\n",
      "+---------+\n",
      "Step: 4, State: 184 (1,4,G (Green),R (Red))\n",
      "Prefs: ['0.51', '2.19', '2.27', '-0.13', '-2.02', '-2.82']\n",
      "Probs: ['0.08', '0.42', '0.45', '0.04', '0.01', '0.00']\n",
      "Chosen: East  →\n",
      "Reward: -1, Total: -5\n",
      "------------------------------\n",
      "+---------+\n",
      "|R: | : :G|\n",
      "| : | : :T|\n",
      "| : : : : |\n",
      "| | : | : |\n",
      "|Y| : |B: |\n",
      "+---------+\n",
      "Step: 5, State: 184 (1,4,G (Green),R (Red))\n",
      "Prefs: ['0.51', '2.19', '2.27', '-0.13', '-2.02', '-2.82']\n",
      "Probs: ['0.08', '0.42', '0.45', '0.04', '0.01', '0.00']\n",
      "Chosen: East  →\n",
      "Reward: -1, Total: -6\n",
      "------------------------------\n",
      "+---------+\n",
      "|R: | : :G|\n",
      "| : | : :T|\n",
      "| : : : : |\n",
      "| | : | : |\n",
      "|Y| : |B: |\n",
      "+---------+\n",
      "Step: 6, State: 184 (1,4,G (Green),R (Red))\n",
      "Prefs: ['0.51', '2.19', '2.27', '-0.13', '-2.02', '-2.82']\n",
      "Probs: ['0.08', '0.42', '0.45', '0.04', '0.01', '0.00']\n",
      "Chosen: East  →\n",
      "Reward: -1, Total: -7\n",
      "------------------------------\n",
      "+---------+\n",
      "|R: | : :G|\n",
      "| : | : :T|\n",
      "| : : : : |\n",
      "| | : | : |\n",
      "|Y| : |B: |\n",
      "+---------+\n",
      "Step: 7, State: 184 (1,4,G (Green),R (Red))\n",
      "Prefs: ['0.51', '2.19', '2.27', '-0.13', '-2.02', '-2.82']\n",
      "Probs: ['0.08', '0.42', '0.45', '0.04', '0.01', '0.00']\n",
      "Chosen: East  →\n",
      "Reward: -1, Total: -8\n",
      "------------------------------\n",
      "+---------+\n",
      "|R: | : :G|\n",
      "| : | : :T|\n",
      "| : : : : |\n",
      "| | : | : |\n",
      "|Y| : |B: |\n",
      "+---------+\n",
      "Step: 8, State: 184 (1,4,G (Green),R (Red))\n",
      "Prefs: ['0.51', '2.19', '2.27', '-0.13', '-2.02', '-2.82']\n",
      "Probs: ['0.08', '0.42', '0.45', '0.04', '0.01', '0.00']\n",
      "Chosen: East  →\n",
      "Reward: -1, Total: -9\n",
      "------------------------------\n",
      "+---------+\n",
      "|R: | : :G|\n",
      "| : | : :T|\n",
      "| : : : : |\n",
      "| | : | : |\n",
      "|Y| : |B: |\n",
      "+---------+\n",
      "Step: 9, State: 184 (1,4,G (Green),R (Red))\n",
      "Prefs: ['0.51', '2.19', '2.27', '-0.13', '-2.02', '-2.82']\n",
      "Probs: ['0.08', '0.42', '0.45', '0.04', '0.01', '0.00']\n",
      "Chosen: East  →\n",
      "Reward: -1, Total: -10\n",
      "------------------------------\n",
      "+---------+\n",
      "|R: | : :G|\n",
      "| : | : :T|\n",
      "| : : : : |\n",
      "| | : | : |\n",
      "|Y| : |B: |\n",
      "+---------+\n",
      "Step: 10, State: 184 (1,4,G (Green),R (Red))\n",
      "Prefs: ['0.51', '2.19', '2.27', '-0.13', '-2.02', '-2.82']\n",
      "Probs: ['0.08', '0.42', '0.45', '0.04', '0.01', '0.00']\n",
      "Chosen: East  →\n",
      "Reward: -1, Total: -11\n",
      "------------------------------\n",
      "+---------+\n",
      "|R: | : :G|\n",
      "| : | : :T|\n",
      "| : : : : |\n",
      "| | : | : |\n",
      "|Y| : |B: |\n",
      "+---------+\n",
      "Step: 11, State: 184 (1,4,G (Green),R (Red))\n",
      "Prefs: ['0.51', '2.19', '2.27', '-0.13', '-2.02', '-2.82']\n",
      "Probs: ['0.08', '0.42', '0.45', '0.04', '0.01', '0.00']\n",
      "Chosen: East  →\n",
      "Reward: -1, Total: -12\n",
      "------------------------------\n",
      "+---------+\n",
      "|R: | : :G|\n",
      "| : | : :T|\n",
      "| : : : : |\n",
      "| | : | : |\n",
      "|Y| : |B: |\n",
      "+---------+\n",
      "Step: 12, State: 184 (1,4,G (Green),R (Red))\n",
      "Prefs: ['0.51', '2.19', '2.27', '-0.13', '-2.02', '-2.82']\n",
      "Probs: ['0.08', '0.42', '0.45', '0.04', '0.01', '0.00']\n",
      "Chosen: East  →\n",
      "Reward: -1, Total: -13\n",
      "------------------------------\n",
      "+---------+\n",
      "|R: | : :G|\n",
      "| : | : :T|\n",
      "| : : : : |\n",
      "| | : | : |\n",
      "|Y| : |B: |\n",
      "+---------+\n",
      "Step: 13, State: 184 (1,4,G (Green),R (Red))\n",
      "Prefs: ['0.51', '2.19', '2.27', '-0.13', '-2.02', '-2.82']\n",
      "Probs: ['0.08', '0.42', '0.45', '0.04', '0.01', '0.00']\n",
      "Chosen: East  →\n",
      "Reward: -1, Total: -14\n",
      "------------------------------\n",
      "+---------+\n",
      "|R: | : :G|\n",
      "| : | : :T|\n",
      "| : : : : |\n",
      "| | : | : |\n",
      "|Y| : |B: |\n",
      "+---------+\n",
      "Step: 14, State: 184 (1,4,G (Green),R (Red))\n",
      "Prefs: ['0.51', '2.19', '2.27', '-0.13', '-2.02', '-2.82']\n",
      "Probs: ['0.08', '0.42', '0.45', '0.04', '0.01', '0.00']\n",
      "Chosen: East  →\n",
      "Reward: -1, Total: -15\n",
      "------------------------------\n",
      "+---------+\n",
      "|R: | : :G|\n",
      "| : | : :T|\n",
      "| : : : : |\n",
      "| | : | : |\n",
      "|Y| : |B: |\n",
      "+---------+\n",
      "Step: 15, State: 184 (1,4,G (Green),R (Red))\n",
      "Prefs: ['0.51', '2.19', '2.27', '-0.13', '-2.02', '-2.82']\n",
      "Probs: ['0.08', '0.42', '0.45', '0.04', '0.01', '0.00']\n",
      "Chosen: East  →\n",
      "Reward: -1, Total: -16\n",
      "------------------------------\n",
      "+---------+\n",
      "|R: | : :G|\n",
      "| : | : :T|\n",
      "| : : : : |\n",
      "| | : | : |\n",
      "|Y| : |B: |\n",
      "+---------+\n",
      "Step: 16, State: 184 (1,4,G (Green),R (Red))\n",
      "Prefs: ['0.51', '2.19', '2.27', '-0.13', '-2.02', '-2.82']\n",
      "Probs: ['0.08', '0.42', '0.45', '0.04', '0.01', '0.00']\n",
      "Chosen: East  →\n",
      "Reward: -1, Total: -17\n",
      "------------------------------\n",
      "+---------+\n",
      "|R: | : :G|\n",
      "| : | : :T|\n",
      "| : : : : |\n",
      "| | : | : |\n",
      "|Y| : |B: |\n",
      "+---------+\n",
      "Step: 17, State: 184 (1,4,G (Green),R (Red))\n",
      "Prefs: ['0.51', '2.19', '2.27', '-0.13', '-2.02', '-2.82']\n",
      "Probs: ['0.08', '0.42', '0.45', '0.04', '0.01', '0.00']\n",
      "Chosen: East  →\n",
      "Reward: -1, Total: -18\n",
      "------------------------------\n",
      "+---------+\n",
      "|R: | : :G|\n",
      "| : | : :T|\n",
      "| : : : : |\n",
      "| | : | : |\n",
      "|Y| : |B: |\n",
      "+---------+\n",
      "Step: 18, State: 184 (1,4,G (Green),R (Red))\n",
      "Prefs: ['0.51', '2.19', '2.27', '-0.13', '-2.02', '-2.82']\n",
      "Probs: ['0.08', '0.42', '0.45', '0.04', '0.01', '0.00']\n",
      "Chosen: East  →\n",
      "Reward: -1, Total: -19\n",
      "------------------------------\n",
      "+---------+\n",
      "|R: | : :G|\n",
      "| : | : :T|\n",
      "| : : : : |\n",
      "| | : | : |\n",
      "|Y| : |B: |\n",
      "+---------+\n",
      "Step: 19, State: 184 (1,4,G (Green),R (Red))\n",
      "Prefs: ['0.51', '2.19', '2.27', '-0.13', '-2.02', '-2.82']\n",
      "Probs: ['0.08', '0.42', '0.45', '0.04', '0.01', '0.00']\n",
      "Chosen: East  →\n",
      "Reward: -1, Total: -20\n",
      "------------------------------\n",
      "+---------+\n",
      "|R: | : :G|\n",
      "| : | : :T|\n",
      "| : : : : |\n",
      "| | : | : |\n",
      "|Y| : |B: |\n",
      "+---------+\n",
      "Step: 20, State: 184 (1,4,G (Green),R (Red))\n",
      "Prefs: ['0.51', '2.19', '2.27', '-0.13', '-2.02', '-2.82']\n",
      "Probs: ['0.08', '0.42', '0.45', '0.04', '0.01', '0.00']\n",
      "Chosen: East  →\n",
      "Reward: -1, Total: -21\n",
      "------------------------------\n",
      "+---------+\n",
      "|R: | : :G|\n",
      "| : | : :T|\n",
      "| : : : : |\n",
      "| | : | : |\n",
      "|Y| : |B: |\n",
      "+---------+\n",
      "Step: 21, State: 184 (1,4,G (Green),R (Red))\n",
      "Prefs: ['0.51', '2.19', '2.27', '-0.13', '-2.02', '-2.82']\n",
      "Probs: ['0.08', '0.42', '0.45', '0.04', '0.01', '0.00']\n",
      "Chosen: East  →\n",
      "Reward: -1, Total: -22\n",
      "------------------------------\n",
      "+---------+\n",
      "|R: | : :G|\n",
      "| : | : :T|\n",
      "| : : : : |\n",
      "| | : | : |\n",
      "|Y| : |B: |\n",
      "+---------+\n",
      "Step: 22, State: 184 (1,4,G (Green),R (Red))\n",
      "Prefs: ['0.51', '2.19', '2.27', '-0.13', '-2.02', '-2.82']\n",
      "Probs: ['0.08', '0.42', '0.45', '0.04', '0.01', '0.00']\n",
      "Chosen: East  →\n",
      "Reward: -1, Total: -23\n",
      "------------------------------\n",
      "+---------+\n",
      "|R: | : :G|\n",
      "| : | : :T|\n",
      "| : : : : |\n",
      "| | : | : |\n",
      "|Y| : |B: |\n",
      "+---------+\n",
      "Step: 23, State: 184 (1,4,G (Green),R (Red))\n",
      "Prefs: ['0.51', '2.19', '2.27', '-0.13', '-2.02', '-2.82']\n",
      "Probs: ['0.08', '0.42', '0.45', '0.04', '0.01', '0.00']\n",
      "Chosen: East  →\n",
      "Reward: -1, Total: -24\n",
      "------------------------------\n",
      "+---------+\n",
      "|R: | : :G|\n",
      "| : | : :T|\n",
      "| : : : : |\n",
      "| | : | : |\n",
      "|Y| : |B: |\n",
      "+---------+\n",
      "Step: 24, State: 184 (1,4,G (Green),R (Red))\n",
      "Prefs: ['0.51', '2.19', '2.27', '-0.13', '-2.02', '-2.82']\n",
      "Probs: ['0.08', '0.42', '0.45', '0.04', '0.01', '0.00']\n",
      "Chosen: East  →\n",
      "Reward: -1, Total: -25\n",
      "------------------------------\n",
      "+---------+\n",
      "|R: | : :G|\n",
      "| : | : :T|\n",
      "| : : : : |\n",
      "| | : | : |\n",
      "|Y| : |B: |\n",
      "+---------+\n",
      "Step: 25, State: 184 (1,4,G (Green),R (Red))\n",
      "Prefs: ['0.51', '2.19', '2.27', '-0.13', '-2.02', '-2.82']\n",
      "Probs: ['0.08', '0.42', '0.45', '0.04', '0.01', '0.00']\n",
      "Chosen: East  →\n",
      "Reward: -1, Total: -26\n",
      "------------------------------\n"
     ]
    },
    {
     "name": "stdout",
     "output_type": "stream",
     "text": [
      "+---------+\n",
      "|R: | : :G|\n",
      "| : | : :T|\n",
      "| : : : : |\n",
      "| | : | : |\n",
      "|Y| : |B: |\n",
      "+---------+\n",
      "Step: 26, State: 184 (1,4,G (Green),R (Red))\n",
      "Prefs: ['0.51', '2.19', '2.27', '-0.13', '-2.02', '-2.82']\n",
      "Probs: ['0.08', '0.42', '0.45', '0.04', '0.01', '0.00']\n",
      "Chosen: East  →\n",
      "Reward: -1, Total: -27\n",
      "------------------------------\n",
      "+---------+\n",
      "|R: | : :G|\n",
      "| : | : :T|\n",
      "| : : : : |\n",
      "| | : | : |\n",
      "|Y| : |B: |\n",
      "+---------+\n",
      "Step: 27, State: 184 (1,4,G (Green),R (Red))\n",
      "Prefs: ['0.51', '2.19', '2.27', '-0.13', '-2.02', '-2.82']\n",
      "Probs: ['0.08', '0.42', '0.45', '0.04', '0.01', '0.00']\n",
      "Chosen: East  →\n",
      "Reward: -1, Total: -28\n",
      "------------------------------\n",
      "+---------+\n",
      "|R: | : :G|\n",
      "| : | : :T|\n",
      "| : : : : |\n",
      "| | : | : |\n",
      "|Y| : |B: |\n",
      "+---------+\n",
      "Step: 28, State: 184 (1,4,G (Green),R (Red))\n",
      "Prefs: ['0.51', '2.19', '2.27', '-0.13', '-2.02', '-2.82']\n",
      "Probs: ['0.08', '0.42', '0.45', '0.04', '0.01', '0.00']\n",
      "Chosen: East  →\n",
      "Reward: -1, Total: -29\n",
      "------------------------------\n",
      "+---------+\n",
      "|R: | : :G|\n",
      "| : | : :T|\n",
      "| : : : : |\n",
      "| | : | : |\n",
      "|Y| : |B: |\n",
      "+---------+\n",
      "Step: 29, State: 184 (1,4,G (Green),R (Red))\n",
      "Prefs: ['0.51', '2.19', '2.27', '-0.13', '-2.02', '-2.82']\n",
      "Probs: ['0.08', '0.42', '0.45', '0.04', '0.01', '0.00']\n",
      "Chosen: East  →\n",
      "Reward: -1, Total: -30\n",
      "------------------------------\n",
      "+---------+\n",
      "|R: | : :G|\n",
      "| : | : :T|\n",
      "| : : : : |\n",
      "| | : | : |\n",
      "|Y| : |B: |\n",
      "+---------+\n",
      "Step: 30, State: 184 (1,4,G (Green),R (Red))\n",
      "Prefs: ['0.51', '2.19', '2.27', '-0.13', '-2.02', '-2.82']\n",
      "Probs: ['0.08', '0.42', '0.45', '0.04', '0.01', '0.00']\n",
      "Chosen: East  →\n",
      "Reward: -1, Total: -31\n",
      "------------------------------\n",
      "+---------+\n",
      "|R: | : :G|\n",
      "| : | : :T|\n",
      "| : : : : |\n",
      "| | : | : |\n",
      "|Y| : |B: |\n",
      "+---------+\n",
      "Step: 31, State: 184 (1,4,G (Green),R (Red))\n",
      "Prefs: ['0.51', '2.19', '2.27', '-0.13', '-2.02', '-2.82']\n",
      "Probs: ['0.08', '0.42', '0.45', '0.04', '0.01', '0.00']\n",
      "Chosen: East  →\n",
      "Reward: -1, Total: -32\n",
      "------------------------------\n",
      "+---------+\n",
      "|R: | : :G|\n",
      "| : | : :T|\n",
      "| : : : : |\n",
      "| | : | : |\n",
      "|Y| : |B: |\n",
      "+---------+\n",
      "Step: 32, State: 184 (1,4,G (Green),R (Red))\n",
      "Prefs: ['0.51', '2.19', '2.27', '-0.13', '-2.02', '-2.82']\n",
      "Probs: ['0.08', '0.42', '0.45', '0.04', '0.01', '0.00']\n",
      "Chosen: East  →\n",
      "Reward: -1, Total: -33\n",
      "------------------------------\n",
      "+---------+\n",
      "|R: | : :G|\n",
      "| : | : :T|\n",
      "| : : : : |\n",
      "| | : | : |\n",
      "|Y| : |B: |\n",
      "+---------+\n",
      "Step: 33, State: 184 (1,4,G (Green),R (Red))\n",
      "Prefs: ['0.51', '2.19', '2.27', '-0.13', '-2.02', '-2.82']\n",
      "Probs: ['0.08', '0.42', '0.45', '0.04', '0.01', '0.00']\n",
      "Chosen: East  →\n",
      "Reward: -1, Total: -34\n",
      "------------------------------\n",
      "+---------+\n",
      "|R: | : :G|\n",
      "| : | : :T|\n",
      "| : : : : |\n",
      "| | : | : |\n",
      "|Y| : |B: |\n",
      "+---------+\n",
      "Step: 34, State: 184 (1,4,G (Green),R (Red))\n",
      "Prefs: ['0.51', '2.19', '2.27', '-0.13', '-2.02', '-2.82']\n",
      "Probs: ['0.08', '0.42', '0.45', '0.04', '0.01', '0.00']\n",
      "Chosen: East  →\n",
      "Reward: -1, Total: -35\n",
      "------------------------------\n",
      "+---------+\n",
      "|R: | : :G|\n",
      "| : | : :T|\n",
      "| : : : : |\n",
      "| | : | : |\n",
      "|Y| : |B: |\n",
      "+---------+\n",
      "Step: 35, State: 184 (1,4,G (Green),R (Red))\n",
      "Prefs: ['0.51', '2.19', '2.27', '-0.13', '-2.02', '-2.82']\n",
      "Probs: ['0.08', '0.42', '0.45', '0.04', '0.01', '0.00']\n",
      "Chosen: East  →\n",
      "Reward: -1, Total: -36\n",
      "------------------------------\n",
      "+---------+\n",
      "|R: | : :G|\n",
      "| : | : :T|\n",
      "| : : : : |\n",
      "| | : | : |\n",
      "|Y| : |B: |\n",
      "+---------+\n",
      "Step: 36, State: 184 (1,4,G (Green),R (Red))\n",
      "Prefs: ['0.51', '2.19', '2.27', '-0.13', '-2.02', '-2.82']\n",
      "Probs: ['0.08', '0.42', '0.45', '0.04', '0.01', '0.00']\n",
      "Chosen: East  →\n",
      "Reward: -1, Total: -37\n",
      "------------------------------\n",
      "+---------+\n",
      "|R: | : :G|\n",
      "| : | : :T|\n",
      "| : : : : |\n",
      "| | : | : |\n",
      "|Y| : |B: |\n",
      "+---------+\n",
      "Step: 37, State: 184 (1,4,G (Green),R (Red))\n",
      "Prefs: ['0.51', '2.19', '2.27', '-0.13', '-2.02', '-2.82']\n",
      "Probs: ['0.08', '0.42', '0.45', '0.04', '0.01', '0.00']\n",
      "Chosen: East  →\n",
      "Reward: -1, Total: -38\n",
      "------------------------------\n",
      "+---------+\n",
      "|R: | : :G|\n",
      "| : | : :T|\n",
      "| : : : : |\n",
      "| | : | : |\n",
      "|Y| : |B: |\n",
      "+---------+\n",
      "Step: 38, State: 184 (1,4,G (Green),R (Red))\n",
      "Prefs: ['0.51', '2.19', '2.27', '-0.13', '-2.02', '-2.82']\n",
      "Probs: ['0.08', '0.42', '0.45', '0.04', '0.01', '0.00']\n",
      "Chosen: East  →\n",
      "Reward: -1, Total: -39\n",
      "------------------------------\n",
      "+---------+\n",
      "|R: | : :G|\n",
      "| : | : :T|\n",
      "| : : : : |\n",
      "| | : | : |\n",
      "|Y| : |B: |\n",
      "+---------+\n",
      "Step: 39, State: 184 (1,4,G (Green),R (Red))\n",
      "Prefs: ['0.51', '2.19', '2.27', '-0.13', '-2.02', '-2.82']\n",
      "Probs: ['0.08', '0.42', '0.45', '0.04', '0.01', '0.00']\n",
      "Chosen: East  →\n",
      "Reward: -1, Total: -40\n",
      "------------------------------\n",
      "+---------+\n",
      "|R: | : :G|\n",
      "| : | : :T|\n",
      "| : : : : |\n",
      "| | : | : |\n",
      "|Y| : |B: |\n",
      "+---------+\n",
      "Step: 40, State: 184 (1,4,G (Green),R (Red))\n",
      "Prefs: ['0.51', '2.19', '2.27', '-0.13', '-2.02', '-2.82']\n",
      "Probs: ['0.08', '0.42', '0.45', '0.04', '0.01', '0.00']\n",
      "Chosen: East  →\n",
      "Reward: -1, Total: -41\n",
      "------------------------------\n",
      "+---------+\n",
      "|R: | : :G|\n",
      "| : | : :T|\n",
      "| : : : : |\n",
      "| | : | : |\n",
      "|Y| : |B: |\n",
      "+---------+\n",
      "Step: 41, State: 184 (1,4,G (Green),R (Red))\n",
      "Prefs: ['0.51', '2.19', '2.27', '-0.13', '-2.02', '-2.82']\n",
      "Probs: ['0.08', '0.42', '0.45', '0.04', '0.01', '0.00']\n",
      "Chosen: East  →\n",
      "Reward: -1, Total: -42\n",
      "------------------------------\n",
      "+---------+\n",
      "|R: | : :G|\n",
      "| : | : :T|\n",
      "| : : : : |\n",
      "| | : | : |\n",
      "|Y| : |B: |\n",
      "+---------+\n",
      "Step: 42, State: 184 (1,4,G (Green),R (Red))\n",
      "Prefs: ['0.51', '2.19', '2.27', '-0.13', '-2.02', '-2.82']\n",
      "Probs: ['0.08', '0.42', '0.45', '0.04', '0.01', '0.00']\n",
      "Chosen: East  →\n",
      "Reward: -1, Total: -43\n",
      "------------------------------\n",
      "+---------+\n",
      "|R: | : :G|\n",
      "| : | : :T|\n",
      "| : : : : |\n",
      "| | : | : |\n",
      "|Y| : |B: |\n",
      "+---------+\n",
      "Step: 43, State: 184 (1,4,G (Green),R (Red))\n",
      "Prefs: ['0.51', '2.19', '2.27', '-0.13', '-2.02', '-2.82']\n",
      "Probs: ['0.08', '0.42', '0.45', '0.04', '0.01', '0.00']\n",
      "Chosen: East  →\n",
      "Reward: -1, Total: -44\n",
      "------------------------------\n",
      "+---------+\n",
      "|R: | : :G|\n",
      "| : | : :T|\n",
      "| : : : : |\n",
      "| | : | : |\n",
      "|Y| : |B: |\n",
      "+---------+\n",
      "Step: 44, State: 184 (1,4,G (Green),R (Red))\n",
      "Prefs: ['0.51', '2.19', '2.27', '-0.13', '-2.02', '-2.82']\n",
      "Probs: ['0.08', '0.42', '0.45', '0.04', '0.01', '0.00']\n",
      "Chosen: East  →\n",
      "Reward: -1, Total: -45\n",
      "------------------------------\n",
      "+---------+\n",
      "|R: | : :G|\n",
      "| : | : :T|\n",
      "| : : : : |\n",
      "| | : | : |\n",
      "|Y| : |B: |\n",
      "+---------+\n",
      "Step: 45, State: 184 (1,4,G (Green),R (Red))\n",
      "Prefs: ['0.51', '2.19', '2.27', '-0.13', '-2.02', '-2.82']\n",
      "Probs: ['0.08', '0.42', '0.45', '0.04', '0.01', '0.00']\n",
      "Chosen: East  →\n",
      "Reward: -1, Total: -46\n",
      "------------------------------\n",
      "+---------+\n",
      "|R: | : :G|\n",
      "| : | : :T|\n",
      "| : : : : |\n",
      "| | : | : |\n",
      "|Y| : |B: |\n",
      "+---------+\n",
      "Step: 46, State: 184 (1,4,G (Green),R (Red))\n",
      "Prefs: ['0.51', '2.19', '2.27', '-0.13', '-2.02', '-2.82']\n",
      "Probs: ['0.08', '0.42', '0.45', '0.04', '0.01', '0.00']\n",
      "Chosen: East  →\n",
      "Reward: -1, Total: -47\n",
      "------------------------------\n",
      "+---------+\n",
      "|R: | : :G|\n",
      "| : | : :T|\n",
      "| : : : : |\n",
      "| | : | : |\n",
      "|Y| : |B: |\n",
      "+---------+\n",
      "Step: 47, State: 184 (1,4,G (Green),R (Red))\n",
      "Prefs: ['0.51', '2.19', '2.27', '-0.13', '-2.02', '-2.82']\n",
      "Probs: ['0.08', '0.42', '0.45', '0.04', '0.01', '0.00']\n",
      "Chosen: East  →\n",
      "Reward: -1, Total: -48\n",
      "------------------------------\n",
      "+---------+\n",
      "|R: | : :G|\n",
      "| : | : :T|\n",
      "| : : : : |\n",
      "| | : | : |\n",
      "|Y| : |B: |\n",
      "+---------+\n",
      "Step: 48, State: 184 (1,4,G (Green),R (Red))\n",
      "Prefs: ['0.51', '2.19', '2.27', '-0.13', '-2.02', '-2.82']\n",
      "Probs: ['0.08', '0.42', '0.45', '0.04', '0.01', '0.00']\n",
      "Chosen: East  →\n",
      "Reward: -1, Total: -49\n",
      "------------------------------\n",
      "+---------+\n",
      "|R: | : :G|\n",
      "| : | : :T|\n",
      "| : : : : |\n",
      "| | : | : |\n",
      "|Y| : |B: |\n",
      "+---------+\n",
      "Step: 49, State: 184 (1,4,G (Green),R (Red))\n",
      "Prefs: ['0.51', '2.19', '2.27', '-0.13', '-2.02', '-2.82']\n",
      "Probs: ['0.08', '0.42', '0.45', '0.04', '0.01', '0.00']\n",
      "Chosen: East  →\n",
      "Reward: -1, Total: -50\n",
      "------------------------------\n",
      "Sim finished in 50 steps, total reward -50.\n",
      "\n",
      "--- Simulation Rollout #2 (Using Seed: 43913) ---\n",
      "+---------+\n",
      "|R: | : :G|\n",
      "| : | : :T|\n",
      "| : : : : |\n",
      "| | : | : |\n",
      "|Y| : |B: |\n",
      "+---------+\n",
      "Step: 0, State: 194 (1,4,B (Blue),Y (Yellow))\n",
      "Prefs: ['2.14', '1.19', '0.22', '1.13', '-2.19', '-2.50']\n",
      "Probs: ['0.52', '0.20', '0.08', '0.19', '0.01', '0.01']\n",
      "Chosen: South ↓\n",
      "Reward: -1, Total: -1\n",
      "------------------------------\n",
      "+---------+\n",
      "|R: | : :G|\n",
      "| : | : : |\n",
      "| : : : :T|\n",
      "| | : | : |\n",
      "|Y| : |B: |\n",
      "+---------+\n",
      "Step: 1, State: 294 (2,4,B (Blue),Y (Yellow))\n",
      "Prefs: ['2.19', '1.01', '0.24', '1.21', '-2.15', '-2.49']\n",
      "Probs: ['0.54', '0.17', '0.08', '0.20', '0.01', '0.01']\n",
      "Chosen: South ↓\n",
      "Reward: -1, Total: -2\n",
      "------------------------------\n"
     ]
    },
    {
     "name": "stdout",
     "output_type": "stream",
     "text": [
      "+---------+\n",
      "|R: | : :G|\n",
      "| : | : : |\n",
      "| : : : : |\n",
      "| | : | :T|\n",
      "|Y| : |B: |\n",
      "+---------+\n",
      "Step: 2, State: 394 (3,4,B (Blue),Y (Yellow))\n",
      "Prefs: ['2.33', '0.84', '0.25', '1.22', '-2.16', '-2.48']\n",
      "Probs: ['0.59', '0.13', '0.07', '0.19', '0.01', '0.00']\n",
      "Chosen: South ↓\n",
      "Reward: -1, Total: -3\n",
      "------------------------------\n",
      "+---------+\n",
      "|R: | : :G|\n",
      "| : | : : |\n",
      "| : : : : |\n",
      "| | : | : |\n",
      "|Y| : |B:T|\n",
      "+---------+\n",
      "Step: 3, State: 494 (4,4,B (Blue),Y (Yellow))\n",
      "Prefs: ['2.25', '0.68', '0.27', '1.49', '-2.18', '-2.50']\n",
      "Probs: ['0.55', '0.11', '0.08', '0.25', '0.01', '0.00']\n",
      "Chosen: South ↓\n",
      "Reward: -1, Total: -4\n",
      "------------------------------\n",
      "+---------+\n",
      "|R: | : :G|\n",
      "| : | : : |\n",
      "| : : : : |\n",
      "| | : | : |\n",
      "|Y| : |B:T|\n",
      "+---------+\n",
      "Step: 4, State: 494 (4,4,B (Blue),Y (Yellow))\n",
      "Prefs: ['2.25', '0.68', '0.27', '1.49', '-2.18', '-2.50']\n",
      "Probs: ['0.55', '0.11', '0.08', '0.25', '0.01', '0.00']\n",
      "Chosen: South ↓\n",
      "Reward: -1, Total: -5\n",
      "------------------------------\n",
      "+---------+\n",
      "|R: | : :G|\n",
      "| : | : : |\n",
      "| : : : : |\n",
      "| | : | : |\n",
      "|Y| : |B:T|\n",
      "+---------+\n",
      "Step: 5, State: 494 (4,4,B (Blue),Y (Yellow))\n",
      "Prefs: ['2.25', '0.68', '0.27', '1.49', '-2.18', '-2.50']\n",
      "Probs: ['0.55', '0.11', '0.08', '0.25', '0.01', '0.00']\n",
      "Chosen: South ↓\n",
      "Reward: -1, Total: -6\n",
      "------------------------------\n",
      "+---------+\n",
      "|R: | : :G|\n",
      "| : | : : |\n",
      "| : : : : |\n",
      "| | : | : |\n",
      "|Y| : |B:T|\n",
      "+---------+\n",
      "Step: 6, State: 494 (4,4,B (Blue),Y (Yellow))\n",
      "Prefs: ['2.25', '0.68', '0.27', '1.49', '-2.18', '-2.50']\n",
      "Probs: ['0.55', '0.11', '0.08', '0.25', '0.01', '0.00']\n",
      "Chosen: South ↓\n",
      "Reward: -1, Total: -7\n",
      "------------------------------\n",
      "+---------+\n",
      "|R: | : :G|\n",
      "| : | : : |\n",
      "| : : : : |\n",
      "| | : | : |\n",
      "|Y| : |B:T|\n",
      "+---------+\n",
      "Step: 7, State: 494 (4,4,B (Blue),Y (Yellow))\n",
      "Prefs: ['2.25', '0.68', '0.27', '1.49', '-2.18', '-2.50']\n",
      "Probs: ['0.55', '0.11', '0.08', '0.25', '0.01', '0.00']\n",
      "Chosen: South ↓\n",
      "Reward: -1, Total: -8\n",
      "------------------------------\n",
      "+---------+\n",
      "|R: | : :G|\n",
      "| : | : : |\n",
      "| : : : : |\n",
      "| | : | : |\n",
      "|Y| : |B:T|\n",
      "+---------+\n",
      "Step: 8, State: 494 (4,4,B (Blue),Y (Yellow))\n",
      "Prefs: ['2.25', '0.68', '0.27', '1.49', '-2.18', '-2.50']\n",
      "Probs: ['0.55', '0.11', '0.08', '0.25', '0.01', '0.00']\n",
      "Chosen: South ↓\n",
      "Reward: -1, Total: -9\n",
      "------------------------------\n",
      "+---------+\n",
      "|R: | : :G|\n",
      "| : | : : |\n",
      "| : : : : |\n",
      "| | : | : |\n",
      "|Y| : |B:T|\n",
      "+---------+\n",
      "Step: 9, State: 494 (4,4,B (Blue),Y (Yellow))\n",
      "Prefs: ['2.25', '0.68', '0.27', '1.49', '-2.18', '-2.50']\n",
      "Probs: ['0.55', '0.11', '0.08', '0.25', '0.01', '0.00']\n",
      "Chosen: South ↓\n",
      "Reward: -1, Total: -10\n",
      "------------------------------\n",
      "+---------+\n",
      "|R: | : :G|\n",
      "| : | : : |\n",
      "| : : : : |\n",
      "| | : | : |\n",
      "|Y| : |B:T|\n",
      "+---------+\n",
      "Step: 10, State: 494 (4,4,B (Blue),Y (Yellow))\n",
      "Prefs: ['2.25', '0.68', '0.27', '1.49', '-2.18', '-2.50']\n",
      "Probs: ['0.55', '0.11', '0.08', '0.25', '0.01', '0.00']\n",
      "Chosen: South ↓\n",
      "Reward: -1, Total: -11\n",
      "------------------------------\n",
      "+---------+\n",
      "|R: | : :G|\n",
      "| : | : : |\n",
      "| : : : : |\n",
      "| | : | : |\n",
      "|Y| : |B:T|\n",
      "+---------+\n",
      "Step: 11, State: 494 (4,4,B (Blue),Y (Yellow))\n",
      "Prefs: ['2.25', '0.68', '0.27', '1.49', '-2.18', '-2.50']\n",
      "Probs: ['0.55', '0.11', '0.08', '0.25', '0.01', '0.00']\n",
      "Chosen: South ↓\n",
      "Reward: -1, Total: -12\n",
      "------------------------------\n",
      "+---------+\n",
      "|R: | : :G|\n",
      "| : | : : |\n",
      "| : : : : |\n",
      "| | : | : |\n",
      "|Y| : |B:T|\n",
      "+---------+\n",
      "Step: 12, State: 494 (4,4,B (Blue),Y (Yellow))\n",
      "Prefs: ['2.25', '0.68', '0.27', '1.49', '-2.18', '-2.50']\n",
      "Probs: ['0.55', '0.11', '0.08', '0.25', '0.01', '0.00']\n",
      "Chosen: South ↓\n",
      "Reward: -1, Total: -13\n",
      "------------------------------\n",
      "+---------+\n",
      "|R: | : :G|\n",
      "| : | : : |\n",
      "| : : : : |\n",
      "| | : | : |\n",
      "|Y| : |B:T|\n",
      "+---------+\n",
      "Step: 13, State: 494 (4,4,B (Blue),Y (Yellow))\n",
      "Prefs: ['2.25', '0.68', '0.27', '1.49', '-2.18', '-2.50']\n",
      "Probs: ['0.55', '0.11', '0.08', '0.25', '0.01', '0.00']\n",
      "Chosen: South ↓\n",
      "Reward: -1, Total: -14\n",
      "------------------------------\n",
      "+---------+\n",
      "|R: | : :G|\n",
      "| : | : : |\n",
      "| : : : : |\n",
      "| | : | : |\n",
      "|Y| : |B:T|\n",
      "+---------+\n",
      "Step: 14, State: 494 (4,4,B (Blue),Y (Yellow))\n",
      "Prefs: ['2.25', '0.68', '0.27', '1.49', '-2.18', '-2.50']\n",
      "Probs: ['0.55', '0.11', '0.08', '0.25', '0.01', '0.00']\n",
      "Chosen: South ↓\n",
      "Reward: -1, Total: -15\n",
      "------------------------------\n",
      "+---------+\n",
      "|R: | : :G|\n",
      "| : | : : |\n",
      "| : : : : |\n",
      "| | : | : |\n",
      "|Y| : |B:T|\n",
      "+---------+\n",
      "Step: 15, State: 494 (4,4,B (Blue),Y (Yellow))\n",
      "Prefs: ['2.25', '0.68', '0.27', '1.49', '-2.18', '-2.50']\n",
      "Probs: ['0.55', '0.11', '0.08', '0.25', '0.01', '0.00']\n",
      "Chosen: South ↓\n",
      "Reward: -1, Total: -16\n",
      "------------------------------\n",
      "+---------+\n",
      "|R: | : :G|\n",
      "| : | : : |\n",
      "| : : : : |\n",
      "| | : | : |\n",
      "|Y| : |B:T|\n",
      "+---------+\n",
      "Step: 16, State: 494 (4,4,B (Blue),Y (Yellow))\n",
      "Prefs: ['2.25', '0.68', '0.27', '1.49', '-2.18', '-2.50']\n",
      "Probs: ['0.55', '0.11', '0.08', '0.25', '0.01', '0.00']\n",
      "Chosen: South ↓\n",
      "Reward: -1, Total: -17\n",
      "------------------------------\n",
      "+---------+\n",
      "|R: | : :G|\n",
      "| : | : : |\n",
      "| : : : : |\n",
      "| | : | : |\n",
      "|Y| : |B:T|\n",
      "+---------+\n",
      "Step: 17, State: 494 (4,4,B (Blue),Y (Yellow))\n",
      "Prefs: ['2.25', '0.68', '0.27', '1.49', '-2.18', '-2.50']\n",
      "Probs: ['0.55', '0.11', '0.08', '0.25', '0.01', '0.00']\n",
      "Chosen: South ↓\n",
      "Reward: -1, Total: -18\n",
      "------------------------------\n",
      "+---------+\n",
      "|R: | : :G|\n",
      "| : | : : |\n",
      "| : : : : |\n",
      "| | : | : |\n",
      "|Y| : |B:T|\n",
      "+---------+\n",
      "Step: 18, State: 494 (4,4,B (Blue),Y (Yellow))\n",
      "Prefs: ['2.25', '0.68', '0.27', '1.49', '-2.18', '-2.50']\n",
      "Probs: ['0.55', '0.11', '0.08', '0.25', '0.01', '0.00']\n",
      "Chosen: South ↓\n",
      "Reward: -1, Total: -19\n",
      "------------------------------\n",
      "+---------+\n",
      "|R: | : :G|\n",
      "| : | : : |\n",
      "| : : : : |\n",
      "| | : | : |\n",
      "|Y| : |B:T|\n",
      "+---------+\n",
      "Step: 19, State: 494 (4,4,B (Blue),Y (Yellow))\n",
      "Prefs: ['2.25', '0.68', '0.27', '1.49', '-2.18', '-2.50']\n",
      "Probs: ['0.55', '0.11', '0.08', '0.25', '0.01', '0.00']\n",
      "Chosen: South ↓\n",
      "Reward: -1, Total: -20\n",
      "------------------------------\n",
      "+---------+\n",
      "|R: | : :G|\n",
      "| : | : : |\n",
      "| : : : : |\n",
      "| | : | : |\n",
      "|Y| : |B:T|\n",
      "+---------+\n",
      "Step: 20, State: 494 (4,4,B (Blue),Y (Yellow))\n",
      "Prefs: ['2.25', '0.68', '0.27', '1.49', '-2.18', '-2.50']\n",
      "Probs: ['0.55', '0.11', '0.08', '0.25', '0.01', '0.00']\n",
      "Chosen: South ↓\n",
      "Reward: -1, Total: -21\n",
      "------------------------------\n",
      "+---------+\n",
      "|R: | : :G|\n",
      "| : | : : |\n",
      "| : : : : |\n",
      "| | : | : |\n",
      "|Y| : |B:T|\n",
      "+---------+\n",
      "Step: 21, State: 494 (4,4,B (Blue),Y (Yellow))\n",
      "Prefs: ['2.25', '0.68', '0.27', '1.49', '-2.18', '-2.50']\n",
      "Probs: ['0.55', '0.11', '0.08', '0.25', '0.01', '0.00']\n",
      "Chosen: South ↓\n",
      "Reward: -1, Total: -22\n",
      "------------------------------\n",
      "+---------+\n",
      "|R: | : :G|\n",
      "| : | : : |\n",
      "| : : : : |\n",
      "| | : | : |\n",
      "|Y| : |B:T|\n",
      "+---------+\n",
      "Step: 22, State: 494 (4,4,B (Blue),Y (Yellow))\n",
      "Prefs: ['2.25', '0.68', '0.27', '1.49', '-2.18', '-2.50']\n",
      "Probs: ['0.55', '0.11', '0.08', '0.25', '0.01', '0.00']\n",
      "Chosen: South ↓\n",
      "Reward: -1, Total: -23\n",
      "------------------------------\n",
      "+---------+\n",
      "|R: | : :G|\n",
      "| : | : : |\n",
      "| : : : : |\n",
      "| | : | : |\n",
      "|Y| : |B:T|\n",
      "+---------+\n",
      "Step: 23, State: 494 (4,4,B (Blue),Y (Yellow))\n",
      "Prefs: ['2.25', '0.68', '0.27', '1.49', '-2.18', '-2.50']\n",
      "Probs: ['0.55', '0.11', '0.08', '0.25', '0.01', '0.00']\n",
      "Chosen: South ↓\n",
      "Reward: -1, Total: -24\n",
      "------------------------------\n",
      "+---------+\n",
      "|R: | : :G|\n",
      "| : | : : |\n",
      "| : : : : |\n",
      "| | : | : |\n",
      "|Y| : |B:T|\n",
      "+---------+\n",
      "Step: 24, State: 494 (4,4,B (Blue),Y (Yellow))\n",
      "Prefs: ['2.25', '0.68', '0.27', '1.49', '-2.18', '-2.50']\n",
      "Probs: ['0.55', '0.11', '0.08', '0.25', '0.01', '0.00']\n",
      "Chosen: South ↓\n",
      "Reward: -1, Total: -25\n",
      "------------------------------\n",
      "+---------+\n",
      "|R: | : :G|\n",
      "| : | : : |\n",
      "| : : : : |\n",
      "| | : | : |\n",
      "|Y| : |B:T|\n",
      "+---------+\n",
      "Step: 25, State: 494 (4,4,B (Blue),Y (Yellow))\n",
      "Prefs: ['2.25', '0.68', '0.27', '1.49', '-2.18', '-2.50']\n",
      "Probs: ['0.55', '0.11', '0.08', '0.25', '0.01', '0.00']\n",
      "Chosen: South ↓\n",
      "Reward: -1, Total: -26\n",
      "------------------------------\n",
      "+---------+\n",
      "|R: | : :G|\n",
      "| : | : : |\n",
      "| : : : : |\n",
      "| | : | : |\n",
      "|Y| : |B:T|\n",
      "+---------+\n",
      "Step: 26, State: 494 (4,4,B (Blue),Y (Yellow))\n",
      "Prefs: ['2.25', '0.68', '0.27', '1.49', '-2.18', '-2.50']\n",
      "Probs: ['0.55', '0.11', '0.08', '0.25', '0.01', '0.00']\n",
      "Chosen: South ↓\n",
      "Reward: -1, Total: -27\n",
      "------------------------------\n",
      "+---------+\n",
      "|R: | : :G|\n",
      "| : | : : |\n",
      "| : : : : |\n",
      "| | : | : |\n",
      "|Y| : |B:T|\n",
      "+---------+\n",
      "Step: 27, State: 494 (4,4,B (Blue),Y (Yellow))\n",
      "Prefs: ['2.25', '0.68', '0.27', '1.49', '-2.18', '-2.50']\n",
      "Probs: ['0.55', '0.11', '0.08', '0.25', '0.01', '0.00']\n",
      "Chosen: South ↓\n",
      "Reward: -1, Total: -28\n",
      "------------------------------\n",
      "+---------+\n",
      "|R: | : :G|\n",
      "| : | : : |\n",
      "| : : : : |\n",
      "| | : | : |\n",
      "|Y| : |B:T|\n",
      "+---------+\n",
      "Step: 28, State: 494 (4,4,B (Blue),Y (Yellow))\n",
      "Prefs: ['2.25', '0.68', '0.27', '1.49', '-2.18', '-2.50']\n",
      "Probs: ['0.55', '0.11', '0.08', '0.25', '0.01', '0.00']\n",
      "Chosen: South ↓\n",
      "Reward: -1, Total: -29\n",
      "------------------------------\n"
     ]
    },
    {
     "name": "stdout",
     "output_type": "stream",
     "text": [
      "+---------+\n",
      "|R: | : :G|\n",
      "| : | : : |\n",
      "| : : : : |\n",
      "| | : | : |\n",
      "|Y| : |B:T|\n",
      "+---------+\n",
      "Step: 29, State: 494 (4,4,B (Blue),Y (Yellow))\n",
      "Prefs: ['2.25', '0.68', '0.27', '1.49', '-2.18', '-2.50']\n",
      "Probs: ['0.55', '0.11', '0.08', '0.25', '0.01', '0.00']\n",
      "Chosen: South ↓\n",
      "Reward: -1, Total: -30\n",
      "------------------------------\n",
      "+---------+\n",
      "|R: | : :G|\n",
      "| : | : : |\n",
      "| : : : : |\n",
      "| | : | : |\n",
      "|Y| : |B:T|\n",
      "+---------+\n",
      "Step: 30, State: 494 (4,4,B (Blue),Y (Yellow))\n",
      "Prefs: ['2.25', '0.68', '0.27', '1.49', '-2.18', '-2.50']\n",
      "Probs: ['0.55', '0.11', '0.08', '0.25', '0.01', '0.00']\n",
      "Chosen: South ↓\n",
      "Reward: -1, Total: -31\n",
      "------------------------------\n",
      "+---------+\n",
      "|R: | : :G|\n",
      "| : | : : |\n",
      "| : : : : |\n",
      "| | : | : |\n",
      "|Y| : |B:T|\n",
      "+---------+\n",
      "Step: 31, State: 494 (4,4,B (Blue),Y (Yellow))\n",
      "Prefs: ['2.25', '0.68', '0.27', '1.49', '-2.18', '-2.50']\n",
      "Probs: ['0.55', '0.11', '0.08', '0.25', '0.01', '0.00']\n",
      "Chosen: South ↓\n",
      "Reward: -1, Total: -32\n",
      "------------------------------\n",
      "+---------+\n",
      "|R: | : :G|\n",
      "| : | : : |\n",
      "| : : : : |\n",
      "| | : | : |\n",
      "|Y| : |B:T|\n",
      "+---------+\n",
      "Step: 32, State: 494 (4,4,B (Blue),Y (Yellow))\n",
      "Prefs: ['2.25', '0.68', '0.27', '1.49', '-2.18', '-2.50']\n",
      "Probs: ['0.55', '0.11', '0.08', '0.25', '0.01', '0.00']\n",
      "Chosen: South ↓\n",
      "Reward: -1, Total: -33\n",
      "------------------------------\n",
      "+---------+\n",
      "|R: | : :G|\n",
      "| : | : : |\n",
      "| : : : : |\n",
      "| | : | : |\n",
      "|Y| : |B:T|\n",
      "+---------+\n",
      "Step: 33, State: 494 (4,4,B (Blue),Y (Yellow))\n",
      "Prefs: ['2.25', '0.68', '0.27', '1.49', '-2.18', '-2.50']\n",
      "Probs: ['0.55', '0.11', '0.08', '0.25', '0.01', '0.00']\n",
      "Chosen: South ↓\n",
      "Reward: -1, Total: -34\n",
      "------------------------------\n",
      "+---------+\n",
      "|R: | : :G|\n",
      "| : | : : |\n",
      "| : : : : |\n",
      "| | : | : |\n",
      "|Y| : |B:T|\n",
      "+---------+\n",
      "Step: 34, State: 494 (4,4,B (Blue),Y (Yellow))\n",
      "Prefs: ['2.25', '0.68', '0.27', '1.49', '-2.18', '-2.50']\n",
      "Probs: ['0.55', '0.11', '0.08', '0.25', '0.01', '0.00']\n",
      "Chosen: South ↓\n",
      "Reward: -1, Total: -35\n",
      "------------------------------\n",
      "+---------+\n",
      "|R: | : :G|\n",
      "| : | : : |\n",
      "| : : : : |\n",
      "| | : | : |\n",
      "|Y| : |B:T|\n",
      "+---------+\n",
      "Step: 35, State: 494 (4,4,B (Blue),Y (Yellow))\n",
      "Prefs: ['2.25', '0.68', '0.27', '1.49', '-2.18', '-2.50']\n",
      "Probs: ['0.55', '0.11', '0.08', '0.25', '0.01', '0.00']\n",
      "Chosen: South ↓\n",
      "Reward: -1, Total: -36\n",
      "------------------------------\n",
      "+---------+\n",
      "|R: | : :G|\n",
      "| : | : : |\n",
      "| : : : : |\n",
      "| | : | : |\n",
      "|Y| : |B:T|\n",
      "+---------+\n",
      "Step: 36, State: 494 (4,4,B (Blue),Y (Yellow))\n",
      "Prefs: ['2.25', '0.68', '0.27', '1.49', '-2.18', '-2.50']\n",
      "Probs: ['0.55', '0.11', '0.08', '0.25', '0.01', '0.00']\n",
      "Chosen: South ↓\n",
      "Reward: -1, Total: -37\n",
      "------------------------------\n",
      "+---------+\n",
      "|R: | : :G|\n",
      "| : | : : |\n",
      "| : : : : |\n",
      "| | : | : |\n",
      "|Y| : |B:T|\n",
      "+---------+\n",
      "Step: 37, State: 494 (4,4,B (Blue),Y (Yellow))\n",
      "Prefs: ['2.25', '0.68', '0.27', '1.49', '-2.18', '-2.50']\n",
      "Probs: ['0.55', '0.11', '0.08', '0.25', '0.01', '0.00']\n",
      "Chosen: South ↓\n",
      "Reward: -1, Total: -38\n",
      "------------------------------\n",
      "+---------+\n",
      "|R: | : :G|\n",
      "| : | : : |\n",
      "| : : : : |\n",
      "| | : | : |\n",
      "|Y| : |B:T|\n",
      "+---------+\n",
      "Step: 38, State: 494 (4,4,B (Blue),Y (Yellow))\n",
      "Prefs: ['2.25', '0.68', '0.27', '1.49', '-2.18', '-2.50']\n",
      "Probs: ['0.55', '0.11', '0.08', '0.25', '0.01', '0.00']\n",
      "Chosen: South ↓\n",
      "Reward: -1, Total: -39\n",
      "------------------------------\n",
      "+---------+\n",
      "|R: | : :G|\n",
      "| : | : : |\n",
      "| : : : : |\n",
      "| | : | : |\n",
      "|Y| : |B:T|\n",
      "+---------+\n",
      "Step: 39, State: 494 (4,4,B (Blue),Y (Yellow))\n",
      "Prefs: ['2.25', '0.68', '0.27', '1.49', '-2.18', '-2.50']\n",
      "Probs: ['0.55', '0.11', '0.08', '0.25', '0.01', '0.00']\n",
      "Chosen: South ↓\n",
      "Reward: -1, Total: -40\n",
      "------------------------------\n",
      "+---------+\n",
      "|R: | : :G|\n",
      "| : | : : |\n",
      "| : : : : |\n",
      "| | : | : |\n",
      "|Y| : |B:T|\n",
      "+---------+\n",
      "Step: 40, State: 494 (4,4,B (Blue),Y (Yellow))\n",
      "Prefs: ['2.25', '0.68', '0.27', '1.49', '-2.18', '-2.50']\n",
      "Probs: ['0.55', '0.11', '0.08', '0.25', '0.01', '0.00']\n",
      "Chosen: South ↓\n",
      "Reward: -1, Total: -41\n",
      "------------------------------\n",
      "+---------+\n",
      "|R: | : :G|\n",
      "| : | : : |\n",
      "| : : : : |\n",
      "| | : | : |\n",
      "|Y| : |B:T|\n",
      "+---------+\n",
      "Step: 41, State: 494 (4,4,B (Blue),Y (Yellow))\n",
      "Prefs: ['2.25', '0.68', '0.27', '1.49', '-2.18', '-2.50']\n",
      "Probs: ['0.55', '0.11', '0.08', '0.25', '0.01', '0.00']\n",
      "Chosen: South ↓\n",
      "Reward: -1, Total: -42\n",
      "------------------------------\n",
      "+---------+\n",
      "|R: | : :G|\n",
      "| : | : : |\n",
      "| : : : : |\n",
      "| | : | : |\n",
      "|Y| : |B:T|\n",
      "+---------+\n",
      "Step: 42, State: 494 (4,4,B (Blue),Y (Yellow))\n",
      "Prefs: ['2.25', '0.68', '0.27', '1.49', '-2.18', '-2.50']\n",
      "Probs: ['0.55', '0.11', '0.08', '0.25', '0.01', '0.00']\n",
      "Chosen: South ↓\n",
      "Reward: -1, Total: -43\n",
      "------------------------------\n",
      "+---------+\n",
      "|R: | : :G|\n",
      "| : | : : |\n",
      "| : : : : |\n",
      "| | : | : |\n",
      "|Y| : |B:T|\n",
      "+---------+\n",
      "Step: 43, State: 494 (4,4,B (Blue),Y (Yellow))\n",
      "Prefs: ['2.25', '0.68', '0.27', '1.49', '-2.18', '-2.50']\n",
      "Probs: ['0.55', '0.11', '0.08', '0.25', '0.01', '0.00']\n",
      "Chosen: South ↓\n",
      "Reward: -1, Total: -44\n",
      "------------------------------\n",
      "+---------+\n",
      "|R: | : :G|\n",
      "| : | : : |\n",
      "| : : : : |\n",
      "| | : | : |\n",
      "|Y| : |B:T|\n",
      "+---------+\n",
      "Step: 44, State: 494 (4,4,B (Blue),Y (Yellow))\n",
      "Prefs: ['2.25', '0.68', '0.27', '1.49', '-2.18', '-2.50']\n",
      "Probs: ['0.55', '0.11', '0.08', '0.25', '0.01', '0.00']\n",
      "Chosen: South ↓\n",
      "Reward: -1, Total: -45\n",
      "------------------------------\n",
      "+---------+\n",
      "|R: | : :G|\n",
      "| : | : : |\n",
      "| : : : : |\n",
      "| | : | : |\n",
      "|Y| : |B:T|\n",
      "+---------+\n",
      "Step: 45, State: 494 (4,4,B (Blue),Y (Yellow))\n",
      "Prefs: ['2.25', '0.68', '0.27', '1.49', '-2.18', '-2.50']\n",
      "Probs: ['0.55', '0.11', '0.08', '0.25', '0.01', '0.00']\n",
      "Chosen: South ↓\n",
      "Reward: -1, Total: -46\n",
      "------------------------------\n",
      "+---------+\n",
      "|R: | : :G|\n",
      "| : | : : |\n",
      "| : : : : |\n",
      "| | : | : |\n",
      "|Y| : |B:T|\n",
      "+---------+\n",
      "Step: 46, State: 494 (4,4,B (Blue),Y (Yellow))\n",
      "Prefs: ['2.25', '0.68', '0.27', '1.49', '-2.18', '-2.50']\n",
      "Probs: ['0.55', '0.11', '0.08', '0.25', '0.01', '0.00']\n",
      "Chosen: South ↓\n",
      "Reward: -1, Total: -47\n",
      "------------------------------\n",
      "+---------+\n",
      "|R: | : :G|\n",
      "| : | : : |\n",
      "| : : : : |\n",
      "| | : | : |\n",
      "|Y| : |B:T|\n",
      "+---------+\n",
      "Step: 47, State: 494 (4,4,B (Blue),Y (Yellow))\n",
      "Prefs: ['2.25', '0.68', '0.27', '1.49', '-2.18', '-2.50']\n",
      "Probs: ['0.55', '0.11', '0.08', '0.25', '0.01', '0.00']\n",
      "Chosen: South ↓\n",
      "Reward: -1, Total: -48\n",
      "------------------------------\n",
      "+---------+\n",
      "|R: | : :G|\n",
      "| : | : : |\n",
      "| : : : : |\n",
      "| | : | : |\n",
      "|Y| : |B:T|\n",
      "+---------+\n",
      "Step: 48, State: 494 (4,4,B (Blue),Y (Yellow))\n",
      "Prefs: ['2.25', '0.68', '0.27', '1.49', '-2.18', '-2.50']\n",
      "Probs: ['0.55', '0.11', '0.08', '0.25', '0.01', '0.00']\n",
      "Chosen: South ↓\n",
      "Reward: -1, Total: -49\n",
      "------------------------------\n",
      "+---------+\n",
      "|R: | : :G|\n",
      "| : | : : |\n",
      "| : : : : |\n",
      "| | : | : |\n",
      "|Y| : |B:T|\n",
      "+---------+\n",
      "Step: 49, State: 494 (4,4,B (Blue),Y (Yellow))\n",
      "Prefs: ['2.25', '0.68', '0.27', '1.49', '-2.18', '-2.50']\n",
      "Probs: ['0.55', '0.11', '0.08', '0.25', '0.01', '0.00']\n",
      "Chosen: South ↓\n",
      "Reward: -1, Total: -50\n",
      "------------------------------\n",
      "Sim finished in 50 steps, total reward -50.\n",
      "\n",
      "--- Simulation Rollout #3 (Using Seed: 475) ---\n",
      "+---------+\n",
      "|R:T| : :G|\n",
      "| : | : : |\n",
      "| : : : : |\n",
      "| | : | : |\n",
      "|Y| : |B: |\n",
      "+---------+\n",
      "Step: 0, State: 27 (0,1,G (Green),B (Blue))\n",
      "Prefs: ['1.15', '1.59', '2.15', '0.16', '-2.07', '-2.99']\n",
      "Probs: ['0.18', '0.27', '0.48', '0.06', '0.01', '0.00']\n",
      "Chosen: East  →\n",
      "Reward: -1, Total: -1\n",
      "------------------------------\n",
      "+---------+\n",
      "|R:T| : :G|\n",
      "| : | : : |\n",
      "| : : : : |\n",
      "| | : | : |\n",
      "|Y| : |B: |\n",
      "+---------+\n",
      "Step: 1, State: 27 (0,1,G (Green),B (Blue))\n",
      "Prefs: ['1.15', '1.59', '2.15', '0.16', '-2.07', '-2.99']\n",
      "Probs: ['0.18', '0.27', '0.48', '0.06', '0.01', '0.00']\n",
      "Chosen: East  →\n",
      "Reward: -1, Total: -2\n",
      "------------------------------\n",
      "+---------+\n",
      "|R:T| : :G|\n",
      "| : | : : |\n",
      "| : : : : |\n",
      "| | : | : |\n",
      "|Y| : |B: |\n",
      "+---------+\n",
      "Step: 2, State: 27 (0,1,G (Green),B (Blue))\n",
      "Prefs: ['1.15', '1.59', '2.15', '0.16', '-2.07', '-2.99']\n",
      "Probs: ['0.18', '0.27', '0.48', '0.06', '0.01', '0.00']\n",
      "Chosen: East  →\n",
      "Reward: -1, Total: -3\n",
      "------------------------------\n",
      "+---------+\n",
      "|R:T| : :G|\n",
      "| : | : : |\n",
      "| : : : : |\n",
      "| | : | : |\n",
      "|Y| : |B: |\n",
      "+---------+\n",
      "Step: 3, State: 27 (0,1,G (Green),B (Blue))\n",
      "Prefs: ['1.15', '1.59', '2.15', '0.16', '-2.07', '-2.99']\n",
      "Probs: ['0.18', '0.27', '0.48', '0.06', '0.01', '0.00']\n",
      "Chosen: East  →\n",
      "Reward: -1, Total: -4\n",
      "------------------------------\n",
      "+---------+\n",
      "|R:T| : :G|\n",
      "| : | : : |\n",
      "| : : : : |\n",
      "| | : | : |\n",
      "|Y| : |B: |\n",
      "+---------+\n",
      "Step: 4, State: 27 (0,1,G (Green),B (Blue))\n",
      "Prefs: ['1.15', '1.59', '2.15', '0.16', '-2.07', '-2.99']\n",
      "Probs: ['0.18', '0.27', '0.48', '0.06', '0.01', '0.00']\n",
      "Chosen: East  →\n",
      "Reward: -1, Total: -5\n",
      "------------------------------\n"
     ]
    },
    {
     "name": "stdout",
     "output_type": "stream",
     "text": [
      "+---------+\n",
      "|R:T| : :G|\n",
      "| : | : : |\n",
      "| : : : : |\n",
      "| | : | : |\n",
      "|Y| : |B: |\n",
      "+---------+\n",
      "Step: 5, State: 27 (0,1,G (Green),B (Blue))\n",
      "Prefs: ['1.15', '1.59', '2.15', '0.16', '-2.07', '-2.99']\n",
      "Probs: ['0.18', '0.27', '0.48', '0.06', '0.01', '0.00']\n",
      "Chosen: East  →\n",
      "Reward: -1, Total: -6\n",
      "------------------------------\n",
      "+---------+\n",
      "|R:T| : :G|\n",
      "| : | : : |\n",
      "| : : : : |\n",
      "| | : | : |\n",
      "|Y| : |B: |\n",
      "+---------+\n",
      "Step: 6, State: 27 (0,1,G (Green),B (Blue))\n",
      "Prefs: ['1.15', '1.59', '2.15', '0.16', '-2.07', '-2.99']\n",
      "Probs: ['0.18', '0.27', '0.48', '0.06', '0.01', '0.00']\n",
      "Chosen: East  →\n",
      "Reward: -1, Total: -7\n",
      "------------------------------\n",
      "+---------+\n",
      "|R:T| : :G|\n",
      "| : | : : |\n",
      "| : : : : |\n",
      "| | : | : |\n",
      "|Y| : |B: |\n",
      "+---------+\n",
      "Step: 7, State: 27 (0,1,G (Green),B (Blue))\n",
      "Prefs: ['1.15', '1.59', '2.15', '0.16', '-2.07', '-2.99']\n",
      "Probs: ['0.18', '0.27', '0.48', '0.06', '0.01', '0.00']\n",
      "Chosen: East  →\n",
      "Reward: -1, Total: -8\n",
      "------------------------------\n",
      "+---------+\n",
      "|R:T| : :G|\n",
      "| : | : : |\n",
      "| : : : : |\n",
      "| | : | : |\n",
      "|Y| : |B: |\n",
      "+---------+\n",
      "Step: 8, State: 27 (0,1,G (Green),B (Blue))\n",
      "Prefs: ['1.15', '1.59', '2.15', '0.16', '-2.07', '-2.99']\n",
      "Probs: ['0.18', '0.27', '0.48', '0.06', '0.01', '0.00']\n",
      "Chosen: East  →\n",
      "Reward: -1, Total: -9\n",
      "------------------------------\n",
      "+---------+\n",
      "|R:T| : :G|\n",
      "| : | : : |\n",
      "| : : : : |\n",
      "| | : | : |\n",
      "|Y| : |B: |\n",
      "+---------+\n",
      "Step: 9, State: 27 (0,1,G (Green),B (Blue))\n",
      "Prefs: ['1.15', '1.59', '2.15', '0.16', '-2.07', '-2.99']\n",
      "Probs: ['0.18', '0.27', '0.48', '0.06', '0.01', '0.00']\n",
      "Chosen: East  →\n",
      "Reward: -1, Total: -10\n",
      "------------------------------\n",
      "+---------+\n",
      "|R:T| : :G|\n",
      "| : | : : |\n",
      "| : : : : |\n",
      "| | : | : |\n",
      "|Y| : |B: |\n",
      "+---------+\n",
      "Step: 10, State: 27 (0,1,G (Green),B (Blue))\n",
      "Prefs: ['1.15', '1.59', '2.15', '0.16', '-2.07', '-2.99']\n",
      "Probs: ['0.18', '0.27', '0.48', '0.06', '0.01', '0.00']\n",
      "Chosen: East  →\n",
      "Reward: -1, Total: -11\n",
      "------------------------------\n",
      "+---------+\n",
      "|R:T| : :G|\n",
      "| : | : : |\n",
      "| : : : : |\n",
      "| | : | : |\n",
      "|Y| : |B: |\n",
      "+---------+\n",
      "Step: 11, State: 27 (0,1,G (Green),B (Blue))\n",
      "Prefs: ['1.15', '1.59', '2.15', '0.16', '-2.07', '-2.99']\n",
      "Probs: ['0.18', '0.27', '0.48', '0.06', '0.01', '0.00']\n",
      "Chosen: East  →\n",
      "Reward: -1, Total: -12\n",
      "------------------------------\n",
      "+---------+\n",
      "|R:T| : :G|\n",
      "| : | : : |\n",
      "| : : : : |\n",
      "| | : | : |\n",
      "|Y| : |B: |\n",
      "+---------+\n",
      "Step: 12, State: 27 (0,1,G (Green),B (Blue))\n",
      "Prefs: ['1.15', '1.59', '2.15', '0.16', '-2.07', '-2.99']\n",
      "Probs: ['0.18', '0.27', '0.48', '0.06', '0.01', '0.00']\n",
      "Chosen: East  →\n",
      "Reward: -1, Total: -13\n",
      "------------------------------\n",
      "+---------+\n",
      "|R:T| : :G|\n",
      "| : | : : |\n",
      "| : : : : |\n",
      "| | : | : |\n",
      "|Y| : |B: |\n",
      "+---------+\n",
      "Step: 13, State: 27 (0,1,G (Green),B (Blue))\n",
      "Prefs: ['1.15', '1.59', '2.15', '0.16', '-2.07', '-2.99']\n",
      "Probs: ['0.18', '0.27', '0.48', '0.06', '0.01', '0.00']\n",
      "Chosen: East  →\n",
      "Reward: -1, Total: -14\n",
      "------------------------------\n",
      "+---------+\n",
      "|R:T| : :G|\n",
      "| : | : : |\n",
      "| : : : : |\n",
      "| | : | : |\n",
      "|Y| : |B: |\n",
      "+---------+\n",
      "Step: 14, State: 27 (0,1,G (Green),B (Blue))\n",
      "Prefs: ['1.15', '1.59', '2.15', '0.16', '-2.07', '-2.99']\n",
      "Probs: ['0.18', '0.27', '0.48', '0.06', '0.01', '0.00']\n",
      "Chosen: East  →\n",
      "Reward: -1, Total: -15\n",
      "------------------------------\n",
      "+---------+\n",
      "|R:T| : :G|\n",
      "| : | : : |\n",
      "| : : : : |\n",
      "| | : | : |\n",
      "|Y| : |B: |\n",
      "+---------+\n",
      "Step: 15, State: 27 (0,1,G (Green),B (Blue))\n",
      "Prefs: ['1.15', '1.59', '2.15', '0.16', '-2.07', '-2.99']\n",
      "Probs: ['0.18', '0.27', '0.48', '0.06', '0.01', '0.00']\n",
      "Chosen: East  →\n",
      "Reward: -1, Total: -16\n",
      "------------------------------\n",
      "+---------+\n",
      "|R:T| : :G|\n",
      "| : | : : |\n",
      "| : : : : |\n",
      "| | : | : |\n",
      "|Y| : |B: |\n",
      "+---------+\n",
      "Step: 16, State: 27 (0,1,G (Green),B (Blue))\n",
      "Prefs: ['1.15', '1.59', '2.15', '0.16', '-2.07', '-2.99']\n",
      "Probs: ['0.18', '0.27', '0.48', '0.06', '0.01', '0.00']\n",
      "Chosen: East  →\n",
      "Reward: -1, Total: -17\n",
      "------------------------------\n",
      "+---------+\n",
      "|R:T| : :G|\n",
      "| : | : : |\n",
      "| : : : : |\n",
      "| | : | : |\n",
      "|Y| : |B: |\n",
      "+---------+\n",
      "Step: 17, State: 27 (0,1,G (Green),B (Blue))\n",
      "Prefs: ['1.15', '1.59', '2.15', '0.16', '-2.07', '-2.99']\n",
      "Probs: ['0.18', '0.27', '0.48', '0.06', '0.01', '0.00']\n",
      "Chosen: East  →\n",
      "Reward: -1, Total: -18\n",
      "------------------------------\n",
      "+---------+\n",
      "|R:T| : :G|\n",
      "| : | : : |\n",
      "| : : : : |\n",
      "| | : | : |\n",
      "|Y| : |B: |\n",
      "+---------+\n",
      "Step: 18, State: 27 (0,1,G (Green),B (Blue))\n",
      "Prefs: ['1.15', '1.59', '2.15', '0.16', '-2.07', '-2.99']\n",
      "Probs: ['0.18', '0.27', '0.48', '0.06', '0.01', '0.00']\n",
      "Chosen: East  →\n",
      "Reward: -1, Total: -19\n",
      "------------------------------\n",
      "+---------+\n",
      "|R:T| : :G|\n",
      "| : | : : |\n",
      "| : : : : |\n",
      "| | : | : |\n",
      "|Y| : |B: |\n",
      "+---------+\n",
      "Step: 19, State: 27 (0,1,G (Green),B (Blue))\n",
      "Prefs: ['1.15', '1.59', '2.15', '0.16', '-2.07', '-2.99']\n",
      "Probs: ['0.18', '0.27', '0.48', '0.06', '0.01', '0.00']\n",
      "Chosen: East  →\n",
      "Reward: -1, Total: -20\n",
      "------------------------------\n",
      "+---------+\n",
      "|R:T| : :G|\n",
      "| : | : : |\n",
      "| : : : : |\n",
      "| | : | : |\n",
      "|Y| : |B: |\n",
      "+---------+\n",
      "Step: 20, State: 27 (0,1,G (Green),B (Blue))\n",
      "Prefs: ['1.15', '1.59', '2.15', '0.16', '-2.07', '-2.99']\n",
      "Probs: ['0.18', '0.27', '0.48', '0.06', '0.01', '0.00']\n",
      "Chosen: East  →\n",
      "Reward: -1, Total: -21\n",
      "------------------------------\n",
      "+---------+\n",
      "|R:T| : :G|\n",
      "| : | : : |\n",
      "| : : : : |\n",
      "| | : | : |\n",
      "|Y| : |B: |\n",
      "+---------+\n",
      "Step: 21, State: 27 (0,1,G (Green),B (Blue))\n",
      "Prefs: ['1.15', '1.59', '2.15', '0.16', '-2.07', '-2.99']\n",
      "Probs: ['0.18', '0.27', '0.48', '0.06', '0.01', '0.00']\n",
      "Chosen: East  →\n",
      "Reward: -1, Total: -22\n",
      "------------------------------\n",
      "+---------+\n",
      "|R:T| : :G|\n",
      "| : | : : |\n",
      "| : : : : |\n",
      "| | : | : |\n",
      "|Y| : |B: |\n",
      "+---------+\n",
      "Step: 22, State: 27 (0,1,G (Green),B (Blue))\n",
      "Prefs: ['1.15', '1.59', '2.15', '0.16', '-2.07', '-2.99']\n",
      "Probs: ['0.18', '0.27', '0.48', '0.06', '0.01', '0.00']\n",
      "Chosen: East  →\n",
      "Reward: -1, Total: -23\n",
      "------------------------------\n",
      "+---------+\n",
      "|R:T| : :G|\n",
      "| : | : : |\n",
      "| : : : : |\n",
      "| | : | : |\n",
      "|Y| : |B: |\n",
      "+---------+\n",
      "Step: 23, State: 27 (0,1,G (Green),B (Blue))\n",
      "Prefs: ['1.15', '1.59', '2.15', '0.16', '-2.07', '-2.99']\n",
      "Probs: ['0.18', '0.27', '0.48', '0.06', '0.01', '0.00']\n",
      "Chosen: East  →\n",
      "Reward: -1, Total: -24\n",
      "------------------------------\n",
      "+---------+\n",
      "|R:T| : :G|\n",
      "| : | : : |\n",
      "| : : : : |\n",
      "| | : | : |\n",
      "|Y| : |B: |\n",
      "+---------+\n",
      "Step: 24, State: 27 (0,1,G (Green),B (Blue))\n",
      "Prefs: ['1.15', '1.59', '2.15', '0.16', '-2.07', '-2.99']\n",
      "Probs: ['0.18', '0.27', '0.48', '0.06', '0.01', '0.00']\n",
      "Chosen: East  →\n",
      "Reward: -1, Total: -25\n",
      "------------------------------\n",
      "+---------+\n",
      "|R:T| : :G|\n",
      "| : | : : |\n",
      "| : : : : |\n",
      "| | : | : |\n",
      "|Y| : |B: |\n",
      "+---------+\n",
      "Step: 25, State: 27 (0,1,G (Green),B (Blue))\n",
      "Prefs: ['1.15', '1.59', '2.15', '0.16', '-2.07', '-2.99']\n",
      "Probs: ['0.18', '0.27', '0.48', '0.06', '0.01', '0.00']\n",
      "Chosen: East  →\n",
      "Reward: -1, Total: -26\n",
      "------------------------------\n",
      "+---------+\n",
      "|R:T| : :G|\n",
      "| : | : : |\n",
      "| : : : : |\n",
      "| | : | : |\n",
      "|Y| : |B: |\n",
      "+---------+\n",
      "Step: 26, State: 27 (0,1,G (Green),B (Blue))\n",
      "Prefs: ['1.15', '1.59', '2.15', '0.16', '-2.07', '-2.99']\n",
      "Probs: ['0.18', '0.27', '0.48', '0.06', '0.01', '0.00']\n",
      "Chosen: East  →\n",
      "Reward: -1, Total: -27\n",
      "------------------------------\n",
      "+---------+\n",
      "|R:T| : :G|\n",
      "| : | : : |\n",
      "| : : : : |\n",
      "| | : | : |\n",
      "|Y| : |B: |\n",
      "+---------+\n",
      "Step: 27, State: 27 (0,1,G (Green),B (Blue))\n",
      "Prefs: ['1.15', '1.59', '2.15', '0.16', '-2.07', '-2.99']\n",
      "Probs: ['0.18', '0.27', '0.48', '0.06', '0.01', '0.00']\n",
      "Chosen: East  →\n",
      "Reward: -1, Total: -28\n",
      "------------------------------\n",
      "+---------+\n",
      "|R:T| : :G|\n",
      "| : | : : |\n",
      "| : : : : |\n",
      "| | : | : |\n",
      "|Y| : |B: |\n",
      "+---------+\n",
      "Step: 28, State: 27 (0,1,G (Green),B (Blue))\n",
      "Prefs: ['1.15', '1.59', '2.15', '0.16', '-2.07', '-2.99']\n",
      "Probs: ['0.18', '0.27', '0.48', '0.06', '0.01', '0.00']\n",
      "Chosen: East  →\n",
      "Reward: -1, Total: -29\n",
      "------------------------------\n",
      "+---------+\n",
      "|R:T| : :G|\n",
      "| : | : : |\n",
      "| : : : : |\n",
      "| | : | : |\n",
      "|Y| : |B: |\n",
      "+---------+\n",
      "Step: 29, State: 27 (0,1,G (Green),B (Blue))\n",
      "Prefs: ['1.15', '1.59', '2.15', '0.16', '-2.07', '-2.99']\n",
      "Probs: ['0.18', '0.27', '0.48', '0.06', '0.01', '0.00']\n",
      "Chosen: East  →\n",
      "Reward: -1, Total: -30\n",
      "------------------------------\n",
      "+---------+\n",
      "|R:T| : :G|\n",
      "| : | : : |\n",
      "| : : : : |\n",
      "| | : | : |\n",
      "|Y| : |B: |\n",
      "+---------+\n",
      "Step: 30, State: 27 (0,1,G (Green),B (Blue))\n",
      "Prefs: ['1.15', '1.59', '2.15', '0.16', '-2.07', '-2.99']\n",
      "Probs: ['0.18', '0.27', '0.48', '0.06', '0.01', '0.00']\n",
      "Chosen: East  →\n",
      "Reward: -1, Total: -31\n",
      "------------------------------\n",
      "+---------+\n",
      "|R:T| : :G|\n",
      "| : | : : |\n",
      "| : : : : |\n",
      "| | : | : |\n",
      "|Y| : |B: |\n",
      "+---------+\n",
      "Step: 31, State: 27 (0,1,G (Green),B (Blue))\n",
      "Prefs: ['1.15', '1.59', '2.15', '0.16', '-2.07', '-2.99']\n",
      "Probs: ['0.18', '0.27', '0.48', '0.06', '0.01', '0.00']\n",
      "Chosen: East  →\n",
      "Reward: -1, Total: -32\n",
      "------------------------------\n"
     ]
    },
    {
     "name": "stdout",
     "output_type": "stream",
     "text": [
      "+---------+\n",
      "|R:T| : :G|\n",
      "| : | : : |\n",
      "| : : : : |\n",
      "| | : | : |\n",
      "|Y| : |B: |\n",
      "+---------+\n",
      "Step: 32, State: 27 (0,1,G (Green),B (Blue))\n",
      "Prefs: ['1.15', '1.59', '2.15', '0.16', '-2.07', '-2.99']\n",
      "Probs: ['0.18', '0.27', '0.48', '0.06', '0.01', '0.00']\n",
      "Chosen: East  →\n",
      "Reward: -1, Total: -33\n",
      "------------------------------\n",
      "+---------+\n",
      "|R:T| : :G|\n",
      "| : | : : |\n",
      "| : : : : |\n",
      "| | : | : |\n",
      "|Y| : |B: |\n",
      "+---------+\n",
      "Step: 33, State: 27 (0,1,G (Green),B (Blue))\n",
      "Prefs: ['1.15', '1.59', '2.15', '0.16', '-2.07', '-2.99']\n",
      "Probs: ['0.18', '0.27', '0.48', '0.06', '0.01', '0.00']\n",
      "Chosen: East  →\n",
      "Reward: -1, Total: -34\n",
      "------------------------------\n",
      "+---------+\n",
      "|R:T| : :G|\n",
      "| : | : : |\n",
      "| : : : : |\n",
      "| | : | : |\n",
      "|Y| : |B: |\n",
      "+---------+\n",
      "Step: 34, State: 27 (0,1,G (Green),B (Blue))\n",
      "Prefs: ['1.15', '1.59', '2.15', '0.16', '-2.07', '-2.99']\n",
      "Probs: ['0.18', '0.27', '0.48', '0.06', '0.01', '0.00']\n",
      "Chosen: East  →\n",
      "Reward: -1, Total: -35\n",
      "------------------------------\n",
      "+---------+\n",
      "|R:T| : :G|\n",
      "| : | : : |\n",
      "| : : : : |\n",
      "| | : | : |\n",
      "|Y| : |B: |\n",
      "+---------+\n",
      "Step: 35, State: 27 (0,1,G (Green),B (Blue))\n",
      "Prefs: ['1.15', '1.59', '2.15', '0.16', '-2.07', '-2.99']\n",
      "Probs: ['0.18', '0.27', '0.48', '0.06', '0.01', '0.00']\n",
      "Chosen: East  →\n",
      "Reward: -1, Total: -36\n",
      "------------------------------\n",
      "+---------+\n",
      "|R:T| : :G|\n",
      "| : | : : |\n",
      "| : : : : |\n",
      "| | : | : |\n",
      "|Y| : |B: |\n",
      "+---------+\n",
      "Step: 36, State: 27 (0,1,G (Green),B (Blue))\n",
      "Prefs: ['1.15', '1.59', '2.15', '0.16', '-2.07', '-2.99']\n",
      "Probs: ['0.18', '0.27', '0.48', '0.06', '0.01', '0.00']\n",
      "Chosen: East  →\n",
      "Reward: -1, Total: -37\n",
      "------------------------------\n",
      "+---------+\n",
      "|R:T| : :G|\n",
      "| : | : : |\n",
      "| : : : : |\n",
      "| | : | : |\n",
      "|Y| : |B: |\n",
      "+---------+\n",
      "Step: 37, State: 27 (0,1,G (Green),B (Blue))\n",
      "Prefs: ['1.15', '1.59', '2.15', '0.16', '-2.07', '-2.99']\n",
      "Probs: ['0.18', '0.27', '0.48', '0.06', '0.01', '0.00']\n",
      "Chosen: East  →\n",
      "Reward: -1, Total: -38\n",
      "------------------------------\n",
      "+---------+\n",
      "|R:T| : :G|\n",
      "| : | : : |\n",
      "| : : : : |\n",
      "| | : | : |\n",
      "|Y| : |B: |\n",
      "+---------+\n",
      "Step: 38, State: 27 (0,1,G (Green),B (Blue))\n",
      "Prefs: ['1.15', '1.59', '2.15', '0.16', '-2.07', '-2.99']\n",
      "Probs: ['0.18', '0.27', '0.48', '0.06', '0.01', '0.00']\n",
      "Chosen: East  →\n",
      "Reward: -1, Total: -39\n",
      "------------------------------\n",
      "+---------+\n",
      "|R:T| : :G|\n",
      "| : | : : |\n",
      "| : : : : |\n",
      "| | : | : |\n",
      "|Y| : |B: |\n",
      "+---------+\n",
      "Step: 39, State: 27 (0,1,G (Green),B (Blue))\n",
      "Prefs: ['1.15', '1.59', '2.15', '0.16', '-2.07', '-2.99']\n",
      "Probs: ['0.18', '0.27', '0.48', '0.06', '0.01', '0.00']\n",
      "Chosen: East  →\n",
      "Reward: -1, Total: -40\n",
      "------------------------------\n",
      "+---------+\n",
      "|R:T| : :G|\n",
      "| : | : : |\n",
      "| : : : : |\n",
      "| | : | : |\n",
      "|Y| : |B: |\n",
      "+---------+\n",
      "Step: 40, State: 27 (0,1,G (Green),B (Blue))\n",
      "Prefs: ['1.15', '1.59', '2.15', '0.16', '-2.07', '-2.99']\n",
      "Probs: ['0.18', '0.27', '0.48', '0.06', '0.01', '0.00']\n",
      "Chosen: East  →\n",
      "Reward: -1, Total: -41\n",
      "------------------------------\n",
      "+---------+\n",
      "|R:T| : :G|\n",
      "| : | : : |\n",
      "| : : : : |\n",
      "| | : | : |\n",
      "|Y| : |B: |\n",
      "+---------+\n",
      "Step: 41, State: 27 (0,1,G (Green),B (Blue))\n",
      "Prefs: ['1.15', '1.59', '2.15', '0.16', '-2.07', '-2.99']\n",
      "Probs: ['0.18', '0.27', '0.48', '0.06', '0.01', '0.00']\n",
      "Chosen: East  →\n",
      "Reward: -1, Total: -42\n",
      "------------------------------\n",
      "+---------+\n",
      "|R:T| : :G|\n",
      "| : | : : |\n",
      "| : : : : |\n",
      "| | : | : |\n",
      "|Y| : |B: |\n",
      "+---------+\n",
      "Step: 42, State: 27 (0,1,G (Green),B (Blue))\n",
      "Prefs: ['1.15', '1.59', '2.15', '0.16', '-2.07', '-2.99']\n",
      "Probs: ['0.18', '0.27', '0.48', '0.06', '0.01', '0.00']\n",
      "Chosen: East  →\n",
      "Reward: -1, Total: -43\n",
      "------------------------------\n",
      "+---------+\n",
      "|R:T| : :G|\n",
      "| : | : : |\n",
      "| : : : : |\n",
      "| | : | : |\n",
      "|Y| : |B: |\n",
      "+---------+\n",
      "Step: 43, State: 27 (0,1,G (Green),B (Blue))\n",
      "Prefs: ['1.15', '1.59', '2.15', '0.16', '-2.07', '-2.99']\n",
      "Probs: ['0.18', '0.27', '0.48', '0.06', '0.01', '0.00']\n",
      "Chosen: East  →\n",
      "Reward: -1, Total: -44\n",
      "------------------------------\n",
      "+---------+\n",
      "|R:T| : :G|\n",
      "| : | : : |\n",
      "| : : : : |\n",
      "| | : | : |\n",
      "|Y| : |B: |\n",
      "+---------+\n",
      "Step: 44, State: 27 (0,1,G (Green),B (Blue))\n",
      "Prefs: ['1.15', '1.59', '2.15', '0.16', '-2.07', '-2.99']\n",
      "Probs: ['0.18', '0.27', '0.48', '0.06', '0.01', '0.00']\n",
      "Chosen: East  →\n",
      "Reward: -1, Total: -45\n",
      "------------------------------\n",
      "+---------+\n",
      "|R:T| : :G|\n",
      "| : | : : |\n",
      "| : : : : |\n",
      "| | : | : |\n",
      "|Y| : |B: |\n",
      "+---------+\n",
      "Step: 45, State: 27 (0,1,G (Green),B (Blue))\n",
      "Prefs: ['1.15', '1.59', '2.15', '0.16', '-2.07', '-2.99']\n",
      "Probs: ['0.18', '0.27', '0.48', '0.06', '0.01', '0.00']\n",
      "Chosen: East  →\n",
      "Reward: -1, Total: -46\n",
      "------------------------------\n",
      "+---------+\n",
      "|R:T| : :G|\n",
      "| : | : : |\n",
      "| : : : : |\n",
      "| | : | : |\n",
      "|Y| : |B: |\n",
      "+---------+\n",
      "Step: 46, State: 27 (0,1,G (Green),B (Blue))\n",
      "Prefs: ['1.15', '1.59', '2.15', '0.16', '-2.07', '-2.99']\n",
      "Probs: ['0.18', '0.27', '0.48', '0.06', '0.01', '0.00']\n",
      "Chosen: East  →\n",
      "Reward: -1, Total: -47\n",
      "------------------------------\n",
      "+---------+\n",
      "|R:T| : :G|\n",
      "| : | : : |\n",
      "| : : : : |\n",
      "| | : | : |\n",
      "|Y| : |B: |\n",
      "+---------+\n",
      "Step: 47, State: 27 (0,1,G (Green),B (Blue))\n",
      "Prefs: ['1.15', '1.59', '2.15', '0.16', '-2.07', '-2.99']\n",
      "Probs: ['0.18', '0.27', '0.48', '0.06', '0.01', '0.00']\n",
      "Chosen: East  →\n",
      "Reward: -1, Total: -48\n",
      "------------------------------\n",
      "+---------+\n",
      "|R:T| : :G|\n",
      "| : | : : |\n",
      "| : : : : |\n",
      "| | : | : |\n",
      "|Y| : |B: |\n",
      "+---------+\n",
      "Step: 48, State: 27 (0,1,G (Green),B (Blue))\n",
      "Prefs: ['1.15', '1.59', '2.15', '0.16', '-2.07', '-2.99']\n",
      "Probs: ['0.18', '0.27', '0.48', '0.06', '0.01', '0.00']\n",
      "Chosen: East  →\n",
      "Reward: -1, Total: -49\n",
      "------------------------------\n",
      "+---------+\n",
      "|R:T| : :G|\n",
      "| : | : : |\n",
      "| : : : : |\n",
      "| | : | : |\n",
      "|Y| : |B: |\n",
      "+---------+\n",
      "Step: 49, State: 27 (0,1,G (Green),B (Blue))\n",
      "Prefs: ['1.15', '1.59', '2.15', '0.16', '-2.07', '-2.99']\n",
      "Probs: ['0.18', '0.27', '0.48', '0.06', '0.01', '0.00']\n",
      "Chosen: East  →\n",
      "Reward: -1, Total: -50\n",
      "------------------------------\n",
      "Sim finished in 50 steps, total reward -50.\n"
     ]
    }
   ],
   "source": [
    "# Global constants for names\n",
    "LOC_NAMES = {0: \"R (Red)\", 1: \"G (Green)\", 2: \"Y (Yellow)\", 3: \"B (Blue)\", 4: \"in Taxi\"}\n",
    "ACTION_NAMES = {0: \"South ↓\", 1: \"North ↑\", 2: \"East  →\", 3: \"West  ←\", 4: \"Pickup :)\", 5: \"Dropoff ⬇\"}\n",
    "NUM_STATE_FEATURES = 37\n",
    "NUM_STATE_ACTION_FEATURES = NUM_STATE_FEATURES * 6\n",
    "\n",
    "if __name__ == \"__main__\":\n",
    "    # --- Load Data and Plot Script ---\n",
    "    PG_STATE_BASE_FILENAME = \"taxi_reinforce_linear\" \n",
    "    k_value_of_saved_files = 400\n",
    "\n",
    "    loaded_rewards, loaded_steps, loaded_successes, loaded_avg_sq_advantage = [], [], [], []\n",
    "    try:\n",
    "        rewards_file = f\"{PG_STATE_BASE_FILENAME}_{k_value_of_saved_files}k_rewards.npy\"\n",
    "        steps_file = f\"{PG_STATE_BASE_FILENAME}_{k_value_of_saved_files}k_steps.npy\"\n",
    "        successes_file = f\"{PG_STATE_BASE_FILENAME}_{k_value_of_saved_files}k_successes.npy\"\n",
    "        adv_sq_file = f\"{PG_STATE_BASE_FILENAME}_{k_value_of_saved_files}k_avg_sq_advantage.npy\"\n",
    "\n",
    "        print(f\"Attempting to load logs for {k_value_of_saved_files}k episodes...\")\n",
    "        if os.path.exists(rewards_file): loaded_rewards = list(np.load(rewards_file))\n",
    "        if os.path.exists(steps_file): loaded_steps = list(np.load(steps_file))\n",
    "        if os.path.exists(successes_file): loaded_successes = list(np.load(successes_file))\n",
    "        if os.path.exists(adv_sq_file): loaded_avg_sq_advantage = list(np.load(adv_sq_file))\n",
    "        \n",
    "        print(f\"Loaded log lengths:\\n\"\n",
    "              f\"  Rewards: {len(loaded_rewards)}\\n\"\n",
    "              f\"  Steps: {len(loaded_steps)}\\n\"\n",
    "              f\"  Successes: {len(loaded_successes)}\\n\"\n",
    "              f\"  Avg Sq Advantage: {len(loaded_avg_sq_advantage)}\")\n",
    "\n",
    "        if not loaded_rewards:\n",
    "            print(\"Critical error: Rewards log is empty. Cannot proceed with plotting or simulation.\")\n",
    "            exit()\n",
    "\n",
    "        loaded_pg_learning_curves = {\n",
    "            \"rewards\": loaded_rewards,\n",
    "            \"steps\": loaded_steps,\n",
    "            \"successes\": loaded_successes,\n",
    "            \"avg_sq_advantage\": loaded_avg_sq_advantage\n",
    "        }\n",
    "        \n",
    "        plot_pg_learning_curves(loaded_pg_learning_curves, \n",
    "                                algorithm_name=f\"REINFORCE (Files up to {k_value_of_saved_files}k Eps)\",\n",
    "                                total_episodes_expected=k_value_of_saved_files * 1000)\n",
    "\n",
    "    except FileNotFoundError as e:\n",
    "        print(f\"Error: Could not find log file: {e}. Please check filenames and paths.\")\n",
    "        exit()\n",
    "    except Exception as e:\n",
    "        print(f\"An error occurred during loading or plotting: {e}\")\n",
    "        exit()\n",
    "\n",
    "    # --- Simulate with loaded weights ---\n",
    "    print(\"\\n--- Attempting Simulation with Loaded Weights ---\")\n",
    "    \n",
    "    actor_weights_file = f\"{PG_STATE_BASE_FILENAME}_{k_value_of_saved_files}k_actor_weights.npy\"\n",
    "    theta_actor_loaded = None\n",
    "    if os.path.exists(actor_weights_file):\n",
    "        try:\n",
    "            theta_actor_loaded = np.load(actor_weights_file)\n",
    "            print(f\"Successfully loaded actor weights: {actor_weights_file}\")\n",
    "        except Exception as e:\n",
    "            print(f\"Error loading actor weights: {e}\")\n",
    "    else:\n",
    "        print(f\"Actor weights file not found: {actor_weights_file}\")\n",
    "\n",
    "    if theta_actor_loaded is not None:\n",
    "        env_sim = gym.make(\"Taxi-v3\")\n",
    "        pg_final_policy_loaded = derive_pg_policy(theta_actor_loaded, env_sim.observation_space.n, env_sim.action_space.n)\n",
    "\n",
    "        for i in range(3): \n",
    "            current_rollout_seed = np.random.randint(0,100000) # Generate a seed for this rollout\n",
    "            observation, info = env_sim.reset(seed=current_rollout_seed) \n",
    "            done, truncated, total_reward_sim, step_sim = False, False, 0, 0\n",
    "            max_rollout_steps = 50\n",
    "            # CORRECTED PRINT STATEMENT:\n",
    "            print(f\"\\n--- Simulation Rollout #{i+1} (Using Seed: {current_rollout_seed}) ---\")\n",
    "\n",
    "            for _ in range(max_rollout_steps):\n",
    "                action = pg_final_policy_loaded[observation]\n",
    "                taxi_row, taxi_col, pass_idx, dest_idx = decode_taxi_state(observation)\n",
    "                print(draw_custom_map(taxi_row, taxi_col, pass_idx, dest_idx))\n",
    "                print(f\"Step: {step_sim}, State: {observation} ({taxi_row},{taxi_col},{LOC_NAMES[pass_idx]},{LOC_NAMES[dest_idx]})\")\n",
    "                action_prefs_sim = np.array([theta_actor_loaded.dot(get_state_action_features(observation, a_idx, env_sim.action_space.n)) for a_idx in range(env_sim.action_space.n)])\n",
    "                print(f\"Prefs: {['{:.2f}'.format(x) for x in action_prefs_sim]}\\nProbs: {['{:.2f}'.format(x) for x in softmax(action_prefs_sim)]}\\nChosen: {ACTION_NAMES[action]}\")\n",
    "                \n",
    "                observation, reward, done, truncated, _ = env_sim.step(action)\n",
    "                total_reward_sim += reward\n",
    "                print(f\"Reward: {reward}, Total: {total_reward_sim}\\n{'-'*30}\")\n",
    "                step_sim += 1\n",
    "                if done or truncated: break\n",
    "                time.sleep(0.2)\n",
    "            \n",
    "            print(f\"Sim finished in {step_sim} steps, total reward {total_reward_sim}.\")\n",
    "            if done and reward == 20: print(\"Successful dropoff!\")\n",
    "        env_sim.close()\n",
    "    else:\n",
    "        print(\"Cannot run simulation as actor weights were not loaded.\")"
   ]
  },
  {
   "cell_type": "code",
   "execution_count": null,
   "id": "291aac23",
   "metadata": {},
   "outputs": [],
   "source": []
  },
  {
   "cell_type": "code",
   "execution_count": 7,
   "id": "143f3563",
   "metadata": {},
   "outputs": [
    {
     "name": "stdout",
     "output_type": "stream",
     "text": [
      "Loading REINFORCE state for 400000 episodes...\n",
      "Successfully loaded previous REINFORCE state.\n",
      "Loading initial actor weights (trained for 400000 episodes).\n",
      "Loading initial critic weights (trained for 400000 episodes).\n",
      "Training REINFORCE w/ Baseline for 400000 more episodes.\n",
      "Params: alpha_actor=5e-05, alpha_critic=0.001, gamma=0.99, normalize_adv=True, grad_clip=1.0\n"
     ]
    },
    {
     "name": "stderr",
     "output_type": "stream",
     "text": [
      "Training REINFORCE w/ Baseline:   0%|          | 2/400000 [00:00<7:20:01, 15.15it/s]"
     ]
    },
    {
     "name": "stdout",
     "output_type": "stream",
     "text": [
      "Overall Ep 400001, Avg Rew (last 100): -176.61, Success (last 100): 0.15, Avg Sq Adv (last 100): 1.00\n"
     ]
    },
    {
     "name": "stderr",
     "output_type": "stream",
     "text": [
      "Training REINFORCE w/ Baseline:   1%|          | 4004/400000 [04:33<4:11:07, 26.28it/s] "
     ]
    },
    {
     "name": "stdout",
     "output_type": "stream",
     "text": [
      "Overall Ep 404000, Avg Rew (last 100): -155.23, Success (last 100): 0.27, Avg Sq Adv (last 100): 1.00\n"
     ]
    },
    {
     "name": "stderr",
     "output_type": "stream",
     "text": [
      "Training REINFORCE w/ Baseline:   2%|▏         | 8001/400000 [08:58<10:34:29, 10.30it/s]"
     ]
    },
    {
     "name": "stdout",
     "output_type": "stream",
     "text": [
      "Overall Ep 408000, Avg Rew (last 100): -174.31, Success (last 100): 0.15, Avg Sq Adv (last 100): 1.00\n"
     ]
    },
    {
     "name": "stderr",
     "output_type": "stream",
     "text": [
      "Training REINFORCE w/ Baseline:   3%|▎         | 12000/400000 [13:22<10:43:58, 10.04it/s]"
     ]
    },
    {
     "name": "stdout",
     "output_type": "stream",
     "text": [
      "Overall Ep 412000, Avg Rew (last 100): -171.97, Success (last 100): 0.18, Avg Sq Adv (last 100): 1.00\n"
     ]
    },
    {
     "name": "stderr",
     "output_type": "stream",
     "text": [
      "Training REINFORCE w/ Baseline:   4%|▍         | 16004/400000 [17:46<3:23:42, 31.42it/s] "
     ]
    },
    {
     "name": "stdout",
     "output_type": "stream",
     "text": [
      "Overall Ep 416000, Avg Rew (last 100): -155.35, Success (last 100): 0.26, Avg Sq Adv (last 100): 1.00\n"
     ]
    },
    {
     "name": "stderr",
     "output_type": "stream",
     "text": [
      "Training REINFORCE w/ Baseline:   5%|▌         | 20003/400000 [22:11<4:51:24, 21.73it/s] "
     ]
    },
    {
     "name": "stdout",
     "output_type": "stream",
     "text": [
      "Overall Ep 420000, Avg Rew (last 100): -169.99, Success (last 100): 0.19, Avg Sq Adv (last 100): 1.00\n"
     ]
    },
    {
     "name": "stderr",
     "output_type": "stream",
     "text": [
      "Training REINFORCE w/ Baseline:   6%|▌         | 24002/400000 [26:35<8:23:45, 12.44it/s] "
     ]
    },
    {
     "name": "stdout",
     "output_type": "stream",
     "text": [
      "Overall Ep 424000, Avg Rew (last 100): -163.81, Success (last 100): 0.22, Avg Sq Adv (last 100): 1.00\n"
     ]
    },
    {
     "name": "stderr",
     "output_type": "stream",
     "text": [
      "Training REINFORCE w/ Baseline:   7%|▋         | 28007/400000 [31:05<4:20:36, 23.79it/s] "
     ]
    },
    {
     "name": "stdout",
     "output_type": "stream",
     "text": [
      "Overall Ep 428000, Avg Rew (last 100): -175.78, Success (last 100): 0.16, Avg Sq Adv (last 100): 1.00\n"
     ]
    },
    {
     "name": "stderr",
     "output_type": "stream",
     "text": [
      "Training REINFORCE w/ Baseline:   8%|▊         | 32002/400000 [35:29<9:27:09, 10.81it/s] "
     ]
    },
    {
     "name": "stdout",
     "output_type": "stream",
     "text": [
      "Overall Ep 432000, Avg Rew (last 100): -181.23, Success (last 100): 0.12, Avg Sq Adv (last 100): 1.00\n"
     ]
    },
    {
     "name": "stderr",
     "output_type": "stream",
     "text": [
      "Training REINFORCE w/ Baseline:   9%|▉         | 36003/400000 [39:52<3:57:37, 25.53it/s] "
     ]
    },
    {
     "name": "stdout",
     "output_type": "stream",
     "text": [
      "Overall Ep 436000, Avg Rew (last 100): -173.63, Success (last 100): 0.17, Avg Sq Adv (last 100): 1.00\n"
     ]
    },
    {
     "name": "stderr",
     "output_type": "stream",
     "text": [
      "Training REINFORCE w/ Baseline:  10%|█         | 40001/400000 [44:17<10:15:52,  9.74it/s]"
     ]
    },
    {
     "name": "stdout",
     "output_type": "stream",
     "text": [
      "Overall Ep 440000, Avg Rew (last 100): -167.41, Success (last 100): 0.19, Avg Sq Adv (last 100): 1.00\n"
     ]
    },
    {
     "name": "stderr",
     "output_type": "stream",
     "text": [
      "Training REINFORCE w/ Baseline:  11%|█         | 44003/400000 [48:38<5:31:11, 17.91it/s] "
     ]
    },
    {
     "name": "stdout",
     "output_type": "stream",
     "text": [
      "Overall Ep 444000, Avg Rew (last 100): -163.08, Success (last 100): 0.22, Avg Sq Adv (last 100): 1.00\n"
     ]
    },
    {
     "name": "stderr",
     "output_type": "stream",
     "text": [
      "Training REINFORCE w/ Baseline:  12%|█▏        | 48001/400000 [52:58<7:02:22, 13.89it/s] "
     ]
    },
    {
     "name": "stdout",
     "output_type": "stream",
     "text": [
      "Overall Ep 448000, Avg Rew (last 100): -173.38, Success (last 100): 0.17, Avg Sq Adv (last 100): 1.00\n"
     ]
    },
    {
     "name": "stderr",
     "output_type": "stream",
     "text": [
      "Training REINFORCE w/ Baseline:  13%|█▎        | 52003/400000 [57:22<4:16:48, 22.59it/s] "
     ]
    },
    {
     "name": "stdout",
     "output_type": "stream",
     "text": [
      "Overall Ep 452000, Avg Rew (last 100): -163.23, Success (last 100): 0.22, Avg Sq Adv (last 100): 1.00\n"
     ]
    },
    {
     "name": "stderr",
     "output_type": "stream",
     "text": [
      "Training REINFORCE w/ Baseline:  14%|█▍        | 56004/400000 [1:01:46<3:47:47, 25.17it/s] "
     ]
    },
    {
     "name": "stdout",
     "output_type": "stream",
     "text": [
      "Overall Ep 456000, Avg Rew (last 100): -179.97, Success (last 100): 0.13, Avg Sq Adv (last 100): 1.00\n"
     ]
    },
    {
     "name": "stderr",
     "output_type": "stream",
     "text": [
      "Training REINFORCE w/ Baseline:  15%|█▌        | 60004/400000 [1:06:07<3:03:17, 30.92it/s] "
     ]
    },
    {
     "name": "stdout",
     "output_type": "stream",
     "text": [
      "Overall Ep 460000, Avg Rew (last 100): -164.75, Success (last 100): 0.21, Avg Sq Adv (last 100): 1.00\n"
     ]
    },
    {
     "name": "stderr",
     "output_type": "stream",
     "text": [
      "Training REINFORCE w/ Baseline:  16%|█▌        | 64002/400000 [1:10:28<7:41:58, 12.12it/s] "
     ]
    },
    {
     "name": "stdout",
     "output_type": "stream",
     "text": [
      "Overall Ep 464000, Avg Rew (last 100): -170.34, Success (last 100): 0.19, Avg Sq Adv (last 100): 1.00\n"
     ]
    },
    {
     "name": "stderr",
     "output_type": "stream",
     "text": [
      "Training REINFORCE w/ Baseline:  17%|█▋        | 68002/400000 [1:14:48<8:18:19, 11.10it/s] "
     ]
    },
    {
     "name": "stdout",
     "output_type": "stream",
     "text": [
      "Overall Ep 468000, Avg Rew (last 100): -153.00, Success (last 100): 0.27, Avg Sq Adv (last 100): 1.00\n"
     ]
    },
    {
     "name": "stderr",
     "output_type": "stream",
     "text": [
      "Training REINFORCE w/ Baseline:  18%|█▊        | 72000/400000 [1:19:10<6:46:37, 13.44it/s] "
     ]
    },
    {
     "name": "stdout",
     "output_type": "stream",
     "text": [
      "Overall Ep 472000, Avg Rew (last 100): -159.54, Success (last 100): 0.25, Avg Sq Adv (last 100): 1.00\n"
     ]
    },
    {
     "name": "stderr",
     "output_type": "stream",
     "text": [
      "Training REINFORCE w/ Baseline:  19%|█▉        | 76002/400000 [1:23:33<4:53:58, 18.37it/s] "
     ]
    },
    {
     "name": "stdout",
     "output_type": "stream",
     "text": [
      "Overall Ep 476000, Avg Rew (last 100): -165.66, Success (last 100): 0.20, Avg Sq Adv (last 100): 1.00\n"
     ]
    },
    {
     "name": "stderr",
     "output_type": "stream",
     "text": [
      "Training REINFORCE w/ Baseline:  20%|██        | 80005/400000 [1:27:53<2:50:09, 31.34it/s] "
     ]
    },
    {
     "name": "stdout",
     "output_type": "stream",
     "text": [
      "Overall Ep 480000, Avg Rew (last 100): -160.43, Success (last 100): 0.23, Avg Sq Adv (last 100): 1.00\n"
     ]
    },
    {
     "name": "stderr",
     "output_type": "stream",
     "text": [
      "Training REINFORCE w/ Baseline:  21%|██        | 84005/400000 [1:32:13<4:59:52, 17.56it/s] "
     ]
    },
    {
     "name": "stdout",
     "output_type": "stream",
     "text": [
      "Overall Ep 484000, Avg Rew (last 100): -174.52, Success (last 100): 0.16, Avg Sq Adv (last 100): 1.00\n"
     ]
    },
    {
     "name": "stderr",
     "output_type": "stream",
     "text": [
      "Training REINFORCE w/ Baseline:  22%|██▏       | 88005/400000 [1:36:29<2:51:31, 30.32it/s] "
     ]
    },
    {
     "name": "stdout",
     "output_type": "stream",
     "text": [
      "Overall Ep 488000, Avg Rew (last 100): -149.44, Success (last 100): 0.28, Avg Sq Adv (last 100): 1.00\n"
     ]
    },
    {
     "name": "stderr",
     "output_type": "stream",
     "text": [
      "Training REINFORCE w/ Baseline:  23%|██▎       | 92002/400000 [1:40:46<7:03:17, 12.13it/s] "
     ]
    },
    {
     "name": "stdout",
     "output_type": "stream",
     "text": [
      "Overall Ep 492000, Avg Rew (last 100): -170.69, Success (last 100): 0.17, Avg Sq Adv (last 100): 1.00\n"
     ]
    },
    {
     "name": "stderr",
     "output_type": "stream",
     "text": [
      "Training REINFORCE w/ Baseline:  24%|██▍       | 96002/400000 [1:45:07<4:03:12, 20.83it/s]"
     ]
    },
    {
     "name": "stdout",
     "output_type": "stream",
     "text": [
      "Overall Ep 496000, Avg Rew (last 100): -168.19, Success (last 100): 0.20, Avg Sq Adv (last 100): 1.00\n"
     ]
    },
    {
     "name": "stderr",
     "output_type": "stream",
     "text": [
      "Training REINFORCE w/ Baseline:  25%|██▌       | 100000/400000 [1:49:26<8:12:14, 10.16it/s]"
     ]
    },
    {
     "name": "stdout",
     "output_type": "stream",
     "text": [
      "Overall Ep 500000, Avg Rew (last 100): -170.65, Success (last 100): 0.18, Avg Sq Adv (last 100): 1.00\n"
     ]
    },
    {
     "name": "stderr",
     "output_type": "stream",
     "text": [
      "Training REINFORCE w/ Baseline:  26%|██▌       | 104001/400000 [1:53:48<7:43:20, 10.65it/s] "
     ]
    },
    {
     "name": "stdout",
     "output_type": "stream",
     "text": [
      "Overall Ep 504000, Avg Rew (last 100): -167.02, Success (last 100): 0.19, Avg Sq Adv (last 100): 1.00\n"
     ]
    },
    {
     "name": "stderr",
     "output_type": "stream",
     "text": [
      "Training REINFORCE w/ Baseline:  27%|██▋       | 108000/400000 [1:58:08<4:31:08, 17.95it/s] "
     ]
    },
    {
     "name": "stdout",
     "output_type": "stream",
     "text": [
      "Overall Ep 508000, Avg Rew (last 100): -168.39, Success (last 100): 0.18, Avg Sq Adv (last 100): 1.00\n"
     ]
    },
    {
     "name": "stderr",
     "output_type": "stream",
     "text": [
      "Training REINFORCE w/ Baseline:  28%|██▊       | 112000/400000 [2:02:28<7:41:53, 10.39it/s]"
     ]
    },
    {
     "name": "stdout",
     "output_type": "stream",
     "text": [
      "Overall Ep 512000, Avg Rew (last 100): -167.38, Success (last 100): 0.19, Avg Sq Adv (last 100): 1.00\n"
     ]
    },
    {
     "name": "stderr",
     "output_type": "stream",
     "text": [
      "Training REINFORCE w/ Baseline:  29%|██▉       | 116002/400000 [2:06:51<5:11:29, 15.20it/s]"
     ]
    },
    {
     "name": "stdout",
     "output_type": "stream",
     "text": [
      "Overall Ep 516000, Avg Rew (last 100): -171.31, Success (last 100): 0.17, Avg Sq Adv (last 100): 1.00\n"
     ]
    },
    {
     "name": "stderr",
     "output_type": "stream",
     "text": [
      "Training REINFORCE w/ Baseline:  30%|███       | 120001/400000 [2:11:11<6:01:59, 12.89it/s]"
     ]
    },
    {
     "name": "stdout",
     "output_type": "stream",
     "text": [
      "Overall Ep 520000, Avg Rew (last 100): -168.94, Success (last 100): 0.19, Avg Sq Adv (last 100): 1.00\n"
     ]
    },
    {
     "name": "stderr",
     "output_type": "stream",
     "text": [
      "Training REINFORCE w/ Baseline:  31%|███       | 124001/400000 [2:15:32<3:16:20, 23.43it/s]"
     ]
    },
    {
     "name": "stdout",
     "output_type": "stream",
     "text": [
      "Overall Ep 524000, Avg Rew (last 100): -165.33, Success (last 100): 0.21, Avg Sq Adv (last 100): 1.00\n"
     ]
    },
    {
     "name": "stderr",
     "output_type": "stream",
     "text": [
      "Training REINFORCE w/ Baseline:  32%|███▏      | 128002/400000 [2:19:52<2:23:00, 31.70it/s]"
     ]
    },
    {
     "name": "stdout",
     "output_type": "stream",
     "text": [
      "Overall Ep 528000, Avg Rew (last 100): -159.14, Success (last 100): 0.23, Avg Sq Adv (last 100): 1.00\n"
     ]
    },
    {
     "name": "stderr",
     "output_type": "stream",
     "text": [
      "Training REINFORCE w/ Baseline:  33%|███▎      | 132001/400000 [2:24:13<5:12:48, 14.28it/s]"
     ]
    },
    {
     "name": "stdout",
     "output_type": "stream",
     "text": [
      "Overall Ep 532000, Avg Rew (last 100): -147.28, Success (last 100): 0.29, Avg Sq Adv (last 100): 1.00\n"
     ]
    },
    {
     "name": "stderr",
     "output_type": "stream",
     "text": [
      "Training REINFORCE w/ Baseline:  34%|███▍      | 136004/400000 [2:28:32<2:56:54, 24.87it/s]"
     ]
    },
    {
     "name": "stdout",
     "output_type": "stream",
     "text": [
      "Overall Ep 536000, Avg Rew (last 100): -171.30, Success (last 100): 0.17, Avg Sq Adv (last 100): 1.00\n"
     ]
    },
    {
     "name": "stderr",
     "output_type": "stream",
     "text": [
      "Training REINFORCE w/ Baseline:  35%|███▌      | 140002/400000 [2:32:53<2:45:30, 26.18it/s]"
     ]
    },
    {
     "name": "stdout",
     "output_type": "stream",
     "text": [
      "Overall Ep 540000, Avg Rew (last 100): -150.38, Success (last 100): 0.27, Avg Sq Adv (last 100): 1.00\n"
     ]
    },
    {
     "name": "stderr",
     "output_type": "stream",
     "text": [
      "Training REINFORCE w/ Baseline:  36%|███▌      | 144005/400000 [2:37:13<2:42:32, 26.25it/s]"
     ]
    },
    {
     "name": "stdout",
     "output_type": "stream",
     "text": [
      "Overall Ep 544000, Avg Rew (last 100): -161.94, Success (last 100): 0.23, Avg Sq Adv (last 100): 1.00\n"
     ]
    },
    {
     "name": "stderr",
     "output_type": "stream",
     "text": [
      "Training REINFORCE w/ Baseline:  37%|███▋      | 148002/400000 [2:41:38<6:01:06, 11.63it/s]"
     ]
    },
    {
     "name": "stdout",
     "output_type": "stream",
     "text": [
      "Overall Ep 548000, Avg Rew (last 100): -181.44, Success (last 100): 0.12, Avg Sq Adv (last 100): 1.00\n"
     ]
    },
    {
     "name": "stderr",
     "output_type": "stream",
     "text": [
      "Training REINFORCE w/ Baseline:  38%|███▊      | 152003/400000 [2:46:00<2:57:21, 23.30it/s]"
     ]
    },
    {
     "name": "stdout",
     "output_type": "stream",
     "text": [
      "Overall Ep 552000, Avg Rew (last 100): -163.67, Success (last 100): 0.21, Avg Sq Adv (last 100): 1.00\n"
     ]
    },
    {
     "name": "stderr",
     "output_type": "stream",
     "text": [
      "Training REINFORCE w/ Baseline:  39%|███▉      | 156002/400000 [2:50:22<4:47:09, 14.16it/s]"
     ]
    },
    {
     "name": "stdout",
     "output_type": "stream",
     "text": [
      "Overall Ep 556000, Avg Rew (last 100): -162.06, Success (last 100): 0.23, Avg Sq Adv (last 100): 1.00\n"
     ]
    },
    {
     "name": "stderr",
     "output_type": "stream",
     "text": [
      "Training REINFORCE w/ Baseline:  40%|████      | 160002/400000 [2:54:45<3:03:44, 21.77it/s]"
     ]
    },
    {
     "name": "stdout",
     "output_type": "stream",
     "text": [
      "Overall Ep 560000, Avg Rew (last 100): -168.00, Success (last 100): 0.18, Avg Sq Adv (last 100): 1.00\n"
     ]
    },
    {
     "name": "stderr",
     "output_type": "stream",
     "text": [
      "Training REINFORCE w/ Baseline:  41%|████      | 164002/400000 [2:59:04<6:30:55, 10.06it/s]"
     ]
    },
    {
     "name": "stdout",
     "output_type": "stream",
     "text": [
      "Overall Ep 564000, Avg Rew (last 100): -157.90, Success (last 100): 0.24, Avg Sq Adv (last 100): 1.00\n"
     ]
    },
    {
     "name": "stderr",
     "output_type": "stream",
     "text": [
      "Training REINFORCE w/ Baseline:  42%|████▏     | 168001/400000 [3:03:24<5:53:56, 10.92it/s]"
     ]
    },
    {
     "name": "stdout",
     "output_type": "stream",
     "text": [
      "Overall Ep 568000, Avg Rew (last 100): -174.54, Success (last 100): 0.15, Avg Sq Adv (last 100): 1.00\n"
     ]
    },
    {
     "name": "stderr",
     "output_type": "stream",
     "text": [
      "Training REINFORCE w/ Baseline:  43%|████▎     | 172002/400000 [3:07:43<5:19:36, 11.89it/s]"
     ]
    },
    {
     "name": "stdout",
     "output_type": "stream",
     "text": [
      "Overall Ep 572000, Avg Rew (last 100): -172.90, Success (last 100): 0.16, Avg Sq Adv (last 100): 1.00\n"
     ]
    },
    {
     "name": "stderr",
     "output_type": "stream",
     "text": [
      "Training REINFORCE w/ Baseline:  44%|████▍     | 176002/400000 [3:11:59<3:57:14, 15.74it/s]"
     ]
    },
    {
     "name": "stdout",
     "output_type": "stream",
     "text": [
      "Overall Ep 576000, Avg Rew (last 100): -166.07, Success (last 100): 0.20, Avg Sq Adv (last 100): 1.00\n"
     ]
    },
    {
     "name": "stderr",
     "output_type": "stream",
     "text": [
      "Training REINFORCE w/ Baseline:  45%|████▌     | 180002/400000 [3:16:19<6:36:52,  9.24it/s]"
     ]
    },
    {
     "name": "stdout",
     "output_type": "stream",
     "text": [
      "Overall Ep 580000, Avg Rew (last 100): -172.73, Success (last 100): 0.16, Avg Sq Adv (last 100): 1.00\n"
     ]
    },
    {
     "name": "stderr",
     "output_type": "stream",
     "text": [
      "Training REINFORCE w/ Baseline:  46%|████▌     | 184002/400000 [3:20:36<2:37:37, 22.84it/s]"
     ]
    },
    {
     "name": "stdout",
     "output_type": "stream",
     "text": [
      "Overall Ep 584000, Avg Rew (last 100): -166.88, Success (last 100): 0.19, Avg Sq Adv (last 100): 1.00\n"
     ]
    },
    {
     "name": "stderr",
     "output_type": "stream",
     "text": [
      "Training REINFORCE w/ Baseline:  47%|████▋     | 188002/400000 [3:24:59<5:55:12,  9.95it/s]"
     ]
    },
    {
     "name": "stdout",
     "output_type": "stream",
     "text": [
      "Overall Ep 588000, Avg Rew (last 100): -163.51, Success (last 100): 0.21, Avg Sq Adv (last 100): 1.00\n"
     ]
    },
    {
     "name": "stderr",
     "output_type": "stream",
     "text": [
      "Training REINFORCE w/ Baseline:  48%|████▊     | 192000/400000 [3:29:14<4:56:59, 11.67it/s]"
     ]
    },
    {
     "name": "stdout",
     "output_type": "stream",
     "text": [
      "Overall Ep 592000, Avg Rew (last 100): -163.33, Success (last 100): 0.21, Avg Sq Adv (last 100): 1.00\n"
     ]
    },
    {
     "name": "stderr",
     "output_type": "stream",
     "text": [
      "Training REINFORCE w/ Baseline:  49%|████▉     | 196002/400000 [3:33:36<2:05:33, 27.08it/s]"
     ]
    },
    {
     "name": "stdout",
     "output_type": "stream",
     "text": [
      "Overall Ep 596000, Avg Rew (last 100): -165.63, Success (last 100): 0.19, Avg Sq Adv (last 100): 1.00\n"
     ]
    },
    {
     "name": "stderr",
     "output_type": "stream",
     "text": [
      "Training REINFORCE w/ Baseline:  50%|█████     | 200001/400000 [3:37:57<6:10:11,  9.00it/s]"
     ]
    },
    {
     "name": "stdout",
     "output_type": "stream",
     "text": [
      "Overall Ep 600000, Avg Rew (last 100): -178.57, Success (last 100): 0.13, Avg Sq Adv (last 100): 1.00\n"
     ]
    },
    {
     "name": "stderr",
     "output_type": "stream",
     "text": [
      "Training REINFORCE w/ Baseline:  51%|█████     | 204000/400000 [3:42:16<5:01:02, 10.85it/s]"
     ]
    },
    {
     "name": "stdout",
     "output_type": "stream",
     "text": [
      "Overall Ep 604000, Avg Rew (last 100): -164.21, Success (last 100): 0.21, Avg Sq Adv (last 100): 1.00\n"
     ]
    },
    {
     "name": "stderr",
     "output_type": "stream",
     "text": [
      "Training REINFORCE w/ Baseline:  52%|█████▏    | 208002/400000 [3:46:35<2:07:46, 25.04it/s]"
     ]
    },
    {
     "name": "stdout",
     "output_type": "stream",
     "text": [
      "Overall Ep 608000, Avg Rew (last 100): -162.02, Success (last 100): 0.21, Avg Sq Adv (last 100): 1.00\n"
     ]
    },
    {
     "name": "stderr",
     "output_type": "stream",
     "text": [
      "Training REINFORCE w/ Baseline:  53%|█████▎    | 212002/400000 [3:50:54<4:50:00, 10.80it/s]"
     ]
    },
    {
     "name": "stdout",
     "output_type": "stream",
     "text": [
      "Overall Ep 612000, Avg Rew (last 100): -164.25, Success (last 100): 0.20, Avg Sq Adv (last 100): 1.00\n"
     ]
    },
    {
     "name": "stderr",
     "output_type": "stream",
     "text": [
      "Training REINFORCE w/ Baseline:  54%|█████▍    | 216005/400000 [3:55:17<2:16:32, 22.46it/s]"
     ]
    },
    {
     "name": "stdout",
     "output_type": "stream",
     "text": [
      "Overall Ep 616000, Avg Rew (last 100): -169.16, Success (last 100): 0.18, Avg Sq Adv (last 100): 1.00\n"
     ]
    },
    {
     "name": "stderr",
     "output_type": "stream",
     "text": [
      "Training REINFORCE w/ Baseline:  55%|█████▌    | 220002/400000 [3:59:35<3:19:38, 15.03it/s]"
     ]
    },
    {
     "name": "stdout",
     "output_type": "stream",
     "text": [
      "Overall Ep 620000, Avg Rew (last 100): -175.87, Success (last 100): 0.14, Avg Sq Adv (last 100): 1.00\n"
     ]
    },
    {
     "name": "stderr",
     "output_type": "stream",
     "text": [
      "Training REINFORCE w/ Baseline:  56%|█████▌    | 224005/400000 [4:03:59<2:01:43, 24.10it/s]"
     ]
    },
    {
     "name": "stdout",
     "output_type": "stream",
     "text": [
      "Overall Ep 624000, Avg Rew (last 100): -170.51, Success (last 100): 0.17, Avg Sq Adv (last 100): 1.00\n"
     ]
    },
    {
     "name": "stderr",
     "output_type": "stream",
     "text": [
      "Training REINFORCE w/ Baseline:  57%|█████▋    | 228000/400000 [4:08:17<4:03:14, 11.79it/s]"
     ]
    },
    {
     "name": "stdout",
     "output_type": "stream",
     "text": [
      "Overall Ep 628000, Avg Rew (last 100): -170.29, Success (last 100): 0.17, Avg Sq Adv (last 100): 1.00\n"
     ]
    },
    {
     "name": "stderr",
     "output_type": "stream",
     "text": [
      "Training REINFORCE w/ Baseline:  58%|█████▊    | 232004/400000 [4:12:36<1:51:38, 25.08it/s]"
     ]
    },
    {
     "name": "stdout",
     "output_type": "stream",
     "text": [
      "Overall Ep 632000, Avg Rew (last 100): -161.49, Success (last 100): 0.21, Avg Sq Adv (last 100): 1.00\n"
     ]
    },
    {
     "name": "stderr",
     "output_type": "stream",
     "text": [
      "Training REINFORCE w/ Baseline:  59%|█████▉    | 236002/400000 [4:16:56<2:18:35, 19.72it/s]"
     ]
    },
    {
     "name": "stdout",
     "output_type": "stream",
     "text": [
      "Overall Ep 636000, Avg Rew (last 100): -178.00, Success (last 100): 0.13, Avg Sq Adv (last 100): 1.00\n"
     ]
    },
    {
     "name": "stderr",
     "output_type": "stream",
     "text": [
      "Training REINFORCE w/ Baseline:  60%|██████    | 240001/400000 [4:21:16<4:30:24,  9.86it/s]"
     ]
    },
    {
     "name": "stdout",
     "output_type": "stream",
     "text": [
      "Overall Ep 640000, Avg Rew (last 100): -177.57, Success (last 100): 0.13, Avg Sq Adv (last 100): 1.00\n"
     ]
    },
    {
     "name": "stderr",
     "output_type": "stream",
     "text": [
      "Training REINFORCE w/ Baseline:  61%|██████    | 244001/400000 [4:25:34<3:56:05, 11.01it/s]"
     ]
    },
    {
     "name": "stdout",
     "output_type": "stream",
     "text": [
      "Overall Ep 644000, Avg Rew (last 100): -175.93, Success (last 100): 0.14, Avg Sq Adv (last 100): 1.00\n"
     ]
    },
    {
     "name": "stderr",
     "output_type": "stream",
     "text": [
      "Training REINFORCE w/ Baseline:  62%|██████▏   | 248005/400000 [4:29:56<1:50:08, 23.00it/s]"
     ]
    },
    {
     "name": "stdout",
     "output_type": "stream",
     "text": [
      "Overall Ep 648000, Avg Rew (last 100): -162.45, Success (last 100): 0.21, Avg Sq Adv (last 100): 1.00\n"
     ]
    },
    {
     "name": "stderr",
     "output_type": "stream",
     "text": [
      "Training REINFORCE w/ Baseline:  63%|██████▎   | 252003/400000 [4:34:16<3:16:08, 12.58it/s]"
     ]
    },
    {
     "name": "stdout",
     "output_type": "stream",
     "text": [
      "Overall Ep 652000, Avg Rew (last 100): -156.08, Success (last 100): 0.24, Avg Sq Adv (last 100): 1.00\n"
     ]
    },
    {
     "name": "stderr",
     "output_type": "stream",
     "text": [
      "Training REINFORCE w/ Baseline:  64%|██████▍   | 256004/400000 [4:38:32<1:26:03, 27.89it/s]"
     ]
    },
    {
     "name": "stdout",
     "output_type": "stream",
     "text": [
      "Overall Ep 656000, Avg Rew (last 100): -155.73, Success (last 100): 0.25, Avg Sq Adv (last 100): 1.00\n"
     ]
    },
    {
     "name": "stderr",
     "output_type": "stream",
     "text": [
      "Training REINFORCE w/ Baseline:  65%|██████▌   | 260001/400000 [4:42:53<2:37:26, 14.82it/s]"
     ]
    },
    {
     "name": "stdout",
     "output_type": "stream",
     "text": [
      "Overall Ep 660000, Avg Rew (last 100): -169.01, Success (last 100): 0.18, Avg Sq Adv (last 100): 1.00\n"
     ]
    },
    {
     "name": "stderr",
     "output_type": "stream",
     "text": [
      "Training REINFORCE w/ Baseline:  66%|██████▌   | 264004/400000 [4:47:21<2:01:46, 18.61it/s]"
     ]
    },
    {
     "name": "stdout",
     "output_type": "stream",
     "text": [
      "Overall Ep 664000, Avg Rew (last 100): -172.41, Success (last 100): 0.15, Avg Sq Adv (last 100): 1.00\n"
     ]
    },
    {
     "name": "stderr",
     "output_type": "stream",
     "text": [
      "Training REINFORCE w/ Baseline:  67%|██████▋   | 268005/400000 [4:51:38<1:19:30, 27.67it/s]"
     ]
    },
    {
     "name": "stdout",
     "output_type": "stream",
     "text": [
      "Overall Ep 668000, Avg Rew (last 100): -164.55, Success (last 100): 0.20, Avg Sq Adv (last 100): 1.00\n"
     ]
    },
    {
     "name": "stderr",
     "output_type": "stream",
     "text": [
      "Training REINFORCE w/ Baseline:  68%|██████▊   | 272000/400000 [4:55:59<3:11:24, 11.15it/s]"
     ]
    },
    {
     "name": "stdout",
     "output_type": "stream",
     "text": [
      "Overall Ep 672000, Avg Rew (last 100): -161.49, Success (last 100): 0.21, Avg Sq Adv (last 100): 1.00\n"
     ]
    },
    {
     "name": "stderr",
     "output_type": "stream",
     "text": [
      "Training REINFORCE w/ Baseline:  69%|██████▉   | 276003/400000 [5:00:19<1:36:15, 21.47it/s]"
     ]
    },
    {
     "name": "stdout",
     "output_type": "stream",
     "text": [
      "Overall Ep 676000, Avg Rew (last 100): -162.11, Success (last 100): 0.21, Avg Sq Adv (last 100): 1.00\n"
     ]
    },
    {
     "name": "stderr",
     "output_type": "stream",
     "text": [
      "Training REINFORCE w/ Baseline:  70%|███████   | 280002/400000 [5:04:40<2:52:47, 11.57it/s]"
     ]
    },
    {
     "name": "stdout",
     "output_type": "stream",
     "text": [
      "Overall Ep 680000, Avg Rew (last 100): -170.14, Success (last 100): 0.17, Avg Sq Adv (last 100): 1.00\n"
     ]
    },
    {
     "name": "stderr",
     "output_type": "stream",
     "text": [
      "Training REINFORCE w/ Baseline:  71%|███████   | 284003/400000 [5:09:00<1:14:01, 26.12it/s]"
     ]
    },
    {
     "name": "stdout",
     "output_type": "stream",
     "text": [
      "Overall Ep 684000, Avg Rew (last 100): -166.43, Success (last 100): 0.19, Avg Sq Adv (last 100): 1.00\n"
     ]
    },
    {
     "name": "stderr",
     "output_type": "stream",
     "text": [
      "Training REINFORCE w/ Baseline:  72%|███████▏  | 288002/400000 [5:13:20<2:57:34, 10.51it/s]"
     ]
    },
    {
     "name": "stdout",
     "output_type": "stream",
     "text": [
      "Overall Ep 688000, Avg Rew (last 100): -167.92, Success (last 100): 0.18, Avg Sq Adv (last 100): 1.00\n"
     ]
    },
    {
     "name": "stderr",
     "output_type": "stream",
     "text": [
      "Training REINFORCE w/ Baseline:  73%|███████▎  | 292000/400000 [5:17:44<2:50:49, 10.54it/s]"
     ]
    },
    {
     "name": "stdout",
     "output_type": "stream",
     "text": [
      "Overall Ep 692000, Avg Rew (last 100): -164.22, Success (last 100): 0.20, Avg Sq Adv (last 100): 1.00\n"
     ]
    },
    {
     "name": "stderr",
     "output_type": "stream",
     "text": [
      "Training REINFORCE w/ Baseline:  74%|███████▍  | 296001/400000 [5:22:01<2:43:48, 10.58it/s]"
     ]
    },
    {
     "name": "stdout",
     "output_type": "stream",
     "text": [
      "Overall Ep 696000, Avg Rew (last 100): -166.85, Success (last 100): 0.18, Avg Sq Adv (last 100): 1.00\n"
     ]
    },
    {
     "name": "stderr",
     "output_type": "stream",
     "text": [
      "Training REINFORCE w/ Baseline:  75%|███████▌  | 300001/400000 [5:26:23<2:36:03, 10.68it/s]"
     ]
    },
    {
     "name": "stdout",
     "output_type": "stream",
     "text": [
      "Overall Ep 700000, Avg Rew (last 100): -158.83, Success (last 100): 0.23, Avg Sq Adv (last 100): 1.00\n"
     ]
    },
    {
     "name": "stderr",
     "output_type": "stream",
     "text": [
      "Training REINFORCE w/ Baseline:  76%|███████▌  | 304000/400000 [5:30:42<2:15:24, 11.82it/s]"
     ]
    },
    {
     "name": "stdout",
     "output_type": "stream",
     "text": [
      "Overall Ep 704000, Avg Rew (last 100): -153.49, Success (last 100): 0.25, Avg Sq Adv (last 100): 1.00\n"
     ]
    },
    {
     "name": "stderr",
     "output_type": "stream",
     "text": [
      "Training REINFORCE w/ Baseline:  77%|███████▋  | 308001/400000 [5:35:00<2:26:39, 10.46it/s]"
     ]
    },
    {
     "name": "stdout",
     "output_type": "stream",
     "text": [
      "Overall Ep 708000, Avg Rew (last 100): -159.80, Success (last 100): 0.22, Avg Sq Adv (last 100): 1.00\n"
     ]
    },
    {
     "name": "stderr",
     "output_type": "stream",
     "text": [
      "Training REINFORCE w/ Baseline:  78%|███████▊  | 312003/400000 [5:39:19<1:40:19, 14.62it/s]"
     ]
    },
    {
     "name": "stdout",
     "output_type": "stream",
     "text": [
      "Overall Ep 712000, Avg Rew (last 100): -173.11, Success (last 100): 0.15, Avg Sq Adv (last 100): 1.00\n"
     ]
    },
    {
     "name": "stderr",
     "output_type": "stream",
     "text": [
      "Training REINFORCE w/ Baseline:  79%|███████▉  | 316003/400000 [5:43:35<46:25, 30.16it/s]  "
     ]
    },
    {
     "name": "stdout",
     "output_type": "stream",
     "text": [
      "Overall Ep 716000, Avg Rew (last 100): -147.31, Success (last 100): 0.29, Avg Sq Adv (last 100): 1.00\n"
     ]
    },
    {
     "name": "stderr",
     "output_type": "stream",
     "text": [
      "Training REINFORCE w/ Baseline:  80%|████████  | 320001/400000 [5:47:54<1:42:53, 12.96it/s]"
     ]
    },
    {
     "name": "stdout",
     "output_type": "stream",
     "text": [
      "Overall Ep 720000, Avg Rew (last 100): -158.78, Success (last 100): 0.22, Avg Sq Adv (last 100): 1.00\n"
     ]
    },
    {
     "name": "stderr",
     "output_type": "stream",
     "text": [
      "Training REINFORCE w/ Baseline:  81%|████████  | 324000/400000 [5:52:18<1:44:00, 12.18it/s]"
     ]
    },
    {
     "name": "stdout",
     "output_type": "stream",
     "text": [
      "Overall Ep 724000, Avg Rew (last 100): -166.67, Success (last 100): 0.18, Avg Sq Adv (last 100): 1.00\n"
     ]
    },
    {
     "name": "stderr",
     "output_type": "stream",
     "text": [
      "Training REINFORCE w/ Baseline:  82%|████████▏ | 328003/400000 [5:56:35<52:59, 22.65it/s]  "
     ]
    },
    {
     "name": "stdout",
     "output_type": "stream",
     "text": [
      "Overall Ep 728000, Avg Rew (last 100): -174.09, Success (last 100): 0.15, Avg Sq Adv (last 100): 1.00\n"
     ]
    },
    {
     "name": "stderr",
     "output_type": "stream",
     "text": [
      "Training REINFORCE w/ Baseline:  83%|████████▎ | 332002/400000 [6:00:55<46:44, 24.24it/s]  "
     ]
    },
    {
     "name": "stdout",
     "output_type": "stream",
     "text": [
      "Overall Ep 732000, Avg Rew (last 100): -155.07, Success (last 100): 0.25, Avg Sq Adv (last 100): 1.00\n"
     ]
    },
    {
     "name": "stderr",
     "output_type": "stream",
     "text": [
      "Training REINFORCE w/ Baseline:  84%|████████▍ | 336002/400000 [6:05:14<40:00, 26.66it/s]  "
     ]
    },
    {
     "name": "stdout",
     "output_type": "stream",
     "text": [
      "Overall Ep 736000, Avg Rew (last 100): -155.07, Success (last 100): 0.24, Avg Sq Adv (last 100): 1.00\n"
     ]
    },
    {
     "name": "stderr",
     "output_type": "stream",
     "text": [
      "Training REINFORCE w/ Baseline:  85%|████████▌ | 340003/400000 [6:09:32<45:10, 22.13it/s]  "
     ]
    },
    {
     "name": "stdout",
     "output_type": "stream",
     "text": [
      "Overall Ep 740000, Avg Rew (last 100): -181.11, Success (last 100): 0.11, Avg Sq Adv (last 100): 1.00\n"
     ]
    },
    {
     "name": "stderr",
     "output_type": "stream",
     "text": [
      "Training REINFORCE w/ Baseline:  86%|████████▌ | 344000/400000 [6:13:52<1:24:09, 11.09it/s]"
     ]
    },
    {
     "name": "stdout",
     "output_type": "stream",
     "text": [
      "Overall Ep 744000, Avg Rew (last 100): -170.14, Success (last 100): 0.16, Avg Sq Adv (last 100): 1.00\n"
     ]
    },
    {
     "name": "stderr",
     "output_type": "stream",
     "text": [
      "Training REINFORCE w/ Baseline:  87%|████████▋ | 348006/400000 [6:18:15<29:16, 29.59it/s]  "
     ]
    },
    {
     "name": "stdout",
     "output_type": "stream",
     "text": [
      "Overall Ep 748000, Avg Rew (last 100): -164.65, Success (last 100): 0.20, Avg Sq Adv (last 100): 1.00\n"
     ]
    },
    {
     "name": "stderr",
     "output_type": "stream",
     "text": [
      "Training REINFORCE w/ Baseline:  88%|████████▊ | 352006/400000 [6:22:34<30:00, 26.66it/s]  "
     ]
    },
    {
     "name": "stdout",
     "output_type": "stream",
     "text": [
      "Overall Ep 752000, Avg Rew (last 100): -169.76, Success (last 100): 0.17, Avg Sq Adv (last 100): 1.00\n"
     ]
    },
    {
     "name": "stderr",
     "output_type": "stream",
     "text": [
      "Training REINFORCE w/ Baseline:  89%|████████▉ | 356000/400000 [6:26:54<56:11, 13.05it/s]  "
     ]
    },
    {
     "name": "stdout",
     "output_type": "stream",
     "text": [
      "Overall Ep 756000, Avg Rew (last 100): -167.20, Success (last 100): 0.18, Avg Sq Adv (last 100): 1.00\n"
     ]
    },
    {
     "name": "stderr",
     "output_type": "stream",
     "text": [
      "Training REINFORCE w/ Baseline:  90%|█████████ | 360004/400000 [6:31:19<29:23, 22.68it/s]  "
     ]
    },
    {
     "name": "stdout",
     "output_type": "stream",
     "text": [
      "Overall Ep 760000, Avg Rew (last 100): -160.30, Success (last 100): 0.21, Avg Sq Adv (last 100): 1.00\n"
     ]
    },
    {
     "name": "stderr",
     "output_type": "stream",
     "text": [
      "Training REINFORCE w/ Baseline:  91%|█████████ | 364005/400000 [6:35:37<20:14, 29.63it/s]  "
     ]
    },
    {
     "name": "stdout",
     "output_type": "stream",
     "text": [
      "Overall Ep 764000, Avg Rew (last 100): -156.23, Success (last 100): 0.23, Avg Sq Adv (last 100): 1.00\n"
     ]
    },
    {
     "name": "stderr",
     "output_type": "stream",
     "text": [
      "Training REINFORCE w/ Baseline:  92%|█████████▏| 368002/400000 [6:39:58<52:46, 10.10it/s]  "
     ]
    },
    {
     "name": "stdout",
     "output_type": "stream",
     "text": [
      "Overall Ep 768000, Avg Rew (last 100): -171.56, Success (last 100): 0.16, Avg Sq Adv (last 100): 1.00\n"
     ]
    },
    {
     "name": "stderr",
     "output_type": "stream",
     "text": [
      "Training REINFORCE w/ Baseline:  93%|█████████▎| 372001/400000 [6:44:15<33:02, 14.13it/s]  "
     ]
    },
    {
     "name": "stdout",
     "output_type": "stream",
     "text": [
      "Overall Ep 772000, Avg Rew (last 100): -177.21, Success (last 100): 0.13, Avg Sq Adv (last 100): 1.00\n"
     ]
    },
    {
     "name": "stderr",
     "output_type": "stream",
     "text": [
      "Training REINFORCE w/ Baseline:  94%|█████████▍| 376002/400000 [6:48:34<35:07, 11.39it/s]"
     ]
    },
    {
     "name": "stdout",
     "output_type": "stream",
     "text": [
      "Overall Ep 776000, Avg Rew (last 100): -176.12, Success (last 100): 0.13, Avg Sq Adv (last 100): 1.00\n"
     ]
    },
    {
     "name": "stderr",
     "output_type": "stream",
     "text": [
      "Training REINFORCE w/ Baseline:  95%|█████████▌| 380004/400000 [6:52:52<15:09, 21.99it/s]"
     ]
    },
    {
     "name": "stdout",
     "output_type": "stream",
     "text": [
      "Overall Ep 780000, Avg Rew (last 100): -161.28, Success (last 100): 0.21, Avg Sq Adv (last 100): 1.00\n"
     ]
    },
    {
     "name": "stderr",
     "output_type": "stream",
     "text": [
      "Training REINFORCE w/ Baseline:  96%|█████████▌| 384004/400000 [6:57:10<11:31, 23.13it/s]"
     ]
    },
    {
     "name": "stdout",
     "output_type": "stream",
     "text": [
      "Overall Ep 784000, Avg Rew (last 100): -172.69, Success (last 100): 0.16, Avg Sq Adv (last 100): 1.00\n"
     ]
    },
    {
     "name": "stderr",
     "output_type": "stream",
     "text": [
      "Training REINFORCE w/ Baseline:  97%|█████████▋| 388002/400000 [7:01:31<17:33, 11.38it/s]"
     ]
    },
    {
     "name": "stdout",
     "output_type": "stream",
     "text": [
      "Overall Ep 788000, Avg Rew (last 100): -163.83, Success (last 100): 0.20, Avg Sq Adv (last 100): 1.00\n"
     ]
    },
    {
     "name": "stderr",
     "output_type": "stream",
     "text": [
      "Training REINFORCE w/ Baseline:  98%|█████████▊| 392000/400000 [7:06:27<11:14, 11.86it/s]"
     ]
    },
    {
     "name": "stdout",
     "output_type": "stream",
     "text": [
      "Overall Ep 792000, Avg Rew (last 100): -165.89, Success (last 100): 0.19, Avg Sq Adv (last 100): 1.00\n"
     ]
    },
    {
     "name": "stderr",
     "output_type": "stream",
     "text": [
      "Training REINFORCE w/ Baseline:  99%|█████████▉| 396001/400000 [7:13:11<07:02,  9.46it/s]"
     ]
    },
    {
     "name": "stdout",
     "output_type": "stream",
     "text": [
      "Overall Ep 796000, Avg Rew (last 100): -175.42, Success (last 100): 0.14, Avg Sq Adv (last 100): 1.00\n"
     ]
    },
    {
     "name": "stderr",
     "output_type": "stream",
     "text": [
      "Training REINFORCE w/ Baseline: 100%|██████████| 400000/400000 [7:18:25<00:00, 15.21it/s]"
     ]
    },
    {
     "name": "stdout",
     "output_type": "stream",
     "text": [
      "Overall Ep 800000, Avg Rew (last 100): -158.67, Success (last 100): 0.22, Avg Sq Adv (last 100): 1.00\n"
     ]
    },
    {
     "name": "stderr",
     "output_type": "stream",
     "text": [
      "\n"
     ]
    },
    {
     "name": "stdout",
     "output_type": "stream",
     "text": [
      "REINFORCE w/ Baseline Training Time for this run: 26306.08 seconds\n",
      "Saved REINFORCE weights and logs to files starting with: taxi_reinforce_linear_800k\n"
     ]
    },
    {
     "data": {
      "image/png": "[encoded data removed]",
      "text/plain": [
       "<Figure size 1296x720 with 4 Axes>"
      ]
     },
     "metadata": {
      "needs_background": "light"
     },
     "output_type": "display_data"
    },
    {
     "name": "stdout",
     "output_type": "stream",
     "text": [
      "\n",
      "--- Evaluating Final REINFORCE Policy for 1000 episodes ---\n"
     ]
    },
    {
     "name": "stderr",
     "output_type": "stream",
     "text": [
      "Evaluating REINFORCE Policy: 100%|██████████| 1000/1000 [00:03<00:00, 282.96it/s]\n"
     ]
    },
    {
     "name": "stdout",
     "output_type": "stream",
     "text": [
      "--- REINFORCE Policy Evaluation Results ---\n",
      "Avg Reward: -200.00 +/- 0.00\n",
      "Avg Steps: 200.00 +/- 0.00\n",
      "Success Rate: 0.00%\n",
      "\n",
      "--- REINFORCE w/ Baseline Metrics Summary (after current run) ---\n",
      "Algorithm: REINFORCE w/ Baseline (Linear FA)\n",
      "Training Time (s) for this run: 26306.08\n",
      "Total Episodes Trained: 800000\n",
      "Hyperparameters: alpha_actor=5e-05, alpha_critic=0.001, gamma=0.99, total_episodes_trained=800000\n",
      "Avg Reward per Ep (Learning Curve End): -158.67\n",
      "Steps per Ep (Learning Curve End): 161.31\n",
      "Success Rate (Learning Curve End %): 22.00\n",
      "Avg Sq Advantage (Learning Curve End): 1.00\n",
      "Convergence Speed (Qualitative): Observe from plot trends\n",
      "Final Policy - Avg Reward: -200.00 ± 0.00\n",
      "Final Policy - Avg Steps: 200.00 ± 0.00\n",
      "Final Policy - Success Rate (%): 0.00\n",
      "\n",
      "--- Simulating one episode with the final REINFORCE policy ---\n",
      "+---------+\n",
      "|R: | : :G|\n",
      "| :T| : : |\n",
      "| : : : : |\n",
      "| | : | : |\n",
      "|Y| : |B: |\n",
      "+---------+\n",
      "Step: 0, State: 126 (1,1,G (Green),Y (Yellow))\n",
      "Prefs: ['1.72', '1.45', '2.06', '-0.89', '-1.95', '-2.39']\n",
      "Probs: ['0.30', '0.23', '0.43', '0.02', '0.01', '0.01']\n",
      "Chosen: East  →\n",
      "Reward: -1, Total: -1\n",
      "------------------------------\n",
      "+---------+\n",
      "|R: | : :G|\n",
      "| :T| : : |\n",
      "| : : : : |\n",
      "| | : | : |\n",
      "|Y| : |B: |\n",
      "+---------+\n",
      "Step: 1, State: 126 (1,1,G (Green),Y (Yellow))\n",
      "Prefs: ['1.72', '1.45', '2.06', '-0.89', '-1.95', '-2.39']\n",
      "Probs: ['0.30', '0.23', '0.43', '0.02', '0.01', '0.01']\n",
      "Chosen: East  →\n",
      "Reward: -1, Total: -2\n",
      "------------------------------\n",
      "+---------+\n",
      "|R: | : :G|\n",
      "| :T| : : |\n",
      "| : : : : |\n",
      "| | : | : |\n",
      "|Y| : |B: |\n",
      "+---------+\n",
      "Step: 2, State: 126 (1,1,G (Green),Y (Yellow))\n",
      "Prefs: ['1.72', '1.45', '2.06', '-0.89', '-1.95', '-2.39']\n",
      "Probs: ['0.30', '0.23', '0.43', '0.02', '0.01', '0.01']\n",
      "Chosen: East  →\n",
      "Reward: -1, Total: -3\n",
      "------------------------------\n",
      "+---------+\n",
      "|R: | : :G|\n",
      "| :T| : : |\n",
      "| : : : : |\n",
      "| | : | : |\n",
      "|Y| : |B: |\n",
      "+---------+\n",
      "Step: 3, State: 126 (1,1,G (Green),Y (Yellow))\n",
      "Prefs: ['1.72', '1.45', '2.06', '-0.89', '-1.95', '-2.39']\n",
      "Probs: ['0.30', '0.23', '0.43', '0.02', '0.01', '0.01']\n",
      "Chosen: East  →\n",
      "Reward: -1, Total: -4\n",
      "------------------------------\n",
      "+---------+\n",
      "|R: | : :G|\n",
      "| :T| : : |\n",
      "| : : : : |\n",
      "| | : | : |\n",
      "|Y| : |B: |\n",
      "+---------+\n",
      "Step: 4, State: 126 (1,1,G (Green),Y (Yellow))\n",
      "Prefs: ['1.72', '1.45', '2.06', '-0.89', '-1.95', '-2.39']\n",
      "Probs: ['0.30', '0.23', '0.43', '0.02', '0.01', '0.01']\n",
      "Chosen: East  →\n",
      "Reward: -1, Total: -5\n",
      "------------------------------\n",
      "+---------+\n",
      "|R: | : :G|\n",
      "| :T| : : |\n",
      "| : : : : |\n",
      "| | : | : |\n",
      "|Y| : |B: |\n",
      "+---------+\n",
      "Step: 5, State: 126 (1,1,G (Green),Y (Yellow))\n",
      "Prefs: ['1.72', '1.45', '2.06', '-0.89', '-1.95', '-2.39']\n",
      "Probs: ['0.30', '0.23', '0.43', '0.02', '0.01', '0.01']\n",
      "Chosen: East  →\n",
      "Reward: -1, Total: -6\n",
      "------------------------------\n",
      "+---------+\n",
      "|R: | : :G|\n",
      "| :T| : : |\n",
      "| : : : : |\n",
      "| | : | : |\n",
      "|Y| : |B: |\n",
      "+---------+\n",
      "Step: 6, State: 126 (1,1,G (Green),Y (Yellow))\n",
      "Prefs: ['1.72', '1.45', '2.06', '-0.89', '-1.95', '-2.39']\n",
      "Probs: ['0.30', '0.23', '0.43', '0.02', '0.01', '0.01']\n",
      "Chosen: East  →\n",
      "Reward: -1, Total: -7\n",
      "------------------------------\n",
      "+---------+\n",
      "|R: | : :G|\n",
      "| :T| : : |\n",
      "| : : : : |\n",
      "| | : | : |\n",
      "|Y| : |B: |\n",
      "+---------+\n",
      "Step: 7, State: 126 (1,1,G (Green),Y (Yellow))\n",
      "Prefs: ['1.72', '1.45', '2.06', '-0.89', '-1.95', '-2.39']\n",
      "Probs: ['0.30', '0.23', '0.43', '0.02', '0.01', '0.01']\n",
      "Chosen: East  →\n",
      "Reward: -1, Total: -8\n",
      "------------------------------\n",
      "+---------+\n",
      "|R: | : :G|\n",
      "| :T| : : |\n",
      "| : : : : |\n",
      "| | : | : |\n",
      "|Y| : |B: |\n",
      "+---------+\n",
      "Step: 8, State: 126 (1,1,G (Green),Y (Yellow))\n",
      "Prefs: ['1.72', '1.45', '2.06', '-0.89', '-1.95', '-2.39']\n",
      "Probs: ['0.30', '0.23', '0.43', '0.02', '0.01', '0.01']\n",
      "Chosen: East  →\n",
      "Reward: -1, Total: -9\n",
      "------------------------------\n",
      "+---------+\n",
      "|R: | : :G|\n",
      "| :T| : : |\n",
      "| : : : : |\n",
      "| | : | : |\n",
      "|Y| : |B: |\n",
      "+---------+\n",
      "Step: 9, State: 126 (1,1,G (Green),Y (Yellow))\n",
      "Prefs: ['1.72', '1.45', '2.06', '-0.89', '-1.95', '-2.39']\n",
      "Probs: ['0.30', '0.23', '0.43', '0.02', '0.01', '0.01']\n",
      "Chosen: East  →\n",
      "Reward: -1, Total: -10\n",
      "------------------------------\n",
      "+---------+\n",
      "|R: | : :G|\n",
      "| :T| : : |\n",
      "| : : : : |\n",
      "| | : | : |\n",
      "|Y| : |B: |\n",
      "+---------+\n",
      "Step: 10, State: 126 (1,1,G (Green),Y (Yellow))\n",
      "Prefs: ['1.72', '1.45', '2.06', '-0.89', '-1.95', '-2.39']\n",
      "Probs: ['0.30', '0.23', '0.43', '0.02', '0.01', '0.01']\n",
      "Chosen: East  →\n",
      "Reward: -1, Total: -11\n",
      "------------------------------\n",
      "+---------+\n",
      "|R: | : :G|\n",
      "| :T| : : |\n",
      "| : : : : |\n",
      "| | : | : |\n",
      "|Y| : |B: |\n",
      "+---------+\n",
      "Step: 11, State: 126 (1,1,G (Green),Y (Yellow))\n",
      "Prefs: ['1.72', '1.45', '2.06', '-0.89', '-1.95', '-2.39']\n",
      "Probs: ['0.30', '0.23', '0.43', '0.02', '0.01', '0.01']\n",
      "Chosen: East  →\n",
      "Reward: -1, Total: -12\n",
      "------------------------------\n",
      "+---------+\n",
      "|R: | : :G|\n",
      "| :T| : : |\n",
      "| : : : : |\n",
      "| | : | : |\n",
      "|Y| : |B: |\n",
      "+---------+\n",
      "Step: 12, State: 126 (1,1,G (Green),Y (Yellow))\n",
      "Prefs: ['1.72', '1.45', '2.06', '-0.89', '-1.95', '-2.39']\n",
      "Probs: ['0.30', '0.23', '0.43', '0.02', '0.01', '0.01']\n",
      "Chosen: East  →\n",
      "Reward: -1, Total: -13\n",
      "------------------------------\n",
      "+---------+\n",
      "|R: | : :G|\n",
      "| :T| : : |\n",
      "| : : : : |\n",
      "| | : | : |\n",
      "|Y| : |B: |\n",
      "+---------+\n",
      "Step: 13, State: 126 (1,1,G (Green),Y (Yellow))\n",
      "Prefs: ['1.72', '1.45', '2.06', '-0.89', '-1.95', '-2.39']\n",
      "Probs: ['0.30', '0.23', '0.43', '0.02', '0.01', '0.01']\n",
      "Chosen: East  →\n",
      "Reward: -1, Total: -14\n",
      "------------------------------\n",
      "+---------+\n",
      "|R: | : :G|\n",
      "| :T| : : |\n",
      "| : : : : |\n",
      "| | : | : |\n",
      "|Y| : |B: |\n",
      "+---------+\n",
      "Step: 14, State: 126 (1,1,G (Green),Y (Yellow))\n",
      "Prefs: ['1.72', '1.45', '2.06', '-0.89', '-1.95', '-2.39']\n",
      "Probs: ['0.30', '0.23', '0.43', '0.02', '0.01', '0.01']\n",
      "Chosen: East  →\n",
      "Reward: -1, Total: -15\n",
      "------------------------------\n",
      "+---------+\n",
      "|R: | : :G|\n",
      "| :T| : : |\n",
      "| : : : : |\n",
      "| | : | : |\n",
      "|Y| : |B: |\n",
      "+---------+\n",
      "Step: 15, State: 126 (1,1,G (Green),Y (Yellow))\n",
      "Prefs: ['1.72', '1.45', '2.06', '-0.89', '-1.95', '-2.39']\n",
      "Probs: ['0.30', '0.23', '0.43', '0.02', '0.01', '0.01']\n",
      "Chosen: East  →\n",
      "Reward: -1, Total: -16\n",
      "------------------------------\n",
      "+---------+\n",
      "|R: | : :G|\n",
      "| :T| : : |\n",
      "| : : : : |\n",
      "| | : | : |\n",
      "|Y| : |B: |\n",
      "+---------+\n",
      "Step: 16, State: 126 (1,1,G (Green),Y (Yellow))\n",
      "Prefs: ['1.72', '1.45', '2.06', '-0.89', '-1.95', '-2.39']\n",
      "Probs: ['0.30', '0.23', '0.43', '0.02', '0.01', '0.01']\n",
      "Chosen: East  →\n",
      "Reward: -1, Total: -17\n",
      "------------------------------\n",
      "+---------+\n",
      "|R: | : :G|\n",
      "| :T| : : |\n",
      "| : : : : |\n",
      "| | : | : |\n",
      "|Y| : |B: |\n",
      "+---------+\n",
      "Step: 17, State: 126 (1,1,G (Green),Y (Yellow))\n",
      "Prefs: ['1.72', '1.45', '2.06', '-0.89', '-1.95', '-2.39']\n",
      "Probs: ['0.30', '0.23', '0.43', '0.02', '0.01', '0.01']\n",
      "Chosen: East  →\n",
      "Reward: -1, Total: -18\n",
      "------------------------------\n",
      "+---------+\n",
      "|R: | : :G|\n",
      "| :T| : : |\n",
      "| : : : : |\n",
      "| | : | : |\n",
      "|Y| : |B: |\n",
      "+---------+\n",
      "Step: 18, State: 126 (1,1,G (Green),Y (Yellow))\n",
      "Prefs: ['1.72', '1.45', '2.06', '-0.89', '-1.95', '-2.39']\n",
      "Probs: ['0.30', '0.23', '0.43', '0.02', '0.01', '0.01']\n",
      "Chosen: East  →\n",
      "Reward: -1, Total: -19\n",
      "------------------------------\n",
      "+---------+\n",
      "|R: | : :G|\n",
      "| :T| : : |\n",
      "| : : : : |\n",
      "| | : | : |\n",
      "|Y| : |B: |\n",
      "+---------+\n",
      "Step: 19, State: 126 (1,1,G (Green),Y (Yellow))\n",
      "Prefs: ['1.72', '1.45', '2.06', '-0.89', '-1.95', '-2.39']\n",
      "Probs: ['0.30', '0.23', '0.43', '0.02', '0.01', '0.01']\n",
      "Chosen: East  →\n",
      "Reward: -1, Total: -20\n",
      "------------------------------\n",
      "+---------+\n",
      "|R: | : :G|\n",
      "| :T| : : |\n",
      "| : : : : |\n",
      "| | : | : |\n",
      "|Y| : |B: |\n",
      "+---------+\n",
      "Step: 20, State: 126 (1,1,G (Green),Y (Yellow))\n",
      "Prefs: ['1.72', '1.45', '2.06', '-0.89', '-1.95', '-2.39']\n",
      "Probs: ['0.30', '0.23', '0.43', '0.02', '0.01', '0.01']\n",
      "Chosen: East  →\n",
      "Reward: -1, Total: -21\n",
      "------------------------------\n",
      "+---------+\n",
      "|R: | : :G|\n",
      "| :T| : : |\n",
      "| : : : : |\n",
      "| | : | : |\n",
      "|Y| : |B: |\n",
      "+---------+\n",
      "Step: 21, State: 126 (1,1,G (Green),Y (Yellow))\n",
      "Prefs: ['1.72', '1.45', '2.06', '-0.89', '-1.95', '-2.39']\n",
      "Probs: ['0.30', '0.23', '0.43', '0.02', '0.01', '0.01']\n",
      "Chosen: East  →\n",
      "Reward: -1, Total: -22\n",
      "------------------------------\n",
      "+---------+\n",
      "|R: | : :G|\n",
      "| :T| : : |\n",
      "| : : : : |\n",
      "| | : | : |\n",
      "|Y| : |B: |\n",
      "+---------+\n",
      "Step: 22, State: 126 (1,1,G (Green),Y (Yellow))\n",
      "Prefs: ['1.72', '1.45', '2.06', '-0.89', '-1.95', '-2.39']\n",
      "Probs: ['0.30', '0.23', '0.43', '0.02', '0.01', '0.01']\n",
      "Chosen: East  →\n",
      "Reward: -1, Total: -23\n",
      "------------------------------\n",
      "+---------+\n",
      "|R: | : :G|\n",
      "| :T| : : |\n",
      "| : : : : |\n",
      "| | : | : |\n",
      "|Y| : |B: |\n",
      "+---------+\n",
      "Step: 23, State: 126 (1,1,G (Green),Y (Yellow))\n",
      "Prefs: ['1.72', '1.45', '2.06', '-0.89', '-1.95', '-2.39']\n",
      "Probs: ['0.30', '0.23', '0.43', '0.02', '0.01', '0.01']\n",
      "Chosen: East  →\n",
      "Reward: -1, Total: -24\n",
      "------------------------------\n"
     ]
    },
    {
     "name": "stdout",
     "output_type": "stream",
     "text": [
      "+---------+\n",
      "|R: | : :G|\n",
      "| :T| : : |\n",
      "| : : : : |\n",
      "| | : | : |\n",
      "|Y| : |B: |\n",
      "+---------+\n",
      "Step: 24, State: 126 (1,1,G (Green),Y (Yellow))\n",
      "Prefs: ['1.72', '1.45', '2.06', '-0.89', '-1.95', '-2.39']\n",
      "Probs: ['0.30', '0.23', '0.43', '0.02', '0.01', '0.01']\n",
      "Chosen: East  →\n",
      "Reward: -1, Total: -25\n",
      "------------------------------\n",
      "+---------+\n",
      "|R: | : :G|\n",
      "| :T| : : |\n",
      "| : : : : |\n",
      "| | : | : |\n",
      "|Y| : |B: |\n",
      "+---------+\n",
      "Step: 25, State: 126 (1,1,G (Green),Y (Yellow))\n",
      "Prefs: ['1.72', '1.45', '2.06', '-0.89', '-1.95', '-2.39']\n",
      "Probs: ['0.30', '0.23', '0.43', '0.02', '0.01', '0.01']\n",
      "Chosen: East  →\n",
      "Reward: -1, Total: -26\n",
      "------------------------------\n",
      "+---------+\n",
      "|R: | : :G|\n",
      "| :T| : : |\n",
      "| : : : : |\n",
      "| | : | : |\n",
      "|Y| : |B: |\n",
      "+---------+\n",
      "Step: 26, State: 126 (1,1,G (Green),Y (Yellow))\n",
      "Prefs: ['1.72', '1.45', '2.06', '-0.89', '-1.95', '-2.39']\n",
      "Probs: ['0.30', '0.23', '0.43', '0.02', '0.01', '0.01']\n",
      "Chosen: East  →\n",
      "Reward: -1, Total: -27\n",
      "------------------------------\n",
      "+---------+\n",
      "|R: | : :G|\n",
      "| :T| : : |\n",
      "| : : : : |\n",
      "| | : | : |\n",
      "|Y| : |B: |\n",
      "+---------+\n",
      "Step: 27, State: 126 (1,1,G (Green),Y (Yellow))\n",
      "Prefs: ['1.72', '1.45', '2.06', '-0.89', '-1.95', '-2.39']\n",
      "Probs: ['0.30', '0.23', '0.43', '0.02', '0.01', '0.01']\n",
      "Chosen: East  →\n",
      "Reward: -1, Total: -28\n",
      "------------------------------\n",
      "+---------+\n",
      "|R: | : :G|\n",
      "| :T| : : |\n",
      "| : : : : |\n",
      "| | : | : |\n",
      "|Y| : |B: |\n",
      "+---------+\n",
      "Step: 28, State: 126 (1,1,G (Green),Y (Yellow))\n",
      "Prefs: ['1.72', '1.45', '2.06', '-0.89', '-1.95', '-2.39']\n",
      "Probs: ['0.30', '0.23', '0.43', '0.02', '0.01', '0.01']\n",
      "Chosen: East  →\n",
      "Reward: -1, Total: -29\n",
      "------------------------------\n",
      "+---------+\n",
      "|R: | : :G|\n",
      "| :T| : : |\n",
      "| : : : : |\n",
      "| | : | : |\n",
      "|Y| : |B: |\n",
      "+---------+\n",
      "Step: 29, State: 126 (1,1,G (Green),Y (Yellow))\n",
      "Prefs: ['1.72', '1.45', '2.06', '-0.89', '-1.95', '-2.39']\n",
      "Probs: ['0.30', '0.23', '0.43', '0.02', '0.01', '0.01']\n",
      "Chosen: East  →\n",
      "Reward: -1, Total: -30\n",
      "------------------------------\n",
      "+---------+\n",
      "|R: | : :G|\n",
      "| :T| : : |\n",
      "| : : : : |\n",
      "| | : | : |\n",
      "|Y| : |B: |\n",
      "+---------+\n",
      "Step: 30, State: 126 (1,1,G (Green),Y (Yellow))\n",
      "Prefs: ['1.72', '1.45', '2.06', '-0.89', '-1.95', '-2.39']\n",
      "Probs: ['0.30', '0.23', '0.43', '0.02', '0.01', '0.01']\n",
      "Chosen: East  →\n",
      "Reward: -1, Total: -31\n",
      "------------------------------\n",
      "+---------+\n",
      "|R: | : :G|\n",
      "| :T| : : |\n",
      "| : : : : |\n",
      "| | : | : |\n",
      "|Y| : |B: |\n",
      "+---------+\n",
      "Step: 31, State: 126 (1,1,G (Green),Y (Yellow))\n",
      "Prefs: ['1.72', '1.45', '2.06', '-0.89', '-1.95', '-2.39']\n",
      "Probs: ['0.30', '0.23', '0.43', '0.02', '0.01', '0.01']\n",
      "Chosen: East  →\n",
      "Reward: -1, Total: -32\n",
      "------------------------------\n",
      "+---------+\n",
      "|R: | : :G|\n",
      "| :T| : : |\n",
      "| : : : : |\n",
      "| | : | : |\n",
      "|Y| : |B: |\n",
      "+---------+\n",
      "Step: 32, State: 126 (1,1,G (Green),Y (Yellow))\n",
      "Prefs: ['1.72', '1.45', '2.06', '-0.89', '-1.95', '-2.39']\n",
      "Probs: ['0.30', '0.23', '0.43', '0.02', '0.01', '0.01']\n",
      "Chosen: East  →\n",
      "Reward: -1, Total: -33\n",
      "------------------------------\n",
      "+---------+\n",
      "|R: | : :G|\n",
      "| :T| : : |\n",
      "| : : : : |\n",
      "| | : | : |\n",
      "|Y| : |B: |\n",
      "+---------+\n",
      "Step: 33, State: 126 (1,1,G (Green),Y (Yellow))\n",
      "Prefs: ['1.72', '1.45', '2.06', '-0.89', '-1.95', '-2.39']\n",
      "Probs: ['0.30', '0.23', '0.43', '0.02', '0.01', '0.01']\n",
      "Chosen: East  →\n",
      "Reward: -1, Total: -34\n",
      "------------------------------\n",
      "+---------+\n",
      "|R: | : :G|\n",
      "| :T| : : |\n",
      "| : : : : |\n",
      "| | : | : |\n",
      "|Y| : |B: |\n",
      "+---------+\n",
      "Step: 34, State: 126 (1,1,G (Green),Y (Yellow))\n",
      "Prefs: ['1.72', '1.45', '2.06', '-0.89', '-1.95', '-2.39']\n",
      "Probs: ['0.30', '0.23', '0.43', '0.02', '0.01', '0.01']\n",
      "Chosen: East  →\n",
      "Reward: -1, Total: -35\n",
      "------------------------------\n",
      "+---------+\n",
      "|R: | : :G|\n",
      "| :T| : : |\n",
      "| : : : : |\n",
      "| | : | : |\n",
      "|Y| : |B: |\n",
      "+---------+\n",
      "Step: 35, State: 126 (1,1,G (Green),Y (Yellow))\n",
      "Prefs: ['1.72', '1.45', '2.06', '-0.89', '-1.95', '-2.39']\n",
      "Probs: ['0.30', '0.23', '0.43', '0.02', '0.01', '0.01']\n",
      "Chosen: East  →\n",
      "Reward: -1, Total: -36\n",
      "------------------------------\n",
      "+---------+\n",
      "|R: | : :G|\n",
      "| :T| : : |\n",
      "| : : : : |\n",
      "| | : | : |\n",
      "|Y| : |B: |\n",
      "+---------+\n",
      "Step: 36, State: 126 (1,1,G (Green),Y (Yellow))\n",
      "Prefs: ['1.72', '1.45', '2.06', '-0.89', '-1.95', '-2.39']\n",
      "Probs: ['0.30', '0.23', '0.43', '0.02', '0.01', '0.01']\n",
      "Chosen: East  →\n",
      "Reward: -1, Total: -37\n",
      "------------------------------\n",
      "+---------+\n",
      "|R: | : :G|\n",
      "| :T| : : |\n",
      "| : : : : |\n",
      "| | : | : |\n",
      "|Y| : |B: |\n",
      "+---------+\n",
      "Step: 37, State: 126 (1,1,G (Green),Y (Yellow))\n",
      "Prefs: ['1.72', '1.45', '2.06', '-0.89', '-1.95', '-2.39']\n",
      "Probs: ['0.30', '0.23', '0.43', '0.02', '0.01', '0.01']\n",
      "Chosen: East  →\n",
      "Reward: -1, Total: -38\n",
      "------------------------------\n",
      "+---------+\n",
      "|R: | : :G|\n",
      "| :T| : : |\n",
      "| : : : : |\n",
      "| | : | : |\n",
      "|Y| : |B: |\n",
      "+---------+\n",
      "Step: 38, State: 126 (1,1,G (Green),Y (Yellow))\n",
      "Prefs: ['1.72', '1.45', '2.06', '-0.89', '-1.95', '-2.39']\n",
      "Probs: ['0.30', '0.23', '0.43', '0.02', '0.01', '0.01']\n",
      "Chosen: East  →\n",
      "Reward: -1, Total: -39\n",
      "------------------------------\n",
      "+---------+\n",
      "|R: | : :G|\n",
      "| :T| : : |\n",
      "| : : : : |\n",
      "| | : | : |\n",
      "|Y| : |B: |\n",
      "+---------+\n",
      "Step: 39, State: 126 (1,1,G (Green),Y (Yellow))\n",
      "Prefs: ['1.72', '1.45', '2.06', '-0.89', '-1.95', '-2.39']\n",
      "Probs: ['0.30', '0.23', '0.43', '0.02', '0.01', '0.01']\n",
      "Chosen: East  →\n",
      "Reward: -1, Total: -40\n",
      "------------------------------\n",
      "+---------+\n",
      "|R: | : :G|\n",
      "| :T| : : |\n",
      "| : : : : |\n",
      "| | : | : |\n",
      "|Y| : |B: |\n",
      "+---------+\n",
      "Step: 40, State: 126 (1,1,G (Green),Y (Yellow))\n",
      "Prefs: ['1.72', '1.45', '2.06', '-0.89', '-1.95', '-2.39']\n",
      "Probs: ['0.30', '0.23', '0.43', '0.02', '0.01', '0.01']\n",
      "Chosen: East  →\n",
      "Reward: -1, Total: -41\n",
      "------------------------------\n",
      "+---------+\n",
      "|R: | : :G|\n",
      "| :T| : : |\n",
      "| : : : : |\n",
      "| | : | : |\n",
      "|Y| : |B: |\n",
      "+---------+\n",
      "Step: 41, State: 126 (1,1,G (Green),Y (Yellow))\n",
      "Prefs: ['1.72', '1.45', '2.06', '-0.89', '-1.95', '-2.39']\n",
      "Probs: ['0.30', '0.23', '0.43', '0.02', '0.01', '0.01']\n",
      "Chosen: East  →\n",
      "Reward: -1, Total: -42\n",
      "------------------------------\n",
      "+---------+\n",
      "|R: | : :G|\n",
      "| :T| : : |\n",
      "| : : : : |\n",
      "| | : | : |\n",
      "|Y| : |B: |\n",
      "+---------+\n",
      "Step: 42, State: 126 (1,1,G (Green),Y (Yellow))\n",
      "Prefs: ['1.72', '1.45', '2.06', '-0.89', '-1.95', '-2.39']\n",
      "Probs: ['0.30', '0.23', '0.43', '0.02', '0.01', '0.01']\n",
      "Chosen: East  →\n",
      "Reward: -1, Total: -43\n",
      "------------------------------\n",
      "+---------+\n",
      "|R: | : :G|\n",
      "| :T| : : |\n",
      "| : : : : |\n",
      "| | : | : |\n",
      "|Y| : |B: |\n",
      "+---------+\n",
      "Step: 43, State: 126 (1,1,G (Green),Y (Yellow))\n",
      "Prefs: ['1.72', '1.45', '2.06', '-0.89', '-1.95', '-2.39']\n",
      "Probs: ['0.30', '0.23', '0.43', '0.02', '0.01', '0.01']\n",
      "Chosen: East  →\n",
      "Reward: -1, Total: -44\n",
      "------------------------------\n",
      "+---------+\n",
      "|R: | : :G|\n",
      "| :T| : : |\n",
      "| : : : : |\n",
      "| | : | : |\n",
      "|Y| : |B: |\n",
      "+---------+\n",
      "Step: 44, State: 126 (1,1,G (Green),Y (Yellow))\n",
      "Prefs: ['1.72', '1.45', '2.06', '-0.89', '-1.95', '-2.39']\n",
      "Probs: ['0.30', '0.23', '0.43', '0.02', '0.01', '0.01']\n",
      "Chosen: East  →\n",
      "Reward: -1, Total: -45\n",
      "------------------------------\n",
      "+---------+\n",
      "|R: | : :G|\n",
      "| :T| : : |\n",
      "| : : : : |\n",
      "| | : | : |\n",
      "|Y| : |B: |\n",
      "+---------+\n",
      "Step: 45, State: 126 (1,1,G (Green),Y (Yellow))\n",
      "Prefs: ['1.72', '1.45', '2.06', '-0.89', '-1.95', '-2.39']\n",
      "Probs: ['0.30', '0.23', '0.43', '0.02', '0.01', '0.01']\n",
      "Chosen: East  →\n",
      "Reward: -1, Total: -46\n",
      "------------------------------\n",
      "+---------+\n",
      "|R: | : :G|\n",
      "| :T| : : |\n",
      "| : : : : |\n",
      "| | : | : |\n",
      "|Y| : |B: |\n",
      "+---------+\n",
      "Step: 46, State: 126 (1,1,G (Green),Y (Yellow))\n",
      "Prefs: ['1.72', '1.45', '2.06', '-0.89', '-1.95', '-2.39']\n",
      "Probs: ['0.30', '0.23', '0.43', '0.02', '0.01', '0.01']\n",
      "Chosen: East  →\n",
      "Reward: -1, Total: -47\n",
      "------------------------------\n",
      "+---------+\n",
      "|R: | : :G|\n",
      "| :T| : : |\n",
      "| : : : : |\n",
      "| | : | : |\n",
      "|Y| : |B: |\n",
      "+---------+\n",
      "Step: 47, State: 126 (1,1,G (Green),Y (Yellow))\n",
      "Prefs: ['1.72', '1.45', '2.06', '-0.89', '-1.95', '-2.39']\n",
      "Probs: ['0.30', '0.23', '0.43', '0.02', '0.01', '0.01']\n",
      "Chosen: East  →\n",
      "Reward: -1, Total: -48\n",
      "------------------------------\n",
      "+---------+\n",
      "|R: | : :G|\n",
      "| :T| : : |\n",
      "| : : : : |\n",
      "| | : | : |\n",
      "|Y| : |B: |\n",
      "+---------+\n",
      "Step: 48, State: 126 (1,1,G (Green),Y (Yellow))\n",
      "Prefs: ['1.72', '1.45', '2.06', '-0.89', '-1.95', '-2.39']\n",
      "Probs: ['0.30', '0.23', '0.43', '0.02', '0.01', '0.01']\n",
      "Chosen: East  →\n",
      "Reward: -1, Total: -49\n",
      "------------------------------\n",
      "+---------+\n",
      "|R: | : :G|\n",
      "| :T| : : |\n",
      "| : : : : |\n",
      "| | : | : |\n",
      "|Y| : |B: |\n",
      "+---------+\n",
      "Step: 49, State: 126 (1,1,G (Green),Y (Yellow))\n",
      "Prefs: ['1.72', '1.45', '2.06', '-0.89', '-1.95', '-2.39']\n",
      "Probs: ['0.30', '0.23', '0.43', '0.02', '0.01', '0.01']\n",
      "Chosen: East  →\n",
      "Reward: -1, Total: -50\n",
      "------------------------------\n"
     ]
    },
    {
     "name": "stdout",
     "output_type": "stream",
     "text": [
      "Sim finished in 50 steps, total reward -50.\n"
     ]
    }
   ],
   "source": [
    "import gymnasium as gym\n",
    "import numpy as np\n",
    "import time\n",
    "import os\n",
    "import matplotlib.pyplot as plt\n",
    "from tqdm import tqdm\n",
    "from scipy.special import softmax\n",
    "\n",
    "# === Constants and Helper Functions ===\n",
    "LOC_NAMES = {0: \"R (Red)\", 1: \"G (Green)\", 2: \"Y (Yellow)\", 3: \"B (Blue)\", 4: \"in Taxi\"}\n",
    "ACTION_NAMES = {0: \"South ↓\", 1: \"North ↑\", 2: \"East  →\", 3: \"West  ←\", 4: \"Pickup :)\", 5: \"Dropoff ⬇\"}\n",
    "NUM_STATE_FEATURES = 37\n",
    "NUM_STATE_ACTION_FEATURES = NUM_STATE_FEATURES * 6 # 222\n",
    "\n",
    "def decode_taxi_state(state_int):\n",
    "    taxi_row = (state_int // 100) % 5\n",
    "    taxi_col = (state_int // 20) % 5\n",
    "    pass_loc_idx = (state_int // 4) % 5\n",
    "    dest_loc_idx = state_int % 4\n",
    "    return taxi_row, taxi_col, pass_loc_idx, dest_loc_idx\n",
    "\n",
    "def draw_custom_map(taxi_row, taxi_col, pass_loc_idx, dest_idx):\n",
    "    map_template = [\n",
    "        \"+---------+\", \"|R: | : :G|\", \"| : | : : |\", \"| : : : : |\",\n",
    "        \"| | : | : |\", \"|Y| : |B: |\", \"+---------+\"\n",
    "    ]\n",
    "    map_lines = [list(line) for line in map_template]\n",
    "    map_char_cols = [1, 3, 5, 7, 9] \n",
    "    if 0 <= taxi_row < 5 and 0 <= taxi_col < 5:\n",
    "        vis_row_idx = taxi_row + 1\n",
    "        vis_col_idx = map_char_cols[taxi_col]\n",
    "        map_lines[vis_row_idx][vis_col_idx] = \"T\"\n",
    "    return '\\n'.join(''.join(line) for line in map_lines)\n",
    "\n",
    "def get_state_features(state_int):\n",
    "    taxi_row, taxi_col, pass_loc_idx, dest_loc_idx = decode_taxi_state(state_int)\n",
    "    phi_state_base = np.zeros(25 + 5 + 4)\n",
    "    current_idx = 0\n",
    "    phi_state_base[current_idx + taxi_row * 5 + taxi_col] = 1.0; current_idx += 25\n",
    "    phi_state_base[current_idx + pass_loc_idx] = 1.0; current_idx += 5\n",
    "    phi_state_base[current_idx + dest_loc_idx] = 1.0\n",
    "    passenger_in_taxi = 1.0 if pass_loc_idx == 4 else 0.0\n",
    "    fixed_loc_coords = {0:(0,0), 1:(0,4), 2:(4,0), 3:(4,3)} \n",
    "    at_passenger_pickup_loc_feature = 0.0\n",
    "    if not passenger_in_taxi and pass_loc_idx in fixed_loc_coords:\n",
    "        expected_pass_row, expected_pass_col = fixed_loc_coords[pass_loc_idx]\n",
    "        if taxi_row == expected_pass_row and taxi_col == expected_pass_col:\n",
    "            at_passenger_pickup_loc_feature = 1.0\n",
    "    at_destination_with_passenger_feature = 0.0\n",
    "    if passenger_in_taxi and dest_loc_idx in fixed_loc_coords:\n",
    "        expected_dest_row, expected_dest_col = fixed_loc_coords[dest_loc_idx]\n",
    "        if taxi_row == expected_dest_row and taxi_col == expected_dest_col:\n",
    "            at_destination_with_passenger_feature = 1.0\n",
    "    additional_task_features = np.array([passenger_in_taxi, at_passenger_pickup_loc_feature, at_destination_with_passenger_feature])\n",
    "    return np.concatenate((phi_state_base, additional_task_features))\n",
    "\n",
    "def get_state_action_features(state_int, action, n_actions=6):\n",
    "    phi_state_aug = get_state_features(state_int)\n",
    "    total_num_features = NUM_STATE_FEATURES * n_actions\n",
    "    final_interaction_features = np.zeros(total_num_features)\n",
    "    start_idx = action * NUM_STATE_FEATURES\n",
    "    end_idx = start_idx + NUM_STATE_FEATURES\n",
    "    final_interaction_features[start_idx:end_idx] = phi_state_aug\n",
    "    return final_interaction_features\n",
    "# === End Helper Functions ===\n",
    "\n",
    "\n",
    "# === REINFORCE with Baseline Algorithm (with save/load and tweaks) ===\n",
    "def reinforce_with_baseline(env, alpha_actor=0.00005, alpha_critic=0.001, gamma=0.99, \n",
    "                            episodes_to_run=100000,\n",
    "                            initial_theta_actor=None, initial_theta_critic=None,\n",
    "                            initial_rewards_log=None, initial_steps_log=None,\n",
    "                            initial_successes_log=None, initial_sq_advantage_log=None,\n",
    "                            start_episode_num=0,\n",
    "                            normalize_advantages=True,\n",
    "                            gradient_clip_norm=None):\n",
    "\n",
    "    n_actions = env.action_space.n\n",
    "\n",
    "    if initial_theta_actor is not None:\n",
    "        print(f\"Loading initial actor weights (trained for {start_episode_num} episodes).\")\n",
    "        theta_actor = initial_theta_actor\n",
    "        assert theta_actor.shape[0] == NUM_STATE_ACTION_FEATURES, \"Actor weights shape mismatch!\"\n",
    "    else:\n",
    "        print(\"Initializing new actor weights.\")\n",
    "        theta_actor = np.zeros(NUM_STATE_ACTION_FEATURES)\n",
    "    \n",
    "    if initial_theta_critic is not None:\n",
    "        print(f\"Loading initial critic weights (trained for {start_episode_num} episodes).\")\n",
    "        theta_critic = initial_theta_critic\n",
    "        assert theta_critic.shape[0] == NUM_STATE_FEATURES, \"Critic weights shape mismatch!\"\n",
    "    else:\n",
    "        print(\"Initializing new critic weights.\")\n",
    "        theta_critic = np.zeros(NUM_STATE_FEATURES)\n",
    "\n",
    "    rewards_per_episode_log = initial_rewards_log if initial_rewards_log is not None else []\n",
    "    steps_per_episode_log = initial_steps_log if initial_steps_log is not None else []\n",
    "    successes_per_episode_log = initial_successes_log if initial_successes_log is not None else []\n",
    "    avg_squared_advantage_log = initial_sq_advantage_log if initial_sq_advantage_log is not None else []\n",
    "\n",
    "    print(f\"Training REINFORCE w/ Baseline for {episodes_to_run} more episodes.\")\n",
    "    print(f\"Params: alpha_actor={alpha_actor}, alpha_critic={alpha_critic}, gamma={gamma}, normalize_adv={normalize_advantages}, grad_clip={gradient_clip_norm}\")\n",
    "\n",
    "    for ep_offset in tqdm(range(episodes_to_run), desc=\"Training REINFORCE w/ Baseline\"):\n",
    "        current_true_episode_num = start_episode_num + ep_offset\n",
    "        episode_states, episode_actions, episode_rewards, episode_phis_st, episode_grad_log_pis = [], [], [], [], []\n",
    "        \n",
    "        state, _ = env.reset()\n",
    "        done = False\n",
    "        truncated = False\n",
    "        current_episode_steps = 0\n",
    "        max_steps = 200\n",
    "\n",
    "        while not done and not truncated and current_episode_steps < max_steps:\n",
    "            action_preferences = np.array([theta_actor.dot(get_state_action_features(state, a, n_actions)) for a in range(n_actions)])\n",
    "            action_probs = softmax(action_preferences)\n",
    "            action_probs = action_probs / np.sum(action_probs) \n",
    "\n",
    "            try:\n",
    "                action = np.random.choice(n_actions, p=action_probs)\n",
    "            except ValueError:\n",
    "                action = np.argmax(action_probs)\n",
    "\n",
    "            next_state, reward, done, truncated, _ = env.step(action)\n",
    "\n",
    "            episode_states.append(state)\n",
    "            episode_actions.append(action)\n",
    "            episode_rewards.append(reward)\n",
    "            episode_phis_st.append(get_state_features(state))\n",
    "            phi_sa_t = get_state_action_features(state, action, n_actions)\n",
    "            expected_phi_sa = np.sum([p * get_state_action_features(state, act_idx, n_actions) for act_idx, p in enumerate(action_probs)], axis=0)\n",
    "            episode_grad_log_pis.append(phi_sa_t - expected_phi_sa)\n",
    "\n",
    "            state = next_state\n",
    "            current_episode_steps += 1\n",
    "        \n",
    "        rewards_per_episode_log.append(sum(episode_rewards))\n",
    "        steps_per_episode_log.append(current_episode_steps)\n",
    "        successes_per_episode_log.append(1 if done and episode_rewards[-1] == 20 else 0)\n",
    "        \n",
    "        returns_g = np.zeros(len(episode_rewards))\n",
    "        advantages = np.zeros(len(episode_rewards))\n",
    "        G = 0\n",
    "        for t in reversed(range(len(episode_rewards))):\n",
    "            G = episode_rewards[t] + gamma * G\n",
    "            returns_g[t] = G\n",
    "            V_s_t = theta_critic.dot(episode_phis_st[t])\n",
    "            advantages[t] = G - V_s_t\n",
    "        \n",
    "        if normalize_advantages and len(advantages) > 1:\n",
    "            adv_mean = np.mean(advantages)\n",
    "            adv_std = np.std(advantages)\n",
    "            if adv_std > 1e-8: \n",
    "                advantages = (advantages - adv_mean) / adv_std\n",
    "        \n",
    "        avg_squared_advantage_log.append(np.mean(advantages**2))\n",
    "\n",
    "        for t in range(len(episode_states)):\n",
    "            critic_grad_update = alpha_critic * advantages[t] * episode_phis_st[t]\n",
    "            if gradient_clip_norm is not None:\n",
    "                 grad_norm_critic = np.linalg.norm(critic_grad_update)\n",
    "                 if grad_norm_critic > gradient_clip_norm:\n",
    "                     critic_grad_update = critic_grad_update * (gradient_clip_norm / grad_norm_critic)\n",
    "            theta_critic += critic_grad_update\n",
    "\n",
    "            actor_grad_update = alpha_actor * advantages[t] * episode_grad_log_pis[t]\n",
    "            if gradient_clip_norm is not None:\n",
    "                grad_norm_actor = np.linalg.norm(actor_grad_update)\n",
    "                if grad_norm_actor > gradient_clip_norm:\n",
    "                    actor_grad_update = actor_grad_update * (gradient_clip_norm / grad_norm_actor)\n",
    "            theta_actor += actor_grad_update\n",
    "        \n",
    "        if (ep_offset + 1) % (episodes_to_run // 100 if episodes_to_run >=100 else 1) == 0 or ep_offset == 0:\n",
    "            window_size = 100\n",
    "            avg_r = np.mean(rewards_per_episode_log[-window_size:]) if len(rewards_per_episode_log) >= window_size else (np.mean(rewards_per_episode_log) if rewards_per_episode_log else 0)\n",
    "            avg_s = np.mean(successes_per_episode_log[-window_size:]) if len(successes_per_episode_log) >= window_size else (np.mean(successes_per_episode_log) if successes_per_episode_log else 0)\n",
    "            avg_adv_sq = np.mean(avg_squared_advantage_log[-window_size:]) if len(avg_squared_advantage_log) >= window_size else (np.mean(avg_squared_advantage_log) if avg_squared_advantage_log else 0)\n",
    "            print(f\"Overall Ep {current_true_episode_num+1}, Avg Rew (last {min(window_size, len(rewards_per_episode_log))}): {avg_r:.2f}, \"\n",
    "                  f\"Success (last {min(window_size, len(successes_per_episode_log))}): {avg_s:.2f}, \"\n",
    "                  f\"Avg Sq Adv (last {min(window_size, len(avg_squared_advantage_log))}): {avg_adv_sq:.2f}\")\n",
    "\n",
    "    learning_curves = {\n",
    "        \"rewards\": rewards_per_episode_log, \"steps\": steps_per_episode_log,\n",
    "        \"successes\": successes_per_episode_log, \"avg_sq_advantage\": avg_squared_advantage_log\n",
    "    }\n",
    "    return theta_actor, theta_critic, learning_curves\n",
    "\n",
    "def derive_pg_policy(theta_actor, n_states, n_actions):\n",
    "    policy = np.zeros(n_states, dtype=int)\n",
    "    for s in range(n_states):\n",
    "        action_preferences = np.array([theta_actor.dot(get_state_action_features(s, a, n_actions)) for a in range(n_actions)])\n",
    "        policy[s] = np.argmax(action_preferences)\n",
    "    return policy\n",
    "\n",
    "def evaluate_pg_policy(env, policy, num_episodes=1000, algorithm_name=\"Policy Gradient Policy\"):\n",
    "    total_rewards, total_steps, successful_dropoffs = [], [], 0\n",
    "    print(f\"\\n--- Evaluating Final {algorithm_name} for {num_episodes} episodes ---\")\n",
    "    for _ in tqdm(range(num_episodes), desc=f\"Evaluating {algorithm_name}\"):\n",
    "        obs, _ = env.reset(); done, trunc, ep_rew, ep_steps = False, False, 0, 0\n",
    "        for _ in range(200):\n",
    "            action = policy[obs]\n",
    "            obs, reward, done, trunc, _ = env.step(action)\n",
    "            ep_rew += reward; ep_steps += 1\n",
    "            if done or trunc: break\n",
    "        total_rewards.append(ep_rew); total_steps.append(ep_steps)\n",
    "        if done and reward == 20: successful_dropoffs += 1\n",
    "    avg_reward = np.mean(total_rewards); std_reward = np.std(total_rewards)\n",
    "    avg_steps = np.mean(total_steps); std_steps = np.std(total_steps)\n",
    "    success_rate = (successful_dropoffs / num_episodes) * 100\n",
    "    print(f\"--- {algorithm_name} Evaluation Results ---\\nAvg Reward: {avg_reward:.2f} +/- {std_reward:.2f}\\nAvg Steps: {avg_steps:.2f} +/- {std_steps:.2f}\\nSuccess Rate: {success_rate:.2f}%\")\n",
    "    return avg_reward, avg_steps, success_rate, std_reward, std_steps\n",
    "\n",
    "def plot_pg_learning_curves(learning_curves_data, algorithm_name=\"REINFORCE w/ Baseline\", total_episodes_expected=None):\n",
    "    if not learning_curves_data.get(\"rewards\"):\n",
    "        print(\"No reward data to plot. Aborting plotting.\")\n",
    "        return\n",
    "    num_episodes_rewards = len(learning_curves_data[\"rewards\"])\n",
    "    episodes_axis_rewards = np.arange(1, num_episodes_rewards + 1)\n",
    "    plot_title_total_eps = total_episodes_expected if total_episodes_expected is not None else num_episodes_rewards\n",
    "    window = max(1, num_episodes_rewards // 100 if num_episodes_rewards > 100 else 50)\n",
    "    plt.figure(figsize=(18, 10)); plt.suptitle(f\"{algorithm_name} Performance Metrics on Taxi-v3 (Data up to {plot_title_total_eps} Eps)\", fontsize=16)\n",
    "    plt.subplot(2, 2, 1) \n",
    "    if learning_curves_data[\"rewards\"]:\n",
    "        if num_episodes_rewards >= window:\n",
    "            smoothed_rewards = np.convolve(learning_curves_data[\"rewards\"], np.ones(window)/window, mode='valid')\n",
    "            x_smooth_rewards = episodes_axis_rewards[window-1:]\n",
    "            if len(x_smooth_rewards) == len(smoothed_rewards): plt.plot(x_smooth_rewards, smoothed_rewards, label=f'Smoothed (win {window})')\n",
    "        plt.plot(episodes_axis_rewards, learning_curves_data[\"rewards\"], alpha=0.3, label='Raw')\n",
    "    plt.title('Avg Reward/Ep'); plt.xlabel('Episode'); plt.ylabel('Avg Reward'); plt.legend(); plt.grid(True)\n",
    "    plt.subplot(2, 2, 2) \n",
    "    if learning_curves_data.get(\"steps\") and learning_curves_data[\"steps\"]:\n",
    "        num_episodes_steps = len(learning_curves_data[\"steps\"])\n",
    "        episodes_axis_steps = np.arange(1, num_episodes_steps + 1)\n",
    "        if num_episodes_steps >= window:\n",
    "            smoothed_steps = np.convolve(learning_curves_data[\"steps\"], np.ones(window)/window, mode='valid')\n",
    "            x_smooth_steps = episodes_axis_steps[window-1:]\n",
    "            if len(x_smooth_steps) == len(smoothed_steps): plt.plot(x_smooth_steps, smoothed_steps, label=f'Smoothed (win {window})')\n",
    "        plt.plot(episodes_axis_steps, learning_curves_data[\"steps\"], alpha=0.3, label='Raw')\n",
    "    else: plt.text(0.5, 0.5, 'Steps data incomplete\\nor not available', ha='center', va='center')\n",
    "    plt.title('Steps/Ep'); plt.xlabel('Episode'); plt.ylabel('Steps'); plt.legend(); plt.grid(True)\n",
    "    plt.subplot(2, 2, 3) \n",
    "    if learning_curves_data.get(\"successes\") and learning_curves_data[\"successes\"]:\n",
    "        num_episodes_successes = len(learning_curves_data[\"successes\"])\n",
    "        episodes_axis_successes = np.arange(1, num_episodes_successes + 1)\n",
    "        success_rate_curve = []\n",
    "        for i in range(num_episodes_successes):\n",
    "            start_idx = max(0, i - window + 1) \n",
    "            current_window_data = learning_curves_data[\"successes\"][start_idx : i+1]\n",
    "            if current_window_data: success_rate_curve.append(np.mean(current_window_data) * 100)\n",
    "            elif success_rate_curve: success_rate_curve.append(success_rate_curve[-1])\n",
    "            else: success_rate_curve.append(0)\n",
    "        plt.plot(episodes_axis_successes, success_rate_curve, label=f'Success Rate (MA win {window})')\n",
    "    else: plt.text(0.5, 0.5, 'Successes data incomplete\\nor not available', ha='center', va='center')\n",
    "    plt.title('Success Rate (%)'); plt.xlabel('Episode'); plt.ylabel('Success (%)'); plt.ylim(-5, 105); plt.legend(); plt.grid(True)\n",
    "    plt.subplot(2, 2, 4) \n",
    "    if learning_curves_data.get(\"avg_sq_advantage\") and learning_curves_data[\"avg_sq_advantage\"]:\n",
    "        num_episodes_adv = len(learning_curves_data[\"avg_sq_advantage\"])\n",
    "        episodes_axis_adv = np.arange(1, num_episodes_adv + 1)\n",
    "        if num_episodes_adv >= window:\n",
    "            smoothed_adv = np.convolve(learning_curves_data[\"avg_sq_advantage\"], np.ones(window)/window, mode='valid')\n",
    "            x_smooth_adv = episodes_axis_adv[window-1:]\n",
    "            if len(x_smooth_adv) == len(smoothed_adv): plt.plot(x_smooth_adv, smoothed_adv, label=f'Smoothed (win {window})')\n",
    "        plt.plot(episodes_axis_adv, learning_curves_data[\"avg_sq_advantage\"], alpha=0.3, label='Raw')\n",
    "        plt.yscale('log', nonpositive='clip')\n",
    "    else: plt.text(0.5, 0.5, 'Avg Sq Advantage data incomplete\\nor not available', ha='center', va='center')\n",
    "    plt.title('Avg Sq Advantage/Ep'); plt.xlabel('Episode'); plt.ylabel('Avg Sq Adv'); plt.legend(); plt.grid(True)\n",
    "    plt.tight_layout(rect=[0, 0, 1, 0.96]); plt.show()\n",
    "\n",
    "\n",
    "# === Main Execution ===\n",
    "if __name__ == \"__main__\":\n",
    "    env_pg = gym.make(\"Taxi-v3\")\n",
    "\n",
    "    # --- Configuration ---\n",
    "    LOAD_PG_WEIGHTS = True \n",
    "    EXPECTED_PG_PREV_EP_COUNT = 400000 \n",
    "    PG_STATE_BASE_FILENAME = \"taxi_reinforce_linear\" \n",
    "    \n",
    "    pg_alpha_actor = 5e-5      \n",
    "    pg_alpha_critic = 1e-3     \n",
    "    pg_gamma = 0.99           \n",
    "    pg_episodes_this_run = 400000  # more episodes\n",
    "    \n",
    "    pg_normalize_advantages = True\n",
    "    pg_gradient_clip_norm = 1.0 \n",
    "    # --- End Configuration ---\n",
    "\n",
    "    loaded_theta_actor, loaded_theta_critic = None, None\n",
    "    loaded_rewards, loaded_steps, loaded_successes, loaded_adv_sq = [], [], [], []\n",
    "    pg_previous_episodes_loaded = 0\n",
    "\n",
    "    if LOAD_PG_WEIGHTS:\n",
    "        if EXPECTED_PG_PREV_EP_COUNT > 0:\n",
    "            k_val_load = EXPECTED_PG_PREV_EP_COUNT // 1000\n",
    "            actor_w_file = f\"{PG_STATE_BASE_FILENAME}_{k_val_load}k_actor_weights.npy\"\n",
    "            critic_w_file = f\"{PG_STATE_BASE_FILENAME}_{k_val_load}k_critic_weights.npy\"\n",
    "            rewards_f = f\"{PG_STATE_BASE_FILENAME}_{k_val_load}k_rewards.npy\"\n",
    "            steps_f = f\"{PG_STATE_BASE_FILENAME}_{k_val_load}k_steps.npy\"\n",
    "            successes_f = f\"{PG_STATE_BASE_FILENAME}_{k_val_load}k_successes.npy\"\n",
    "            adv_sq_f = f\"{PG_STATE_BASE_FILENAME}_{k_val_load}k_avg_sq_advantage.npy\"\n",
    "            \n",
    "            try:\n",
    "                if os.path.exists(actor_w_file) and os.path.exists(critic_w_file):\n",
    "                    print(f\"Loading REINFORCE state for {EXPECTED_PG_PREV_EP_COUNT} episodes...\")\n",
    "                    loaded_theta_actor = np.load(actor_w_file)\n",
    "                    loaded_theta_critic = np.load(critic_w_file)\n",
    "                    if os.path.exists(rewards_f): loaded_rewards = list(np.load(rewards_f))\n",
    "                    if os.path.exists(steps_f): loaded_steps = list(np.load(steps_f))\n",
    "                    if os.path.exists(successes_f): loaded_successes = list(np.load(successes_f))\n",
    "                    if os.path.exists(adv_sq_f): loaded_adv_sq = list(np.load(adv_sq_f))\n",
    "                    pg_previous_episodes_loaded = EXPECTED_PG_PREV_EP_COUNT\n",
    "                    print(\"Successfully loaded previous REINFORCE state.\")\n",
    "                else:\n",
    "                    print(f\"Weight files not found for {EXPECTED_PG_PREV_EP_COUNT} episodes. Starting fresh.\")\n",
    "                    LOAD_PG_WEIGHTS = False # Force fresh start if files are missing\n",
    "            except Exception as e:\n",
    "                print(f\"Error loading REINFORCE files: {e}. Starting fresh.\")\n",
    "                LOAD_PG_WEIGHTS = False # Force fresh start on error\n",
    "        else: \n",
    "            print(\"LOAD_PG_WEIGHTS is True but EXPECTED_PG_PREV_EP_COUNT is 0. Starting fresh.\")\n",
    "            LOAD_PG_WEIGHTS = False\n",
    "            \n",
    "    if not LOAD_PG_WEIGHTS: # Reset if starting fresh for any reason\n",
    "        loaded_theta_actor, loaded_theta_critic = None, None\n",
    "        loaded_rewards, loaded_steps, loaded_successes, loaded_adv_sq = [], [], [], []\n",
    "        pg_previous_episodes_loaded = 0\n",
    "        print(\"Starting REINFORCE training from scratch.\")\n",
    "\n",
    "    pg_start_time = time.time()\n",
    "    theta_actor_final, theta_critic_final, pg_learning_curves = reinforce_with_baseline(\n",
    "        env_pg, \n",
    "        alpha_actor=pg_alpha_actor, alpha_critic=pg_alpha_critic, gamma=pg_gamma, \n",
    "        episodes_to_run=pg_episodes_this_run,\n",
    "        initial_theta_actor=loaded_theta_actor, initial_theta_critic=loaded_theta_critic,\n",
    "        initial_rewards_log=loaded_rewards, initial_steps_log=loaded_steps,\n",
    "        initial_successes_log=loaded_successes, initial_sq_advantage_log=loaded_adv_sq,\n",
    "        start_episode_num=pg_previous_episodes_loaded,\n",
    "        normalize_advantages=pg_normalize_advantages,\n",
    "        gradient_clip_norm=pg_gradient_clip_norm\n",
    "    )\n",
    "    pg_training_time = time.time() - pg_start_time\n",
    "    print(f\"REINFORCE w/ Baseline Training Time for this run: {pg_training_time:.2f} seconds\")\n",
    "\n",
    "    current_total_pg_episodes = pg_previous_episodes_loaded + pg_episodes_this_run\n",
    "    pg_save_base = f\"{PG_STATE_BASE_FILENAME}_{current_total_pg_episodes // 1000}k\"\n",
    "    np.save(f\"{pg_save_base}_actor_weights.npy\", theta_actor_final)\n",
    "    np.save(f\"{pg_save_base}_critic_weights.npy\", theta_critic_final)\n",
    "    np.save(f\"{pg_save_base}_rewards.npy\", np.array(pg_learning_curves[\"rewards\"]))\n",
    "    np.save(f\"{pg_save_base}_steps.npy\", np.array(pg_learning_curves[\"steps\"]))\n",
    "    np.save(f\"{pg_save_base}_successes.npy\", np.array(pg_learning_curves[\"successes\"]))\n",
    "    np.save(f\"{pg_save_base}_avg_sq_advantage.npy\", np.array(pg_learning_curves[\"avg_sq_advantage\"]))\n",
    "    print(f\"Saved REINFORCE weights and logs to files starting with: {pg_save_base}\")\n",
    "\n",
    "    if pg_learning_curves[\"rewards\"]: \n",
    "        plot_pg_learning_curves(pg_learning_curves, \n",
    "                                algorithm_name=f\"REINFORCE (Files up to {current_total_pg_episodes//1000}k Eps)\",\n",
    "                                total_episodes_expected=current_total_pg_episodes)\n",
    "    \n",
    "    pg_final_policy = derive_pg_policy(theta_actor_final, env_pg.observation_space.n, env_pg.action_space.n)\n",
    "    pg_avg_reward, pg_avg_steps, pg_success_rate, pg_std_reward, pg_std_steps = evaluate_pg_policy(\n",
    "        env_pg, pg_final_policy, num_episodes=1000, algorithm_name=\"REINFORCE Policy\"\n",
    "    )\n",
    "    \n",
    "    pg_metrics = {\n",
    "        \"Algorithm\": \"REINFORCE w/ Baseline (Linear FA)\",\n",
    "        \"Training Time (s) for this run\": f\"{pg_training_time:.2f}\",\n",
    "        \"Total Episodes Trained\": current_total_pg_episodes,\n",
    "        \"Hyperparameters\": f\"alpha_actor={pg_alpha_actor}, alpha_critic={pg_alpha_critic}, gamma={pg_gamma}, total_episodes_trained={current_total_pg_episodes}\",\n",
    "        \"Avg Reward per Ep (Learning Curve End)\": f\"{np.mean(pg_learning_curves['rewards'][-100:]):.2f}\" if len(pg_learning_curves['rewards']) >=100 else \"N/A\",\n",
    "        \"Steps per Ep (Learning Curve End)\": f\"{np.mean(pg_learning_curves['steps'][-100:]):.2f}\" if len(pg_learning_curves['steps']) >=100 else \"N/A\",\n",
    "        \"Success Rate (Learning Curve End %)\": f\"{np.mean(pg_learning_curves['successes'][-100:])*100:.2f}\" if len(pg_learning_curves['successes']) >=100 else \"N/A\",\n",
    "        \"Avg Sq Advantage (Learning Curve End)\": f\"{np.mean(pg_learning_curves['avg_sq_advantage'][-100:]):.2f}\" if len(pg_learning_curves['avg_sq_advantage']) >=100 else \"N/A\",\n",
    "        \"Convergence Speed (Qualitative)\": \"Observe from plot trends\", \n",
    "        \"Final Policy - Avg Reward\": f\"{pg_avg_reward:.2f} ± {pg_std_reward:.2f}\",\n",
    "        \"Final Policy - Avg Steps\": f\"{pg_avg_steps:.2f} ± {pg_std_steps:.2f}\",\n",
    "        \"Final Policy - Success Rate (%)\": f\"{pg_success_rate:.2f}\",\n",
    "    }\n",
    "    print(\"\\n--- REINFORCE w/ Baseline Metrics Summary (after current run) ---\")\n",
    "    for key, value in pg_metrics.items(): print(f\"{key}: {value}\")\n",
    "\n",
    "    # Simulation\n",
    "    print(\"\\n--- Simulating one episode with the final REINFORCE policy ---\")\n",
    "    obs_sim, _ = env_pg.reset(seed=np.random.randint(0,100000))\n",
    "    done_sim, trunc_sim, tot_rew_sim, steps_sim = False, False, 0, 0\n",
    "    for _ in range(50):\n",
    "        action_sim = pg_final_policy[obs_sim]\n",
    "        r_sim, c_sim, p_idx_sim, d_idx_sim = decode_taxi_state(obs_sim)\n",
    "        print(draw_custom_map(r_sim, c_sim, p_idx_sim, d_idx_sim))\n",
    "        print(f\"Step: {steps_sim}, State: {obs_sim} ({r_sim},{c_sim},{LOC_NAMES[p_idx_sim]},{LOC_NAMES[d_idx_sim]})\")\n",
    "        action_prefs_sim = np.array([theta_actor_final.dot(get_state_action_features(obs_sim,a,env_pg.action_space.n)) for a in range(env_pg.action_space.n)])\n",
    "        print(f\"Prefs: {['{:.2f}'.format(x) for x in action_prefs_sim]}\\nProbs: {['{:.2f}'.format(x) for x in softmax(action_prefs_sim)]}\\nChosen: {ACTION_NAMES[action_sim]}\")\n",
    "        obs_sim, rew_sim, done_sim, trunc_sim, _ = env_pg.step(action_sim)\n",
    "        tot_rew_sim += rew_sim\n",
    "        print(f\"Reward: {rew_sim}, Total: {tot_rew_sim}\\n{'-'*30}\")\n",
    "        steps_sim += 1\n",
    "        if done_sim or trunc_sim: break\n",
    "        time.sleep(0.2)\n",
    "    print(f\"Sim finished in {steps_sim} steps, total reward {tot_rew_sim}.\")\n",
    "    if done_sim and rew_sim == 20: print(\"Successful dropoff!\")\n",
    "    env_pg.close()"
   ]
  },
  {
   "cell_type": "code",
   "execution_count": null,
   "id": "f3a708d7",
   "metadata": {},
   "outputs": [],
   "source": []
  }
 ],
 "metadata": {
  "kernelspec": {
   "display_name": "Python (GymEnv)",
   "language": "python",
   "name": "gymenv"
  },
  "language_info": {
   "codemirror_mode": {
    "name": "ipython",
    "version": 3
   },
   "file_extension": ".py",
   "mimetype": "text/x-python",
   "name": "python",
   "nbconvert_exporter": "python",
   "pygments_lexer": "ipython3",
   "version": "3.9.12"
  }
 },
 "nbformat": 4,
 "nbformat_minor": 5
}
